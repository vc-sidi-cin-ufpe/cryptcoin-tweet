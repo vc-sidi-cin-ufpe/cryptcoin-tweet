{
  "nbformat": 4,
  "nbformat_minor": 0,
  "metadata": {
    "colab": {
      "name": "Pre-Processing Text Tweet.ipynb",
      "provenance": []
    },
    "kernelspec": {
      "name": "python3",
      "display_name": "Python 3"
    },
    "language_info": {
      "name": "python"
    },
    "accelerator": "GPU",
    "widgets": {
      "application/vnd.jupyter.widget-state+json": {
        "23e6b9b7902a4839b98c2273f4de0689": {
          "model_module": "@jupyter-widgets/controls",
          "model_name": "HBoxModel",
          "model_module_version": "1.5.0",
          "state": {
            "_view_name": "HBoxView",
            "_dom_classes": [],
            "_model_name": "HBoxModel",
            "_view_module": "@jupyter-widgets/controls",
            "_model_module_version": "1.5.0",
            "_view_count": null,
            "_view_module_version": "1.5.0",
            "box_style": "",
            "layout": "IPY_MODEL_290224055c1d4c28bb85917cdd6c1351",
            "_model_module": "@jupyter-widgets/controls",
            "children": [
              "IPY_MODEL_4320eb5044634b2fbeee9d5fada0d087",
              "IPY_MODEL_9a817b177e934805be30aac37e88e762",
              "IPY_MODEL_e87e4eba83284fbe9d215bf170bd860b"
            ]
          }
        },
        "290224055c1d4c28bb85917cdd6c1351": {
          "model_module": "@jupyter-widgets/base",
          "model_name": "LayoutModel",
          "model_module_version": "1.2.0",
          "state": {
            "_view_name": "LayoutView",
            "grid_template_rows": null,
            "right": null,
            "justify_content": null,
            "_view_module": "@jupyter-widgets/base",
            "overflow": null,
            "_model_module_version": "1.2.0",
            "_view_count": null,
            "flex_flow": null,
            "width": null,
            "min_width": null,
            "border": null,
            "align_items": null,
            "bottom": null,
            "_model_module": "@jupyter-widgets/base",
            "top": null,
            "grid_column": null,
            "overflow_y": null,
            "overflow_x": null,
            "grid_auto_flow": null,
            "grid_area": null,
            "grid_template_columns": null,
            "flex": null,
            "_model_name": "LayoutModel",
            "justify_items": null,
            "grid_row": null,
            "max_height": null,
            "align_content": null,
            "visibility": null,
            "align_self": null,
            "height": null,
            "min_height": null,
            "padding": null,
            "grid_auto_rows": null,
            "grid_gap": null,
            "max_width": null,
            "order": null,
            "_view_module_version": "1.2.0",
            "grid_template_areas": null,
            "object_position": null,
            "object_fit": null,
            "grid_auto_columns": null,
            "margin": null,
            "display": null,
            "left": null
          }
        },
        "4320eb5044634b2fbeee9d5fada0d087": {
          "model_module": "@jupyter-widgets/controls",
          "model_name": "HTMLModel",
          "model_module_version": "1.5.0",
          "state": {
            "_view_name": "HTMLView",
            "style": "IPY_MODEL_f56389b345694e0086c286b519931a7c",
            "_dom_classes": [],
            "description": "",
            "_model_name": "HTMLModel",
            "placeholder": "​",
            "_view_module": "@jupyter-widgets/controls",
            "_model_module_version": "1.5.0",
            "value": "Downloading https://raw.githubusercontent.com/stanfordnlp/stanza-resources/main/resources_1.3.0.json: ",
            "_view_count": null,
            "_view_module_version": "1.5.0",
            "description_tooltip": null,
            "_model_module": "@jupyter-widgets/controls",
            "layout": "IPY_MODEL_dd3098f38ad54fd7ba8f356107050b85"
          }
        },
        "9a817b177e934805be30aac37e88e762": {
          "model_module": "@jupyter-widgets/controls",
          "model_name": "FloatProgressModel",
          "model_module_version": "1.5.0",
          "state": {
            "_view_name": "ProgressView",
            "style": "IPY_MODEL_cadf7db303ab4b259af31168b3f4da22",
            "_dom_classes": [],
            "description": "",
            "_model_name": "FloatProgressModel",
            "bar_style": "success",
            "max": 24459,
            "_view_module": "@jupyter-widgets/controls",
            "_model_module_version": "1.5.0",
            "value": 24459,
            "_view_count": null,
            "_view_module_version": "1.5.0",
            "orientation": "horizontal",
            "min": 0,
            "description_tooltip": null,
            "_model_module": "@jupyter-widgets/controls",
            "layout": "IPY_MODEL_ceb6447f0d4c4476b64a492213d79c2d"
          }
        },
        "e87e4eba83284fbe9d215bf170bd860b": {
          "model_module": "@jupyter-widgets/controls",
          "model_name": "HTMLModel",
          "model_module_version": "1.5.0",
          "state": {
            "_view_name": "HTMLView",
            "style": "IPY_MODEL_0368d74ec7f64af1befff7eb7b475f9f",
            "_dom_classes": [],
            "description": "",
            "_model_name": "HTMLModel",
            "placeholder": "​",
            "_view_module": "@jupyter-widgets/controls",
            "_model_module_version": "1.5.0",
            "value": " 142k/? [00:00&lt;00:00, 2.65MB/s]",
            "_view_count": null,
            "_view_module_version": "1.5.0",
            "description_tooltip": null,
            "_model_module": "@jupyter-widgets/controls",
            "layout": "IPY_MODEL_fea9ed87a8c2464caccc7f26894c178f"
          }
        },
        "f56389b345694e0086c286b519931a7c": {
          "model_module": "@jupyter-widgets/controls",
          "model_name": "DescriptionStyleModel",
          "model_module_version": "1.5.0",
          "state": {
            "_view_name": "StyleView",
            "_model_name": "DescriptionStyleModel",
            "description_width": "",
            "_view_module": "@jupyter-widgets/base",
            "_model_module_version": "1.5.0",
            "_view_count": null,
            "_view_module_version": "1.2.0",
            "_model_module": "@jupyter-widgets/controls"
          }
        },
        "dd3098f38ad54fd7ba8f356107050b85": {
          "model_module": "@jupyter-widgets/base",
          "model_name": "LayoutModel",
          "model_module_version": "1.2.0",
          "state": {
            "_view_name": "LayoutView",
            "grid_template_rows": null,
            "right": null,
            "justify_content": null,
            "_view_module": "@jupyter-widgets/base",
            "overflow": null,
            "_model_module_version": "1.2.0",
            "_view_count": null,
            "flex_flow": null,
            "width": null,
            "min_width": null,
            "border": null,
            "align_items": null,
            "bottom": null,
            "_model_module": "@jupyter-widgets/base",
            "top": null,
            "grid_column": null,
            "overflow_y": null,
            "overflow_x": null,
            "grid_auto_flow": null,
            "grid_area": null,
            "grid_template_columns": null,
            "flex": null,
            "_model_name": "LayoutModel",
            "justify_items": null,
            "grid_row": null,
            "max_height": null,
            "align_content": null,
            "visibility": null,
            "align_self": null,
            "height": null,
            "min_height": null,
            "padding": null,
            "grid_auto_rows": null,
            "grid_gap": null,
            "max_width": null,
            "order": null,
            "_view_module_version": "1.2.0",
            "grid_template_areas": null,
            "object_position": null,
            "object_fit": null,
            "grid_auto_columns": null,
            "margin": null,
            "display": null,
            "left": null
          }
        },
        "cadf7db303ab4b259af31168b3f4da22": {
          "model_module": "@jupyter-widgets/controls",
          "model_name": "ProgressStyleModel",
          "model_module_version": "1.5.0",
          "state": {
            "_view_name": "StyleView",
            "_model_name": "ProgressStyleModel",
            "description_width": "",
            "_view_module": "@jupyter-widgets/base",
            "_model_module_version": "1.5.0",
            "_view_count": null,
            "_view_module_version": "1.2.0",
            "bar_color": null,
            "_model_module": "@jupyter-widgets/controls"
          }
        },
        "ceb6447f0d4c4476b64a492213d79c2d": {
          "model_module": "@jupyter-widgets/base",
          "model_name": "LayoutModel",
          "model_module_version": "1.2.0",
          "state": {
            "_view_name": "LayoutView",
            "grid_template_rows": null,
            "right": null,
            "justify_content": null,
            "_view_module": "@jupyter-widgets/base",
            "overflow": null,
            "_model_module_version": "1.2.0",
            "_view_count": null,
            "flex_flow": null,
            "width": null,
            "min_width": null,
            "border": null,
            "align_items": null,
            "bottom": null,
            "_model_module": "@jupyter-widgets/base",
            "top": null,
            "grid_column": null,
            "overflow_y": null,
            "overflow_x": null,
            "grid_auto_flow": null,
            "grid_area": null,
            "grid_template_columns": null,
            "flex": null,
            "_model_name": "LayoutModel",
            "justify_items": null,
            "grid_row": null,
            "max_height": null,
            "align_content": null,
            "visibility": null,
            "align_self": null,
            "height": null,
            "min_height": null,
            "padding": null,
            "grid_auto_rows": null,
            "grid_gap": null,
            "max_width": null,
            "order": null,
            "_view_module_version": "1.2.0",
            "grid_template_areas": null,
            "object_position": null,
            "object_fit": null,
            "grid_auto_columns": null,
            "margin": null,
            "display": null,
            "left": null
          }
        },
        "0368d74ec7f64af1befff7eb7b475f9f": {
          "model_module": "@jupyter-widgets/controls",
          "model_name": "DescriptionStyleModel",
          "model_module_version": "1.5.0",
          "state": {
            "_view_name": "StyleView",
            "_model_name": "DescriptionStyleModel",
            "description_width": "",
            "_view_module": "@jupyter-widgets/base",
            "_model_module_version": "1.5.0",
            "_view_count": null,
            "_view_module_version": "1.2.0",
            "_model_module": "@jupyter-widgets/controls"
          }
        },
        "fea9ed87a8c2464caccc7f26894c178f": {
          "model_module": "@jupyter-widgets/base",
          "model_name": "LayoutModel",
          "model_module_version": "1.2.0",
          "state": {
            "_view_name": "LayoutView",
            "grid_template_rows": null,
            "right": null,
            "justify_content": null,
            "_view_module": "@jupyter-widgets/base",
            "overflow": null,
            "_model_module_version": "1.2.0",
            "_view_count": null,
            "flex_flow": null,
            "width": null,
            "min_width": null,
            "border": null,
            "align_items": null,
            "bottom": null,
            "_model_module": "@jupyter-widgets/base",
            "top": null,
            "grid_column": null,
            "overflow_y": null,
            "overflow_x": null,
            "grid_auto_flow": null,
            "grid_area": null,
            "grid_template_columns": null,
            "flex": null,
            "_model_name": "LayoutModel",
            "justify_items": null,
            "grid_row": null,
            "max_height": null,
            "align_content": null,
            "visibility": null,
            "align_self": null,
            "height": null,
            "min_height": null,
            "padding": null,
            "grid_auto_rows": null,
            "grid_gap": null,
            "max_width": null,
            "order": null,
            "_view_module_version": "1.2.0",
            "grid_template_areas": null,
            "object_position": null,
            "object_fit": null,
            "grid_auto_columns": null,
            "margin": null,
            "display": null,
            "left": null
          }
        },
        "04faf2ee75044ce4939533d8c0a377e7": {
          "model_module": "@jupyter-widgets/controls",
          "model_name": "HBoxModel",
          "model_module_version": "1.5.0",
          "state": {
            "_view_name": "HBoxView",
            "_dom_classes": [],
            "_model_name": "HBoxModel",
            "_view_module": "@jupyter-widgets/controls",
            "_model_module_version": "1.5.0",
            "_view_count": null,
            "_view_module_version": "1.5.0",
            "box_style": "",
            "layout": "IPY_MODEL_aeeaee140a8142279a32ef1333482f6a",
            "_model_module": "@jupyter-widgets/controls",
            "children": [
              "IPY_MODEL_326a3be28e654237ac5ac1c30919b8c5",
              "IPY_MODEL_166417ed3fd745978ef58c8ec83aebd2",
              "IPY_MODEL_259ef4753cd74f11afe27d5561ce6918"
            ]
          }
        },
        "aeeaee140a8142279a32ef1333482f6a": {
          "model_module": "@jupyter-widgets/base",
          "model_name": "LayoutModel",
          "model_module_version": "1.2.0",
          "state": {
            "_view_name": "LayoutView",
            "grid_template_rows": null,
            "right": null,
            "justify_content": null,
            "_view_module": "@jupyter-widgets/base",
            "overflow": null,
            "_model_module_version": "1.2.0",
            "_view_count": null,
            "flex_flow": null,
            "width": null,
            "min_width": null,
            "border": null,
            "align_items": null,
            "bottom": null,
            "_model_module": "@jupyter-widgets/base",
            "top": null,
            "grid_column": null,
            "overflow_y": null,
            "overflow_x": null,
            "grid_auto_flow": null,
            "grid_area": null,
            "grid_template_columns": null,
            "flex": null,
            "_model_name": "LayoutModel",
            "justify_items": null,
            "grid_row": null,
            "max_height": null,
            "align_content": null,
            "visibility": null,
            "align_self": null,
            "height": null,
            "min_height": null,
            "padding": null,
            "grid_auto_rows": null,
            "grid_gap": null,
            "max_width": null,
            "order": null,
            "_view_module_version": "1.2.0",
            "grid_template_areas": null,
            "object_position": null,
            "object_fit": null,
            "grid_auto_columns": null,
            "margin": null,
            "display": null,
            "left": null
          }
        },
        "326a3be28e654237ac5ac1c30919b8c5": {
          "model_module": "@jupyter-widgets/controls",
          "model_name": "HTMLModel",
          "model_module_version": "1.5.0",
          "state": {
            "_view_name": "HTMLView",
            "style": "IPY_MODEL_5f41b43dd322495885c40c9713d2272e",
            "_dom_classes": [],
            "description": "",
            "_model_name": "HTMLModel",
            "placeholder": "​",
            "_view_module": "@jupyter-widgets/controls",
            "_model_module_version": "1.5.0",
            "value": "Downloading https://huggingface.co/stanfordnlp/stanza-en/resolve/v1.3.0/models/default.zip: 100%",
            "_view_count": null,
            "_view_module_version": "1.5.0",
            "description_tooltip": null,
            "_model_module": "@jupyter-widgets/controls",
            "layout": "IPY_MODEL_e48a279855d14b36bd2d2e118ef7deb0"
          }
        },
        "166417ed3fd745978ef58c8ec83aebd2": {
          "model_module": "@jupyter-widgets/controls",
          "model_name": "FloatProgressModel",
          "model_module_version": "1.5.0",
          "state": {
            "_view_name": "ProgressView",
            "style": "IPY_MODEL_20f2cfb1ab9540a5a4966415b9f1c313",
            "_dom_classes": [],
            "description": "",
            "_model_name": "FloatProgressModel",
            "bar_style": "success",
            "max": 479531529,
            "_view_module": "@jupyter-widgets/controls",
            "_model_module_version": "1.5.0",
            "value": 479531529,
            "_view_count": null,
            "_view_module_version": "1.5.0",
            "orientation": "horizontal",
            "min": 0,
            "description_tooltip": null,
            "_model_module": "@jupyter-widgets/controls",
            "layout": "IPY_MODEL_35f224ecb37044f68b4b3651972ce94a"
          }
        },
        "259ef4753cd74f11afe27d5561ce6918": {
          "model_module": "@jupyter-widgets/controls",
          "model_name": "HTMLModel",
          "model_module_version": "1.5.0",
          "state": {
            "_view_name": "HTMLView",
            "style": "IPY_MODEL_8fb5871150ed458aa9e1cc2ac45e1fe6",
            "_dom_classes": [],
            "description": "",
            "_model_name": "HTMLModel",
            "placeholder": "​",
            "_view_module": "@jupyter-widgets/controls",
            "_model_module_version": "1.5.0",
            "value": " 480M/480M [00:03&lt;00:00, 159MB/s]",
            "_view_count": null,
            "_view_module_version": "1.5.0",
            "description_tooltip": null,
            "_model_module": "@jupyter-widgets/controls",
            "layout": "IPY_MODEL_5fdea69f62114416a75e14e855e155c0"
          }
        },
        "5f41b43dd322495885c40c9713d2272e": {
          "model_module": "@jupyter-widgets/controls",
          "model_name": "DescriptionStyleModel",
          "model_module_version": "1.5.0",
          "state": {
            "_view_name": "StyleView",
            "_model_name": "DescriptionStyleModel",
            "description_width": "",
            "_view_module": "@jupyter-widgets/base",
            "_model_module_version": "1.5.0",
            "_view_count": null,
            "_view_module_version": "1.2.0",
            "_model_module": "@jupyter-widgets/controls"
          }
        },
        "e48a279855d14b36bd2d2e118ef7deb0": {
          "model_module": "@jupyter-widgets/base",
          "model_name": "LayoutModel",
          "model_module_version": "1.2.0",
          "state": {
            "_view_name": "LayoutView",
            "grid_template_rows": null,
            "right": null,
            "justify_content": null,
            "_view_module": "@jupyter-widgets/base",
            "overflow": null,
            "_model_module_version": "1.2.0",
            "_view_count": null,
            "flex_flow": null,
            "width": null,
            "min_width": null,
            "border": null,
            "align_items": null,
            "bottom": null,
            "_model_module": "@jupyter-widgets/base",
            "top": null,
            "grid_column": null,
            "overflow_y": null,
            "overflow_x": null,
            "grid_auto_flow": null,
            "grid_area": null,
            "grid_template_columns": null,
            "flex": null,
            "_model_name": "LayoutModel",
            "justify_items": null,
            "grid_row": null,
            "max_height": null,
            "align_content": null,
            "visibility": null,
            "align_self": null,
            "height": null,
            "min_height": null,
            "padding": null,
            "grid_auto_rows": null,
            "grid_gap": null,
            "max_width": null,
            "order": null,
            "_view_module_version": "1.2.0",
            "grid_template_areas": null,
            "object_position": null,
            "object_fit": null,
            "grid_auto_columns": null,
            "margin": null,
            "display": null,
            "left": null
          }
        },
        "20f2cfb1ab9540a5a4966415b9f1c313": {
          "model_module": "@jupyter-widgets/controls",
          "model_name": "ProgressStyleModel",
          "model_module_version": "1.5.0",
          "state": {
            "_view_name": "StyleView",
            "_model_name": "ProgressStyleModel",
            "description_width": "",
            "_view_module": "@jupyter-widgets/base",
            "_model_module_version": "1.5.0",
            "_view_count": null,
            "_view_module_version": "1.2.0",
            "bar_color": null,
            "_model_module": "@jupyter-widgets/controls"
          }
        },
        "35f224ecb37044f68b4b3651972ce94a": {
          "model_module": "@jupyter-widgets/base",
          "model_name": "LayoutModel",
          "model_module_version": "1.2.0",
          "state": {
            "_view_name": "LayoutView",
            "grid_template_rows": null,
            "right": null,
            "justify_content": null,
            "_view_module": "@jupyter-widgets/base",
            "overflow": null,
            "_model_module_version": "1.2.0",
            "_view_count": null,
            "flex_flow": null,
            "width": null,
            "min_width": null,
            "border": null,
            "align_items": null,
            "bottom": null,
            "_model_module": "@jupyter-widgets/base",
            "top": null,
            "grid_column": null,
            "overflow_y": null,
            "overflow_x": null,
            "grid_auto_flow": null,
            "grid_area": null,
            "grid_template_columns": null,
            "flex": null,
            "_model_name": "LayoutModel",
            "justify_items": null,
            "grid_row": null,
            "max_height": null,
            "align_content": null,
            "visibility": null,
            "align_self": null,
            "height": null,
            "min_height": null,
            "padding": null,
            "grid_auto_rows": null,
            "grid_gap": null,
            "max_width": null,
            "order": null,
            "_view_module_version": "1.2.0",
            "grid_template_areas": null,
            "object_position": null,
            "object_fit": null,
            "grid_auto_columns": null,
            "margin": null,
            "display": null,
            "left": null
          }
        },
        "8fb5871150ed458aa9e1cc2ac45e1fe6": {
          "model_module": "@jupyter-widgets/controls",
          "model_name": "DescriptionStyleModel",
          "model_module_version": "1.5.0",
          "state": {
            "_view_name": "StyleView",
            "_model_name": "DescriptionStyleModel",
            "description_width": "",
            "_view_module": "@jupyter-widgets/base",
            "_model_module_version": "1.5.0",
            "_view_count": null,
            "_view_module_version": "1.2.0",
            "_model_module": "@jupyter-widgets/controls"
          }
        },
        "5fdea69f62114416a75e14e855e155c0": {
          "model_module": "@jupyter-widgets/base",
          "model_name": "LayoutModel",
          "model_module_version": "1.2.0",
          "state": {
            "_view_name": "LayoutView",
            "grid_template_rows": null,
            "right": null,
            "justify_content": null,
            "_view_module": "@jupyter-widgets/base",
            "overflow": null,
            "_model_module_version": "1.2.0",
            "_view_count": null,
            "flex_flow": null,
            "width": null,
            "min_width": null,
            "border": null,
            "align_items": null,
            "bottom": null,
            "_model_module": "@jupyter-widgets/base",
            "top": null,
            "grid_column": null,
            "overflow_y": null,
            "overflow_x": null,
            "grid_auto_flow": null,
            "grid_area": null,
            "grid_template_columns": null,
            "flex": null,
            "_model_name": "LayoutModel",
            "justify_items": null,
            "grid_row": null,
            "max_height": null,
            "align_content": null,
            "visibility": null,
            "align_self": null,
            "height": null,
            "min_height": null,
            "padding": null,
            "grid_auto_rows": null,
            "grid_gap": null,
            "max_width": null,
            "order": null,
            "_view_module_version": "1.2.0",
            "grid_template_areas": null,
            "object_position": null,
            "object_fit": null,
            "grid_auto_columns": null,
            "margin": null,
            "display": null,
            "left": null
          }
        }
      }
    }
  },
  "cells": [
    {
      "cell_type": "markdown",
      "metadata": {
        "id": "HYIoIT7lco1y"
      },
      "source": [
        "# Install Dependecies"
      ]
    },
    {
      "cell_type": "markdown",
      "metadata": {
        "id": "7vfMWRFYljJk"
      },
      "source": [
        "#### Lime"
      ]
    },
    {
      "cell_type": "code",
      "metadata": {
        "colab": {
          "base_uri": "https://localhost:8080/"
        },
        "id": "r3RDzUMwcl5S",
        "outputId": "d392ba06-698c-4db3-cee0-e6aef30ae02c"
      },
      "source": [
        "!pip install lime"
      ],
      "execution_count": 3,
      "outputs": [
        {
          "output_type": "stream",
          "name": "stdout",
          "text": [
            "Collecting lime\n",
            "  Downloading lime-0.2.0.1.tar.gz (275 kB)\n",
            "\u001b[?25l\r\u001b[K     |█▏                              | 10 kB 21.0 MB/s eta 0:00:01\r\u001b[K     |██▍                             | 20 kB 24.5 MB/s eta 0:00:01\r\u001b[K     |███▋                            | 30 kB 28.5 MB/s eta 0:00:01\r\u001b[K     |████▊                           | 40 kB 16.2 MB/s eta 0:00:01\r\u001b[K     |██████                          | 51 kB 6.8 MB/s eta 0:00:01\r\u001b[K     |███████▏                        | 61 kB 7.3 MB/s eta 0:00:01\r\u001b[K     |████████▎                       | 71 kB 6.3 MB/s eta 0:00:01\r\u001b[K     |█████████▌                      | 81 kB 7.0 MB/s eta 0:00:01\r\u001b[K     |██████████▊                     | 92 kB 5.5 MB/s eta 0:00:01\r\u001b[K     |███████████▉                    | 102 kB 5.9 MB/s eta 0:00:01\r\u001b[K     |█████████████                   | 112 kB 5.9 MB/s eta 0:00:01\r\u001b[K     |██████████████▎                 | 122 kB 5.9 MB/s eta 0:00:01\r\u001b[K     |███████████████▌                | 133 kB 5.9 MB/s eta 0:00:01\r\u001b[K     |████████████████▋               | 143 kB 5.9 MB/s eta 0:00:01\r\u001b[K     |█████████████████▉              | 153 kB 5.9 MB/s eta 0:00:01\r\u001b[K     |███████████████████             | 163 kB 5.9 MB/s eta 0:00:01\r\u001b[K     |████████████████████▏           | 174 kB 5.9 MB/s eta 0:00:01\r\u001b[K     |█████████████████████▍          | 184 kB 5.9 MB/s eta 0:00:01\r\u001b[K     |██████████████████████▋         | 194 kB 5.9 MB/s eta 0:00:01\r\u001b[K     |███████████████████████▊        | 204 kB 5.9 MB/s eta 0:00:01\r\u001b[K     |█████████████████████████       | 215 kB 5.9 MB/s eta 0:00:01\r\u001b[K     |██████████████████████████▏     | 225 kB 5.9 MB/s eta 0:00:01\r\u001b[K     |███████████████████████████▍    | 235 kB 5.9 MB/s eta 0:00:01\r\u001b[K     |████████████████████████████▌   | 245 kB 5.9 MB/s eta 0:00:01\r\u001b[K     |█████████████████████████████▊  | 256 kB 5.9 MB/s eta 0:00:01\r\u001b[K     |███████████████████████████████ | 266 kB 5.9 MB/s eta 0:00:01\r\u001b[K     |████████████████████████████████| 275 kB 5.9 MB/s \n",
            "\u001b[?25hRequirement already satisfied: matplotlib in /usr/local/lib/python3.7/dist-packages (from lime) (3.2.2)\n",
            "Requirement already satisfied: numpy in /usr/local/lib/python3.7/dist-packages (from lime) (1.19.5)\n",
            "Requirement already satisfied: scipy in /usr/local/lib/python3.7/dist-packages (from lime) (1.4.1)\n",
            "Requirement already satisfied: tqdm in /usr/local/lib/python3.7/dist-packages (from lime) (4.62.3)\n",
            "Requirement already satisfied: scikit-learn>=0.18 in /usr/local/lib/python3.7/dist-packages (from lime) (0.22.2.post1)\n",
            "Requirement already satisfied: scikit-image>=0.12 in /usr/local/lib/python3.7/dist-packages (from lime) (0.16.2)\n",
            "Requirement already satisfied: pillow>=4.3.0 in /usr/local/lib/python3.7/dist-packages (from scikit-image>=0.12->lime) (7.1.2)\n",
            "Requirement already satisfied: imageio>=2.3.0 in /usr/local/lib/python3.7/dist-packages (from scikit-image>=0.12->lime) (2.4.1)\n",
            "Requirement already satisfied: networkx>=2.0 in /usr/local/lib/python3.7/dist-packages (from scikit-image>=0.12->lime) (2.6.3)\n",
            "Requirement already satisfied: PyWavelets>=0.4.0 in /usr/local/lib/python3.7/dist-packages (from scikit-image>=0.12->lime) (1.1.1)\n",
            "Requirement already satisfied: cycler>=0.10 in /usr/local/lib/python3.7/dist-packages (from matplotlib->lime) (0.10.0)\n",
            "Requirement already satisfied: kiwisolver>=1.0.1 in /usr/local/lib/python3.7/dist-packages (from matplotlib->lime) (1.3.2)\n",
            "Requirement already satisfied: python-dateutil>=2.1 in /usr/local/lib/python3.7/dist-packages (from matplotlib->lime) (2.8.2)\n",
            "Requirement already satisfied: pyparsing!=2.0.4,!=2.1.2,!=2.1.6,>=2.0.1 in /usr/local/lib/python3.7/dist-packages (from matplotlib->lime) (2.4.7)\n",
            "Requirement already satisfied: six in /usr/local/lib/python3.7/dist-packages (from cycler>=0.10->matplotlib->lime) (1.15.0)\n",
            "Requirement already satisfied: joblib>=0.11 in /usr/local/lib/python3.7/dist-packages (from scikit-learn>=0.18->lime) (1.0.1)\n",
            "Building wheels for collected packages: lime\n",
            "  Building wheel for lime (setup.py) ... \u001b[?25l\u001b[?25hdone\n",
            "  Created wheel for lime: filename=lime-0.2.0.1-py3-none-any.whl size=283857 sha256=c21660e20267dcb82cca08df7a4866042447fa1610a352538856d5d142429daf\n",
            "  Stored in directory: /root/.cache/pip/wheels/ca/cb/e5/ac701e12d365a08917bf4c6171c0961bc880a8181359c66aa7\n",
            "Successfully built lime\n",
            "Installing collected packages: lime\n",
            "Successfully installed lime-0.2.0.1\n"
          ]
        }
      ]
    },
    {
      "cell_type": "code",
      "metadata": {
        "colab": {
          "base_uri": "https://localhost:8080/"
        },
        "id": "lHuhEn3dc2VZ",
        "outputId": "1c82a2b8-8352-4038-e566-5b3ce7e0b28e"
      },
      "source": [
        "!pip install transformers"
      ],
      "execution_count": 4,
      "outputs": [
        {
          "output_type": "stream",
          "name": "stdout",
          "text": [
            "Collecting transformers\n",
            "  Downloading transformers-4.12.0-py3-none-any.whl (3.1 MB)\n",
            "\u001b[K     |████████████████████████████████| 3.1 MB 5.3 MB/s \n",
            "\u001b[?25hCollecting pyyaml>=5.1\n",
            "  Downloading PyYAML-6.0-cp37-cp37m-manylinux_2_5_x86_64.manylinux1_x86_64.manylinux_2_12_x86_64.manylinux2010_x86_64.whl (596 kB)\n",
            "\u001b[K     |████████████████████████████████| 596 kB 41.2 MB/s \n",
            "\u001b[?25hCollecting huggingface-hub>=0.0.17\n",
            "  Downloading huggingface_hub-0.0.19-py3-none-any.whl (56 kB)\n",
            "\u001b[K     |████████████████████████████████| 56 kB 4.4 MB/s \n",
            "\u001b[?25hRequirement already satisfied: importlib-metadata in /usr/local/lib/python3.7/dist-packages (from transformers) (4.8.1)\n",
            "Collecting sacremoses\n",
            "  Downloading sacremoses-0.0.46-py3-none-any.whl (895 kB)\n",
            "\u001b[K     |████████████████████████████████| 895 kB 32.1 MB/s \n",
            "\u001b[?25hCollecting tokenizers<0.11,>=0.10.1\n",
            "  Downloading tokenizers-0.10.3-cp37-cp37m-manylinux_2_5_x86_64.manylinux1_x86_64.manylinux_2_12_x86_64.manylinux2010_x86_64.whl (3.3 MB)\n",
            "\u001b[K     |████████████████████████████████| 3.3 MB 34.7 MB/s \n",
            "\u001b[?25hRequirement already satisfied: requests in /usr/local/lib/python3.7/dist-packages (from transformers) (2.23.0)\n",
            "Requirement already satisfied: packaging>=20.0 in /usr/local/lib/python3.7/dist-packages (from transformers) (21.0)\n",
            "Requirement already satisfied: numpy>=1.17 in /usr/local/lib/python3.7/dist-packages (from transformers) (1.19.5)\n",
            "Requirement already satisfied: filelock in /usr/local/lib/python3.7/dist-packages (from transformers) (3.3.0)\n",
            "Requirement already satisfied: tqdm>=4.27 in /usr/local/lib/python3.7/dist-packages (from transformers) (4.62.3)\n",
            "Requirement already satisfied: regex!=2019.12.17 in /usr/local/lib/python3.7/dist-packages (from transformers) (2019.12.20)\n",
            "Requirement already satisfied: typing-extensions in /usr/local/lib/python3.7/dist-packages (from huggingface-hub>=0.0.17->transformers) (3.7.4.3)\n",
            "Requirement already satisfied: pyparsing>=2.0.2 in /usr/local/lib/python3.7/dist-packages (from packaging>=20.0->transformers) (2.4.7)\n",
            "Requirement already satisfied: zipp>=0.5 in /usr/local/lib/python3.7/dist-packages (from importlib-metadata->transformers) (3.6.0)\n",
            "Requirement already satisfied: certifi>=2017.4.17 in /usr/local/lib/python3.7/dist-packages (from requests->transformers) (2021.5.30)\n",
            "Requirement already satisfied: urllib3!=1.25.0,!=1.25.1,<1.26,>=1.21.1 in /usr/local/lib/python3.7/dist-packages (from requests->transformers) (1.24.3)\n",
            "Requirement already satisfied: idna<3,>=2.5 in /usr/local/lib/python3.7/dist-packages (from requests->transformers) (2.10)\n",
            "Requirement already satisfied: chardet<4,>=3.0.2 in /usr/local/lib/python3.7/dist-packages (from requests->transformers) (3.0.4)\n",
            "Requirement already satisfied: click in /usr/local/lib/python3.7/dist-packages (from sacremoses->transformers) (7.1.2)\n",
            "Requirement already satisfied: six in /usr/local/lib/python3.7/dist-packages (from sacremoses->transformers) (1.15.0)\n",
            "Requirement already satisfied: joblib in /usr/local/lib/python3.7/dist-packages (from sacremoses->transformers) (1.0.1)\n",
            "Installing collected packages: pyyaml, tokenizers, sacremoses, huggingface-hub, transformers\n",
            "  Attempting uninstall: pyyaml\n",
            "    Found existing installation: PyYAML 3.13\n",
            "    Uninstalling PyYAML-3.13:\n",
            "      Successfully uninstalled PyYAML-3.13\n",
            "Successfully installed huggingface-hub-0.0.19 pyyaml-6.0 sacremoses-0.0.46 tokenizers-0.10.3 transformers-4.12.0\n"
          ]
        }
      ]
    },
    {
      "cell_type": "code",
      "metadata": {
        "colab": {
          "base_uri": "https://localhost:8080/"
        },
        "id": "WL92ldfNkoiL",
        "outputId": "254423a1-e04c-4435-df79-429cc36927d3"
      },
      "source": [
        "!pip install stanza"
      ],
      "execution_count": 5,
      "outputs": [
        {
          "output_type": "stream",
          "name": "stdout",
          "text": [
            "Collecting stanza\n",
            "  Downloading stanza-1.3.0-py3-none-any.whl (432 kB)\n",
            "\u001b[K     |████████████████████████████████| 432 kB 5.4 MB/s \n",
            "\u001b[?25hRequirement already satisfied: protobuf in /usr/local/lib/python3.7/dist-packages (from stanza) (3.17.3)\n",
            "Requirement already satisfied: six in /usr/local/lib/python3.7/dist-packages (from stanza) (1.15.0)\n",
            "Requirement already satisfied: tqdm in /usr/local/lib/python3.7/dist-packages (from stanza) (4.62.3)\n",
            "Requirement already satisfied: torch>=1.3.0 in /usr/local/lib/python3.7/dist-packages (from stanza) (1.9.0+cu111)\n",
            "Requirement already satisfied: numpy in /usr/local/lib/python3.7/dist-packages (from stanza) (1.19.5)\n",
            "Collecting emoji\n",
            "  Downloading emoji-1.6.1.tar.gz (170 kB)\n",
            "\u001b[K     |████████████████████████████████| 170 kB 37.9 MB/s \n",
            "\u001b[?25hRequirement already satisfied: requests in /usr/local/lib/python3.7/dist-packages (from stanza) (2.23.0)\n",
            "Requirement already satisfied: typing-extensions in /usr/local/lib/python3.7/dist-packages (from torch>=1.3.0->stanza) (3.7.4.3)\n",
            "Requirement already satisfied: idna<3,>=2.5 in /usr/local/lib/python3.7/dist-packages (from requests->stanza) (2.10)\n",
            "Requirement already satisfied: chardet<4,>=3.0.2 in /usr/local/lib/python3.7/dist-packages (from requests->stanza) (3.0.4)\n",
            "Requirement already satisfied: urllib3!=1.25.0,!=1.25.1,<1.26,>=1.21.1 in /usr/local/lib/python3.7/dist-packages (from requests->stanza) (1.24.3)\n",
            "Requirement already satisfied: certifi>=2017.4.17 in /usr/local/lib/python3.7/dist-packages (from requests->stanza) (2021.5.30)\n",
            "Building wheels for collected packages: emoji\n",
            "  Building wheel for emoji (setup.py) ... \u001b[?25l\u001b[?25hdone\n",
            "  Created wheel for emoji: filename=emoji-1.6.1-py3-none-any.whl size=169314 sha256=69d20f83d3bf2b9c25a1c3538017c8c2a09e82baf9399629329414c1039490d2\n",
            "  Stored in directory: /root/.cache/pip/wheels/ea/5f/d3/03d313ddb3c2a1a427bb4690f1621eea60fe6f2a30cc95940f\n",
            "Successfully built emoji\n",
            "Installing collected packages: emoji, stanza\n",
            "Successfully installed emoji-1.6.1 stanza-1.3.0\n"
          ]
        }
      ]
    },
    {
      "cell_type": "code",
      "metadata": {
        "colab": {
          "base_uri": "https://localhost:8080/"
        },
        "id": "rDpdvjpFzZrC",
        "outputId": "44b0dfce-3912-4dfc-804d-ae4f0613bb93"
      },
      "source": [
        "!pip install spacy\n",
        "!spacy download en"
      ],
      "execution_count": 6,
      "outputs": [
        {
          "output_type": "stream",
          "name": "stdout",
          "text": [
            "Requirement already satisfied: spacy in /usr/local/lib/python3.7/dist-packages (2.2.4)\n",
            "Requirement already satisfied: blis<0.5.0,>=0.4.0 in /usr/local/lib/python3.7/dist-packages (from spacy) (0.4.1)\n",
            "Requirement already satisfied: requests<3.0.0,>=2.13.0 in /usr/local/lib/python3.7/dist-packages (from spacy) (2.23.0)\n",
            "Requirement already satisfied: wasabi<1.1.0,>=0.4.0 in /usr/local/lib/python3.7/dist-packages (from spacy) (0.8.2)\n",
            "Requirement already satisfied: srsly<1.1.0,>=1.0.2 in /usr/local/lib/python3.7/dist-packages (from spacy) (1.0.5)\n",
            "Requirement already satisfied: murmurhash<1.1.0,>=0.28.0 in /usr/local/lib/python3.7/dist-packages (from spacy) (1.0.5)\n",
            "Requirement already satisfied: catalogue<1.1.0,>=0.0.7 in /usr/local/lib/python3.7/dist-packages (from spacy) (1.0.0)\n",
            "Requirement already satisfied: numpy>=1.15.0 in /usr/local/lib/python3.7/dist-packages (from spacy) (1.19.5)\n",
            "Requirement already satisfied: setuptools in /usr/local/lib/python3.7/dist-packages (from spacy) (57.4.0)\n",
            "Requirement already satisfied: plac<1.2.0,>=0.9.6 in /usr/local/lib/python3.7/dist-packages (from spacy) (1.1.3)\n",
            "Requirement already satisfied: thinc==7.4.0 in /usr/local/lib/python3.7/dist-packages (from spacy) (7.4.0)\n",
            "Requirement already satisfied: cymem<2.1.0,>=2.0.2 in /usr/local/lib/python3.7/dist-packages (from spacy) (2.0.5)\n",
            "Requirement already satisfied: preshed<3.1.0,>=3.0.2 in /usr/local/lib/python3.7/dist-packages (from spacy) (3.0.5)\n",
            "Requirement already satisfied: tqdm<5.0.0,>=4.38.0 in /usr/local/lib/python3.7/dist-packages (from spacy) (4.62.3)\n",
            "Requirement already satisfied: importlib-metadata>=0.20 in /usr/local/lib/python3.7/dist-packages (from catalogue<1.1.0,>=0.0.7->spacy) (4.8.1)\n",
            "Requirement already satisfied: typing-extensions>=3.6.4 in /usr/local/lib/python3.7/dist-packages (from importlib-metadata>=0.20->catalogue<1.1.0,>=0.0.7->spacy) (3.7.4.3)\n",
            "Requirement already satisfied: zipp>=0.5 in /usr/local/lib/python3.7/dist-packages (from importlib-metadata>=0.20->catalogue<1.1.0,>=0.0.7->spacy) (3.6.0)\n",
            "Requirement already satisfied: urllib3!=1.25.0,!=1.25.1,<1.26,>=1.21.1 in /usr/local/lib/python3.7/dist-packages (from requests<3.0.0,>=2.13.0->spacy) (1.24.3)\n",
            "Requirement already satisfied: idna<3,>=2.5 in /usr/local/lib/python3.7/dist-packages (from requests<3.0.0,>=2.13.0->spacy) (2.10)\n",
            "Requirement already satisfied: certifi>=2017.4.17 in /usr/local/lib/python3.7/dist-packages (from requests<3.0.0,>=2.13.0->spacy) (2021.5.30)\n",
            "Requirement already satisfied: chardet<4,>=3.0.2 in /usr/local/lib/python3.7/dist-packages (from requests<3.0.0,>=2.13.0->spacy) (3.0.4)\n",
            "Collecting en_core_web_sm==2.2.5\n",
            "  Downloading https://github.com/explosion/spacy-models/releases/download/en_core_web_sm-2.2.5/en_core_web_sm-2.2.5.tar.gz (12.0 MB)\n",
            "\u001b[K     |████████████████████████████████| 12.0 MB 5.3 MB/s \n",
            "\u001b[?25hRequirement already satisfied: spacy>=2.2.2 in /usr/local/lib/python3.7/dist-packages (from en_core_web_sm==2.2.5) (2.2.4)\n",
            "Requirement already satisfied: plac<1.2.0,>=0.9.6 in /usr/local/lib/python3.7/dist-packages (from spacy>=2.2.2->en_core_web_sm==2.2.5) (1.1.3)\n",
            "Requirement already satisfied: tqdm<5.0.0,>=4.38.0 in /usr/local/lib/python3.7/dist-packages (from spacy>=2.2.2->en_core_web_sm==2.2.5) (4.62.3)\n",
            "Requirement already satisfied: blis<0.5.0,>=0.4.0 in /usr/local/lib/python3.7/dist-packages (from spacy>=2.2.2->en_core_web_sm==2.2.5) (0.4.1)\n",
            "Requirement already satisfied: requests<3.0.0,>=2.13.0 in /usr/local/lib/python3.7/dist-packages (from spacy>=2.2.2->en_core_web_sm==2.2.5) (2.23.0)\n",
            "Requirement already satisfied: cymem<2.1.0,>=2.0.2 in /usr/local/lib/python3.7/dist-packages (from spacy>=2.2.2->en_core_web_sm==2.2.5) (2.0.5)\n",
            "Requirement already satisfied: setuptools in /usr/local/lib/python3.7/dist-packages (from spacy>=2.2.2->en_core_web_sm==2.2.5) (57.4.0)\n",
            "Requirement already satisfied: numpy>=1.15.0 in /usr/local/lib/python3.7/dist-packages (from spacy>=2.2.2->en_core_web_sm==2.2.5) (1.19.5)\n",
            "Requirement already satisfied: wasabi<1.1.0,>=0.4.0 in /usr/local/lib/python3.7/dist-packages (from spacy>=2.2.2->en_core_web_sm==2.2.5) (0.8.2)\n",
            "Requirement already satisfied: murmurhash<1.1.0,>=0.28.0 in /usr/local/lib/python3.7/dist-packages (from spacy>=2.2.2->en_core_web_sm==2.2.5) (1.0.5)\n",
            "Requirement already satisfied: thinc==7.4.0 in /usr/local/lib/python3.7/dist-packages (from spacy>=2.2.2->en_core_web_sm==2.2.5) (7.4.0)\n",
            "Requirement already satisfied: preshed<3.1.0,>=3.0.2 in /usr/local/lib/python3.7/dist-packages (from spacy>=2.2.2->en_core_web_sm==2.2.5) (3.0.5)\n",
            "Requirement already satisfied: srsly<1.1.0,>=1.0.2 in /usr/local/lib/python3.7/dist-packages (from spacy>=2.2.2->en_core_web_sm==2.2.5) (1.0.5)\n",
            "Requirement already satisfied: catalogue<1.1.0,>=0.0.7 in /usr/local/lib/python3.7/dist-packages (from spacy>=2.2.2->en_core_web_sm==2.2.5) (1.0.0)\n",
            "Requirement already satisfied: importlib-metadata>=0.20 in /usr/local/lib/python3.7/dist-packages (from catalogue<1.1.0,>=0.0.7->spacy>=2.2.2->en_core_web_sm==2.2.5) (4.8.1)\n",
            "Requirement already satisfied: zipp>=0.5 in /usr/local/lib/python3.7/dist-packages (from importlib-metadata>=0.20->catalogue<1.1.0,>=0.0.7->spacy>=2.2.2->en_core_web_sm==2.2.5) (3.6.0)\n",
            "Requirement already satisfied: typing-extensions>=3.6.4 in /usr/local/lib/python3.7/dist-packages (from importlib-metadata>=0.20->catalogue<1.1.0,>=0.0.7->spacy>=2.2.2->en_core_web_sm==2.2.5) (3.7.4.3)\n",
            "Requirement already satisfied: certifi>=2017.4.17 in /usr/local/lib/python3.7/dist-packages (from requests<3.0.0,>=2.13.0->spacy>=2.2.2->en_core_web_sm==2.2.5) (2021.5.30)\n",
            "Requirement already satisfied: urllib3!=1.25.0,!=1.25.1,<1.26,>=1.21.1 in /usr/local/lib/python3.7/dist-packages (from requests<3.0.0,>=2.13.0->spacy>=2.2.2->en_core_web_sm==2.2.5) (1.24.3)\n",
            "Requirement already satisfied: idna<3,>=2.5 in /usr/local/lib/python3.7/dist-packages (from requests<3.0.0,>=2.13.0->spacy>=2.2.2->en_core_web_sm==2.2.5) (2.10)\n",
            "Requirement already satisfied: chardet<4,>=3.0.2 in /usr/local/lib/python3.7/dist-packages (from requests<3.0.0,>=2.13.0->spacy>=2.2.2->en_core_web_sm==2.2.5) (3.0.4)\n",
            "\u001b[38;5;2m✔ Download and installation successful\u001b[0m\n",
            "You can now load the model via spacy.load('en_core_web_sm')\n",
            "\u001b[38;5;2m✔ Linking successful\u001b[0m\n",
            "/usr/local/lib/python3.7/dist-packages/en_core_web_sm -->\n",
            "/usr/local/lib/python3.7/dist-packages/spacy/data/en\n",
            "You can now load the model via spacy.load('en')\n"
          ]
        }
      ]
    },
    {
      "cell_type": "markdown",
      "metadata": {
        "id": "ku0MtBbclmg1"
      },
      "source": [
        "#### Langid"
      ]
    },
    {
      "cell_type": "code",
      "metadata": {
        "colab": {
          "base_uri": "https://localhost:8080/"
        },
        "id": "iQU97VnPhIjg",
        "outputId": "5bce7b4f-0648-4275-8236-8ca7735ded9a"
      },
      "source": [
        "!pip install langid"
      ],
      "execution_count": 7,
      "outputs": [
        {
          "output_type": "stream",
          "name": "stdout",
          "text": [
            "Collecting langid\n",
            "  Downloading langid-1.1.6.tar.gz (1.9 MB)\n",
            "\u001b[K     |████████████████████████████████| 1.9 MB 1.2 MB/s \n",
            "\u001b[?25hRequirement already satisfied: numpy in /usr/local/lib/python3.7/dist-packages (from langid) (1.19.5)\n",
            "Building wheels for collected packages: langid\n",
            "  Building wheel for langid (setup.py) ... \u001b[?25l\u001b[?25hdone\n",
            "  Created wheel for langid: filename=langid-1.1.6-py3-none-any.whl size=1941187 sha256=6bedec4d26effe6a37ab98d3b1f3739eb4418378c8f8febd539a5238e54c2742\n",
            "  Stored in directory: /root/.cache/pip/wheels/2b/bb/7f/11e4db39477278161e882eadc46fb558949a28b13470fc74b8\n",
            "Successfully built langid\n",
            "Installing collected packages: langid\n",
            "Successfully installed langid-1.1.6\n"
          ]
        }
      ]
    },
    {
      "cell_type": "markdown",
      "metadata": {
        "id": "U6TUf6qacML8"
      },
      "source": [
        "# Import Libraries"
      ]
    },
    {
      "cell_type": "code",
      "metadata": {
        "id": "sqsOCgxvcDes"
      },
      "source": [
        "import spacy\n",
        "## for data\n",
        "import json\n",
        "import pandas as pd\n",
        "import numpy as np\n",
        "## for plotting\n",
        "import matplotlib.pyplot as plt\n",
        "import seaborn as sns\n",
        "## for processing\n",
        "import re\n",
        "import nltk\n",
        "## for bag-of-words\n",
        "from sklearn import feature_extraction, model_selection, naive_bayes, pipeline, manifold, preprocessing\n",
        "## for explainer\n",
        "from lime import lime_text\n",
        "## for word embedding\n",
        "import gensim\n",
        "import gensim.downloader as gensim_api\n",
        "## for deep learning\n",
        "from tensorflow.keras import models, layers, preprocessing as kprocessing\n",
        "from tensorflow.keras import backend as K\n",
        "## for bert language model\n",
        "import transformers\n",
        "\n",
        "import stanza\n",
        "import nltk\n",
        "from sklearn import feature_selection\n",
        "from sklearn import metrics\n"
      ],
      "execution_count": 8,
      "outputs": []
    },
    {
      "cell_type": "markdown",
      "metadata": {
        "id": "9srJm90JlYVE"
      },
      "source": [
        "# Download Data"
      ]
    },
    {
      "cell_type": "code",
      "metadata": {
        "colab": {
          "base_uri": "https://localhost:8080/",
          "height": 591,
          "referenced_widgets": [
            "23e6b9b7902a4839b98c2273f4de0689",
            "290224055c1d4c28bb85917cdd6c1351",
            "4320eb5044634b2fbeee9d5fada0d087",
            "9a817b177e934805be30aac37e88e762",
            "e87e4eba83284fbe9d215bf170bd860b",
            "f56389b345694e0086c286b519931a7c",
            "dd3098f38ad54fd7ba8f356107050b85",
            "cadf7db303ab4b259af31168b3f4da22",
            "ceb6447f0d4c4476b64a492213d79c2d",
            "0368d74ec7f64af1befff7eb7b475f9f",
            "fea9ed87a8c2464caccc7f26894c178f",
            "04faf2ee75044ce4939533d8c0a377e7",
            "aeeaee140a8142279a32ef1333482f6a",
            "326a3be28e654237ac5ac1c30919b8c5",
            "166417ed3fd745978ef58c8ec83aebd2",
            "259ef4753cd74f11afe27d5561ce6918",
            "5f41b43dd322495885c40c9713d2272e",
            "e48a279855d14b36bd2d2e118ef7deb0",
            "20f2cfb1ab9540a5a4966415b9f1c313",
            "35f224ecb37044f68b4b3651972ce94a",
            "8fb5871150ed458aa9e1cc2ac45e1fe6",
            "5fdea69f62114416a75e14e855e155c0"
          ]
        },
        "id": "Sfl6yCeslali",
        "outputId": "6e079760-c3f7-44fd-8a17-51be4cc02277"
      },
      "source": [
        "nltk.download('stopwords')\n",
        "nltk.download('wordnet')\n",
        "nltk.download('rslp')\n",
        "\n",
        "\n",
        "stanza.download('en')\n",
        "nlp = stanza.Pipeline('en')"
      ],
      "execution_count": 9,
      "outputs": [
        {
          "output_type": "stream",
          "name": "stdout",
          "text": [
            "[nltk_data] Downloading package stopwords to /root/nltk_data...\n",
            "[nltk_data]   Unzipping corpora/stopwords.zip.\n",
            "[nltk_data] Downloading package wordnet to /root/nltk_data...\n",
            "[nltk_data]   Unzipping corpora/wordnet.zip.\n",
            "[nltk_data] Downloading package rslp to /root/nltk_data...\n",
            "[nltk_data]   Unzipping stemmers/rslp.zip.\n"
          ]
        },
        {
          "output_type": "display_data",
          "data": {
            "application/vnd.jupyter.widget-view+json": {
              "model_id": "23e6b9b7902a4839b98c2273f4de0689",
              "version_minor": 0,
              "version_major": 2
            },
            "text/plain": [
              "Downloading https://raw.githubusercontent.com/stanfordnlp/stanza-resources/main/resources_1.3.0.json:   0%|   …"
            ]
          },
          "metadata": {}
        },
        {
          "output_type": "stream",
          "name": "stderr",
          "text": [
            "2021-10-29 11:12:50 INFO: Downloading default packages for language: en (English)...\n"
          ]
        },
        {
          "output_type": "display_data",
          "data": {
            "application/vnd.jupyter.widget-view+json": {
              "model_id": "04faf2ee75044ce4939533d8c0a377e7",
              "version_minor": 0,
              "version_major": 2
            },
            "text/plain": [
              "Downloading https://huggingface.co/stanfordnlp/stanza-en/resolve/v1.3.0/models/default.zip:   0%|          | 0…"
            ]
          },
          "metadata": {}
        },
        {
          "output_type": "stream",
          "name": "stderr",
          "text": [
            "2021-10-29 11:13:01 INFO: Finished downloading models and saved to /root/stanza_resources.\n",
            "2021-10-29 11:13:01 INFO: Loading these models for language: en (English):\n",
            "============================\n",
            "| Processor    | Package   |\n",
            "----------------------------\n",
            "| tokenize     | combined  |\n",
            "| pos          | combined  |\n",
            "| lemma        | combined  |\n",
            "| depparse     | combined  |\n",
            "| sentiment    | sstplus   |\n",
            "| constituency | wsj       |\n",
            "| ner          | ontonotes |\n",
            "============================\n",
            "\n",
            "2021-10-29 11:13:01 INFO: Use device: gpu\n",
            "2021-10-29 11:13:01 INFO: Loading: tokenize\n",
            "2021-10-29 11:13:15 INFO: Loading: pos\n",
            "2021-10-29 11:13:16 INFO: Loading: lemma\n",
            "2021-10-29 11:13:16 INFO: Loading: depparse\n",
            "2021-10-29 11:13:16 INFO: Loading: sentiment\n",
            "2021-10-29 11:13:17 INFO: Loading: constituency\n",
            "2021-10-29 11:13:18 INFO: Loading: ner\n",
            "2021-10-29 11:13:18 INFO: Done loading processors!\n"
          ]
        }
      ]
    },
    {
      "cell_type": "code",
      "metadata": {
        "id": "bud3gzfMfCGW"
      },
      "source": [
        "import random\n",
        "\n",
        "p = 0.01"
      ],
      "execution_count": 11,
      "outputs": []
    },
    {
      "cell_type": "code",
      "metadata": {
        "colab": {
          "base_uri": "https://localhost:8080/"
        },
        "id": "EtY0py6-fYdK",
        "outputId": "8293c8fc-80a1-475f-f5cf-da603c697b52"
      },
      "source": [
        "from google.colab import drive\n",
        "drive.mount('/content/drive',force_remount=True)"
      ],
      "execution_count": 1,
      "outputs": [
        {
          "output_type": "stream",
          "name": "stdout",
          "text": [
            "Mounted at /content/drive\n"
          ]
        }
      ]
    },
    {
      "cell_type": "code",
      "metadata": {
        "id": "IsxI6H4dy2qQ",
        "colab": {
          "base_uri": "https://localhost:8080/"
        },
        "outputId": "d9318154-6379-4a62-be4b-e9d071db2b5f"
      },
      "source": [
        "%%time\n",
        "dtf = pd.read_csv(\"/content/drive/MyDrive/Colab Notebooks/Dataset/tweets.csv\", skiprows=lambda i: i>0 and random.random() > p, error_bad_lines=False, nrows=250000, sep=';', lineterminator='\\n')\n",
        "\n"
      ],
      "execution_count": 12,
      "outputs": [
        {
          "output_type": "stream",
          "name": "stderr",
          "text": [
            "<string>:2: DtypeWarning: Columns (3) have mixed types.Specify dtype option on import or set low_memory=False.\n"
          ]
        },
        {
          "output_type": "stream",
          "name": "stdout",
          "text": [
            "CPU times: user 20 s, sys: 2.77 s, total: 22.7 s\n",
            "Wall time: 1min 12s\n"
          ]
        }
      ]
    },
    {
      "cell_type": "code",
      "metadata": {
        "colab": {
          "base_uri": "https://localhost:8080/",
          "height": 289
        },
        "id": "Yw0ja6KqReKs",
        "outputId": "7a717579-df36-405c-c543-a2708d37e2da"
      },
      "source": [
        "dtf.head()"
      ],
      "execution_count": 69,
      "outputs": [
        {
          "output_type": "execute_result",
          "data": {
            "text/html": [
              "<div>\n",
              "<style scoped>\n",
              "    .dataframe tbody tr th:only-of-type {\n",
              "        vertical-align: middle;\n",
              "    }\n",
              "\n",
              "    .dataframe tbody tr th {\n",
              "        vertical-align: top;\n",
              "    }\n",
              "\n",
              "    .dataframe thead th {\n",
              "        text-align: right;\n",
              "    }\n",
              "</style>\n",
              "<table border=\"1\" class=\"dataframe\">\n",
              "  <thead>\n",
              "    <tr style=\"text-align: right;\">\n",
              "      <th></th>\n",
              "      <th>id</th>\n",
              "      <th>user</th>\n",
              "      <th>fullname</th>\n",
              "      <th>url</th>\n",
              "      <th>timestamp</th>\n",
              "      <th>replies</th>\n",
              "      <th>likes</th>\n",
              "      <th>retweets</th>\n",
              "      <th>text\\r</th>\n",
              "      <th>language</th>\n",
              "      <th>text_clean</th>\n",
              "    </tr>\n",
              "  </thead>\n",
              "  <tbody>\n",
              "    <tr>\n",
              "      <th>1</th>\n",
              "      <td>1.127046e+18</td>\n",
              "      <td>mironyan</td>\n",
              "      <td>Yavruyan E</td>\n",
              "      <td>NaN</td>\n",
              "      <td>2019-05-11 01:00:33+00</td>\n",
              "      <td>0</td>\n",
              "      <td>0</td>\n",
              "      <td>0</td>\n",
              "      <td>!!!\\r</td>\n",
              "      <td>en</td>\n",
              "      <td></td>\n",
              "    </tr>\n",
              "    <tr>\n",
              "      <th>2</th>\n",
              "      <td>1.126824e+18</td>\n",
              "      <td>cryptobhoy</td>\n",
              "      <td>Kevin Gladstone</td>\n",
              "      <td>NaN</td>\n",
              "      <td>2019-05-10 10:19:35+00</td>\n",
              "      <td>0</td>\n",
              "      <td>0</td>\n",
              "      <td>0</td>\n",
              "      <td>@Beautyon_ Where's bitcoin sign guy when you n...</td>\n",
              "      <td>en</td>\n",
              "      <td>beautyon_ wh bitcoin sign guy need</td>\n",
              "    </tr>\n",
              "    <tr>\n",
              "      <th>3</th>\n",
              "      <td>1.132979e+18</td>\n",
              "      <td>MobileStarts</td>\n",
              "      <td>Mo.bi</td>\n",
              "      <td>NaN</td>\n",
              "      <td>2019-05-27 11:56:05+00</td>\n",
              "      <td>0</td>\n",
              "      <td>0</td>\n",
              "      <td>0</td>\n",
              "      <td>New post: Top 3 Price Prediction Bitcoin, Ripp...</td>\n",
              "      <td>en</td>\n",
              "      <td>new post top 3 pric prediction bitcoin rippl e...</td>\n",
              "    </tr>\n",
              "    <tr>\n",
              "      <th>5</th>\n",
              "      <td>1.132980e+18</td>\n",
              "      <td>RhinoAK</td>\n",
              "      <td>RhinoAK</td>\n",
              "      <td>NaN</td>\n",
              "      <td>2019-05-27 12:00:36+00</td>\n",
              "      <td>0</td>\n",
              "      <td>0</td>\n",
              "      <td>0</td>\n",
              "      <td>Join me and start earning bitcoin by answering...</td>\n",
              "      <td>en</td>\n",
              "      <td>join start earning bitcoin answering paid emai...</td>\n",
              "    </tr>\n",
              "    <tr>\n",
              "      <th>7</th>\n",
              "      <td>1.132980e+18</td>\n",
              "      <td>DeribitRekt</td>\n",
              "      <td>DeribitRekt</td>\n",
              "      <td>NaN</td>\n",
              "      <td>2019-05-27 12:02:00+00</td>\n",
              "      <td>0</td>\n",
              "      <td>0</td>\n",
              "      <td>0</td>\n",
              "      <td>⏰ LIQUIDATION on BTC-PERPETUAL ☠️️\\n\\n Bought ...</td>\n",
              "      <td>en</td>\n",
              "      <td>liquidation btcperpet bought 10 btc 877800 27 ...</td>\n",
              "    </tr>\n",
              "  </tbody>\n",
              "</table>\n",
              "</div>"
            ],
            "text/plain": [
              "             id  ...                                         text_clean\n",
              "1  1.127046e+18  ...                                                   \n",
              "2  1.126824e+18  ...                 beautyon_ wh bitcoin sign guy need\n",
              "3  1.132979e+18  ...  new post top 3 pric prediction bitcoin rippl e...\n",
              "5  1.132980e+18  ...  join start earning bitcoin answering paid emai...\n",
              "7  1.132980e+18  ...  liquidation btcperpet bought 10 btc 877800 27 ...\n",
              "\n",
              "[5 rows x 11 columns]"
            ]
          },
          "metadata": {},
          "execution_count": 69
        }
      ]
    },
    {
      "cell_type": "markdown",
      "metadata": {
        "id": "Vy6s3xd1gSVk"
      },
      "source": [
        "# Preprocess Text"
      ]
    },
    {
      "cell_type": "code",
      "metadata": {
        "id": "jXH5gAAz2Y3P",
        "colab": {
          "base_uri": "https://localhost:8080/"
        },
        "outputId": "37ef892e-731f-4125-b17c-88cfb3c871bb"
      },
      "source": [
        "%%time\n",
        "spacy_nlp = spacy.load('en')"
      ],
      "execution_count": 36,
      "outputs": [
        {
          "output_type": "stream",
          "name": "stdout",
          "text": [
            "CPU times: user 593 ms, sys: 68.6 ms, total: 662 ms\n",
            "Wall time: 663 ms\n"
          ]
        }
      ]
    },
    {
      "cell_type": "code",
      "metadata": {
        "id": "VBSuCuAf0M7P"
      },
      "source": [
        "%matplotlib inline\n",
        "\n",
        "def lemmatize_spacy(text):\n",
        "  doc = spacy_nlp(text)\n",
        "  lemmatize_words = []\n",
        "  lemmatize_words += [token.lemma_ for token in doc]\n",
        "  return lemmatize_words"
      ],
      "execution_count": 22,
      "outputs": []
    },
    {
      "cell_type": "markdown",
      "metadata": {
        "id": "3TzW7cAT3qJ7"
      },
      "source": [
        "####Stopwords"
      ]
    },
    {
      "cell_type": "code",
      "metadata": {
        "colab": {
          "base_uri": "https://localhost:8080/"
        },
        "id": "zSXX6o9v3phr",
        "outputId": "d5be57aa-3ab3-48af-8204-9a1e97d79690"
      },
      "source": [
        "%%time\n",
        "lst_stopwords = nltk.corpus.stopwords.words(\"english\")"
      ],
      "execution_count": 26,
      "outputs": [
        {
          "output_type": "stream",
          "name": "stdout",
          "text": [
            "CPU times: user 2.37 ms, sys: 1.25 ms, total: 3.62 ms\n",
            "Wall time: 3.87 ms\n"
          ]
        }
      ]
    },
    {
      "cell_type": "code",
      "metadata": {
        "id": "Rhe-qGrGgSk3"
      },
      "source": [
        "'''\n",
        "Preprocess a string.\n",
        ":parameter\n",
        "    :param text: string - name of column containing text\n",
        "    :param lst_stopwords: list - list of stopwords to remove\n",
        "    :param flg_stemm: bool - whether stemming is to be applied\n",
        "    :param flg_lemm: bool - whether lemmitisation is to be applied\n",
        ":return\n",
        "    cleaned text\n",
        "'''\n",
        "def lemmatize_spacy(text):\n",
        "  doc = spacy_nlp(text)\n",
        "  lemmatize_words = []\n",
        "  lemmatize_words += [token.lemma_ for token in doc]\n",
        "  return lemmatize_words\n",
        "\n",
        "def remove_stopwords(lst_text):\n",
        "  if lst_stopwords is not None:\n",
        "        lst_text = [word for word in lst_text if word not in \n",
        "                    lst_stopwords]\n",
        "  return lst_text\n",
        "\n",
        "def utils_preprocess_text(text, flg_stemm=False, flg_lemm=True, lst_stopwords=None):\n",
        "    ## clean (convert to lowercase and remove punctuations and   characters and then strip)\n",
        "    text = re.sub(r'[^\\w\\s]', '', str(text).lower().strip())\n",
        "            \n",
        "    ## Tokenize (convert from string to list)\n",
        "    lst_text = text.split()\n",
        "    ## remove Stopwords\n",
        "    if lst_stopwords is not None:\n",
        "        lst_text = [word for word in lst_text if word not in \n",
        "                    lst_stopwords]\n",
        "                \n",
        "    ## Stemming (remove -ing, -ly, ...)\n",
        "    if flg_stemm == True:\n",
        "        ps = nltk.stem.RSLPStemmer()\n",
        "        lst_text = [ps.stem(word) for word in lst_text]\n",
        "                \n",
        "    ## Lemmatisation (convert the word into root word)\n",
        "    if flg_lemm == True:\n",
        "      #print(lst_text)\n",
        "      lst_text =  lemmatize_spacy(\" \".join(lst_text))\n",
        "      \"\"\"lemma_words = []\n",
        "      for sent in nlp(\" \".join(lst_text)).sentences:\n",
        "        for word in sent.words:\n",
        "          lemma_words.append(word.lemma)\n",
        "        #lst_text =  [ word.lemma  for word in sent.words ]\n",
        "      lst_text = lemma_words\"\"\"\n",
        "      \"\"\"lem = nltk.stem.wordnet.WordNetLemmatizer()\n",
        "      lst_text = [lem.lemmatize(word) for word in lst_text]\"\"\"\n",
        "          \n",
        "    ## back to string from list\n",
        "    text = \" \".join(lst_text)\n",
        "    return text"
      ],
      "execution_count": 20,
      "outputs": []
    },
    {
      "cell_type": "markdown",
      "metadata": {
        "id": "xHKT6CM1l8XW"
      },
      "source": [
        "### Checking Tweets Language"
      ]
    },
    {
      "cell_type": "code",
      "metadata": {
        "id": "wVPcQPblm4dd"
      },
      "source": [
        "dtf.columns"
      ],
      "execution_count": null,
      "outputs": []
    },
    {
      "cell_type": "code",
      "metadata": {
        "id": "QarIjsHBg83U",
        "colab": {
          "base_uri": "https://localhost:8080/"
        },
        "outputId": "2cd893d1-53c4-410e-b48d-38f0c01ded36"
      },
      "source": [
        "%%time\n",
        "#vê um melhor\n",
        "import langid\n",
        "#langid.classify(\"Soy muy\")\n",
        "dtf['language'] = dtf['text\\r'].apply(lambda x: langid.classify(x)[0])\n"
      ],
      "execution_count": 15,
      "outputs": [
        {
          "output_type": "stream",
          "name": "stdout",
          "text": [
            "CPU times: user 4min 58s, sys: 3min 38s, total: 8min 37s\n",
            "Wall time: 4min 24s\n"
          ]
        }
      ]
    },
    {
      "cell_type": "markdown",
      "metadata": {
        "id": "rVEDva81nNI_"
      },
      "source": [
        "## Filter English Language"
      ]
    },
    {
      "cell_type": "code",
      "metadata": {
        "id": "biuUh50YhZZ5",
        "colab": {
          "base_uri": "https://localhost:8080/",
          "height": 589
        },
        "outputId": "ff30d110-0c77-4718-e023-d4044dff2956"
      },
      "source": [
        "#filtrar para EN\n",
        "dtf = dtf[dtf['language']=='en']\n",
        "dtf"
      ],
      "execution_count": 16,
      "outputs": [
        {
          "output_type": "execute_result",
          "data": {
            "text/html": [
              "<div>\n",
              "<style scoped>\n",
              "    .dataframe tbody tr th:only-of-type {\n",
              "        vertical-align: middle;\n",
              "    }\n",
              "\n",
              "    .dataframe tbody tr th {\n",
              "        vertical-align: top;\n",
              "    }\n",
              "\n",
              "    .dataframe thead th {\n",
              "        text-align: right;\n",
              "    }\n",
              "</style>\n",
              "<table border=\"1\" class=\"dataframe\">\n",
              "  <thead>\n",
              "    <tr style=\"text-align: right;\">\n",
              "      <th></th>\n",
              "      <th>id</th>\n",
              "      <th>user</th>\n",
              "      <th>fullname</th>\n",
              "      <th>url</th>\n",
              "      <th>timestamp</th>\n",
              "      <th>replies</th>\n",
              "      <th>likes</th>\n",
              "      <th>retweets</th>\n",
              "      <th>text\\r</th>\n",
              "      <th>language</th>\n",
              "    </tr>\n",
              "  </thead>\n",
              "  <tbody>\n",
              "    <tr>\n",
              "      <th>1</th>\n",
              "      <td>1.127046e+18</td>\n",
              "      <td>mironyan</td>\n",
              "      <td>Yavruyan E</td>\n",
              "      <td>NaN</td>\n",
              "      <td>2019-05-11 01:00:33+00</td>\n",
              "      <td>0</td>\n",
              "      <td>0</td>\n",
              "      <td>0</td>\n",
              "      <td>!!!\\r</td>\n",
              "      <td>en</td>\n",
              "    </tr>\n",
              "    <tr>\n",
              "      <th>2</th>\n",
              "      <td>1.126824e+18</td>\n",
              "      <td>cryptobhoy</td>\n",
              "      <td>Kevin Gladstone</td>\n",
              "      <td>NaN</td>\n",
              "      <td>2019-05-10 10:19:35+00</td>\n",
              "      <td>0</td>\n",
              "      <td>0</td>\n",
              "      <td>0</td>\n",
              "      <td>@Beautyon_ Where's bitcoin sign guy when you n...</td>\n",
              "      <td>en</td>\n",
              "    </tr>\n",
              "    <tr>\n",
              "      <th>3</th>\n",
              "      <td>1.132979e+18</td>\n",
              "      <td>MobileStarts</td>\n",
              "      <td>Mo.bi</td>\n",
              "      <td>NaN</td>\n",
              "      <td>2019-05-27 11:56:05+00</td>\n",
              "      <td>0</td>\n",
              "      <td>0</td>\n",
              "      <td>0</td>\n",
              "      <td>New post: Top 3 Price Prediction Bitcoin, Ripp...</td>\n",
              "      <td>en</td>\n",
              "    </tr>\n",
              "    <tr>\n",
              "      <th>5</th>\n",
              "      <td>1.132980e+18</td>\n",
              "      <td>RhinoAK</td>\n",
              "      <td>RhinoAK</td>\n",
              "      <td>NaN</td>\n",
              "      <td>2019-05-27 12:00:36+00</td>\n",
              "      <td>0</td>\n",
              "      <td>0</td>\n",
              "      <td>0</td>\n",
              "      <td>Join me and start earning bitcoin by answering...</td>\n",
              "      <td>en</td>\n",
              "    </tr>\n",
              "    <tr>\n",
              "      <th>7</th>\n",
              "      <td>1.132980e+18</td>\n",
              "      <td>DeribitRekt</td>\n",
              "      <td>DeribitRekt</td>\n",
              "      <td>NaN</td>\n",
              "      <td>2019-05-27 12:02:00+00</td>\n",
              "      <td>0</td>\n",
              "      <td>0</td>\n",
              "      <td>0</td>\n",
              "      <td>⏰ LIQUIDATION on BTC-PERPETUAL ☠️️\\n\\n Bought ...</td>\n",
              "      <td>en</td>\n",
              "    </tr>\n",
              "    <tr>\n",
              "      <th>...</th>\n",
              "      <td>...</td>\n",
              "      <td>...</td>\n",
              "      <td>...</td>\n",
              "      <td>...</td>\n",
              "      <td>...</td>\n",
              "      <td>...</td>\n",
              "      <td>...</td>\n",
              "      <td>...</td>\n",
              "      <td>...</td>\n",
              "      <td>...</td>\n",
              "    </tr>\n",
              "    <tr>\n",
              "      <th>169223</th>\n",
              "      <td>1.198263e+18</td>\n",
              "      <td>btc_update</td>\n",
              "      <td>Bitcoin update</td>\n",
              "      <td>NaN</td>\n",
              "      <td>2019-11-23 15:32:37+00</td>\n",
              "      <td>0</td>\n",
              "      <td>0</td>\n",
              "      <td>0</td>\n",
              "      <td>Finland Prepares For Bitcoin Ransomware Attack...</td>\n",
              "      <td>en</td>\n",
              "    </tr>\n",
              "    <tr>\n",
              "      <th>169224</th>\n",
              "      <td>1.198264e+18</td>\n",
              "      <td>Cryptoevolucion</td>\n",
              "      <td>Cryptovolution</td>\n",
              "      <td>NaN</td>\n",
              "      <td>2019-11-23 15:36:23+00</td>\n",
              "      <td>0</td>\n",
              "      <td>0</td>\n",
              "      <td>0</td>\n",
              "      <td>#IoTex 🚨#UPDATE🚨 . Iotex is Very Stable and lo...</td>\n",
              "      <td>en</td>\n",
              "    </tr>\n",
              "    <tr>\n",
              "      <th>169225</th>\n",
              "      <td>1.198265e+18</td>\n",
              "      <td>phuongdi2891</td>\n",
              "      <td>phuongdi2891</td>\n",
              "      <td>NaN</td>\n",
              "      <td>2019-11-23 15:39:21+00</td>\n",
              "      <td>0</td>\n",
              "      <td>0</td>\n",
              "      <td>0</td>\n",
              "      <td>Lydian Lion with the platform empowers human i...</td>\n",
              "      <td>en</td>\n",
              "    </tr>\n",
              "    <tr>\n",
              "      <th>169226</th>\n",
              "      <td>1.198265e+18</td>\n",
              "      <td>emergeen</td>\n",
              "      <td>Emergeen DN</td>\n",
              "      <td>NaN</td>\n",
              "      <td>2019-11-23 15:40:50+00</td>\n",
              "      <td>0</td>\n",
              "      <td>0</td>\n",
              "      <td>0</td>\n",
              "      <td>Bitcoin wallet\\n\\n1KSrHvFavm1WB682ZjJNK355nJQe...</td>\n",
              "      <td>en</td>\n",
              "    </tr>\n",
              "    <tr>\n",
              "      <th>169228</th>\n",
              "      <td>1.198266e+18</td>\n",
              "      <td>ErvinLemark</td>\n",
              "      <td>Ervin Lemark</td>\n",
              "      <td>NaN</td>\n",
              "      <td>2019-11-23 15:45:01+00</td>\n",
              "      <td>0</td>\n",
              "      <td>0</td>\n",
              "      <td>0</td>\n",
              "      <td>The latest TopBitcoiner Daily! https://t.co/TI...</td>\n",
              "      <td>en</td>\n",
              "    </tr>\n",
              "  </tbody>\n",
              "</table>\n",
              "<p>117622 rows × 10 columns</p>\n",
              "</div>"
            ],
            "text/plain": [
              "                  id  ... language\n",
              "1       1.127046e+18  ...       en\n",
              "2       1.126824e+18  ...       en\n",
              "3       1.132979e+18  ...       en\n",
              "5       1.132980e+18  ...       en\n",
              "7       1.132980e+18  ...       en\n",
              "...              ...  ...      ...\n",
              "169223  1.198263e+18  ...       en\n",
              "169224  1.198264e+18  ...       en\n",
              "169225  1.198265e+18  ...       en\n",
              "169226  1.198265e+18  ...       en\n",
              "169228  1.198266e+18  ...       en\n",
              "\n",
              "[117622 rows x 10 columns]"
            ]
          },
          "metadata": {},
          "execution_count": 16
        }
      ]
    },
    {
      "cell_type": "code",
      "metadata": {
        "id": "MrX9E6sh1y81"
      },
      "source": [
        "dtf.to_csv('/content/drive/MyDrive/Colab Notebooks/Dataset/language_en_tweets_dataset.csv')"
      ],
      "execution_count": 17,
      "outputs": []
    },
    {
      "cell_type": "markdown",
      "metadata": {
        "id": "RQ8lbHnjLvfL"
      },
      "source": [
        "### Stopwords Lemmatisation"
      ]
    },
    {
      "cell_type": "code",
      "metadata": {
        "id": "y1TC_azJgmE5",
        "colab": {
          "base_uri": "https://localhost:8080/"
        },
        "outputId": "6e2ea7ad-e6f4-4a2d-bc38-b7d36384869d"
      },
      "source": [
        "%%time\n",
        "dtf[\"text_clean\"] = dtf[\"text\\r\"].apply(lambda x: utils_preprocess_text(x, flg_stemm=False, flg_lemm=True, lst_stopwords=lst_stopwords))\n",
        "samples = dtf.sample(1)"
      ],
      "execution_count": 51,
      "outputs": [
        {
          "output_type": "stream",
          "name": "stdout",
          "text": [
            "CPU times: user 20min 7s, sys: 6.21 s, total: 20min 13s\n",
            "Wall time: 20min 7s\n"
          ]
        }
      ]
    },
    {
      "cell_type": "markdown",
      "metadata": {
        "id": "zYULmLrhoWap"
      },
      "source": [
        "#### Check Samples"
      ]
    },
    {
      "cell_type": "code",
      "metadata": {
        "colab": {
          "base_uri": "https://localhost:8080/"
        },
        "id": "2vU_7RtV-8uQ",
        "outputId": "cd87b80b-e0d8-406b-e424-24c9dbc26f10"
      },
      "source": [
        "print(remove_stopwords(samples[\"text\\r\"]))\n",
        "print(list(samples[\"text_clean\"]))"
      ],
      "execution_count": 53,
      "outputs": [
        {
          "output_type": "stream",
          "name": "stdout",
          "text": [
            "[\"I've been patiently waiting on Bitcoin to resurge but I'm starting to accept the harsh reality that they probably fooled everyone and were never actually here for the long game\\r\"]\n",
            "['-PRON- have patiently wait bitcoin resurge -PRON- be start accept harsh reality probably fool everyone never actually long game']\n"
          ]
        }
      ]
    },
    {
      "cell_type": "markdown",
      "metadata": {
        "id": "VPZTPmOooS3M"
      },
      "source": [
        "#### Export to csv"
      ]
    },
    {
      "cell_type": "code",
      "metadata": {
        "id": "rnt_s2sE_X42"
      },
      "source": [
        "dtf.to_csv('/content/drive/MyDrive/Colab Notebooks/Dataset/stopwords_lemmatisation_tweets_preprocessing_dataset.csv')"
      ],
      "execution_count": 54,
      "outputs": []
    },
    {
      "cell_type": "markdown",
      "metadata": {
        "id": "ti8b2TPlMMQj"
      },
      "source": [
        "### Stopwords Steeming"
      ]
    },
    {
      "cell_type": "code",
      "metadata": {
        "colab": {
          "base_uri": "https://localhost:8080/"
        },
        "id": "yv2Ld3DNMMQj",
        "outputId": "37bee30c-117b-4dc6-dc3e-2e3302737a86"
      },
      "source": [
        "%%time\n",
        "dtf[\"text_clean\"] = dtf[\"text\\r\"].apply(lambda x: utils_preprocess_text(x, flg_stemm=True, flg_lemm=False, lst_stopwords=lst_stopwords))\n"
      ],
      "execution_count": 55,
      "outputs": [
        {
          "output_type": "stream",
          "name": "stdout",
          "text": [
            "CPU times: user 3min 27s, sys: 819 ms, total: 3min 28s\n",
            "Wall time: 3min 28s\n"
          ]
        }
      ]
    },
    {
      "cell_type": "markdown",
      "metadata": {
        "id": "TxM2r213MMQk"
      },
      "source": [
        "#### Check Samples"
      ]
    },
    {
      "cell_type": "code",
      "metadata": {
        "colab": {
          "base_uri": "https://localhost:8080/"
        },
        "id": "m0DL24v9MMQk",
        "outputId": "67591652-9650-4063-e68f-6a0a0a1d8788"
      },
      "source": [
        "samples = dtf.sample(199)\n",
        "print(remove_stopwords(samples[\"text\\r\"]))\n",
        "print(list(samples[\"text_clean\"]))"
      ],
      "execution_count": 63,
      "outputs": [
        {
          "output_type": "stream",
          "name": "stdout",
          "text": [
            "['Cutter Operator - Dual Graphics, Inc ( Brea, CA, USA )  - [ ➡ https://t.co/pgU2y370JC ] #Agile #Scrum #Agile #Kanban #ProjectMangement #jobs #Hiring #Careers  #Cryptocurrency #Blockchain #BTC #BitCoin #ETH #crypto https://t.co/N8LA5nE2fR\\r', '$BTCUSD Analysis:\\n\\nImpending Bounce From Resistance Line Targets $7,800 – Bybit Margin Trading\\n\\nRead Here - https://t.co/1BDsx7vhAX\\n\\n#Bitcoin $BTC #Bybit https://t.co/AFbUX4NCW1\\r', 'I wonder if the recent fall in the price of $BTC has anywhing to do with the news on Google achieving #Quantum_Supremacy.\\r', 'You Can Buy a Dream Car With Bitcoin Cash at https://t.co/i3pmTYQsCD https://t.co/hOpuzpOexD 📈 Crypto Cashflow via → https://t.co/2p1Vt5799c\\r', 'The latest The Online casino Daily! https://t.co/zlIGqrAKpo Thanks to @CasinosandGames @casinolifemag #bitcoin #crypto\\r', '@AliceSmith725 @EXILE_AKIRA_LDH\\r', 'Ask and God gives. 0,7% daily of ur invest though an bot with AI in TELEGRAM \\nFrom 5 €/$ ONLY IN BTC +info:  https://t.co/CIl6GfrsXW \\n  Presearch RestartEnergy ContentNeutrality Tierion\\r', \"Don't be poor guy crying outside bank branch. Buy Bitcoin! https://t.co/JYfnhL0fEY\\r\", '@BeatzCoin @VibraVidInc @ellipalwallet @Crypto_Tone1 @SnowsCrypt @CustCarptry @Randallsanimals @EllipalAu @PieceOfThePy @producerknoidea @I_Make_Lemonade https://t.co/fYn5w88n65\\r', 'Bakkt Names Launch Date for Bitcoin Futures Testing #Bitcoin #NYSE #BitcoinFutures  https://t.co/vV9D1v9EUr\\r', '@KristinaCryptos @kissdeo02 A\\n\"Bitcoin is a future\"\\n@armafahrudin @CryptoRisHad  @Alinda_Jak\\r', '#EMJ #IEO #Crypto #Blockchain #ethereum #bitcoin #ether #cryptocurrency #tokensale https://t.co/VuG2piiBxg\\r', 'Join me on Fold and get bitcoin when you shop. Get early access to the new app and 100k sats! Start #stackingsats https://t.co/CRBoIvsULZ via @fold_app #bitcoin #stackingsats\\r', 'BTC hourly update\\n$9758.97    |    -0.0012%📉\\n$BTC #BTCUSD #Bitcoin\\r', \"Smart Money Said 'Skip Bitcoin, Bet on Blockchain.' Not Any More https://t.co/4a5KSg2IUk\\r\", 'TRADING/SELLING\\n\\nRARE, ELF / TRIPLE THREAT\\n\\nDM ME OFFERS \\n\\n(IF BUYING I ACCEPT BTC/PAYPAL)\\n\\nWILL NOT GO FIRST , OR WE CAN USE A TRUSTED MM AT YOUR EXPENSE (REST OF PICS BELOW)\\n\\nPHOTOS TAKEN BY @TipsWasTaken \\n\\n#glexelegit https://t.co/pdD304CrxU\\r', \"RBI Ban Bitcoin\\nNow its our turn to return the favour in their style ....#wedonotsupportbanks\\nWithdraw all your money from your bank accounts. They actually don't deserve it. Pta nh kb dusra nirav modi ya malya ajay or udhar mang k bhag jay .and one more thing #titfortat\\r\", 'Malta: Government Agency and T-Systems to Push Blockchain Adoption (BTC Manager) \\n\\nMalta Enterprise will be the first organization to join the German Blockchain Ecosystem launched by T-Systems. The announcement comes... \\n\\nhttps://t.co/J4AwlhYzJ5 https://t.co/ZokghhckNe\\r', 'Bitcoin Dips Under $8,000 as Altcoins See Mixed Movements https://t.co/KpGDthLcbe\\n#bitcoin #crypto #blockchain #btc #news #cryptocurrency https://t.co/bwiOGkZDQN\\r', 'BEST INVESTMENT &amp; BEST PROFIT 15% F1 | 10% F2 | 05% F3 https://t.co/wPTbQab58K #bitcoin #eth #investment via @SuperPayBack\\r', 'Move your trading to the #1 crypto exchange today!\\nBinance was NEVER hacked!\\n\\nhttps://t.co/3uNmc8oOae\\n\\n$MKR $IQ $HOT $NEW $TRX #Tron $EMC $FCT $BRD $ZIL $BZ $ODE $COTI $FTM $VTC $IGNIS $RVN $HPB $FSN $BTC $LEO $SMART $SOC $ELA $MEDX $MDA $IRIS $ABT $ARN $TOP $ZEC $ETC #Crypto https://t.co/l9HWcYcBQY\\r', 'Sat Oct 19 13:00:36 2013 - Traded 0.01306376 BTC at 184.445 USD/BTC\\r', 'LIVE: Profit = $738.11 (9.17 %). BUY B19.49 @ $420.00 (#VirCurex). SELL @ $451.92 (#Kraken) #bitcoin #btc - http://www.projectcoin.org\\xa0\\r', '#Bethereum #ethereum #BTHR #bitcoin https://twitter.com/bethereumteam/status/977511416465973248\\xa0…\\r', 'Whales are inevitable in this game🐋 #HODL💰\\nhttps://t.co/wu2ZM6aryx\\r', 'This Haven Asset is Beating Bitcoin amid Recession Fears https://t.co/K1J9918coX\\r', '4 Reasons Why Bitcoin Price Will Increase in the Long-term – \\n \\nhttps://t.co/ugz5ctMTXQ \\n#Bitcoin #Bitcoinnews #BTC #Crypto #Cryptocurrency  #Cryptonews #digitalcurrency #Ethereum  #hodl #Litecoin\\r', '-&gt; @whatbitcoindid posted a new podcast to https://t.co/lxsNFgC1GZ : \"Operating Bitcoin ATMs with Gil Valentine &amp; Eric Gravengaard from Athena Bitcoin This week is ATM week! In the first of the series, I’m joined by Gil &amp; Eric co-founders of Ath...\" https://t.co/fvVHhtp4YX\\r', 'Binance\\n#REN/BTC All entry targets achieved\\nAverage Buy Price: 0.00000489 #Binance , #BTC , #Bitcoin , #CryptoCurrency , #CryptoTrading , #CryptoSignals\\r', 'Lowering the price of things is what capitalism does. Artificially maintaining high prices is what central planning does. https://t.co/AsAoiuHftb\\r', '2018-04-23 08:00:05 UTC\\n\\nBTC: $8963.9\\nBCH: $1390.89\\nETH: $639.66\\nZEC: $281.88\\nLTC: $152.48\\nETC: $20.7\\nXRP: $0.8702\\r', '@EndChain QR code is unique in that it incorporates a barcode within the QR code. This design allows for simplified use as #EndChain users will know to scan the only code found on the packaging. https://www.endchain.io/\\xa0 #ICO #Crypto #Blockchain\\r', 'I see one more sub wave down then long little and more on strength #bitcoin $btc #btc #xbt $xbt\\n#tradeidea #cryptotrading https://t.co/sFZGb0Hj4r\\r', \"Snowden's talk at Bitcoin 2019 conference [video] https://t.co/EKSEL7nve9\\r\", '@billyth36905892 You mean you sold all your BTC for #BSV ?\\r', '@CRYPTOVERLOAD @Blink_Traders Seems that  BTC is  starting to grow .  Good traders use this best channel with  market info . And it is free for one week !\\n\\nLook --&gt; https://t.co/aRUllLWRBl\\n⭕ 936185544\\r', '@danielwoodesign @TheCryptHawk Wouldn’t that be hilarious all the Bitcoin maxis would lose their minds\\r', 'Potential project\\r', '>Security  New ransomware strain is locking up Bitcoin mining rigs in China http://ow.ly/CdP8101sam9\\xa0pic.twitter.com/PbyGarcv2k\\r', 'Full Stack #Developer - StormQuant ( CAMPBELL, United States )  - [ ➡ https://t.co/GK3mmOP7us ] #Robotics #AI #ArtificailIntelligence #Robots #AI  #jobs #Hiring #Careers  #Cryptocurrency #Blockchain #BTC https://t.co/yxyo3fMh30\\r', 'Block Number: 586,523\\n\\nTime: 7/22/2019, 9:39:37 AM UTC\\n\\nMiner: P2Pool\\n\\nTransactions: 2,082\\n\\nBlock Value: 12,029.475 BTC\\n\\nSize: 1,013,724 bytes\\n\\nTotal Supply: 17,831,537.5\\n(84.91208% BTC issued)\\n\\nPrice: $10527.86\\r', '@SatoshiiHeavy @nebraskangooner @Rnb010 @TrueCrypto28 @Bakktney @CredibleCrypto @Josh_Rager @tradingroomapp @TraderKoz Thanks for the shout out bro! #VRSFTW @ElevateTrading https://t.co/snoAWn5I2E\\r', '#bitcoin buysellbitco.in bitcoin price in INR, Buy : 7638.00 INR Sell : 7364.00 INR. Buy and sell bitcoin in India\\r', '$338.68 #bitstamp; \\n$336.00 #btce; \\n\\nInstantly buy GH/s with BTC: http://bit.ly/LN53k1\\xa0\\n#bitcoin #btc\\r', 'I think storeum will Successfull Soon\\n@nguyenanhminh28 @nguyenthivien5 @Nguyninhhai4 @TrongNg05640987 @akachick111\\r', '#Crypto related company’s such as $ISBG are ready to monetize BIG from this rally! #bitcoin #blockchain #blockchaintech #cannabis #weed #marijuana #cbd #thc #cannabisculture #hightimes #stoner #kush #ganja #smoke #maryjane #dank #bud #smokeweedeveryday $ACB https://t.co/23mDRUX3Ed\\r', 'BUY signal for #SOLVE/#BTC[5] on #Bittrex\\nGenerated by @bot_strategy 2.4.8. Get yours: https://t.co/2wMFjq56GZ\\n\\n#trading #technicalanalysis #bitcoin #price #cryptocurrency #altcoin #market #cryptotrading #blockchain #coin #crypto #automatedtrading https://t.co/OiZYO1GaIm\\r', '#Digibyte is now at USD $0.0358435 and BTC 0.0358435 (Up 8.48% last 7 days) #DGB GET ALERTS SENT DIRECTLY TO YOUR INBOX => http://DigibytePrice.org\\xa0\\r', '@Krieg369 you know moon cycles people expecting a big move . Up or down? Both BTC &amp; XRP\\r', \"@BitcoinTacos @nikcantmine @BtBust @Bakkt @BitcoinTacos because Bitcoin is based in age old principles of economic sound money history while also answering the problems that have arisen out of Monetary history.\\n\\nShitcoins are just shady crowdfunding scams and that's all they'll ever be.\\r\", 'In the last 10 mins, there were arb opps spanning 24 exchange pair(s), yielding profits ranging between $0.00 and $294.01 #bitcoin #btc\\r', 'Guide to Earn 30-1000$ Daly with $KCS Coin\\n\\nhttps://t.co/toYN4GowFs\\n\\n$BTC $ETH $ONT $DCR $XMR $VET $XTZ $ENJ $RVN $BRD $KMD $TUSD $THETA $ARDR $REP $BTS $ETN $IOTX $POWR $BQX $EDO $PIVX $QKC $SYS $MITH $MAN $POE\\n$LINK $ADA $XRP $MATIC $TRX $BNB https://t.co/Y8oSkaGOuP\\r', 'Bitcoin at $ 9670\\n\\n#Bitcoin\\r', 'Fri Nov 22 00:48:39 2013 - Traded 0.0107 BTC at 745.895 USD/BTC\\r', '@coinvasity @darlaraey \\n@PalmThomaspalm \\n@VeneraFontana \\n@airdropsalert_ \\n@sixfacedata \\n@mariyaLisnichen \\n@BITQueenPay \\n@BobAngels1 \\n@denisenko2806 \\n@BelieversCrypto \\n@CryptoLadeeda \\n@linkup4ever \\n@linkupfangirl\\n@JonathanClems1 \\n\\n#coinvasity #btc #eth #giveaway #airdrop #bounty #freecoin\\r', 'Binance - BTC Market\\n#LSK - Unusual buying activity\\n5.56 BTC in 13 minutes (11%)\\nB: 0.00022800 ❇ (1.51%)\\nA: 0.00022880 ❇ (1.78%)\\n24H Vol: 55.93 BTC\\nLast signal: 2 days ago (4/7D)\\r', 'AriseBank CEO Charged in $4 Million Alleged ICO Scam https://ift.tt/2Q4e0vo\\xa0 #blockchain #bitcoin #crypto\\r', 'Taking a closer look into $ETH, and many other alts. You can see a strong correlation with alt season and Bitcoins price.\\n\\nThe exact day that ETH bottomed, was the day that BTC topped, and alt season began. This is a cycle and will happen just the same way! \\n\\n#AugustBitcoinCrash https://t.co/u2KfYvEjNm\\r', 'Maintenance Update:\\n\\nKrypto ATMs in Luzern, Zug, Winterthur and St.Gallen are now fully online again.\\nYou can Buy / Sell BTC #Bitcoin #crypto @generalbytes \\n\\nAll Locations here: https://t.co/07llizqW3Y\\r', '🔄 Prices update in $USD (1 hour):\\n\\n$BTC   - 10849.6 $   (+0.46 %)\\n$ETH   - 222.36 $    (+0.47 %)\\n$XRP   - 0.32 $      (-0.15 %)\\n$BCH   - 340.5 $     (+0.44 %)\\n$LTC   - 95.39 $     (-0.2 %) \\n\\n#USD #Dollar #BTC #ETH #XRP #BCH #LTC #Trading #Bitcoin #Ethereum\\r', '@BTCTN #securypto why does so much shut down exchange, suddenly.. What happenend?. 🤔 #cryptocurrency #bitcoin #altcoin\\r', 'Professional Trading Tip:\\n\\nIf you’re ever concerned about Bitcoin prices potentially falling, you can protect yourself by locking in fiat value without selling.\\n\\n👇👇👇👇👇 https://t.co/yWo6tTORQK\\r', 'Bitcoin Forms Uptrend EMA Support as Case for Bulls Strengthens\\n\\nhttps://t.co/4YOqitinTB\\n\\n#crypto #cryptonews https://t.co/FRuXinbkTU\\r', '\"Bitcoin! #Bitcoin! Bitcoin! Bitcoin! [When asked if she’s ever wasted money.] I bought my first Bitcoin at $4000; my last Bitcoin at $18 000…. I’ve lost so much money!\"\\n\\n— #MagdaWierzycka (CEO - Sygnia) https://t.co/B5Ex8ZKD4S #TheMoneyShow\\r', 'FBI has 7 new txs\\n(📈 input: 0.00004656 BTC / 0.48 USD)\\nFinal balance (2 addresses): 20.55862639 BTC / 212.91K USD\\n#FBI #cryptopaymon 🤖🎭🙄\\r', '#StableDex #Blockchain #Ethereum #Bitcoin #IEO #Tokensale #cryptocurrency\\r', '#BlockSafe #BSAFE #STO #bitcoin #btc  #cryptocurrency\\nthis project is a very good project. hopefully growing and profitable. This project is one of a kind, this generation will surely benefit so much from this. So Join the project. \\nhttps://t.co/bCnHMRHDzG\\r', 'Learn how #crypto works from @zillatoken blog: https://t.co/SgLbQ0t5E5\\n#blockchain #technology #airdrop #ICO $ZLA $GD $BTC $ETH\\r', 'New Tumblr post: \"US Defense Department to Develop Blockchain Cybersecurity Shield\" https://t.co/Fbk3wjBkLK eos, bitcoin, cryptocurrency, ethereum, neo, bitcoinnews, bitcoinmining, bitcoinbillionaire, b\\r', 'Judge blasts “intentionally false” testimony by supposed Bitcoin creator https://t.co/iD82JgiIwY via hackernews $DYOR\\r', '[#Bitcoin] \"WSJ: Negative Rates, Designed as a Short-Term Jolt, Have Become an Addiction\". Anyone who doesn\\'t shit a brick when they read that headline doesn\\'t understand what it really means - or the urgency to diversify away from Fiat. It\\'s the entire … https://t.co/K3xPBfS880 https://t.co/9oYpOL08Ca\\r', 'Interesting in mining #Bitcoin? #HashFlare makes it super easy, just click the link below, signup and start mining. :) http://bit.ly/2T4Mlry\\xa0\\r', 'Kyrie on some MVP pace IMO\\n#NBA #NBATwitter #WeGoHard #bitcoin #Lakernation\\r', 'PSA for #BTC brought to you by BitCoin #BSV https://t.co/7CLWrDPOjl\\r', 'DeflaCoin Airdrop is now Live🚀💰🏆\\n\\nClick on below link to participate into this amazing #Airdrop🎁\\n\\nhttps://t.co/4HXGJSnS6N\\n\\n🎁 Rewards: 50 + 5 DEFLA 🎁\\n\\n#Airdrops #blockchain #cryptocurrency #ICO #bitcoin #Crypto #ETH\\r', 'Wealthy Remain Curious But Skeptical About Bitcoin, UBS CEO Says:\\n\\nhttps://www.bloomberg.com/news/articles/2017-10-10/wealthy-remain-curious-but-skeptical-about-bitcoin-ubs-ceo-says\\xa0…pic.twitter.com/rjS7x0oLPp\\r', 'current #bitcoin price (winkdex) is $229.84, last changed Tue, 21 Apr 2015 20:15:00 GMT.  queried at: 20:17:47\\r', 'Time to buy #TRON , price can only go up from here . #TRX #bitcoin #altcoins #Crypto #cryptocurrency #Bitfinex #Bittrex #HitBTC #Coinbase #TRON\\r', 'OctoBot ALERT : #Bitcoin\\n Symbol : #BTCUSDT\\n Result : LONG\\n Evaluation : -1.0\\r', \"Think It's Too Late To Earn BitCoin? WRONG! Now is the time to earn as many Bitcoins as you can, but how to do that? This Step-By-Step system shows everything.\\nhttps://t.co/rarbvPxGGS https://t.co/SlpUU4YnRn\\r\", '@BCNEX \\n\\nTop 03 referrals of the top crypto exchange gain the total commission up to 2,917 BTC (around $32,000,000 at this time). Can you believe it?\\n\\nOfficial tweet from BCNEX: https://t.co/pm9pp4OtfO or you can also visit this link to know more https://t.co/pm9pp4OtfO https://t.co/JevJyohm1z\\r', 'https://t.co/JHpo0FGpqv\\r', '#binance #launches #blockchain-powered #charitable #campaign in #support of #maltese #youth \\n#instanews #bitcoin #monero #cryptocurrencymarket #IoT #enigma #investments #bearrun #hotwallet #coldwallet #hardcap #neo\\nhttps://t.co/uqwDod7cXz\\r', 'Bring it on baby. I need more.\\r', 'RT thepumpadvisor \"$ADX price is rising! $BTC market on #Binance. Current Price: Ƀ 0.00000803 Sharing = Pushing!\"\\r', '@coindesk @wsfoxley @Nasdaq @NYSE @SEC_News Joke!!! Bitcoin does not need you!!!\\r', \"#USDT #IMO #Airdrop is Coming!\\nNew revolution/Clear tasks/Huge bonus\\n\\n👑Pool: $100,000\\n\\nCome &amp; earn: https://t.co/Txnw25BZxo\\n\\nIMO (Intial Model Offering)--World's First Model-based Cryptocurrency Exchange\\n\\n#Airdrops #Bounty #BTC #ETH #Crypto #Exchange\\r\", '@myhellogold I prefer buying Bitcoin it has gone up by 300% this year alone, it costs nothing to store and it is portable and I can send it across the world anywhere at anytime. #BTC @pompliano @PeterSchiff\\r', '@TonyVal76476318 Executive Order 13772. XRP is Trump’s coin vs BTC being China’s.\\n\\nYou slackin Tony 😜\\r', '$xvg buy signal https://t.co/k06FCSTndD\\r', 'BTC $8734.64 Up +$110.61 +1.27% in the last hour #bitcoin #bitsmart\\r', 'Socialism and the Blockchain. Volume 8, Issue 4 Future Internet, de Steve Huckle & Martin White. https://medium.com/@eraser/socialism-and-the-blockchain-18e2e33cbbbd\\xa0… #socialism #blockchain #marxism #capitalism #politics #crypto #cryptocurrency #bitcoin #decentralization #sharingEconomy #industry40 #TIC #capitalism #marxism\\r', '@Signature Happy BTC day!\\r', 'yeah!\\r', \"@JamesTodaroMD @FUMON__ It's like you specifically picked a starting timeframe to make ETH appear better than it really is.\\n\\nWhy not make one that starts at the first Bitcoin trade...?\\r\", 'Bitcoin mining is when your wallet is connected to the mining network where you invest and earn.. DM to get started. #business #motivation #england #southafrica #wales#bitcoinnews #daytrading #california #makemoney #toronto#rich #texas#boss #newyork#nigeria#orlando#malibu # https://t.co/BBjUhvm3MJ\\r', 'our server at dinner asked if we wanted to pay for our meal in bitcoin... wtf is nantucket\\r', 'These signs show #bitcoin may finally be bottoming, #chartwatcher says #technicalanalysis $BTC $BCH $ETH $LTC $COIN $XBT $QQQ $IXIC $GDX $GLDhttps://on.mktw.net/2stDi8y\\xa0\\r', 'Bitcoin: $11,410\\n +4.34% (+$474.61)\\nHigh: $11,640.00\\nLow: $10,850\\nVolume: 4092\\n\\n$BTC #BTC #bitcoin\\r', '$595.00 #bitstamp; \\n$590.98 #btce; \\n\\nBet on the #WorldCup with Bitcoin: http://bit.ly/bitcoinworldcup\\xa0\\n#bitcoin #btc\\r', 'LIVE: Profit = $703.26 (16.47 %). BUY B12.67 @ $335.50 (#BTCe). SELL @ $340.00 (#VirCurex) #bitcoin #btc - http://www.projectcoin.org\\xa0\\r', '@Bitcoinomist Yes, he surely tried at least one time!.. Slowly and expensively.., and switched to xrp / ilp , and be amazed at use, and forgot the nightmare of hype of bitcoin\\r', '@charliebilello @jennablan And regulators admitted  today that there was too much optimism in bitcoin in 2017 so they had to beat it down. CTFC criminal activity\\r', 'Ripple (XRP) Will Be at An Advantage If Bitcoin (BTC) Soar To $100k or $1 Million - Ethereum World News https://t.co/OWTyrKO86v\\r', 'BUY signal for $WTC/$BTC[2] on #Binance\\nGenerated by @bot_strategy 2.4.8. Get yours: https://t.co/2wMFjq56GZ\\n\\n#blockchain #crypto #price #cryptotrading #bitcoin #automatedtrading #market #technicalanalysis #cryptocurrency #altcoin #trading #coin https://t.co/ezuWNeRZqr\\r', 'Supplied local biz &amp; beauty shops, made 65k that yr off selling. Bought 6k of bitcoin, xrp &amp; Litecoin.. made 62k selling. Spent 20k n wording it up. Took internship at embassy, &amp; UN.. decided out the blue 4am I wanna be green energy company, used last 10k to start\\r', 'BTC scenarios. I am leaning bullish(as usual lately) until the old  monthly level 10761 holds. Weekly close blow 11475.5 wouldnt be great but we have strong support below us  which wont give up too easy. https://t.co/ri8kIHfguE\\r', '@tanvi_ratna Next 2 years are last stage of price movement. After that, Bitcoin would not bring any significant money. And technically, no one can regulate Bitcoin. So, keep calm and keep buying.\\r', 'Six Years After First Bitcoin ETF Filing, How Close are We For One? https://t.co/D4yAr8wsfE\\r', 'Tether In A Bitcoin Bear Market, And Can Tether Be A World Currency? - http://cryptogeeks.com/tether-bitcoin-bear-market-and-can-tether-be-world-currency\\xa0…\\r', 'I just posted \"Superpayback: Bitcoin, ICO and Cryptocurrency\" on Reddit\\n\\nhttps://t.co/VZRgph8do5\\r', \"VEN/BTC LimitBuy 0.00003081 \\nThat's where i started and if they can deliver, sooo many partnerships....take away a couple 00's. Listen to @JewKorean  on youtube\\r\", 'This also means, that it is not entirely true that production of new bitcoins is not dependent on price increases. We now have several more months of bitcoin mined than we should. Thats not a small amount. Am i right, @saifedean ?\\r', '@wavesplatform $WAVES / $BTC\\n\\n@wavesplatform https://t.co/bFQKEgeRYO\\r', 'One Bitcoin now worth $1157.24@bitstamp. High $1197.99. Low $1141.00. Market Cap $18.831 Billion #bitcoin\\r', 'Use the code: HF18INET404 at purchase to get a 30% discount for all contracts!\\n\\n10 Ghs = 0.84$ very cheap\\n\\n#bitcoin #ethereum #zcash #dash #cryptocurrency #cloud #mining #binance #blockchain #coinbase #CEXio #Kucoin #Crypto #Airdrop #ico #token #bounty\\nhttps://hashflare.io/r/90A58ECD\\xa0\\r', 'Bitcoin Tech Analysis – Recap and Mid-Day Review – 08/07/19 - Yahoo Finance https://t.co/zICi5VBm8y https://t.co/lw5kPa2phH\\r', \"Just keep trading alts, because BTC up your ALT portfolio also up. \\n\\nWhy panic sell at loss?\\n\\nI don't againts take loss, just the reason!\\r\", 'I have Just come across something potentially crazy on BTC, if it hits 8150 in the next 2 4H candles my head is going to expload 🤕\\r', '@The_Real_Fly @Gambiste1 Cannot argue with that .  Really , I  often use one great  group of  crypto predictions . They are  best I know !\\n\\n🤑🤩  https://t.co/W8EwJMr3TS\\n⭕ 1240056128\\r', '@CryptoJeans @CryptoWelson $BTC\\r', 'It takes money to make money.\\n\\n#forex #signals #money #Motivateyourself #crypto #stock #stockmarket #bitcoin #bullish #binaryoptions #airdrop #blockchain https://t.co/6YlxV1P2q6\\r', 'Pepecash Price In USD, Bitcoin and XCP \\n\\n$USD \\nPepecash Price $0.10\\n$BTC \\nPepecash Price 0.00000688\\n$XCP\\nPepecash Price 0.0041867144\\r', '#cardano #price #analysis: #cardano #(ada) #slumps by #4% within a #day #trading at #$0.068 \\n#instacryptocurrency #instavenezuela #instaairdrop #cryptocurrency #btcnews #bittrex #fintech #cryptonews #BigData $BTC $XBT #stockmarket\\nhttps://t.co/DQ8DOqSVkc\\r', 'Price of 1 LTC to USD: $93.68 (Change: +0.09 %)\\nPrice of 1 LTC to BTC: 0.00954826 Ƀ (Change: +0.36 %)\\n#litecoin #LTC $LTC\\r', '@lili20426892 @TheCryptoDog XRP is the biggest blockchain. To date, the widely used asset.\\n\\nhttps://t.co/72LWkss4mV\\r', \"@Bitcoin_Brain They will always try to be number 1 in terms of technology even if that means less side chains. They will just find other ways to make money  which becomes easier the more $BTC gets adopted. It's way to early to say that this will destroy $BTC. Note I don't even own any $BTC rn\\r\", \"@_Checkmatey_ @alexgausman @econoar @Foobazzler @TrustlessState @teo_leibowitz @ethhub_io 1) Bitcoin isn't usefully programmable.\\n\\n2) Even at today's energy use, Bitcoin is going to get crucified in the conversation with everyone not already invested. If price goes up another 10x we will see the entire developed world unite to ban proof-of-work.\\r\", \".@arrington Michael Arrington: Bitcoin is largely driven by market manipulation. Discussion at @CoinMarketCap's The Capital Conference https://t.co/KVA7F2knpL\\n\\n@atomicoblivion reports via @CryptoAmb \\n#bitcoin $BTC #CryptoNews https://t.co/2263tEIHzi\\r\", '@smashleyhamer Hi Ashley, \\n\\nPlease check out https://t.co/gwTFRBxBJz.\\n\\nWe are making it possible for all artists to benefit from secondary art sales using the bitcoin blockchain.\\n\\nI think you will find our platform very interesting.\\n\\n#Blockchain #Art #Bitcoin #LightningNetwork #LN #BTC\\r', 'Coinbase pro is really good for beginners. Its taught me many things. Best way to buy BTC in USA also. https://t.co/yqqu5CyU3v via @yotpo\\r', 'In the last 10 mins, there were arb opps spanning 27 exchange pair(s), yielding profits ranging between $0.00 and $186.43 #bitcoin #btc\\r', 'John McAfee’s ‘unhackable’ Bitcoin wallet (allegedly) got hacked http://dlvr.it/Qdfk0m\\xa0pic.twitter.com/zJRJOfd5mm\\r', 'Sports Betting Picks - Expert Advice) \\nBitcoin - Investment - Investor - Cryptocurrency - Forex - Trade - Entrepreneur - @InvestCrypForex - @Marketing_1jl4 - @Health14Fitness &gt; https://t.co/ZnN3s2pJpH\\r', 'Very tru @kevinolearytv #Bitcoin https://www.msn.com/en-ca/money/markets/kevin-oleary-explains-one-big-thing-people-dont-understand-about-bitcoin-but-need-to/ar-BBGnMxp\\xa0…\\r', 'Cryptocurrency insurance startup Coincover launched an insurance service covering theft and loss in a growing trend https://t.co/qxRobljf27\\r', '@TokoinGlobal provide a platform to build valuable partnership that brings you into the engaging ecosystem consists of collectible business profiles profitable.\\nhttps://t.co/z96KQjURaK\\n#Tokoin #MSME #Blockchain #Crypto #cryptotrading #BTC #EmergingMarkets #Ecommerce #retail\\r', 'Binance - BTC Market\\n#MDA - Unusual selling activity\\n3.09 BTC in 13 minutes (20%)\\nB: 0.00006750 ❇ (0.75%)\\nA: 0.00006758 ❇ (0.81%)\\n24H Vol: 18.54 BTC\\nLast signal: 2 days ago (3/7D)\\r', '@cryptostefan0 you buy btc\\r', 'Money Managers Are Paying Big Bucks to Interpret Your Bitcoin Tweets https://t.co/ZkZBIQZk4D\\r', '@AnkitDanger1 Check Free bitcoin for you \\nhttps://t.co/8IPCBdWVvT\\r', 'Love it!!\\r', 'Buy/Sell altcoin moves with up to 100x Leverage at PrimeXBT! 👑💰\\n\\nRegister straight away and turn your $150 into $7500:\\n\\n✅ https://t.co/26el3vSsKQ ✅\\n\\nReceive money even if the price is declining! 📉📉\\n\\n$BTC - $XBT - $POLY - $ETH - $KT - $ONT - $BEAM - $KCS - $DCR - $NULS https://t.co/1kTBnNNSOw\\r', 'Hey guys, you are some of the best ones to follow on #Cryptotwitter. Aiming to be among you really soon :) Good job! 😍😋😇\\n@thecryptomonk\\n@crypto_birb\\n@SatoshiFlipper\\n@IncomeSharks\\n@le_Lannister\\n@rektcapital\\n@BitQueenBR\\n@teddycleps\\n@PieceOfThePy\\n#bitcoin #cryptocurrency #trading\\r', 'A cryptocurrency bank vanished with $16M from customers. Read more about it here: https://t.co/S9Vg7UG6LA\\n\\n#cryptocurrency  #cryptoinvestor #bitcoin #bitcoinnews #cryptonews #bitcoinmining #bitcoinexchange #investing #sharecrypto #crytocurrencytips #bitcointips #bitcoinadvice https://t.co/RBZZVjkJMS\\r', 'BitcoinGarden : “Earn Bitcoin” Searches Reach All-time High, Most From US, India, Philippi… https://twitter.com/BitcoinGarden/status/810155889864871938\\xa0…)pic.twitter.com/cKmav64QW1\\r', 'Secure the daily then pump $btc #btc #crypto\\r', '@CryptoWelson $BTC\\r', \"@MBilalLakhani Stock market is volatile, investors are bringing hot money tht'll b gone as fast aftr they claim their 10-30% gains. \\n\\nStock market isn't economy. Anyone who has observed bitcoin knows how volatility works in favor of big whales and how fast they disappear leaving blood bath.\\r\", \"#MinedBlock  Very interesting company. The scale of which will attract all its users! I hope that this project awaits a strong future and many results! I'm happy to see how an experienced team develops such a long-term product. https://t.co/vs2Yg6Ycqx\\r\", 'Crypto Markets Are Green Across the Board as Bitcoin Crosses $12,000 https://t.co/G2HdQL2RSb\\r', 'A small but significant step towards Main Street for #Bitcoin. http://www.newsbtc.com/2017/10/08/hedge-projects-ccx30-cryptocurrency-indices-reuters/\\xa0…\\r', 'Housekeeping Supervisor - The Canterbury ( Rancho Palos Verdes, CA, USA )  - [ 📋 More Info  https://t.co/EXalZ6CQ5K ]  #Devops #jobs #Hiring #Careers #RanchoPalosVerdes #CA #Cryptocurrency #Blockchain #BTC https://t.co/GTCzTbym0B\\r', 'LOVE!!AlbaniaWe hope to help, thank you. \\n/bitcoin 1896UwURka9J4MCbSdwfMc1pynArfWYXUf   \\n/amazon.com Wish List http://www.amazon.com/gp/registry/wishlist/ref=nav_youraccount_wl?ie=UTF8&requiresSignIn=1\\xa0…\\r', '#DAX #EURUSD #GBPUSD #USDJPY #AUDUSD #USDCAD #WTI #Forex #Trading #Gold #Bitcoin #FED Morning Meeting LIVE ab 10:30 Uhr unter https://t.co/lrZHrIZlSG\\r', '@Trezor Would like to but have Trezor One - BTC only firmware installed and workimg well.\\r', 'Forgive \"I told you so\" (2), \"Bitcoin Price Galloping Delusions.\" #BTC\\nhttps://t.co/xCrAwZzvkl\\r', 'Telegram Investor Update Claims TON Is Now 90% Complete @telegram\\nhttps://t.co/8KsbTpd7hd\\n#StartCrypto #Crypto #Cryptocurrency #altcoin #Blockchain #Bitcoin #Ethereum #EOS #freedom #TON #GRAM\\r', 'Price Analysis 05/07: BTC, ETH, XRP, LTC, BCH, EOS, BNB, BSV, TRX, ADA - Cointelegraph https://t.co/DPVhaXDB9J\\r', '#FerrumNetwork\\r', '#TELE\\r', 'BitKong - Fun & Addictive, provably fair bitcoin game. https://bitkong.com/en?r=ZkGhvU0Z\\xa0 #bitcoin via @bitkongme\\r', 'I liked a @YouTube video http://youtu.be/aIKtpWHwr58?a\\xa0 Earn 1 Bitcoin In 1 Day / 24 Hours | Without Investment\\r', 'Reposting @greshaminternational: - via @Crowdfire \\nDecentralization over time is an ethos that many crypto projects espouse.\\n\\n#startup #website #ico #launch #currency #finance #trade #crypto #cryptocurrency #bitcoin #ethereum #ripple #learn #education #btc #forex #bitcoincash https://t.co/8duzMPj1g7\\r', '@phish73 @j3todaro How is it risky when Bitcoin is deflationary in it’s design?\\r', '@elsonnyblack I didn‘t meant that there‘s no resistance on that way. $BTC is going for all resistances from here step by step. It‘s a pretty healthy drop &amp; push back up so far.\\r', 'JUST 4 Day I Made 560% Profit\\n\\nJoin : https://t.co/oEEa8Ie6ny \\n\\n$BNB $WABI $IOST $CDT $BTS $BCD $EOS $EVX $GXS $GTO $QSP $GVT $FUEL $LINK $APPC $MOD $NEBL $LEND $BQX $ARN $ENJ $INS $REQ $AMB $OAX $REQ $VIBE $ICN $TNT $MTH $CMT $BTC $ETH $CBC $OCN\\r', '@CryptoBull @PeterSchiff Shifty Schiff has made a killing off $BTC\\r', \"@artemismen @cointastical Try following @aantonop and watch a few of his bitcoin talks, and then compare and ask questions of your Onecoin from an informed level.\\nWe are here to protect people from frauds like Onecoin. Sorry you know better, but we'll help those who will listen.\\nhttps://t.co/kdeTM1aD5K\\r\", 'Crypto Fear &amp; Greed Index - Bitcoin Sentiment - https://t.co/oshHrOGVhh https://t.co/713cYmivNB\\r', 'Replicate skilled traders automatically with Bitcoin! \\n\\nI copy \"wangzai888\". Do you?\\n\\n https://1broker.com/?r=25023\\xa0 \\n\\nTalk about a great & painless \\'set-and-forget\\' gain! \\n$ZRX | $WAX | $BTC | $MITH | #BTC | $BCH | $NEO | $BTC | $SC | $PPTpic.twitter.com/TwLDcCFHki\\r', '@GivingBackBTC #btc #eth #ico #crypto #airdrop\\r', '\"Money is the Killer App for Bitcoin\" - Andreas Antonopolous via /r/Bitcoin https://t.co/vi57FWkc9g\\r', '#Binance Review,  Month 22: We Thank You\\n1. 829,888 $BNB \\n2.  Binance Chain Migrations!\\n3. @Binance_DEX launched on Binance Chain\\n4. @BinanceSGD LIVE\\n https://t.co/yCQ4cTlGtS #crypto #cryptocurrency #blockchain #ethereum #btc #bitcoinmining #bitcoins #litecoin\\r', 'Top12 from big coins: #MIOTA 5.3%, #TRX 1.7%, #XRP 1.33%, #ETH 0.83%, #XMR 0.77%, #XRP 0.72%, #ADA 0.7%, #EOS 0.6%, #XLM 0.59%, #BCH 0.47%, #LTC 0.17%, #BTC 0.16%\\r', \"Gold and Bitcoin's obvious secrets https://youtu.be/0_FuA3xCLJs\\xa0 via @YouTube\\r\", '\"Where human rights reign, there is our country. Where human righ http://bit.ly/1LLgoZN\\xa0 #Cybersecurity #Bitcoin pic.twitter.com/Kao1bFNxj3\\r', 'Pomp hitting lower lows.\\n\\nLong Bitcoin, short Pomp.\\r', 'SEC Postpones Decision on Three Bitcoin ETF Rule Change Proposals https://t.co/XGpH56U9Ow #globalcoin\\r', 'Internship &amp; Service Learning Program- Students, New Graduates - [ ➡ https://t.co/6MzcdUQdeD ] #Agile #Scrum #Agile #Kanban #ProjectMangement #jobs #Hiring #Careers  #Cryptocurrency #Blockchain #BTC https://t.co/ln3YNsftmP\\r', \"OH BOY THAT'S A DROP $BTC\\r\", 'My friend @craighammell built this awesome page for Bitcoin\\'s Never Look Back (NLB) Price.\\n\\n\"The NLB price is the last time bitcoin was at a particular price level. Once it reached that price, it only proceeded up, it never retraced to that value again.\"\\n\\nhttps://t.co/TtN4SnjFs9\\r', 'Bitcoin exchange Coinhako enhances services with Google Cloud - https://t.co/4UafYwBOtI $BTC #trading #altcoin #crypto\\r', 'https://t.co/PDPIZ14trk\\r', 'Unique, modern, win-win trading strategies,\\ndeveloped directly by the traders of the company\\n\\nhttps://t.co/DpJaSzjxB0 \\n\\n#btc #eth\\n#Edgeless\\r', ' #Business • Start-up app adds cryptocurrency feature, has a ‘tough’ time during bitcoin rally: When Revolut decided to allow users to buy, hold and exchange cryptocurrencies including bitcoin, Ethereum and Litecoin, some ran into difficulty. http://dlvr.it/Q50mgT\\xa0pic.twitter.com/lGSH8kqEWc\\r', 'Btc the big sluggish one?\\r', '#EPICCash #CRYPTO #Privacy #MimbleWimble #Bitcoin \\n\\nWith Epic there are no wallet addresses and transaction amounts are opaque. Existing chain analysis techniques like those integral to Bitcoin are effective at piercing user privacy. Know more on https://t.co/1WRfPI0XWg\\r', 'I’d kick his damn teeth in! Let’s find this piece of shit!\\r', \"I've just registered for $MedK #token #sale. MedK (@Medkann) Token can be purchased with either cryptocurrency (ETH, BTC, XRP) or FIAT (USD, EUR and GBP). Join the revolution: https://t.co/2xqEfzCsKm. #ICO #Sale #TokenSale #MedK\\r\", 'Jack Dorsey’s Square Cash App Quietly Starts Rolling Out Bitcoin (BTC) Deposits for Users https://t.co/7WNCRrcrla https://t.co/mTnvfpbUZT\\r', '#XCARD #mbmtoken #Blockchain #Crypto #Payments #BTC #fintech #cryptowallet #cardpayments @xcardbymobilum\\r', '$XLM is now worth $0.2852 (+0.34%) and 0.00003842 BTC (+0.55%) #XLM\\r', 'Top 10 Mentions on Twitter in the last hour - $BTC $ETH $XRP $TRX $BCH $LINK $LTC $XTZ $NEO $EOS \\n\\nMore on https://t.co/ke7SHQm6tN 🚀 https://t.co/GMmdXYr6ri\\r', 'Bitcoin - BTC\\nPrice: $8,266.32\\nChange in 1h: -0.03%\\nMarket cap: $138,032,557,162.00\\nRanking: 1\\n#Bitcoin #BTC\\r', \"This is a multi million dollar market and it's bitcoin DM to begin investing in bitcoin #cryptocurrnecy #bitcoin #digitalassetmarket\\r\", '@adamscrabble @lopp Do you know you can mine for bitcoin when you connect your blockchain wallet to the blockchain mining network? I do this with the help of my Antminer s9\\r', 'The latest Bitcoin World News! https://t.co/glQQfl3crK #blockchain #btc\\r', 'Bitcoin Dumps 11% In Hours! Great Bitmex Signals and excellent Bitmex Bot! – Market place and services – Cryptotalksworld Forum https://t.co/GisjplX0AP\\r']\n",
            "['cutt opera dual graphic inc bre ca usa httpstcopgu2y370jc agil scrum agil kanban projectmangement job hiring care cryptocurrency blockchain btc bitcoin eth crypt httpstcon8la5ne2fr', 'btcusd analysil impending bounc resistanc lin target 7800 bybit margin trading read httpstco1bdsx7vhax bitcoin btc bybit httpstcoafbux4ncw1', 'wond recent fall pric btc anywhing new googl achieving quantum_supremacy', 'buy dre car bitcoin cash httpstcoi3pmtyqscd httpstcohopuzpoexd crypt cashflow via httpstco2p1vt5799c', 'latest onlin casin daily httpstcozligqrakp thank casinosandgam casinolifemag bitcoin crypt', 'alicesmith725 exile_akira_ldh', 'ask god giv 07 daily ur invest though bot ai telegr 5 btc inf httpstcocil6gfrsxw presearch restartenergy contentneutrality tierion', 'dont po guy crying outsid bank branch buy bitcoin httpstcojyfnhl0fey', 'beatzcoin vibravidinc ellipalwallet crypto_tone1 snowscrypt custcarptry randallsanim ellipalau pieceofthepy producerknoide i_make_lemonad httpstcofyn5w88n65', 'bakkt nam launch dat bitcoin futur testing bitcoin nys bitcoinfutur httpstcovv9d1v9eur', 'kristinacrypt kissdeo02 bitcoin futur armafahrudin cryptorishad alinda_jak', 'emj ieo crypt blockchain ethereum bitcoin eth cryptocurrency tokensal httpstcovug2piibxg', 'join fold get bitcoin shop get early acces new app 100k sat start stackingsat httpstcocrboivsulz via fold_app bitcoin stackingsat', 'btc hourly updat 975897 00012 btc btcusd bitcoin', 'smart money said skip bitcoin bet blockchain httpstco4a5ksg2iuk', 'tradingselling rar elf tripl threat dm off buying accept btcpayp go first use trusted mm expens rest pic phot taken tipswastaken glexelegit httpstcopdd304crxu', 'rbi ban bitcoin turn return favour styl wedonotsupportbank withdraw money bank account actually dont deserv pta nh kb dusr nirav mod ya maly ajay udh mang k bhag jay one thing titfortat', 'malt government agency tsyst push blockchain adoption btc manag malt enterpris first organization join german blockchain ecosyst launched tsyst announcement com httpstcoj4awlhyzj5 httpstcozokghhckn', 'bitcoin dip 8000 altcoim see mixed movement httpstcokpgdthlcb bitcoin crypt blockchain btc new cryptocurrency httpstcobwiogkzdqn', 'best investment amp best profit 15 f1 10 f2 05 f3 httpstcowptbqab58k bitcoin eth investment via superpayback', 'mov trading 1 crypt exchang today binanc nev hacked httpstco3unmc8ooa mkr iq hot new trx tron emc fct brd zil bz ode cot ftm vtc ignil rvn hpb fsn btc leo smart soc ela medx mda iril abt arn top zec etc crypt httpstcol9hwcycbqy', 'sat oct 19 130036 2013 traded 001306376 btc 184445 usdbtc', 'liv profit 73811 917 buy b1949 42000 vircurex sell 45192 kraken bitcoin btc httpwwwprojectcoinorg', 'bethereum ethereum bthr bitcoin httpstwittercombethereumteamstatus977511416465973248', 'whal inevitabl gam hodl httpstcowu2zm6aryx', 'asset beating bitcoin amid recession fe httpstcok1j9918cox', '4 reasom bitcoin pric increas longterm httpstcougz5ctmtxq bitcoin bitcoinnew btc crypt cryptocurrency cryptonew digitalcurrency ethereum hodl litecoin', 'gt whatbitcoindid posted new podcast httpstcolxsnfgc1gz operating bitcoin atm gil valentin amp eric gravengaard athen bitcoin week atm week first seri im joined gil amp eric cofound ath httpstcofvvhhtp4yx', 'binanc renbtc entry target achieved averag buy pric 000000489 binanc btc bitcoin cryptocurrency cryptotrading cryptosign', 'lowering pric thing capitalism artificially maintaining high pric centr planning httpstcoasaoiuhftb', '20180423 080005 utc btc 89639 bch 139089 eth 63966 zec 28188 ltc 15248 etc 207 xrp 08702', 'endchain qr cod uniqu incorporat barcod within qr cod design allow simplified use endchain us know scan cod found packaging httpswwwendchaini ico crypt blockchain', 'see one sub wav long littl strength bitcoin btc btc xbt xbt tradeide cryptotrading httpstcosfzgb0hj4r', 'snowd talk bitcoin 2019 conferenc vide httpstcoeksel7nve9', 'billyth36905892 mean sold btc bsv', 'cryptoverload blink_trad se btc starting grow good trad use best channel market inf fre one week look gt httpstcoarulllwrbl 936185544', 'danielwoodesign thecrypthawk wouldnt hilari bitcoin maxil would los mind', 'potent project', 'security new ransomw strain locking bitcoin mining rig chin httpowlycdp8101sam9 pictwittercompbygarcv2k', 'full stack develop stormquant campbell united stat httpstcogk3mmop7u robotic ai artificailintelligenc robot ai job hiring care cryptocurrency blockchain btc httpstcoyxyo3fmh30', 'block numb 586523 tim 7222019 93937 utc min p2pool transactiom 2082 block valu 12029475 btc siz 1013724 byt total supply 178315375 8491208 btc issued pric 1052786', 'satoshiiheavy nebraskangoon rnb010 truecrypto28 bakktney crediblecrypt josh_rag tradingroomapp traderkoz thank shout bro vrsftw elevatetrading httpstcosnoawn5i2', 'bitcoin buysellbitcoin bitcoin pric inr buy 763800 inr sell 736400 inr buy sell bitcoin ind', '33868 bitstamp 33600 btc instantly buy gh btc httpbitlyln53k1 bitcoin btc', 'think storeum successfull soon nguyenanhminh28 nguyenthivien5 nguyninhhai4 trongng05640987 akachick111', 'crypt related company isbg ready monetiz big rally bitcoin blockchain blockchaintech cannavel weed mariju cbd thc cannabiscultur hightim ston kush ganj smok maryjan dank bud smokeweedeveryday acb httpstco23mdrux3ed', 'buy sign solvebtc5 bittrex generated bot_strategy 248 get httpstco2wmfjq56gz trading technicalanalysil bitcoin pric cryptocurrency altcoin market cryptotrading blockchain coin crypt automatedtrading httpstcooizyo1gaim', 'digibyt usd 00358435 btc 00358435 848 last 7 day dgb get alert sent directly inbox httpdigibytepriceorg', 'krieg369 know moon cycl peopl expecting big mov btc amp xrp', 'bitcointac nikcantmin btbust bakkt bitcointac bitcoin based age old principl economic sound money history als answering probl arisen monetary history shitcoim shady crowdfunding sc that theyll ev', 'last 10 mim arb opp spanning 24 exchang pair yielding profit ranging 000 29401 bitcoin btc', 'guid earn 301000 daly kc coin httpstcotoyn4gowf btc eth ont dcr xmr vet xtz enj rvn brd kmd tusd thet ardr rep bt etn iotx powr bqx edo pivx qkc sy mith man poe link ada xrp matic trx bnb httpstcoy8oskagoup', 'bitcoin 9670 bitcoin', 'fri nov 22 004839 2013 traded 00107 btc 745895 usdbtc', 'coinvasity darlaraey palmthomaspalm venerafont airdropsalert_ sixfacedat mariyalisnichen bitqueenpay bobangels1 denisenko2806 believerscrypt cryptoladeed linkup4ev linkupfangirl jonathanclems1 coinvasity btc eth giveaway airdrop bounty freecoin', 'binanc btc market lsk unus buying activity 556 btc 13 minut 11 b 000022800 151 000022880 178 24h vol 5593 btc last sign 2 day ago 47d', 'arisebank ceo charged 4 million alleged ico sc httpsifttt2q4e0v blockchain bitcoin crypt', 'taking clos look eth many alt see strong correlation alt season bitcoim pric exact day eth bottomed day btc topped alt season began cycl happen way augustbitcoincrash httpstcou2kfyvejnm', 'maintenanc updat krypt atm luzern zug winterthur stgallen fully onlin buy sell btc bitcoin crypt generalbyt locatiom httpstco07llizqw3y', 'pric updat usd 1 hour btc 108496 046 eth 22236 047 xrp 032 015 bch 3405 044 ltc 9539 02 usd doll btc eth xrp bch ltc trading bitcoin ethereum', 'btctn securypt much shut exchang suddenly happenend cryptocurrency bitcoin altcoin', 'profess trading tip your ev concerned bitcoin pric potentially falling protect locking fiat valu without selling httpstcoywo6ttorqk', 'bitcoin form uptrend ema support cas bull strength httpstco4yoqitintb crypt cryptonew httpstcofruxinbktu', 'bitcoin bitcoin bitcoin bitcoin asked she ev wasted money bought first bitcoin 4000 last bitcoin 18 000 ive lost much money magdawierzyck ceo sygn httpstcob5ex8zkd4 themoneyshow', 'fbi 7 new tx input 000004656 btc 048 usd final balanc 2 addr 2055862639 btc 21291k usd fbi cryptopaymon', 'stabledex blockchain ethereum bitcoin ieo tokensal cryptocurrency', 'blocksaf bsaf sto bitcoin btc cryptocurrency project good project hopefully growing profitabl project one kind generation surely benefit much join project httpstcobcnhmrhdzg', 'learn crypt work zillatoken blog httpstcosglbq0t5e5 blockchain technology airdrop ico zla gd btc eth', 'new tumblr post us defens department develop blockchain cybersecurity shield httpstcofbk3wjbklk eo bitcoin cryptocurrency ethereum neo bitcoinnew bitcoinmining bitcoinbilliona b', 'judg blast intentionally fals testimony supposed bitcoin crea httpstcoid82jgiiwy via hackernew dy', 'bitcoin wsj negativ rat designed shortterm jolt becom addiction anyon doesnt shit brick read headlin doesnt understand really me urgency diversify away fiat ent httpstcok3xpbfs880 httpstco9oypol08c', 'interesting mining bitcoin hashfl mak sup easy click link signup start mining httpbitly2t4mlry', 'kyri mvp pac imo nba nbatwitt wegohard bitcoin lakernation', 'psa btc brought bitcoin bsv httpstco7clwrdpojl', 'deflacoin airdrop liv click link participat amazing airdrop httpstco4hxgjsns6n reward 50 5 defl airdrop blockchain cryptocurrency ico bitcoin crypt eth', 'wealthy remain curi skeptic bitcoin ub ceo say httpswwwbloombergcomnewsarticles20171010wealthyremaincuriousbutskepticalaboutbitcoinubsceosay pictwittercomrjs7x0olpp', 'current bitcoin pric winkdex 22984 last changed tue 21 apr 2015 201500 gmt queried 201747', 'tim buy tron pric go trx bitcoin altcoim crypt cryptocurrency bitfinex bittrex hitbtc coinbas tron', 'octobot alert bitcoin symbol btcusdt result long evaluation 10', 'think lat earn bitcoin wrong tim earn many bitcoim stepbystep syst show everything httpstcorarbvpxgg httpstcoslpuu4ynrn', 'bcnex top 03 referr top crypt exchang gain total commission 2917 btc around 32000000 tim believ offic tweet bcnex httpstcopm9pp4otf als visit link know httpstcopm9pp4otf httpstcojevjyohm1z', 'httpstcojhpo0fgpqv', 'binanc launch blockchainpowered charitabl campaign support maltes youth instanew bitcoin moner cryptocurrencymarket iot enigm investment bearrun hotwallet coldwallet hardcap neo httpstcouqwdod7cxz', 'bring baby need', 'rt thepumpadvi adx pric rising btc market binanc current pric ƀ 000000803 sharing pushing', 'coindesk wsfoxley nasdaq nys sec_new jok bitcoin need', 'usdt imo airdrop coming new revolutioncl taskshug bonu pool 100000 com amp earn httpstcotxnw25bzx imo int model offeringworld first modelbased cryptocurrency exchang airdrop bounty btc eth crypt exchang', 'myhellogold pref buying bitcoin gon 300 ye alon cost nothing stor portabl send acros world anywh anytim btc pompli peterschiff', 'tonyval76476318 executiv ord 13772 xrp trump coin vs btc chin slackin tony', 'xvg buy sign httpstcok06fcstndd', 'btc 873464 11061 127 last hour bitcoin bitsmart', 'socialism blockchain volum 8 issu 4 futur internet de stev huckl martin whit httpsmediumcomerasersocialismandtheblockchain18e2e33cbbbd socialism blockchain marxism capitalism politic crypt cryptocurrency bitcoin decentralization sharingeconomy industry40 tic capitalism marxism', 'signatur happy btc day', 'yeah', 'jamestodaromd fumon__ lik specifically picked starting timefram mak eth appe bett really mak one start first bitcoin trad', 'bitcoin mining wallet connected mining network invest earn dm get started busines motivation england southafr walesbitcoinnew daytrading californ makemoney torontorich texasbos newyorknigeriaorlandomalibu httpstcobbjuhvm3mj', 'serv dinn asked wanted pay meal bitcoin wtf nantucket', 'sigm show bitcoin may finally bottoming chartwatch say technicalanalysil btc bch eth ltc coin xbt qqq ixic gdx gldhttpsonmktwnet2stdi8y', 'bitcoin 11410 434 47461 high 1164000 low 10850 volum 4092 btc btc bitcoin', '59500 bitstamp 59098 btc bet worldcup bitcoin httpbitlybitcoinworldcup bitcoin btc', 'liv profit 70326 1647 buy b1267 33550 btc sell 34000 vircurex bitcoin btc httpwwwprojectcoinorg', 'bitcoinomist ye surely tried least one tim slowly expensively switched xrp ilp amazed use forgot nightm hyp bitcoin', 'charliebilell jennablan regula admitted today much optimism bitcoin 2017 beat ctfc crim activity', 'rippl xrp advantag bitcoin btc so 100k 1 million ethereum world new httpstcoowtyrko86v', 'buy sign wtcbtc2 binanc generated bot_strategy 248 get httpstco2wmfjq56gz blockchain crypt pric cryptotrading bitcoin automatedtrading market technicalanalysil cryptocurrency altcoin trading coin httpstcoezuwnerzqr', 'supplied local biz amp beauty shop mad 65k yr selling bought 6k bitcoin xrp amp litecoin mad 62k selling spent 20k n wording took internship embassy amp un decided blu 4am wann green energy company used last 10k start', 'btc scenari leaning bullish usual lately old monthly level 10761 hold weekly clos blow 114755 wouldnt great strong support us wont giv easy httpstcori8kihfg', 'tanvi_ratn next 2 ye last stag pric movement bitcoin would bring significant money technically one regulat bitcoin keep calm keep buying', 'six ye first bitcoin etf filing clos one httpstcod4yar8wsf', 'teth bitcoin be market teth world currency httpcryptogeekscomtetherbitcoinbearmarketandcantetherbeworldcurrency', 'posted superpayback bitcoin ico cryptocurrency reddit httpstcovzrgph8do5', 'venbtc limitbuy 000003081 that started deliv soo many partnershipstak away coupl 00 listen jewkorean youtub', 'als me entirely tru production new bitcoim dependent pric increas sever month bitcoin mined that small amount right saifedean', 'wavesplatform wav btc wavesplatform httpstcobfqkegery', 'one bitcoin worth 115724bitstamp high 119799 low 114100 market cap 18831 billion bitcoin', 'use cod hf18inet404 purchas get 30 discount contract 10 gh 084 cheap bitcoin ethereum zcash dash cryptocurrency cloud mining binanc blockchain coinbas cexi kucoin crypt airdrop ico token bounty httpshashflareior90a58ecd', 'bitcoin tech analysil recap midday review 080719 yaho financ httpstcozici5vbm8y httpstcolw5kpa2phh', 'keep trading alt btc alt portfoli als panic sell los dont againt tak los reason', 'com acros something potentially crazy btc hit 8150 next 2 4h candl head going expload', 'the_real_fly gambiste1 cannot arg really often use one great group crypt predictiom best know httpstcow8ewjmr3t 1240056128', 'cryptoje cryptowelson btc', 'tak money mak money forex sign money motivateyourself crypt stock stockmarket bitcoin bullish binaryoptiom airdrop blockchain httpstco6ylxv1p2q6', 'pepecash pric usd bitcoin xcp usd pepecash pric 010 btc pepecash pric 000000688 xcp pepecash pric 00041867144', 'card pric analysil card ada slump 4 within day trading 0068 instacryptocurrency instavenezuel instaairdrop cryptocurrency btcnew bittrex fintech cryptonew bigdat btc xbt stockmarket httpstcodq8doqsvkc', 'pric 1 ltc usd 9368 chang 009 pric 1 ltc btc 000954826 ƀ chang 036 litecoin ltc ltc', 'lili20426892 thecryptodog xrp biggest blockchain dat widely used asset httpstco72lwkss4mv', 'bitcoin_brain alway try numb 1 term technology even me les sid chaim find way mak money becom easi btc get adopted way early say destroy btc not dont even btc rn', '_checkmatey_ alexgausman econo foobazzl trustlessstat teo_leibowitz ethhub_i 1 bitcoin isnt usefully programmabl 2 even today energy use bitcoin going get crucified conversation everyon already invested pric goe anoth 10x see ent developed world unit ban proofofwork', 'arrington michael arrington bitcoin largely driven market manipulation discussion coinmarketcap capit conferenc httpstcokva7f2knpl atomicoblivion report via cryptoamb bitcoin btc cryptonew httpstco2263teihz', 'smashleyham hi ashley pleas check httpstcogwtfrbxbjz making possibl artist benefit secondary art sal using bitcoin blockchain think find platform interesting blockchain art bitcoin lightningnetwork ln btc', 'coinbas pro really good beginn taught many thing best way buy btc usa als httpstcoyqqu5cyu3v via yotp', 'last 10 mim arb opp spanning 27 exchang pair yielding profit ranging 000 18643 bitcoin btc', 'john mcafe unhackabl bitcoin wallet allegedly got hacked httpdlvritqdfk0m pictwittercomzjrjofd5mm', 'sport betting pick expert advic bitcoin investment inves cryptocurrency forex trad entrepreneur investcrypforex marketing_1jl4 health14fitnes gt httpstcoznn3s2pjph', 'tru kevinolearytv bitcoin httpswwwmsncomencamoneymarketskevinolearyexplainsonebigthingpeopledontunderstandaboutbitcoinbutneedtoarbbgnmxp', 'cryptocurrency insuranc startup coincov launched insuranc serv covering theft los growing trend httpstcoqxrobljf27', 'tokoinglob provid platform build valuabl partnership bring engaging ecosyst consist collectibl busines profil profitabl httpstcoz96kqjurak tokoin msm blockchain crypt cryptotrading btc emergingmarket ecommerc retail', 'binanc btc market mda unus selling activity 309 btc 13 minut 20 b 000006750 075 000006758 081 24h vol 1854 btc last sign 2 day ago 37d', 'cryptostefan0 buy btc', 'money manag paying big buck interpret bitcoin tweet httpstcozkzbiqzk4d', 'ankitdanger1 check fre bitcoin httpstco8ipcbdwvvt', 'lov', 'buysell altcoin mov 100x leverag primexbt regist straight away turn 150 7500 httpstco26el3vsskq receiv money even pric declining btc xbt poly eth kt ont be kc dcr nul httpstco1ktbnnnsow', 'hey guy best one follow cryptotwitt aiming among really soon good job thecryptomonk crypto_birb satoshiflipp incomeshark le_lannist rektcapit bitqueenbr teddyclep pieceofthepy bitcoin cryptocurrency trading', 'cryptocurrency bank vanished 16m custom read httpstcos9vg7ug6l cryptocurrency cryptoinves bitcoin bitcoinnew cryptonew bitcoinmining bitcoinexchang investing sharecrypt crytocurrencytip bitcointip bitcoinadv httpstcorbzzvjkjm', 'bitcoingarden earn bitcoin search reach alltim high us ind philipp httpstwittercombitcoingardenstatus810155889864871938 pictwittercomckmav64qw1', 'secur daily pump btc btc crypt', 'cryptowelson btc', 'mbilallakhan stock market volatil inves bringing hot money thtll b gon fast aftr claim 1030 gaim stock market isnt economy anyon observed bitcoin know volatility work favor big whal fast disapp leaving blood bath', 'minedblock interesting company scal attract us hop project await strong futur many result im happy see experienced te develop longterm product httpstcovs2yg6ycqx', 'crypt market green acros board bitcoin cross 12000 httpstcog2hdql2rsb', 'small significant step toward main street bitcoin httpwwwnewsbtccom20171008hedgeprojectsccx30cryptocurrencyindicesreut', 'housekeeping supervi canterbury ranch pal verd ca usa inf httpstcoexalz6cq5k devop job hiring care ranchopalosv ca cryptocurrency blockchain btc httpstcogtcztbym0b', 'lovealbaniaw hop help thank bitcoin 1896uwurka9j4mcbsdwfmc1pynarfwyxuf amazoncom wish list httpwwwamazoncomgpregistrywishlistrefnav_youraccount_wlieutf8requiressignin1', 'dax eurusd gbpusd usdjpy audusd usdcad wti forex trading gold bitcoin fed morning meeting liv ab 1030 uhr unt httpstcolrzhrizlsg', 'trez would lik trez one btc firmw installed workimg well', 'forgiv told 2 bitcoin pric galloping delusiom btc httpstcoxcrawzzvkl', 'telegr inves updat claim ton 90 complet telegr httpstco8ksbtpd7hd startcrypt crypt cryptocurrency altcoin blockchain bitcoin ethereum eo freedom ton gr', 'pric analysil 0507 btc eth xrp ltc bch eo bnb bsv trx ada cointelegraph httpstcodpvhaxdb9j', 'ferrumnetwork', 'tel', 'bitkong fun addictiv provably fair bitcoin gam httpsbitkongcomenrzkghvu0z bitcoin via bitkongm', 'liked youtub vide httpyoutubeaiktpwhwr58 earn 1 bitcoin 1 day 24 hour without investment', 'reposting greshaminternat via crowdf decentralization tim eth many crypt project espous startup websit ico launch currency financ trad crypt cryptocurrency bitcoin ethereum rippl learn education btc forex bitcoincash httpstco8duzmpj1g7', 'phish73 j3todar risky bitcoin deflationary design', 'elsonnyblack didnt meant th resistanc way btc going resistanc step step pretty healthy drop amp push back far', '4 day mad 560 profit join httpstcooeea8ie6ny bnb wab iost cdt bt bcd eo evx gx gto qsp gvt fuel link appc mod nebl lend bqx arn enj im req amb oax req vib icn tnt mth cmt btc eth cbc ocn', 'cryptobull peterschiff shifty schiff mad killing btc', 'artemismen cointastic try following aantonop watch bitcoin talk comp ask questiom onecoin informed level protect peopl fraud lik onecoin sorry know bett well help listen httpstcokdetm1ad5k', 'crypt fe amp greed index bitcoin sentiment httpstcooshhrogvhh httpstco713cymivnb', 'replicat skilled trad automatically bitcoin copy wangzai888 https1brokercomr25023 talk great painles setandforget gain zrx wax btc mith btc bch neo btc sc pptpictwittercomtwldccfhk', 'givingbackbtc btc eth ico crypt airdrop', 'money kill app bitcoin andre antonopol via rbitcoin httpstcovi57fwkc9g', 'binanc review month 22 thank 1 829888 bnb 2 binanc chain migratiom 3 binance_dex launched binanc chain 4 binancesgd liv httpstcoycq4ctlgt crypt cryptocurrency blockchain ethereum btc bitcoinmining bitcoim litecoin', 'top12 big coim miot 53 trx 17 xrp 133 eth 083 xmr 077 xrp 072 ada 07 eo 06 xlm 059 bch 047 ltc 017 btc 016', 'gold bitcoim obvi secret httpsyoutube0_fua3xclj via youtub', 'human right reign country human righ httpbitly1llgozn cybersecurity bitcoin pictwittercomkao1bfnxj3', 'pomp hitting low low long bitcoin short pomp', 'sec postpon decision thre bitcoin etf rul chang propos httpstcoxgph56u9ow globalcoin', 'internship amp serv learning progr student new graduat httpstco6mzcduqded agil scrum agil kanban projectmangement job hiring care cryptocurrency blockchain btc httpstcoln3ynsftmp', 'oh boy that drop btc', 'friend craighammell built awesom pag bitcoim nev look back nlb pric nlb pric last tim bitcoin particul pric level reached pric proceeded nev retraced valu httpstcottn4snjfs9', 'bitcoin exchang coinhak enhanc serv googl cloud httpstco4uafywbot btc trading altcoin crypt', 'httpstcopdpiz14trk', 'uniqu modern winwin trading strategi developed directly trad company httpstcodpjaszjxb0 btc eth edgeles', 'busines startup app add cryptocurrency featur tough tim bitcoin rally revolut decided allow us buy hold exchang cryptocurrenci including bitcoin ethereum litecoin ran difficulty httpdlvritq50mgt pictwittercomlgsh8kqewc', 'btc big sluggish one', 'epiccash crypt privacy mimblewimbl bitcoin epic wallet addr transaction amount opaqu existing chain analysil techniqu lik integr bitcoin effectiv piercing us privacy know httpstco1wrfpi0xwg', 'id kick damn teeth let find piec shit', 'ive registered medk token sal medk medkann token purchased eith cryptocurrency eth btc xrp fiat usd eur gbp join revolution httpstco2xqefzcskm ico sal tokensal medk', 'jack dorsey squ cash app quietly start rolling bitcoin btc deposit us httpstco7wncrrcrl httpstcomtnvfpbuzt', 'xcard mbmtoken blockchain crypt payment btc fintech cryptowallet cardpayment xcardbymobilum', 'xlm worth 02852 034 000003842 btc 055 xlm', 'top 10 mentiom twitt last hour btc eth xrp trx bch link ltc xtz neo eo httpstcoke7shqm6tn httpstcogmmdxyr6r', 'bitcoin btc pric 826632 chang 1h 003 market cap 13803255716200 ranking 1 bitcoin btc', 'mult million doll market bitcoin dm begin investing bitcoin cryptocurrnecy bitcoin digitalassetmarket', 'adamscrabbl lopp know min bitcoin connect blockchain wallet blockchain mining network help antmin s9', 'latest bitcoin world new httpstcoglqqfl3crk blockchain btc', 'bitcoin dump 11 hour great bitmex sign excellent bitmex bot market plac serv cryptotalksworld forum httpstcogisjplx0ap']\n"
          ]
        }
      ]
    },
    {
      "cell_type": "markdown",
      "metadata": {
        "id": "vdicRyNZMMQk"
      },
      "source": [
        "#### Export to csv"
      ]
    },
    {
      "cell_type": "code",
      "metadata": {
        "id": "EbWMoUWmMMQk"
      },
      "source": [
        "dtf.to_csv('/content/drive/MyDrive/Colab Notebooks/Dataset/stopwords_stemming_tweets_preprocessing_dataset.csv')"
      ],
      "execution_count": 64,
      "outputs": []
    },
    {
      "cell_type": "markdown",
      "metadata": {
        "id": "laXMMreVoZmn"
      },
      "source": [
        "### Pre Processing, Stemming Lemm and Stopwords"
      ]
    },
    {
      "cell_type": "code",
      "metadata": {
        "id": "Lg4VHW73AOrr",
        "colab": {
          "base_uri": "https://localhost:8080/"
        },
        "outputId": "63d63322-b8cd-4751-ac0a-5984603f0b9b"
      },
      "source": [
        "%%time\n",
        "dtf[\"text_clean\"] = dtf[\"text\\r\"].apply(lambda x: utils_preprocess_text(x, flg_stemm=True, flg_lemm=True, lst_stopwords=lst_stopwords))\n",
        "samples = dtf.sample(1)"
      ],
      "execution_count": 46,
      "outputs": [
        {
          "output_type": "stream",
          "name": "stdout",
          "text": [
            "CPU times: user 23min 29s, sys: 7.27 s, total: 23min 37s\n",
            "Wall time: 23min 29s\n"
          ]
        }
      ]
    },
    {
      "cell_type": "code",
      "metadata": {
        "colab": {
          "base_uri": "https://localhost:8080/",
          "height": 309
        },
        "id": "RXhFsqv-OObG",
        "outputId": "0a8d3fc1-2f01-4941-be0f-addb74890140"
      },
      "source": [
        "dtf.tail()"
      ],
      "execution_count": 67,
      "outputs": [
        {
          "output_type": "execute_result",
          "data": {
            "text/html": [
              "<div>\n",
              "<style scoped>\n",
              "    .dataframe tbody tr th:only-of-type {\n",
              "        vertical-align: middle;\n",
              "    }\n",
              "\n",
              "    .dataframe tbody tr th {\n",
              "        vertical-align: top;\n",
              "    }\n",
              "\n",
              "    .dataframe thead th {\n",
              "        text-align: right;\n",
              "    }\n",
              "</style>\n",
              "<table border=\"1\" class=\"dataframe\">\n",
              "  <thead>\n",
              "    <tr style=\"text-align: right;\">\n",
              "      <th></th>\n",
              "      <th>id</th>\n",
              "      <th>user</th>\n",
              "      <th>fullname</th>\n",
              "      <th>url</th>\n",
              "      <th>timestamp</th>\n",
              "      <th>replies</th>\n",
              "      <th>likes</th>\n",
              "      <th>retweets</th>\n",
              "      <th>text\\r</th>\n",
              "      <th>language</th>\n",
              "      <th>text_clean</th>\n",
              "    </tr>\n",
              "  </thead>\n",
              "  <tbody>\n",
              "    <tr>\n",
              "      <th>169223</th>\n",
              "      <td>1.198263e+18</td>\n",
              "      <td>btc_update</td>\n",
              "      <td>Bitcoin update</td>\n",
              "      <td>NaN</td>\n",
              "      <td>2019-11-23 15:32:37+00</td>\n",
              "      <td>0</td>\n",
              "      <td>0</td>\n",
              "      <td>0</td>\n",
              "      <td>Finland Prepares For Bitcoin Ransomware Attack...</td>\n",
              "      <td>en</td>\n",
              "      <td>finland prep bitcoin ransomw attack cyb fir dr...</td>\n",
              "    </tr>\n",
              "    <tr>\n",
              "      <th>169224</th>\n",
              "      <td>1.198264e+18</td>\n",
              "      <td>Cryptoevolucion</td>\n",
              "      <td>Cryptovolution</td>\n",
              "      <td>NaN</td>\n",
              "      <td>2019-11-23 15:36:23+00</td>\n",
              "      <td>0</td>\n",
              "      <td>0</td>\n",
              "      <td>0</td>\n",
              "      <td>#IoTex 🚨#UPDATE🚨 . Iotex is Very Stable and lo...</td>\n",
              "      <td>en</td>\n",
              "      <td>iotex updat iotex stabl look lik going uptrend...</td>\n",
              "    </tr>\n",
              "    <tr>\n",
              "      <th>169225</th>\n",
              "      <td>1.198265e+18</td>\n",
              "      <td>phuongdi2891</td>\n",
              "      <td>phuongdi2891</td>\n",
              "      <td>NaN</td>\n",
              "      <td>2019-11-23 15:39:21+00</td>\n",
              "      <td>0</td>\n",
              "      <td>0</td>\n",
              "      <td>0</td>\n",
              "      <td>Lydian Lion with the platform empowers human i...</td>\n",
              "      <td>en</td>\n",
              "      <td>lydian lion platform empow human interactiom r...</td>\n",
              "    </tr>\n",
              "    <tr>\n",
              "      <th>169226</th>\n",
              "      <td>1.198265e+18</td>\n",
              "      <td>emergeen</td>\n",
              "      <td>Emergeen DN</td>\n",
              "      <td>NaN</td>\n",
              "      <td>2019-11-23 15:40:50+00</td>\n",
              "      <td>0</td>\n",
              "      <td>0</td>\n",
              "      <td>0</td>\n",
              "      <td>Bitcoin wallet\\n\\n1KSrHvFavm1WB682ZjJNK355nJQe...</td>\n",
              "      <td>en</td>\n",
              "      <td>bitcoin wallet 1ksrhvfavm1wb682zjjnk355njqe6zdbq5</td>\n",
              "    </tr>\n",
              "    <tr>\n",
              "      <th>169228</th>\n",
              "      <td>1.198266e+18</td>\n",
              "      <td>ErvinLemark</td>\n",
              "      <td>Ervin Lemark</td>\n",
              "      <td>NaN</td>\n",
              "      <td>2019-11-23 15:45:01+00</td>\n",
              "      <td>0</td>\n",
              "      <td>0</td>\n",
              "      <td>0</td>\n",
              "      <td>The latest TopBitcoiner Daily! https://t.co/TI...</td>\n",
              "      <td>en</td>\n",
              "      <td>latest topbitcoin daily httpstcotiyn2wsdqw cry...</td>\n",
              "    </tr>\n",
              "  </tbody>\n",
              "</table>\n",
              "</div>"
            ],
            "text/plain": [
              "                  id  ...                                         text_clean\n",
              "169223  1.198263e+18  ...  finland prep bitcoin ransomw attack cyb fir dr...\n",
              "169224  1.198264e+18  ...  iotex updat iotex stabl look lik going uptrend...\n",
              "169225  1.198265e+18  ...  lydian lion platform empow human interactiom r...\n",
              "169226  1.198265e+18  ...  bitcoin wallet 1ksrhvfavm1wb682zjjnk355njqe6zdbq5\n",
              "169228  1.198266e+18  ...  latest topbitcoin daily httpstcotiyn2wsdqw cry...\n",
              "\n",
              "[5 rows x 11 columns]"
            ]
          },
          "metadata": {},
          "execution_count": 67
        }
      ]
    },
    {
      "cell_type": "markdown",
      "metadata": {
        "id": "dZFtbxIHohYP"
      },
      "source": [
        "#### Check Samples"
      ]
    },
    {
      "cell_type": "code",
      "metadata": {
        "id": "DxwdTCpT29k0"
      },
      "source": [
        "samples = dtf.sample(599)"
      ],
      "execution_count": 47,
      "outputs": []
    },
    {
      "cell_type": "code",
      "metadata": {
        "colab": {
          "base_uri": "https://localhost:8080/"
        },
        "id": "y1LrGbvOAP1X",
        "outputId": "63d0427f-7a91-49c4-9d43-5b28123be61a"
      },
      "source": [
        "print(remove_stopwords(samples[\"text\\r\"]))\n",
        "print(list(samples[\"text_clean\"]))"
      ],
      "execution_count": 48,
      "outputs": [
        {
          "output_type": "stream",
          "name": "stdout",
          "text": [
            "['@Dheeren29092403 @PMOIndia @narendramodi Are you interested in investing in Binary Options and bitcoin mining.\\nInvest with a trusted account manager and earn huge profits weekly.\\nInvest $500 earn $5000 weekly\\nInvest\\xa0$600\\xa0earn $11,050\\nYou can invest more.. OVER AND OVER AGAIN\\nDM me if interested for more info.\\r', 'Bitfury Releases Merchant, Developer Tools for Bitcoin’s Lighting Network https://www.altcoinflow.com/2019/01/23/bitfury-releases-merchant-developer-tools-for-bitcoins-lighting-network/\\xa0…\\r', 'NPXS/BTC is oversold on @binance\\nIgnition sequence on\\n#cryptocurrency #bitcoin #altcoins #btc pic.twitter.com/6AHZUrxMox\\r', 'Crypto Markets Turn Green Following Tough Week, BTC Price Above $8,000 - https://t.co/OHuH39ioSS https://t.co/Lz8jC3vWkp\\r', '******Tone Vays says TIME TO GET OUT OF BTC and SHORT BTC******BITCOIN IS GOING LOWER NOW******\\nTrading Bitcoin - $11,000 Broken, Looking for More Downside https://t.co/XqrzxrLm0e via @YouTube\\r', '@SelfKey @hitbtc This is why you hold my money? Are you scammers? Give back my money!!! My ticket number 422324 https://t.co/ymjtFS0lBk\\r', '@BMouler Do you know that you can start earning between $500-$5000 weekly from bitcoin mining and you can do it all by yourself right from the comfort of your home without any stress?  Ask me how or email me at bitmustminer@gmail.com for more info.\\r', 'BUY CRYPTO  #XRP  #RIPPLE  #BITCOIN  #ADA https://t.co/SNmjLzKpBY\\r', '\"Bitcoin Holds Ground After China Voices Support for Blockchain\" by Reuters via NYT https://t.co/b59hQjxTH6 #Blockchain\\r', \"It's easy to capture packets with Wireshark, the world's most popu http://bit.ly/2u4q3Jw\\xa0 #Cybersecurity #Bitcoin pic.twitter.com/ejnQOq3KXZ\\r\", \"RT @Crypto_bsl: RT @TRONbirdApp: Yeah! Next 5'000 #satoshi #bitcoin  #giveaway for the #bitcoin #LightningNetwork!\\n\\n5x1'000 #satoshi to win!\\n\\n✅Like &amp; Retweet+Tag 3 friends\\n✅Follow @BitsaharaFund \\n✅Follow @TRONbirdApp\\n✅Follow: @walletofsatoshi\\n\\nLet's promote your #cryptoc…\\r\", 'Consultants Weigh In On The Way forward for Bitcoin and Blockchain https://t.co/Fm76uUKQtt\\r', 'Our #Crypto portfolio now \\n#ZEC - 1.09 % \\n#BAT - 2.69 % \\n#EUR - 12.19 % \\n#BTC - 42.66 % \\n Follow us and gain 10 USD of #free #BTC https://t.co/8A9NCeyvwS https://t.co/3EV0u1EQt6\\r', 'hlow\\r', 'Why Big Governments And Central Banks Want To Kill #Libra And #Bitcoin? by @Forbes https://t.co/YBRLCZf8ox\\r', 'Poll: How much more #crypto have you accumulated during the bear market for the nex run-up 🏃 and beyond? #btc #eth #xrp #altcoins #xrpcommmunity #xrpthestand #digitalassets\\r', '@jamiepastore Bitcoin will never exit!\\r', 'New Free Bitcoin Cloud Mining Site 2019 | Free Mining | Mine Free Bitcoin | earn Free Bitcoin 2019. ud Sign Up - https://t.co/3YndNkoulS https://t.co/ecsGmYHNMe\\r', '@efethecount Transfer to BTC\\r', 'When Will Bitcoin Sidechains Send Ethereum, Ripple, And Other Crypto Prices To Zero? via @forbes https://t.co/NPZyTZQo2e sidechains-send-ethereum-ripple-and-other-crypto-prices-to-zero/#5cedd98d126f  YES  bitcoin and light coin can make transfers  N1 sec. on the lighting network\\r', 'A huge step for mankind Serbia is now connected to global crypto markets: the bitcoin just now traded for the Serbian Dinar $RSD accessible to everyone in the world 24/7 real time fiber optic trading.\\n@Liberland_org @SerbianPM @avucic @tradexcalibra #Belgrade @Safex https://t.co/wmwFHeeuce\\r', 'Thank you Bybit\\r', \"@muellerberndt @TuurDemeester TuurDemeester is a clown show, not Bitcoin. Ethereum doesn't become a clown show when people start clowning about Ethereum. Ethereum is not a clown show.\\r\", '🔥🔥15m Volume Alert!🔥🔥 $NAS current volume: 11.13 $BTC average: 1.06 $BTC which is 951.06% above average, Price: 0.0000677 (3.1%)\\r', 'Celsius Network aims to take the risk out of risky crypto-lending biz\\n#Bitcoin #Crypto #Cryptocurrency #October1st #HereWeGo\\nhttps://t.co/o7zqaetA3o\\r', '13) Crypto winter will end and Bitcoin will reach a new ATM  🤞\\r', \"From my view they don't give away much :/ buy it is fully KYC also..\\r\", \"Avalon Bitcoin Miner Maker Canaan Posts $13 Million Q3 Profit in New Filing https://t.co/x9gM5ap9mT\\n#Crypto #CryptoFollower #share2steem #blockchain #Bitcoin #Ethereum #ETH #BTC #CoinDesk\\nCanaan, the world's second-largest bitcoin miner maker, has recorded $13 million in net pr…\\r\", '\\\\/BTC.COM/LTC5T.@S #litecoin https://t.co/uBjrMNgyYT\\r', 'Mystery Behind Sudden Spike in ‘BTC’ Searches Tied to Hurricane Dorian https://t.co/xhNkiHYTAE #Ethereum #Crypto #blockchain #Bitcoin #ETH #BTC #share2steem #ThachSanh #Cointelegraph\\n\\nBetween Aug. 29 and Aug. 31, BTC searches worldwide suddenly catapulted from a value of 2 to t…\\r', \"Can we donate in #bitcoin?What's your admin plan to adopt Crypto currency into mainstream?Be rest assured that crypto comunty have your back\\r\", \"Here's some buckets that people store value in:\\n\\nGold: $8T\\nStocks: $75T\\nFiat: $90T\\nReal Estate: $220T\\n\\nAnd now, we can store value online...\\n\\nBitcoin: $150B\\n\\nWe are in a post-industrial Internet age.\\n\\nBitcoin is growing from being a thimble to a bucket.\\r\", 'What is Kin cryptocurrency? - https://t.co/2a0nPxgpgn\\n\\n#BTC #Cryptocurrencies #airdrop #altcoins #bitcoin #bitcoins\\r', 'Top 5 Cryptocurrencies - Current Prices\\n\\n$BTC: $9,643.00 - Bitcoin  +0.33%\\n$ETH: $775.90 - Ethereum  +1.24% \\n$XRP: $0.872578 - Ripple  -0.24%\\n$BCH: $1,478.24 - Bitcoin Cash  -0.26%\\n$EOS: $17.64 - EOS  -1.43% \\r', '@Xentagz The #Bitcoin LoveSong is the sound investors hear when buying their first Bitcoin.\\n\\nhttps://t.co/7lw0OA3HMp\\r', 'Start Trading $BTC On BitMax  \\nSign up now for 10% referral reward \\n https://t.co/eaMAx6ULrE https://t.co/Cr7riXV3Uz\\r', '#Bitcoin Cash’s 180% Bounce Looks Like a Dead Cat By Lionel Laurent | Bloomberg December 21 at 5:00 AM There’s a great website that tracks\\xa0the number of times obituaries have been written on Bitcoin (this column will be added to them). ... http://www.moneyhealthfinance.com/bitcoin-cashs-180-bounce-looks-like-a-dead-cat/\\xa0… #ai #data #news\\r', '@phiwi86 yeah\\nThe volume in terms of Venezuelan Bolivar is increasing because of the hyperinflation, however the amount of BTC exchanged is little\\r', 'We are thinking about Bitcoin’s energy usage in all the wrong ways https://t.co/4z1YzaHbzZ #carbonara\\r', 'Check out my Gig on Fiverr: create MLM bitcoin investment software https://t.co/AS0PoMIxWS\\r', 'Ethereum Echo.. .. ..! \\nhttps://t.co/I2S0TGBTuS Thanks to #ethereum @Jiraiya54 @nabblecasino @ConsenSys #ethereum #bitcoin\\r', '#localcurrency How can I make money with bitcoin? http://bit.ly/2ASeRHU\\xa0pic.twitter.com/KDKYDelFUI\\r', 'BTC payout irregularities are fixed now! All transactions are smooth. \\nhttps://t.co/3yu8zGvEKc\\n#btc #transaction #Bitcoin_Cash   #bitcoinmining #cryptotrading #arkonixmining https://t.co/2S1OZ7xioG\\r', 'https://t.co/1hrCX3prw0\\r', 'Meet Mr Li Wei the fat btc man.😍😍 https://t.co/e7HJkPAf8z\\r', '🔥🔥15m Volume Alert!🔥🔥 $MDA current volume: 2.49 $BTC average: 0.71 $BTC which is 949.69% above average, Price: 0.00006765 (0.06%)\\r', 'Dutch Bank Toys Around With Bitcoin Wallet Project https://bitrss.com/news/121131/dutch-bank-toys-around-with-bitcoin-wallet-project\\xa0…\\r', 'Current Crypto Prices! \\n\\nBTC: $10123.55 USD\\nETH: $295.11 USD\\nLTC: $138.63 USD\\nBCH: $439.51 USD\\nXLM: $0.1231 USD\\nDOGE: $ 0.003239 USD\\nNEO: $14.08 USD\\nXRP: $0.4449 USD\\nCANN: $0.001721 USD\\nEMC2: $0.1083 USD\\nXMR: $109.39 USD\\nBTG: $28.61 USD\\r', '#BTC Average: 9349.03$\\n\\n#Bitfinex - 9339.20$\\n#Poloniex - 9357.86$\\n#Bitstamp - 9328.73$\\n#Coinbase - 9318.04$\\n#Binance - 9335.00$\\n#CEXio - 9373.30$\\n#Kraken - 9340.10$\\n#Cryptopia - 9340.00$\\n#Bittrex - 9358.03$\\n#GateCoin - 9400.00$\\n\\n#Bitcoin #Exchanges #Price\\r', 'I\\'m sweating with barely contained excitement over the inevitable \"I [32F] discovered my FB employee husband [35M] agreed to take a shittier version of bitcoin in lieu of pay, divorce?\" r/relationship posts https://t.co/4tjWc0yFy5\\r', 'BTC my basecase is drop lower 8.4-8.7 but weekly close above 9.2\\n\\nAm short ETH and ETHBTC, long btc\\r', '5 Plausible Reasons Bitcoin Price Exploded Over the Weekend https://t.co/tQpnUhsN5F https://t.co/IG5N1W1tXV\\r', '@Melt_Dem Missing: Prediction Markets, DAOs, Insurance, DeFi, DAOs in my opinion. Seems rather Bitcoin-centric :)\\r', 'Beverage Turned Bitcoin Mining Company Long Blockchain Moves into Loyalty\\xa0Market https://www.cryptocoincache.com/beverage-turned-bitcoin-mining-company-long-blockchain-moves-into-loyalty-market/\\xa0…\\r', 'To btc https://t.co/Wd2fKdvMK2\\r', 'LOVE!!ItalyWe hope to help, thank you. \\n/bitcoin 1896UwURka9J4MCbSdwfMc1pynArfWYXUf   \\n/amazon.com Wish List https://t.co/kd453LxDOR\\r', \"I'd totally bet on Bitcoin hitting $100k by that strike date. Where do I get some of this action?\\r\", 'Current price of #Bitcoin is $7327.00. Updated via @Gusturedotcom. Bitcoin price chart: https://ift.tt/2xgBOzM\\xa0pic.twitter.com/hsboiqIEwK\\r', '#ACTNOW! Before US #EB5 #EB5Visa #Immigrant #Foreign #Investor #Visa Program Laws Change! $500k #Investment. We accept #bitcoin #ether #cryptocurrency. Contact us TODAY at gbibuildingco@outlook.com. #China #SouthKorea #Taiwan #Singapore #Vietnam #Cambodia #Thailand #HongKong. RTpic.twitter.com/AM52JSZsj8\\r', '#BTC #CAG The working week is coming to an end but yet the relationship between sellers and buyers has not been resolved in the price range of $9,100-9,300. In princ...Read more: https://t.co/fsZeUEhroC\\r', 'https://t.co/pCRzee0J2G #saltlakecity #ETH #UAE #money #crowdfunding #indiegogo #austin #canberra #forthworth #newzealand #kansascity #denver #washington #dubai #BitCoin #entrepreneurship #TokenSales #token #tampa #bancor #ICOs #technews #sanjose #perth #sandeigo #korea #funds\\r', 'https://t.co/eZP8O6m8bJ\\nBTC: $11364\\nETH: $349\\n\\nhttps://t.co/rHonf8YQlF\\n#BTC: $11389\\n#BCHABC: $551\\n#ETH: $350\\n#LTC: $196\\n\\nhttps://t.co/DsBAFGQi2I\\nBTC: $11280\\nLTC: $194\\n\\nhttps://t.co/bo1UPJORlI\\nBTC: $11372\\n\\nhttps://t.co/DTKTS6u8To\\nBTC: $11324\\nBCH: $552\\nETH: $350\\r', 'One Man Cheats Death to come back and define the future of The Human Race https://t.co/OtyNQ0PTr0 | #bancor #sale #ico #AVCJKorea #columbus #btc #indiegogo #godblessamerica #stlouis #money #baltimore #technews #funding #icoalert #Startups #saltlakecity #indiegogo #argentina #ITOs https://t.co/WwjtiJuZW6\\r', 'Bitcoin Cash Price Mounts Minor Comeback yet Bears Lay in Wait\\nhttps://tribetica.com/bitcoin-cash-price-mounts-minor-comeback-yet-bears-lay-in-wait/\\xa0…\\n\\nhttp://reddit.com/r/tribetica\\xa0\\n#newsoftheweek #Bitcoin #blockchain #cryptopic.twitter.com/2i0trwbCEK\\r', 'https://t.co/S6mharMVQI #cybersecurity #kualalumpur #ico #mexico #malaysia #bitcoinaustralia #london #bitcoin #southafrica #funding #Moscow #miv #initialcoinofferings #canberra #austin #deals #crowdfunding #venture #newyork #albuquerque #venturecapital #nashville #nashville #ITOs\\r', 'Analysis of LocalBitcoins data shows that Bitcoin has exceptionally high rates of usage in countries with low economic freedom, supporting the argument tha...Read more: https://t.co/TdecM5HJlz\\r', 'One Bitcoin now worth $582.00@bitstamp. High $585.99. Low $566.02. Market Cap $9.095 Billion #bitcoin\\r', '@tradingroomapp Sir, do you think this will pop up? PERL/BTC\\nQuite negative opinion about team and management, but chart is showing positive signs. https://t.co/xmcFrINxId\\r', 'But if any man be ignorant let him be ignorant\\n\\n#crypto #ignorance #bitcoin #altcoins #badjournalismhttps://twitter.com/bitcoin_txt/status/939203445931827200\\xa0…\\r', 'I am very happy to participate in this project, wish you good project development. The idea is very well developed! I personally participate and advise everyone. #CoinCompany #Crypto #BTC #ETH #Investment https://t.co/hBanEYgckX\\r', 'As Altcoins Plunge Lower, Crypto Winter Threatens To Return @bitcoinist #Altcoin News  #Altcoin Price  #Altcoins  #Bitcoin  #News  #News teaser  #altcoins  #crypto winter  #Ethereum  #litecoin  #XRP  https://t.co/uwPj0zsAOk\\r', 'One day later, altcoins are catching up a bit more when compared to Bitcoin.\\n\\n#digitalassets #cryptocurrencies #altcoins #bitcoin https://t.co/9aGnmQrn8l\\r', '$BTC might just save me from the banks #BTC\\r', 'Why I love #bitcoin so much Bc Gold is the money of kings, silver is the money of gentlemen, Barter is the money of peasants, but Debt is the money of slaves\\n#Bitcoin is the money of Freedom!   Sunday’s is for buying #bitcoin @jack   Let’s gooo!\\r', 'Bitcoin is the S&P 500, Ethereum is the Russell 2000 and Litecoin is Yahoo | #VentureCanvas -http://www.venturecanvas.com/2017/12/09/bitcoin-is-the-sp-500-ethereum-is-the-russell-2000-and-litecoin-is-yahoo-venturecanvas/\\xa0…\\r', 'Enjoy [QuoWee19|20] – on failing privacy, face recognition and surveillance tech. And #Bitcoin too.\\n\\n#HalaCrypto #GreenEnergy2BlockChain #money #cryptomoney #BTC #ETH #Ethereum #blockchain #DASH #Monero #ZCash #LTC #Litecoin  #notyourkeysnotyourbitcoin…https://t.co/lhOtJNsEwl\\r', 'Just received my BitBox02 Bitcoin only edition!\\nVery fast!\\nThanks @ShiftCryptoHQ https://t.co/DeoK9f8ctE\\r', 'https://t.co/ByJre29XCw #share2steem\\r', '@shitposterchiId I’m a trader. I don’t believe in crypto. Only bitcoin. Rest will die.\\r', 'LIVE: Profit = $35.04 (2.57 %). BUY B3.58 @ $380.00 (#VirCurex). SELL @ $386.16 (#HitBTC) #bitcoin #btc - http://www.projectcoin.org\\xa0\\r', 'This turned out 100%\\nOur sats literally made no improvement while btc retraced.\\nIt is rekt city from here.\\nBe thankful for anythinf above 27 cents\\r', 'SEC to Run Bitcoin, Ethereum, XRP Nodes https://t.co/1EZlJH5L43\\r', 'How To Mine Ravencoin | Ultimate Mining Guide | Windows | Linux | Nvidia | AMD https://t.co/IWhTyLHo45 #bitcoin #cryptomining #altcoinnews #bitcoinnews #altcoinmining #crypto #cryptocurrencynews\\r', 'Hurricane Tracker Bitcoin\\r', 'Consultant SIRH Workday / SuccessFactors - @PwC Neuilly-sur-Seine - CDI - H/F - [ 📋 More Info  https://t.co/5gJg8EIW2u ]  #Go #jobs #Hiring #Careers #London #United Kingdom #Cryptocurrency #Blockchain #BTC https://t.co/0Cr4AAboWx\\r', 'Outside Sales Representative - Symmetry Financial Group ( Phoenix, AZ, USA )  - [ 📋 More Info  https://t.co/fZcclsuA6r ]  #directsales #jobs #Hiring #Careers #Phoenix #AZ #Cryptocurrency #Blockchain #BTC https://t.co/grxSKkGR9M\\r', \"Long/Short altcoin moves with up to 100x Leverage at PrimeXBT! 🤩🤑\\n\\nMake money even when BTC is falling! 📉\\n\\n➡️ https://t.co/1Wbss3PCYZ ⬅️\\n\\nSoon they'll offer a social trading instrument too! 🏝️\\n\\n$TRUE - $KMD - $PIVX - $ELA - $AION - $PAI - $GNT - $EOS - $XBT https://t.co/BzzX7delp5\\r\", '@redxbt BTC is on fire! The decent alts will follow. Buy now!\\r', 'Current prices and changes in the last hour:\\n\\n$BTC: $3670.09 | 0.75%\\n$XRP: $0.311685 | 0.86%\\n$ETH: $119.15 | 1.04%\\n$LTC: $43.34 | 4.12%\\n$EOS: $2.72 | 0.91%\\n$BCH: $130.37 | 1.93%\\n$USDT: $1.00 | 0.11%\\n$TRX: $0.026827 | 0.16%\\n$XLM: $0.081234 | 1.42%\\n$BNB: $8.58 | -0.06%\\r', 'Markets are going green, with Bitcoin recovering to its $10K psychological support level and altcoins posting strong gains. https://t.co/ypEJqbzpWg $BTC $ETH $XRP $BNB\\r', 'Soraix \\nunprecedented opportunity to share in our revenue. \\nHability to trade their SRX Token using a 1:1 peg against Equity Tokens issued on our platform\\n#Soraix #blockchain #SoraixICO #ICO #tokensale #SRX #BTC #ETH.\\nvisit https://t.co/29CYYUgGAW\\r', '#Bitcoin (BTC) Breaks Ascending Channel But It May Take A While To Decline #Crypto https://t.co/C65QIiQ0PX via [Crypto Daily] https://t.co/vel0ESCdRp\\r', '$BTC needs a miracle to reverse back up from here.\\n\\nTextbook breakdown. https://t.co/V9H2dvkcOl\\r', 'Bittrex - Volume changed on PCHAIN (BTC/PI)! Price: $0.00000183 (+18.06%), Volume: +62.46%, Mentions Daily Change: -80.00% https://t.co/xg09DOGLhb\\r', \"Or simply use or promote the use of Monero. CoinJoin isn't enough.\\r\", 'Mark Pascall - How to explain the blockchain at a dinner party - https://t.co/HmAY35R17V\\n#Bitcoin #Crypto #Cryptocurrency #October1st #HereWeGo\\nhttps://t.co/QYupI2tbq6\\r', 'Have you seen the new LCG Energy Viral Contest? Join now and recieve up to 1000 EUR in LCG and 600 EUR in BTC! https://t.co/NCF57Xi86N #LCG #Blockchain #Energy #btc #ico\\r', '2018-06-30_03-00-43 Forecast #BTC $BTC #Bitflyerpic.twitter.com/0oic4bGv6Y\\r', 'When the Stuxnet computer worm damaged the Iranian nuclear program http://bit.ly/2ulsiYR\\xa0 #Cybersecurity #Bitcoin pic.twitter.com/hBa0VvpH8I\\r', 'https://t.co/GKnxaKScDe #louiesville #southaustralia #privateequity #tokyo #deals #charleston #blockchain #boise #indianapolis #bitcoinrussia #cybersecurity #entrepreneurs #minneapolis #houston #techcrunch #funding #philadelphia #bitcoin #boston #singapore #kickstarter #vc #uk\\r', 'DCR/BTC Volume Advance - Decred (DCR) 24h volume advances above 30 day average - $DCR $BTC #decred #altcoin #investing\\r', 'Order Rogaine 5% 60 ml compare prices – BTC Is Available – Fast Worldwide Delivery - http://www.orbiti.com/order-rogaine-5-60-ml-compare-prices-btc-is-available-fast-worldwide-delivery/\\xa0…pic.twitter.com/PpwPYyCbND\\r', 'Top shelf!\\r', '#BTC #BCH Crypto and Forex scam reports tripled in the UK in 2018: watchdog\\n...Read more: https://t.co/H1OkFhBsU1\\r', 'Good\\r', 'Top Banker Admits Fiat is Worthless, Is Bitcoin The Future of Money? https://t.co/klu7FznK78 #DLT #Tech #LegalTech #Standards4Blockchain https://t.co/OQmJxFzJJW\\r', '@YahooFinance Did he buy bitcoin and .33 cents?\\r', '$BTC: 10199.262 (-0.68%)\\n$ETH: 188.063 (-0.53%)\\n$XRP: 0.267 (-0.25%)\\n$BCH: 305.758 (-0.77%)\\n$LTC: 73.413 (-0.5%)\\n$BNB: 27.283 (-0.52%)\\n$USDT: 0.996 (-0.03%)\\n$EOS: 3.597 (-0.5%)\\n$BSV: 133.963 (-0.3%)\\n$XMR: 81.551 (-0.53%)\\n$XLM: 0.068 (-0.34%)\\r', 'Chinese Central Bank confirms launch of its cryptocurrency. India announces legislation to regulate crypto. Crypto wallets on phones provided by Apple/Samsung/Huawei. Crypto payments in retail experiences surge in adoption. Employees paid in crypto. #ALTSEASON NEVER ends. $BTC\\r', '#blockchain #cryptocurrency #bitcoin #ethereum #ICO #P2PS #P2PSF #startup\\r', \"LN is a much bigger failure than BCH. I don't know what you're gloating about here. There will probably be more #bitcoin locked in WBTC than LN by the end of the year. 🤪 https://t.co/kRwnNoaPnT\\r\", \"#Bcnex #BCNX #LIVE 🚀 Congratulations! BCNEX OFFICIAL LAUNCH 🇻🇳 Trading start time: 17:00' 19/08/2019 (GMT+7)\\n🇻🇳 Trading markets: BTC, ETH, USDT, BCNX\\n🇻🇳 FREE DEPOSIT, FREE TRADING and have a chance to receive 100 special cash prizes of up to $500 each. \\n\\nhttps://t.co/lmMN5Cmt3J https://t.co/UEcUbEtxWN\\r\", 'SIM-Swapping Victim Lands Big Payout After Civil Suit • Live Bitcoin News - https://t.co/WZaw4Tb3dj\\r', \"I've realised that 90% of the top CT charters and influences really don't have a clue\\n\\nNo charts, no triangles, no channels, no ew's, crypto is far from predictable. \\n\\nThe holdlers will prosper the most \\n\\n@Crypto_Bitlord  was the only one who sore this coming \\n\\n#bitcoin #crypto\\r\", 'Elon Musk Supports Yang – But Does Andrew Yang Really Support Bitcoin? #ico #cryptocurrency #token\\r', 'No matter what you coin is, you have to laugh. At least $ltc has \"Bitcoin\" in its name now!\\r', 'Pick me! Please!\\r', '$430.66 at 13:30 UTC [24h Range: $422.01 - $435.00 Volume: 5200 BTC]\\r', 'Bitcoin Price Surges 7% Overnight, Hitting 70% Dominance vs. Altcoins https://t.co/D7fzXB2u4e\\r', \"#btc Earn and multiply your bitcoins... All for FREE!!! You don't believe me? watch how I do it in this video ▶ https://t.co/B9Jl6GYT30 https://t.co/XxwYSA34Mg\\r\", '#ICO #Crowdsale #Bitcoin #Blockchain #Token #ETH #Ethereum #TokenSale #skyfchainhttps://twitter.com/SKYFchain/status/981232946639265793\\xa0…\\r', 'MotoGP Results Today\\nhttps://t.co/6EMB7wj4Fb\\n.\\n.\\n.\\n#motogp #motogpnews #motolive\\n#sports #sportslive #moto #motogpresults\\n#bitcoin #bitco #trading #trade #crypto\\n#cryptocurrency https://t.co/3IrflRK3Dy\\r', \"@futurepaul @pierre_rochard How does BTC eliminate the ability for rent-seeking that's impossible to replicate?\\r\", 'Me thinking about Bitcoin under 4k \\nhttps://t.co/1AST8JZU71\\r', 'Bed ko primary se bahar kijiye.....sir unke pass to bht sari opportunity aapne de rkhi h .....or btc walo ko sirf primary hi h....... \\n @justice4btc\\n@PrakashJavdekar\\n@HRD\\n@narendramodi\\r', '“Some in the community are therefore arguing for the broader adoption — and even the formalization of a symbol for the Satoshi; the name given to the smallest, indivisible unit of the cryptocurrency, or one hundred millionth of one Bitcoin.” @Cointelegraph\\r', 'hate fake #sugardaddies if I’m real and legit your money should be too. \\n\\nWant more?\\n\\nKik @nicholeydl \\n\\n#btc #paypig #fendom #sugardaddy #sugarbaby #findon #pussy #boobs #ass #nudes #horny https://t.co/LnXF76QVUt\\r', 'Bitcoin Halving Event - Major Rally Coming? https://t.co/gDFk3dNkcH #bitcoin $btc\\r', 'LIVE: Profit = $2,564.13 (66.13 %). BUY B1.48 @ $3,100.00 (#VirCurex). SELL @ $4,400.00 (#TheRock) #bitcoin #btc - http://www.projectcoin.org\\xa0\\r', 'NK started mining btc and now we this fall...\\r', 'Crypto Market Holding Key Support: Bitcoin Cash, EOS, TRX, ADA Analysis https://t.co/sg7fvBUhCe https://t.co/jeku0kxet5\\r', 'Share your stories, projects, business to https://t.co/jY3tIs4wHv\\n@BlockchainHey @CryptoDanielson @zerohedge @erik_jacobi @DarkHorseXRP @HarmailSidhu2 @HFcreate @Cryptotyrion @hodlhodl \\n@AltcoinN_ #Crypto #btc #blockchain #altcoins #eth #cryptocurrency\\r', 'In the last 10 mins, there were arb opps spanning 11 exchange pair(s), yielding profits ranging between $0.00 and $478.95 #bitcoin #btc\\r', 'Quick #Bitcoin update, the price is now $10910.00 #btc $btc pic.twitter.com/shTvQh8Nh6\\r', '@RealTimeCrypto https://t.co/f1Q96E5gGs\\r', '@bpdesign_fr @CryptoMichNL @loomdart The real question is what can we expect when $BTC hits 100K\\r', \"Tomorrow's Ripple(XRP) forecast is\\n        \\n△UP 79% \\n▼DOWN 21%\\n\\n#Ripple, #XRP\\n\\nBitcoin Forecast (iOS)\\nhttps://t.co/mGv869Ccp6 https://t.co/ZwH6UAkYJi\\r\", 'Open Air Miner Mining Frame Rig Iron Case Crypto Coin For 6 GPU ETH BTC Ethereum https://t.co/DMWguEvN7C\\r', '@Eljaboom Don’t trade, just buy btc and hodl, after 2025 you can enjoy 😉\\r', '\"there is more happiness in giving than in receiving\" \\n\\nhelp to realize my dream.\\nGive me a donation in bitcoin.\\n wallet\\n 19fvL7NB1z4hjLzPRG4oW7oHzJz65dsnN4\\n\\nPlease help me. Thanks\\r', \"@AxeCapCrypto @francispouliot_ BTC is trying to be money.  That's pretty much the solitary goal.  Peace.\\r\", 'Join now: https://t.co/HeZbnArgPa Litecoin Foundation to Release Physical Cryptocurrency Debit Card https://t.co/7jhFSQooDX #bitcoin\\r', 'Is this the play Paul  spoke out a few months ago  about takingover btc by bch\\r', 'Yes, be a Boomer and save. \\n\\nNever take profits. 🚀\\r', 'Bitcoin Mining in Iran Must Be Regularized: Minister https://t.co/nyrq9N2bcw\\r', 'Bitcoin Has Recovered Over 23% of Its Bear Market Price Losses https://t.co/moPZgWWDm9 via @CoinDesk\\r', '#Implementation of #Blockchain can bring an #exceptional degree of trust to the data enterprises and #immutability provides #Integrity on a day-to-day #basis.\\n\\nhttps://t.co/vflROxaWIZ\\n\\n#Rakamoto #FridayMotivation #FridayFeeling #Blockchain #Crypto #Bitcoin #Digital #Money #Coins\\r', \"The Bitcoin $BTC price is currently 7833.77 $USD or 6975.75 $EUR.\\nIt's the number #1 cryptocurrency on the Earth with a market capitalization of 138998.73 millions $USD.\\nLast changes :\\n1h -&gt; -0.12⛔\\n24h -&gt; 0.31✅\\n7d -&gt; -10.0⛔\\n#bitcoin #price #coinmarketcap #FM4OET8O\\r\", 'Values of the highest market cap 10 Cryptocurrencies :\\n1. #btc $8560.32\\n2. #eth $191.93\\n3. #xrp $0.273588\\n4. #bch $231.05\\n5. #ltc $57.71\\n6. #usdt $1\\n7. #eos $3.14\\n8. #bnb $17.35\\n9. #bsv $88.26\\n10. #ada $0.04179129\\n\\nActual ⏰ 00:05 GMT+3\\r', 'And in canuckistan......\\n\\nEl nada.   \\n\\n#vanre https://t.co/Q67iC8ldK2\\r', '@ildella @inthepixels Bitcoin is artificial gold\\r', 'The average price of Bitcoin 7944.88 USD #bitcoin #btc #price https://t.co/BzPKIkGind\\r', 'Analyst Claims $8,700 Marks Good Long Opportunity for Bitcoin Despite Overnight Plunge #Cryptocurrency https://t.co/vfcR6TOKJj https://t.co/NK0xMVm9kF\\r', 'Tether increases volumes. Already released more than 4 billion USDT https://t.co/Uzx7wgNuYV #btc\\r', '[1D] #Bitcoin market is weakly trending down current momentum suggests the market is neutral. #trader #options #forextrader visit: https://t.co/yuSljvM9Fq for more!\\r', 'Meth-smoking football coach who blew $2.1M on Bitcoin: ‘I’m still a believer’ https://t.co/DegvvdKWtY David Canellis\\r', \"I'm home...\\n\\nWatch what I do to bitcoin in the next hour https://t.co/QMUJl24D8S\\r\", 'Make a Wish With Bitcoin https://t.co/tCEQO9h6TD\\r', 'The pinnacle of mainstream adoption 😜\\nhttps://t.co/fkMA0nTFFf\\n\\n#bitcoin #crypto\\r', '$BTC dominance at 59.1%.\\r', 'We all got some salty folks on here \\n\\nLitecoin is going to amaze the world \\n\\n#ltc #litecoin #bitcoin #btc\\r', '#vodix #blockchain #bitcoin #cryptocurrency #ieo #bittrex https://t.co/potzKkOy68\\r', '$BTC is now worth $9,986.75 (+0.02%) #BTC\\n\\n➡️ https://t.co/lNpLBdQRKt\\r', 'As of September 27, 2019 at 10:58PM, 1 BTC = 8165.9199 USD. 😄 https://t.co/ksCOqyBwFU 😋 #Investing #fire #ira #401k #money #stock #retirement #trade #NeverWorkAgain #CapitalGain #Savings #PersonalFinance #crypto #ethereum #eth #bitcoin #btc\\r', 'Bitcoin Q&amp;A: Blacklists, taint, and wallet fingerprinting https://t.co/USlQoubt4J via @YouTube\\r', 'Digital custom photo frame with 3D rendered Bitcoin live traffic via /r/Bitcoin https://t.co/B1nP3ZznTa #bitcoin\\r', 'In the last 10 mins, there were arb opps spanning 37 exchange pair(s), yielding profits ranging between $0.00 and $132,032.96 #bitcoin #btc\\r', 'Implications for #Bitcoin Now That 85 Percent of Supply Has Been Mined https://t.co/vBBikhMzH7\\r', '@bkhgogo Trying my luck, Hit me with some BTC: (12NsyTanCY9ZHYZ8GXZn2KaobRavYzUKxw)  #bitcoin\\r', 'He betrayed Bitcoin and inturn karma took control.\\r', 'Start mining #Bitcoin without any hassle!\\n-\\nCheck out this site, you can mine Bitcoin on your phone or laptop starting right now!\\nhttp://bit\\r', 'Congrats to our co-founder @BG14_15 for winning the 2019 Miami Bitcoin Hackathon. \\n\\n#BUIDL #BTCMiamipic.twitter.com/749V6d6S9n\\r', 'Bitcoin HODL Joy Was Short-Lived as Price Falls to $8,285 with Overall Market Tumbling  #cryptocurrencies https://t.co/H8mO69Gr0j\\r', '@APompliano @brucefenton Long Bitcoin! Short the politicians!\\r', 'Current Crypto Prices! \\n\\nBTC: $12657.66 USD\\nETH: $331.24 USD\\nLTC: $128.72 USD\\nBCH: $475.24 USD\\nXLM: $0.1185 USD\\nDOGE: $ 0.003164 USD\\nNEO: $19.17 USD\\nXRP: $0.4554 USD\\nCANN: $0.002152 USD\\nEMC2: $0.1037 USD\\nXMR: $100.73 USD\\nBTG: $29.1 USD\\r', 'Survival System - 39% Increase In Conversions, Converts Col.. \\n@1jl4com - Familia - Twitter - News - Noticias - Bitcoin - CryptoCurrency - Forex https://t.co/Ngt2zwgvLx\\r', '@winklevoss What about credit cards? Those have worked just fine for buying and selling in USD online?\\n\\nThe amount of businesses conducting e-commerce using USD dwarfs any using BTC .. you know, almost as if BTC is less efficient?\\n\\nWonder if it has something to do with volatility and fees?🤣\\r', 'Bitcoin value: $8094.86\\r', '@MartyBent @TFTC21 @EpsilonTheory @jamesob Money has always been changing. From beads, to seashells, cooper, silver , to gold. Market chose money not the fucking officer. Officer only out their seals. Same will happen with bitcoin. Market will choose, govt and banks will adopt and issue currency on top\\r', '🔄 Prices update in $USDT (1 hour):\\n\\n$BTC - 9982.12 $       (-0.55 %)\\n$ETH - 215.4 $         (-0.35 %)\\n$XRP - 0.29 $          (-0.45 %)\\n$BCH - 312.12 $        (-0.54 %)\\n$LTC - 73.53 $         (-0.92 %)\\n\\n#BTC #ETH #XRP #BCH #LTC #Trading #Crypto #Bitcoin\\r', 'Crypto Panic: bitFlyer Makes Buying and Selling Bitcoin Easy for EU Customers https://t.co/ntKGLmgbkU 🙋Crypto Cashflow via → https://t.co/2p1Vt5799c https://t.co/X0ovySyMV5\\r', '#SexForGrades: UNIPORT Bans Hugging Between Lecturers And Female Students https://t.co/H35DyMqRCa @Radiouniport1 #SmileTacha #bitcoin #CallMyNameMV #MondayMotivation\\n#MondayMorning #mondaythoughts #TrusteesWeek #Mothercare ##GOT7xJonasBlue\\r', 'Be part of the future App Store https://t.co/JLkb0g8HWi @dapp_com \\n⚡️Join $100,000 #airdrop with my link: https://t.co/p0rtEa23Rb to catch the Last chance for free $DAPPT before listing 🚀 https://t.co/2M7fgEiRdQ #BTC #Crypto #Blockchain #Airdrop lewat @Dapp_com\\r', '#Major #names such as ether (#ETH), #litecoin (#LTC), #XRP (#XRP) and #EOS (#EOS) also began to fall in #value at around the same time as #BTC, #losing between 8-12 percent respectively.\\n\\nhttps://t.co/4qE71bMB41\\n\\n#Blockchain #Crypto #Bitcoin #Digital #Money #Coins #Dollar #Banks\\r', '#Bitcoin #Briefly #Dips almost 20%, #Rebounds to #Hover just over $15,000 US - #Business - https://wp.me/p8IYwe-dNl\\xa0 - #World_Newspic.twitter.com/Vz2We8Ko1R\\r', 'Pembridge Resources appoints Gati Al-Jebouri as CEO and chairman #Bitcoin #Btc #Cryptocurrency #finance #forex #markets #fx $BTC $Gold\\n\\nRead → https://t.co/LAR09BYrA3\\r', 'More reasons to #bankexit - #deutschbank confiwcates #Venezuela gold\\n\\n#Bitcoin #Ethereum #blockchain #crypto #Crypto  #hodl #finance #money #dollar #cash #refinance #euro #rupee #investment #poundsterling #pound #yen #franc #yuan #peso #won #gold https://t.co/2IhoNyjkmO\\r', \"@mstrvrs Invest with #bitcoin price protection #investing in the world's 1st #giftcards #cryptocurrency #exchange #btc #CNTZ > @CCEDK_\\r\", '#CoinCompany #Crypto #BTC #ETH #investments\\n\\nSolid concept and experienced expert team to execute the project vision. Loved the shiny whitepaper with detailed business and technical information for investors.\\n\\nhttps://t.co/Sv52Uf616M\\r', '@JoyceInNYC @Tronfoundation Why don’t you work on bitcoin already?\\r', 'investing in bitcoin changed my life\\r', 'Why Blockchain? Because we want you to experience a secure and transparent experience. Explore https://t.co/OZ1y7dvAm2\\n#Tokoin #MSME #Blockchain #Crypto #cryptotrading #BTC #EmergingMarkets #Ecommerce #retail\\r', 'investing in bitcoin changed my life wallah no cap wallah\\n\\n(this was a dare)\\r', 'Found this at a yard sale!!!\\n\\n http://ElixiumCrypto.com/27/\\xa0 \\n\\nRegister Now & Start Buying & Selling Cryptocurrency \\n#Crypto #Cryptocurrency #Bitcoin #BTC #Ethereum #ETH #Ripple #XRP #EOS #Stellar #Litecoin #LTC #Cardano #Monero #TRON #IOTA #Dash #Tezospic.twitter.com/Dp5p7OG2wM\\r', '#BTC 24hr Summary:\\nLast: $2504.89\\nHigh: $2625.00\\nLow: $2430.05\\nChange: -2.65% | $-68.11\\nVolume: $ 13831.09\\n$BTC #Bitcoin #coinbasepic.twitter.com/5zKtfDaR9X\\r', 'Green is my favourite colour & I just hate RED!!!\\n#Bitcoin #Altcoins #Cryptopic.twitter.com/BXF1qfkRS3\\r', 'Bitcoin Is A Truth Machine, Says Gold Bullion International Co-Founder https://t.co/AgWi7JiRJo https://t.co/T6rNzKZDzy https://t.co/gwKF1uqWgx\\r', 'on me i’ll b on first 48\\r', 'So is @facebook going to let the average person get in on their #Bitcoin killing #crypto?\\r', '@Wuabit #Wallet can be accessed via @WhatsApp chat Interface\\n#CoinSubtle #Cryptocurrency #Blockchain #Bitcoin #AI\\nhttps://t.co/cLeZQYQmMd\\r', '@cz_binance my #btc come , thanks https://t.co/PrCdWqV61l\\r', 'Bitcoin [BTC]: Andreas Antonopoulos explains reason behind unknown block versions being mined\\n\\nhttps://t.co/xeMPhVYr7P\\r', 'Liquidated 💥 long on BTC/USD 0.00155609 @ 8000.0 (entry 9829.9) | 2.8475 lost | Executed\\r', 'HEREISTITLE https://t.co/oBIXoDaLcL #cryptocurrency #bitcoin #cryptonews #btcnews\\r', 'Alright bitcoin!\\r', '$XLM  $OMG $BTC $XLM $SIX $NEO #Bitcoin #Crypto #cryptocurrency #trading #btc #ethereum #banking #BKK #Tech #Fintech #Startup #SIXNetwork https://t.co/bz4pI7v3iK\\r', 'Its a good chance to participate. A very good project that we have to support with a professional team in it, with a professional team is likely this project will be great!\\n@pngmemobile #Pngme #Pngcoin #PNG #Payments #Blockchain #Crypto #MSME #BTC #fintech #mobilebanking #Banking\\r', 'How XRapid Is Making Waves Worldwide https://t.co/1VFmDZW9Cs\\n#ripple #ethereum #bitcoin #litecoin #ada #trx #xrp #eth #btc #btch #neo #tron #xlm #stellar  #crypto $ripple $ada $xrp $eth $btc $btch $xlm $eos #xrpthetstandard\\r', '#QDAO #USDQ\\nhttps://t.co/sJyIq0YuEA\\r', '@MrBeastYT \\n@Challow212 \\n@ChrisO2_  \\n@pewdiepie \\n$BTC\\n#bitcoin I made this beast fan art for you  I use freehand and microsoft powerpoint. please help me by buying all of my crazy stuffs for 0.5 Bitcoin(-/\\\\-) 31nrZ2bepMRBdbar6aquFufbn3zkpm6zkZ https://t.co/ZhYoY5vBzH\\r', 'Not again....\\r', 'Thank you Bybit\\r', 'LTCfoundation email response time https://goo.gl/FVx5bS\\xa0 #LTC $LTC #BTC pic.twitter.com/uRhOlaykCK\\r', 'The creator of Bitcoin is still unknown. The identity of Satoshi Nakamoto, the computer programmer who invented the digital currency is a pseudonym and could represent a man, a woman, or even a group of people.\\r', \"@CryptoBull Looks like a left shoulder may be forming on 4H ETH BTC looking healthy too. Looks like at a minimum we're getting another go at 10k before potentially heading down. https://t.co/NfLqS4WUfR\\r\", 'NEW TRADE\\nExchange: #Binance\\n#STORJBTC\\nBuy Date : 2019-04-22 20:11:45\\nSell Date : 2019-04-23 00:44:02\\nBuy : 0.00004944\\nSell : 0.00004969\\nProfit : 0.51%\\n\\n#STORJ #bitcoin #projectxonline #probot #trading #tradebot #btc #cryptocurrency #blockchain #crypto #altcoin\\r', 'Remember, every BTC you sell, someone is buying. https://t.co/WanFfkwn2v https://t.co/IEvC9iqAAG\\r', 'US man faces up to 5 years prison for selling $2 million worth of Bitcoin\\xa0online https://t.co/X1CKhzRRLb https://t.co/wRSZckgqxJ\\r', 'Bitmain Antminer L3++(580MH/s)with psu APW3++ 1600watt max https://t.co/wvZr5EpugC #bitcoin #crypto #antminer #bitmain\\r', 'https://t.co/RFoNUM5fOp - Even Higher Conversions In 2018!) \\n@joseluisintwite - Jobs - Twitter - News - Noticias -\\nBitcoin - CryptoCurrency https://t.co/gEppVOm2g2\\r', 'USD: 111.430\\nEUR: 125.050\\nGBP: 145.606\\nAUD:  78.625\\nNZD:  74.168\\nCNY:  16.538\\nCHF: 109.535\\nBTC: 589,671\\nETH: 17,795\\nWed May 01  18:00 JST\\r', 'https://youtu.be/gQHgTBGgp9o\\xa0\\n\\nTurn 1 BTC to 5 BTC with usitech\\r', '1 DOGE Price: 0.00000029 BTC #doge #dogecoin 2019-07-30 13:15 https://t.co/fkoH7CoJiv\\r', 'The #most #complete list of every #blockchain and #cryptocurrency meetup in #Budapest, with #ratings! Our #custom #Bitcoin #Market #Journal #Score is #calculated by the #number of #members,\\n\\nhttps://t.co/qn5eJD5WNR\\n\\n#Digital #Money #Coins #Banks #MondayMotivation #MondayMorning\\r', '@mdudas It lacks digital scarcity.  There is currently an unlimited supply. &lt;3 eth but this must change or ICOs need to make a fierce comeback, which I think they will once btc approaches $20k\\r', '#BitcoinCryptoCurrency\\nBitcoin USD: 8384.64\\nBitcoin EUR: 7548.82\\nBitcoin Yen: 901524.73\\nBitcoin Ruble: 537876.02\\n\\n #CyberGuerrillaAutonomousNexus\\n\\n#BTC AdDreSs: 1Bhgvcsm3P59fSCLg5G6DSstpV4srk5JTy\\n\\nhttps://t.co/sgvPuWxfc7 provides financial and… https://t.co/UwOEiZEAUn\\r', '#Volume Bot: \\n$BNB 0.00234190\\n34.16 BTC at Minute 33\\n1.3% of Daily Volume\\nUTC Time: 10:33:04\\nJoin us on Discord: https://t.co/WEl019K16x https://t.co/x9rXTG6FRh\\r', 'I sincerely appreciate this opportunity. Thank you Bybit.\\r', '$5,000 in Reach? Bitcoin Falls Back After Hitting 5-Week High. Is it merely a stumble? http://bit.ly/2ybz0Gx\\xa0 via @CoinDesk\\r', 'A $XMR is worth 0.00749808 BTC\\r', '356.20___buy_354.20___sell_356.20___vol_32262_btc___high_358.88___low_358.88___mtgoxUSD____339.00_bitpayBBB\\r', 'Bitcoin and Altcoins Still Stuck in a Corrective\\xa0Phase https://t.co/sc1413qw03 https://t.co/kMPDG6qcIe\\r', '🔄 Prices update in $USDT (1 hour):\\n\\n$BTC - 8370.53 $ (+0.3 %)\\n$ETH - 177.74 $  (-0.01 %)\\n$XRP - 0.25 $    (-0.25 %)\\n$BCH - 223.23 $  (-0.62 %)\\n$LTC - 55.93 $   (-0.27 %)\\n\\n#BTC #ETH #XRP #BCH #LTC #Trading #Crypto #Bitcoin\\r', 'Current Bitcoin Value 1 BTC = $950.00 USD: - Im Loving Bit http://short.4bc.co/1y\\xa0\\r', 'Join\\r', '@EconomicTimes @livemint can you confirm authenticity of this Bitcoin ban? pic.twitter.com/GtES9ngIwo\\r', 'CoinCompany is not just an opportunity to gain profit from your deposits, but also a promising affiliate program where anyone can participate! All you need is to start inviting new partners through your referral link.#CoinCompany #Crypto #BTC #ETH #Investment\\r', '@XRPS0L0 @davidgokhshtein Yeah. BTC = 21 million. XRP = a BAJILLION TRILLION.\\r', \"Assuming the creator is holding Bitcoin, they would be shooting themselves in the foot... unless it's all some diabolical experiment and the creator doesn't care about money. Then they come forward at some point. Somehow, I don't think that's going to happen.\\r\", 'Jesu!!!\\r', '⚠️THESE FRAUDSTERS STOLE MILLIONS😱And they are not done yet⚠️HELP STOP THEM⛔️BY SHARING THIS🔂https://t.co/lX0p65d99T?  View : https://t.co/mr1noZDySi @RealTimeCrypto @coindesk @BTCTN @TodayCrypto @CryptoNewsFlash @KolesCoinNews @ToshiTimes @_CryptoReporter @CyptoGeneration https://t.co/Lnj1A5W36S\\r', '@emrikan2 @bigsiegedog @dyslesyx didnyall donate to my btc wallet or was i dreamin\\r', 'IRS Followed Bitcoin Transactions, Resulting In Takedown Of The Largest Child Exploitation Site On Th... via @forbes https://t.co/4MCTGbJTq9\\r', \"Winklevoss Bros are Billionaires Again After Bitcoin's Blowout Party via @ccnmarkets https://t.co/uIn2APqMcV\\r\", 'The Fed has already injected $210 billion into the #economy since September.  Could #bitcoin be a hedge against questionable #economic policy? https://t.co/Y11wG7HBZl\\r', 'The latest Bitcoin Today! https://t.co/OAqT0ytMJo Thanks to @confirmgist @Bitcoin_org_ @Hdao_Official #bitcoin #cryptocurrency\\r', '#Largest Binance Bitcoin Trading group provide Bitcoin BOT Crypto Signals &amp; bitMEX Trade Copier – The Bitcoin\\xa0Forum https://t.co/McmnhTZYY9\\r', 'Newsflash: Bitcoin Crashes Below $10,000 – When Will the Bleeding Stop? #the #bleeding #stop https://t.co/jfa5pDMjF4 https://t.co/DvgydCEYSm\\r', '@AlchemicJay @defrost94 @APompliano Here you go!\\n@APompliano with another one.\\n#Bitcoin https://t.co/HskxXoj4GU\\r', '@antiprosynth @RyanMilb @colingplatt @IslandHunting More specifically those who hype hyperbitcoinization and btc being a good unit of account (some day).\\r', 'XBTE #Vaultmex Price Alert \\n Time: 2019-05-31 17:00:58\\n#XBTE BTC\\n Change:%\\n#instabtc #btcnews #SmartContracts $JPY #stockmarket #vaultmex \\n\\nhttps://t.co/GEPyouTbTk\\r', 'PORTUGAL ALSO HAS DECRIMINALZED DRUGS....PORTUGAL IS IN 2100\\r', 'A \"Good Start\": US Introduces Office of Innovation and Sandbox for Fintech - Bitcoin Magazine http://dlvr.it/QdcYHV\\xa0pic.twitter.com/gJNztvk9z9\\r', 'START BITCOIN MINING       https://t.co/ZFCeYnRrOu\\r', 'BUYING activity\\nMARKET OST Binance\\nDuration: 30 min\\nMaker buy 11.05%\\nVolume 24h: 40.59 BTC\\nBought: 4.49 BTC\\n$OST #cryptotrading #bullish #binance\\r', 'BTC/USD Orderbook Density - Asks: $107087/$ within $9210-$9500 range ; Bids: $80182/$ within $9000-$9230 range $BTC $BTCUSD #bitcoin #orderbook\\r', 'Definitely! \\nNever been that higher 🚀🚀🚀 https://t.co/Sbxzd9Tv3M\\r', 'POST VIDEOS AND PHOTOS ON THE LIPCHAIN APP AND GET PAID FOR SURFING #LipChain #ICO #Crowdsale #Bitcoin\\r', \"I don't see how there won't be a combination. Some will never run a full node but will want the benefit of Bitcoin. Many have no smart phones yet. Some don't have email, and some still don't have a computer. \\n\\nFull node saturation as much as possible 4 the most robust network.\\r\", 'Free Bitcoin-‐⠀ Get Rich with the Bitcoin Profit System⠀ Tom McAfee made $550K in\\xa0\\xa0three years. Michael Gates,\\xa0Richard Branson and other top businessmen describe why the current down Bitcoin market is actually the time to invest&gt; https://t.co/LsoIapUrMq⠀ #bitcoin #crypto https://t.co/PWWNlfUNBp\\r', 'Top 5 #crypto gainers \\n Alert Time: 2019-10-13 16:01:02\\n#StrongHands: $0.000\\n#Ubricoin: $0.001\\n#StrongHandsMasternode: $0.477\\n#CyberMusic: $0.000\\n#BDTToken: $0.009\\n#instaeth #altcoins #AI $BTC $QRL\\n\\nhttps://t.co/rdEr8N5koT\\r', '@LisaMei62 I think Trump has delayed that plan...Bitcoin stopped rorting once Trump entered and looks like exit scam at moment.\\r', 'Sign-up now to get $10 Welcome Bonus: https://t.co/rUn0i7oIIh\\r', 'Enter our website to access our shopping center (click on \"buy\"). Remember that with each purchase you will help us create an economic base to carry out our objectives.🕊️🌱📢\\n\\nhttps://t.co/IkzCmQIjbE\\n\\n#Blockchain #UNICEF #ONU #Agenda2030 #bitcoin #btc #trading #ODS #NEO #Fintech https://t.co/ilmCFLSk6v\\r', 'Bitcoin Price Struggles to Recover After Slump Earlier Today https://t.co/sc55bNNZ11\\r', 'Block Number: 576,704\\n\\nTime: 5/19/2019, 5:40:23 AM UTC\\n\\nMiner: Unknown\\n\\nTransactions: 2,338\\n\\nBlock Value: 8,833.564 BTC\\n\\nSize: 1,221,327 bytes\\n\\nTotal Supply: 17,708,800\\n(84.32762% BTC issued)\\n\\nPrice: $8000.51\\r', \"After helping beat Liverpool, Napoli's Llorente shines again https://t.co/bRlhWmfaKL ▶️ https://t.co/BkaUd92HrS #Bitcoin #Betting https://t.co/gj7Id4EP8U\\r\", '@APompliano And by “yourself” you mean Bitcoin? 🤔\\r', \"A friend asked me if I know anything about BTC cause he'd like to invest.\\n\\nThe virus is spreading \\r\", 'Check out the brand new CryptoTab browser! You just use it like a regular browser (watch Youtube, browse websites or social media networks, etc.) and earn income in BTC at the same time! https://t.co/WVyFO3lN0p #bitcoin #cryptocurrency #blockchain #crypto #ethereum #btc https://t.co/gT5QnAPZXY\\r', 'Average Bitcoin market price is: USD 8,761.27, EUR 7,954.30\\r', \"As you sip your coffee admiring the new day feel confident in crypto investing. Projects like Apollo are helping to usher in a new age of sustainable blockchain for the masses. Don't miss it shine.\\n#Crypto #Bitcoin #apollocurrency https://t.co/jvs8CjctQN\\r\", 'nice\\r', 'Dear Bitcoin, could you please stop ruining our #VTCember ?\\r', 'https://t.co/RQlTq9luEq\\nDouble your XRP (ripple) coins using our secret high frequency trading system. With automatic withdrawals back to your address. INBOX📩 us here or visit us on website above.⤴⤴⤴⤴⤴ #xrp #ripple #btc #xrpripple #ripplexrp #xrpcommunity #xrpthestandard https://t.co/exqqQOvYHg\\r', 'New podcast episode by Noded Bitcoin Podcast: Noded 0.38.0 with Justin Moon https://noded.org/podcast/noded-0380-with-justin-moon/\\xa0…\\r', 'Eterbase allows users to make and receive SEPA payments in their personal IBAN accounts seamlessly connecting the world of crypto and banking in the EU.\\n#eterbase #bitcoin #exchange\\nFor more info about the project. kindly visit the official website here: https://t.co/iiWk9nSODZ\\r', '@dohun754 \\n@maekawamaki825\\n@J3puNc5Xs57Et7M \\n\\nThank you~\\r', ' Total Market Cap: $130,361,976,979\\n 1 BTC: $3,867.53\\n BTC Dominance: 52.11%\\n Update Time: 28-02-2019 - 14:00:06 (GMT+3)\\r', 'Bitcoin halving in 286 days https://t.co/FptUEEhzAj\\r', 'Instant Bitcoin Income Paid Every 60 Minutes https://t.co/mN8931ftZU\\r', 'The same level of \"safety\" the current financial system provides is available using a trusted third party, but with bitcoin you are not forced to use a third party.\\n#PayItForward\\r', 'In the last 10 mins, there were arb opps spanning 27 exchange pair(s), yielding profits ranging between $0.00 and $103.75 #bitcoin #btc\\r', 'Bitcoin Shares - Invest in P2P Mining Tech. &amp; Earn Daily https://t.co/nn6azj723B\\r', 'Why Tim Draper Is So Excited About Bitcoin http://i.dvolatility.com/2017/12/why-tim-draper-is-so-excited-about.html\\xa0…\\r', '$Karisma1879\\r', 'Cut this one with slight loss. Still think btc alt pairs will fly, just need a better entry.\\r', 'Time to sell VRA for : 0.000001529 BTC in HitBTC Date: 2019-11-12 13:40:30\\r', '#RT @murthaburke: Reasons Bitcoin Will Not Stop at $20K This Time https://t.co/pn9Qopxg3e via @cointelegraph #crypto #cryptocurrency #ico #blockchain #airdrop #altcoin #btc #eth #bitcoin #ethereum #fintech #IEO #token #altcoin #trading #listing #exchange #murthaburke @TheCollec…\\r', '@_MarkHanna btc needs to drop for btc to pump\\r', '@rhyso84 @XRPSOS @ecb @Lagarde @JoelKatz See Venezuela exactly as we run it in Europe @venezuela\\nSince the paper (FIAT) has no value, they make handbags out of the banknotes for the tourists. You will now be introducing Bitcoin as a means of payment.\\r', 'Bitcoin: Analysts Target a Test of Range Lows at $7800 in Near-Term https://t.co/cz7U49WjNK\\r', 'https://t.co/6kKjFgy0g9 #BitCoin #raleigh #orlando #losangels #detroit #charleston #spain #indiegogo #campaign #PrivateEquity #kualalumpur #fund #blockchain #cryptocurrency #louiesville #stlouis #crowdfunding #AVCJjapan #platform #waves #italy #cryptocurrency #seattle #Top10 #nem\\r', '@bitcoinpasada Yes it is.\\n\\nI am humbled to be a user, a promoter and a witness of this beauty: BTC ❤\\r', 'Ready to unleash! @digitexfutures Zero-fee #BTC futures trading — Win 50,000 #DGTX tokens! #CryptoTrading #Digitex #BitcoinFutures #ZeroFeeTrading #FuturesTrading #Crypto #Bitcoin #ReadyToUnleash #UnleashTheBeast Testnet launching 30/11/19 https://t.co/XF1dZ6mkaA\\r', '#RT BitCoinAlertBot: The current price of #BTC is $10656.6 in USD #crypto #cryptocurrency #trading $BTC $XBT\\r', 'John Bollinger warns #crypto traders about major #bitcoin price move\\nhttps://t.co/ig2kuBdfkm #market #technician @BBands #cryptocurrency $BTC #bottom #volatility #sideways #trading\\r', 'follow everyone that likes this. \\r', 'Definitely Bitcoin-only, no interest in any other feature coins. \\r', '100 #BTC ($781,720) withdrawn from #Huobi wallet (multiple addresses) to unknown address (358n3...rNxPQ) \\n    \\nTx: https://t.co/dVpRlSNYHp\\r', 'Bitcoin is powered by autism.  pic.twitter.com/CqmHYvEOed\\r', \"Great plans ahead for @cryptocom. The roadmap looks great can't wait for EU cards. This is going to be a game changer I believe. Check out  @MustacheTommy for all his great infographics about them.\\n\\n$MCO $CRO $BTC https://t.co/3DFvGAp9EC\\r\", 'I featured @Cointigo on steemhunt \\nhttps://t.co/tGYx5guF0V #steemhunt #cryptocurrency #btc #coin #Wallets \\n@CoinTigoDev\\r', '#CoinCasso\\r', 'Wow! Market is in free fall, careful if your shorting, this thing could rebound hard at any moment !!!\\n #Bitcoin #cryptocurrency #Crypto\\r', 'Check out this tutorial on How to master your BeliEVE account? \\n\\n👉https://t.co/eaLy78QGzw\\n\\n#peculium #pcl $pcl #aieve #AI #savings #cryptosavings #btc $btc #eth $eth #investing #news #forex #bnb $bnb https://t.co/uk7omPvoxB\\r', \"Bear or Bull Market, it doesn't matter.\\nIncrease your coins at https://t.co/PJpQh42Kbh\\n\\nLong/Short up to 100 Leverage!\\n#BTC #ADA #BCH #EOS #ETH #LTC #TRON #XRP up to 100x %10 FEE Discount $XBT | $ADA | $BCH | $EOS | $ETH | $XRP | $TRX | $LTC | #Bitmex https://t.co/u0jw28sjMc\\r\", 'Ampleforth Raises $5M in 11 Seconds in Tokinex Exchange Offering - https://t.co/r70p5CTieu $BTC #blockchain #crypto #altcoin\\r', 'Buy/Sell BTC volatility with up to 100x Leverage at PrimeXBT! Sign up right away and trade your $150 into $15000:https://t.co/tVnfBSgJq5 Make money even when the price is declining! $KNC | $GNT | $AION | $PAY | $TRX | $ZEC | $NXT | $NXT | $CRO | $DGB\\r', '0Åº┌F┼Â #crypto #bitcoin #java #competition #influencer #datascience #fintech #science #EU https://t.co/VYM2YAppqS https://t.co/rWYHxDOvO8\\r', '@TracyWe23831558 Looks like  BTC is  bullish again .  I found  premium group with  buy/sell . And it is free  for 5 days !\\n\\nLook --&gt; https://t.co/UOQ4CIxkCo\\n⭕ 664826932\\r', '@officialsmcafe @officialmcafee @colbit86 I hope others will be able to get some BTC too.\\r', \"Bruce Sterling's classic work highlights the 1990 assault on hacke http://bit.ly/2gsMMtO\\xa0 #Cybersecurity #Bitcoin pic.twitter.com/vWyC5xipxU\\r\", 'Bitcoin mining. Earn up to 30.000 Satoshi per day for FREE. Don’t waste your time and REGISTER NOW for FREE. Payouts are 100%. Verified. et Sign Up - https://t.co/3YndNkG5Ks https://t.co/134GXkUMuU\\r', '@giacomozucco bitcoin enhances this\\r', 'Nobody sell BTC for their fake dollars\\r', 'Markets looking weak still tonight after today dead cat bounce. Open interest tomorrow should guide you the way. \\n\\nWhile Bitcoin still going strong\\n\\n$SPX $SPY $IWM $QQQ $BTC https://t.co/NNET4LEc71\\r', '#bitcoin Payment Processor BitPay Experiences So-Far Unexplained Downtime  NewsBTC #bitpay #downtime https://t.co/76Hhecxq1m https://t.co/uUY6vUEMHx\\r', 'BTC/GTO (Binance) gained 5.04% in the last 20 min. 0.02019294USD, 0.00000171Ƀ $GTO #Gifto #bitcoin https://t.co/6c73C3gx7r\\r', 'Holveck Thanks Stake #cryptogambling\\r', 'The current price of one Bitcoin  @iam_Davido @segalink @renoomokri @CBNNIGERIAORG @Princeboss83 @abati1990 @DONJAZZY @OgbeniDipo @CBNNIGERIAORG @bitfxt @GeorgeAnonyuo @SP8thNGRSenate @dino_melaye @benmurraybruce #lets talk bitcoin https://t.co/z7FhBlDFAH\\r', 'KamBuckz\\r', '#asure #defi #tge #asuretoken #ico #crypto\\nhttps://t.co/A6R1LDvQzZ\\r', 'gooood\\r', 'http://bounty.trakx.io/6217/5627926\\xa0\\nMusfirayanti\\n\\n# such as #Cryptocurrency #Airdrop #Bounty #Bitcoin\\r', 'The latest M.A – Daily News! https://t.co/SzK5lJ0sPV Thanks to @ElizabethAllen @writersafrika @wonderbeanuk #bitcoin #success\\r', '@thegoodgodabove Putting all my money in bitcoin. By the way, WTF is bitcoin?\\r', 'Long/Short Bitcoin moves with up to 100x Leverage at Bitmex!\\n\\nReceive a 10% Fee Reduction:\\n\\n https://www.bitmex.com/register/6vXB0G\\xa0\\n$BTC $ETH$BRD $VIA $GXS $MOD $SNGLS $RDN $TNT $EVX $BNT $WINGS $FUEL $MDA $WABI $XZC $ADX $INS $VIBE $CLOACK $SYS $OAX $WPR $CND $AST $AMB Sunday, 07pic.twitter.com/cr17P32x3H\\r', 'oh, btw.  @binance Margin borrowing amount reached above $100m (USD equivalent) a few days ago.\\n\\nKeep #buidling. https://t.co/W9SrTCFnJc #crypto #cryptocurrency #blockchain #ethereum #btc #bitcoinmining #bitcoins #litecoin\\r', 'Gold $1,325.37 | Silver $16.38 | Platinum $932.00\\nBitcoin $6,922 | Bitcoin Cash $690\\nShop online at http://RRBI.co\\xa0\\r', \"https://t.co/G4xJfev0aI\\n#CoinLion is another great exchange with portfolio management tools to take a look at. They're doing a campaign right now giving out $LION for registrations!\\n#Cryptocurrency\\r\", '#Crypto #News: \"Analyst: Bitcoin (BTC) Needs to Break $11,600 to Skirt Consolidation\" https://t.co/jkTt5cJzjZ\\r', '@JohnnyZcash 1. You buy that bitcoin with usd\\n2. Alts have usd pairs\\r', 'While $BTC might be taking a breather, it still looks like it is following the Parabolic Curve - using that as a main support for the latest bounces we have had.\\n\\nAs long as this curve does not turn to resistance, I think we might be seeing some more upward momentum on #Bitcoin! https://t.co/TQ8wZXrKvc\\r', 'The Meaning of this Universe, Life &amp; Everything is NOT 42 https://t.co/NK2uYNwtsQ | #seattle #TokenSales #ETH #bitcoin #godblessamerica #atlanta #forthworth #funding #investment #techcrunch #memphis #sandeigo #oakland #malaysia #reuters #PrivateEquity #orlando #saintpaul #boston https://t.co/nf9c3MkTeN\\r', 'Andreesen Horowitz Rolling Out Free School for #Crypto Startups\\xa0\\xa0Blockonomi https://t.co/TvmZlAF4n0 #Bitcoin\\r', 'HEREISTITLE https://t.co/6wnt9TLtp4 #cryptocurrency #bitcoin #cryptonews #btcnews\\r', \"@DrDamonBryant I appreciate that and I don't feel disrespected. It's just a shame that a Howard alum, founder of a Bitcoin company which services African nations. and the diaspora (DR, PR, Brazil, Colombia), isn't even aware the event is taking place.\\n\\nWe need to up our social game.\\r\", 'Bitcoin price will hit $200k in cycles: Bobby Lee https://t.co/0Jmp9w48xh\\r', '@jack @CashApp You can tell @jack is exited about the price of $BTC. He’s typing like Michael J. Fox.\\r', \"@azbill_brandon @CNBCFastMoney Azbil!!,Wouldn't you offload so real estate investment at forced market value &amp; stake in #bitcoin before the ship leaves the harbour?You can x2 your stake if you're modest &amp; buy double the property sold. #Minnesota have buyers lying in wait to buy at forced sale value #crypto\\r\", 'CNBC Host Goes Full Bitcoin Maximalist With $55K Forecast After Halving https://t.co/yPpN3lWohK\\n#bitcoin #crypto #blockchain #btc #news #cryptocurrency https://t.co/JXSNXx2VBA #eth #ltc #xrp\\r', 'Prices in USD: \\nBTC 8.399,78/7.300,74\\nBCH 441,84/381,59\\nBTG 26,03/22,48\\nDGB 0,02/0,01\\nDSH 170,58/147,32\\nETH 264,01/232,23\\nRBTC 8.225,21/7.441,85\\nREALT 0,25/0,25\\nSMART 0,01/0,01\\nTUSD 1,05/0,95\\nXEM 0,09/0,08\\nXRP 0,40/0,36\\nZCR 0,11/0,10\\nZEC 79,40/68,57\\n#stratum\\r', '#BTC price decreased! Buying @ $4563.31 & Selling @ $4564.36  $btc $eth $etc $neo $dgb $dash $strat $eos $omg $pay $xrp $xmr $gas \\r', \"I'm in the running to win a custom engraved Ellipal Cold storage wallet, check out @BitcoinDiamond_ to enter for your chance to win. https://t.co/OM9ahRGZ5G\\r\", 'The Hardware Bitcoin Wallet. Get Trezor now for only 89 EUR https://t.co/RyPUbEzrNS #btc #bitcoin 07 https://t.co/xq4VfSbb3o\\r', 'Binance: Bitcoin Black (BCB) on Binance - Sign the Petition! https://t.co/430mF7ocem via @Change\\r', 'Bitcoin Price Ranging Under $9.3K Is ‘Extremely Fine,’ Says Analyst https://t.co/rwvv0JEl0b\\r', 'Diagonio Airdrop is now Live🚀💰🏆\\n\\nClick on below link to participate into this amazing #Airdrop🎁\\n\\nhttps://t.co/iEEDUQ2b0N\\n\\n🎁 Rewards: $ 15 + $ 5 🎁\\n\\n#Airdrops #blockchain #cryptocurrency #ICO #bitcoin #Crypto #ETH\\r', 'Donald Trump: Bitcoin not money, value based on thin air, facilitates unlawful behavior https://t.co/nruMPG93fY\\r', 'Join the fastest bitcoin miner online \\nhttps://t.co/G0d8QMnC5g\\n\\n#bitcoin #bitcoinmining… https://t.co/9KBNHaz1Hd\\r', 'Two men have stolen $4,000 from a Bitcoin ATM in a small-town grocery store, but left $50,000 behind in an overlooked canister https://t.co/bg86Al0ovT\\r', '@frfrankpavone @realDonaldTrump @PPFA Trade your #bitcoin #ethereum #Litecoin. Use @_Peculium  https://t.co/ZJCvWuPhWC platform. Powered by AI. It trades for you automatically 24/7 with 99.6% accuracy rate. You can start with $200 worth of BTC/ETH and let it grow by reinvesting weekly gains. https://t.co/w3tiEo29ly\\r', '@krugerclassic Just a game plan. #BITCOIN still massively bullish! Target ATH 20K https://t.co/PMgBcVKHzr\\r', '1hr Report : 00:02:12 UTC Top 10 Mentions\\n$BTC, $XRP, $ETH, $LTC, $XLM, $BCH, $EOS, $NEO, $OCN, $OMGpic.twitter.com/mtu0yQ1IgX\\r', '@Juuso_I But the vast majority is not looking to save BTC so they can purchase goods and services directly with it. They are looking to sell it back for fiat, so they can use fiat to purchase goods and services. Most of the people hodling BTC would not accept BTC as payment themselves.\\r', '@SubnetZero @coinbase @Gemini @CashApp sale proceeds are available instantly for use on the @CashappCard too. I love the latest UI updates. 💪 The real-time BTC ticker is sick. I’m never waiting for a wire from @coinbase again.\\r', 'Beat The Markets With Trading Systems) \\nBitcoin - Investment - Investor - Cryptocurrency - Forex - Trading - Trade - Entrepreneur - @InvestCrypForex https://t.co/0tidTiVwzv\\r', 'Imagine looking at this shit and calling it..... \"UNSUBSTANTIATED\"\\r', 'Kursanalyse, 4. Juni: Bitcoin, Ethereum, Ripple, Bitcoin Cash, EOS, Litecoin, Cardano, Stellar, IOTA https://de.cointelegraph.com/news/bitcoin-ethereum-ripple-bitcoin-cash-eos-litecoin-cardano-stellar-iota-price-analysis-june-04\\xa0… via @Cointelegraph\\r', 'Current Crypto Prices! \\n\\nBTC: $7957.61 USD\\nETH: $171.98 USD\\nLTC: $53.45 USD\\nBCH: $212.97 USD\\nXLM: $0.06308 USD\\nDOGE: $ 0.002785 USD\\nNEO: $7.159 USD\\nXRP: $0.291 USD\\nCANN: $0.001353 USD\\nEMC2: $0.04568 USD\\nXMR: $57.02 USD\\nBTG: $7.941 USD\\r', 'Fiat curencies like BTC are fundamentally built on faith. People treat a currency as valuable because they expect others to consider it valuable. \\n\\nAnd for a decentralized currency like BTC, that faith depends on a belief that the rules of the currency will be stable over time.\\r', '@hansthered @StrivingYogi Get 7x of your $1k in a week #BTC\\r', 'https://t.co/80QTp4jeaD 5847R\\nStart Trading Now with Packages from USD$10\\nTrade with PSIGEN within your Everus Wallet app,\\nearn Bitcoin as passive income.\\r', 'AntMiner ATX Power Supply Jumper Switch w/ LED light for PSU and Bitcoin Miner https://t.co/drEyy288mJ #bitcoin #crypto #antminer #bitmain\\r', 'https://t.co/Aj0e27fclL\\n@Ripple @XRPBitcoin @crypto_rand \\n#Ripple #xrpthestandard #xrpcommmunity #xrparmy #bitcoin #XRPforGood\\r', \"exactly, and how does one verify the little data stick has your little 1s and 0s of BTC, especially if the grid as we know it isn't the same?\\r\", \"@KAG4All @realDonaldTrump I keep seeing this all over and I understand the sentiment but it simply won't work. I could send $20k in Bitcoin for a few cents in fees anywhere in the world with no middle man. Personally, I'd use Monero for better privacy &amp; it's cheaper &amp; faster! #BTC #XMR @monero @Bitcoin\\r\", '@nwoodfine @TuurDemeester Bitcoin will incentivize the update. https://t.co/psIJunJl9v\\r', 'Buy/Sell altcoin volatility with up to 100x Leverage at PrimeXBT! 👑🤑\\n\\nSign up straight away and trade your $100 into $15000:\\n\\n✅ https://t.co/7x93OoqYDW ✅\\n\\nMake money even when BTC is declining! 📉📉\\n\\n$THETA - $IOTA - $VERI - $LINK - $STEEM - $MANA - $BTT - $CELR - $BSV https://t.co/dAOCYIkcEr\\r', \"The latest Lara's crypto Daily! https://t.co/jJOfnAEw2B Thanks to @PitchLinkMedia @theomnichanel @ccoinmarket #crypto #bitcoin\\r\", 'The ultra wealthy want and demand seizure-resistance assets. In the coming years, everyone will.\\n\\n#bitcoin #crypto #blockchain #fintech #tradecraft\\r', ' http://cubeminers.com\\xa0  SHA: 0.00 KH   Scrypt: 6.38 MH   x11: 18.97 MH   #DigiCube #bitcoin #altcoinpic.twitter.com/ARASVLqDVl\\r', '@WSOP \\n\\nCan I use #bitcoin for my entry fee...\\r', 'Stacking sats with $iost before I tether for the last $btc drop\\r', 'Bitcoin (BTC) is Back in Momentum: Is $12K on the Way? https://t.co/jegCFXUpsD https://t.co/DmnBhfT9lz\\r', \"Tomorrow's Ripple(XRP) forecast is\\n        \\n△UP 75% \\n▼DOWN 25%\\n\\n#Ripple, #XRP\\n\\nBitcoin Forecast (iOS)\\nhttps://t.co/mGv869Ccp6 https://t.co/0BIDMWvRk7\\r\", '@ACR_POKER  been over a week and have been told 3 different times same BS..  I need my Bitcoin sent bsbknor added to my account. As you can see I send 2 transactions  1) 715 pm 30$\\n\\n2) 10:.15 pm 40$\\nhttps://t.co/DK6MARZCbY \\nhttps://t.co/nNs7gGA5Xd\\r', '#LCC #Hive #BTC #Crypto #LCCGiveaway\\n@LitecoinCash\\r', '@AndrejCibik @MrHodl https://t.co/hGmlrDCePx\\nhttps://t.co/5vpWU9HCQU\\nhttps://t.co/dUs7Fpx2II\\nhttps://t.co/ilfDX3gQet\\n\\n$BCC $BTC $LTC #Mining\\n#hodlGang #CraefulGang\\n#bitconnect #bitconnectCoin\\n#BitCoin #LiteCoin #BlockChain\\n#Mining #Crypto #CryptoCurrency #POS⛏️\\n#Community #ProofOfStake #Decentralized https://t.co/HA4wFtd1J4\\r', 'Get Bitcoin Fast Return on Investment 12000% in 24 hours,bitcoin double multiply . http://ow.ly/ty2j3092Zq0\\xa0\\r', 'Bitmain Antminer S9 Bitcoin-miner with APW3++ Power Supply https://t.co/RPNZ8Mt7h3 #bitcoin #crypto #antminer #bitmain\\r', '@amandaknox @Bitboy_Crypto #bitcoin fixes this\\r', 'Bitstamp \"CRYPTOLAND: Some states are more crypto-friendly than others. Can you find your homeland on this list of #bitcoin friendly countries?\\n\\nCheck it out: https://99bitcoins.com/bitcoin-friendly-countries/\\xa0… pic.twitter.com/S9TdLj3D5a\"https://twitter.com/Bitstamp/status/1025385158185308160\\xa0…\\r', 'https://t.co/mjBxpYlqW6 via @BitcoinEcho\\r', 'BTC/LBC (Bittrex) gained 22.10% in the last 20 min. 0.01767563USD, 0.00000166Ƀ $LBC #LBRYCredits #cryptocurrency https://t.co/SzJchSuHnT\\r', '@TheCryptoDog Wanted a way to monitor provenance for digital art. Lead me to non-fungible blockchain tech. Rest is history. #art #bitcoin\\r', \"@michaelgraub @hodlonaut The beauty of scarcity in Bitcoin is that one utxo is locked up by only one script, it's either Alice's public key, or Bob's, it cannot be both. One UTXO cannot be double spent. \\n\\nThe halvening, as beautiful as it is, is irrelevant to scarcity.\\r\", '@Rhythmtrader Think we are still a bit far from mainstream but year after year, more people are getting into #crypto &amp; #Bitcoin and the adoption will eventually come.\\r', '$BTC $ETH \\nYou want the secret to trading crypto?\\n\\n1. Daily/weekly-supply &amp; demand.\\n2. Patience.\\n\\nThere you go, free alpha. Now go be rich.\\r', 'Earn MetaHash cryptocurrency for free! Try it out on: \\nhttps://t.co/cnIoEtKfAw\\n#btc https://t.co/ZijcXgLjqY\\r', '\"We did not have pull back or longer term consolidation since we started this bull market,\" said Marius Rupsys, a digital currency investor. https://t.co/dMa7Gfo2K5\\r', 'Average Bitcoin market price is: USD 1,039.00, EUR 966.16\\r', '$EB348\\r', '$GHT explainer https://youtu.be/rCjYfHoMmPQ\\xa0\\n#Telegram group community:\\nhttps://t.me/Groovytoken\\xa0\\n RAP GOATS playlist: \\nhttps://open.spotify.com/user/124058521/playlist/5yXEhUUhed2Y6dlnlzsTjd?si=_kOhM1weQi214GQ_pOo07A\\xa0…\\n#Cannabis #crypto #SundayMotivation $btc #ethereum #ICO\\n#etherflyer\\nSamie Bower - Blame.mp3 by\\r', 'Tom Lee: Trump to take Bitcoin past\\xa0$40k https://t.co/5D4yFLeg1x https://t.co/bcpD3jx4qu\\r', 'Buy Bitcoin With PayPal! Also with CC, paysafecard, Skrill, OKPAY https://www.virwox.com?r=4db29virwox.com/?r=4db29\\xa0 #btc #bitcoin 10 pic.twitter.com/DSKdxpjHDH\\r', '-=[ 575.436 ]=-\\n\\nTxs: 3.226\\nSize: 1.22 MB\\nStripped: 0.86 MB\\nTime: 1557513512\\n\\nReward: 12.5 BTC\\nFees: 1.08732376 BTC\\nMiner: Unknown\\n\\nMempool: 58.505 txs\\r', '11 Kristen Suzannes Easy Raw Recipe Ebooks - Vegan) \\n@1jl4com - Food - Twitter - News - Noticias -\\nBitcoin - CryptoCurrency https://t.co/gHFxwHSib1\\r', 'Report: Bakkt to Launch in Q3, Pending NY Financial Department Approval #crypto #bakkt #btc #bitcoin #blockchain https://t.co/X0BwoZeyZk\\r', '@binance #XRP is Bitcoin 2.0. 😎\\r', 'The only known case of a grifter who doesn’t like crypto. https://t.co/t5gdTHtWuh\\r', 'GET 0,7% daily of ur invest though a AI bot of TELEGRAM =&gt; Bitcoin Arbitrage. \\nFrom 5 €/$ ONLY IN BTC Sing-up: https://t.co/hfvbewScvh \\n  #arvtration #arviration #arvitation #arvitrtion\\r', 'Opinion: Libra Could Never Outdo the U.S. Dollar\\nhttps://t.co/g60xawZwdA\\n#Fiat, #BTC, #Blockchain\\r', \"Bitcoin Surge Proves It's a Haven from Stock Market Turmoil: Circle CEO https://t.co/dAbk3Du0V5\\r\", 'RT thepumpadvisor \"$AMB price is rising! $BTC market on #Binance. Current Price: Ƀ 0.00000188 Sharing = Pushing!\"\\r', '@BitPay A company wants to pay me dividend in BTC and they need a wallet address for it. I would need a BTC wallet address, where the incoming money is automatically converted and sent to my business bank account in EUR - is this something BitPay can support?\\r', 'buysellbitco.in #bitcoin price in INR, Buy : 38470.00 INR Sell : 37233.00 INR. Buy and sell bitcoin in #India using #buysellbitcoin\\r', 'Bitcoin search on Google Trends still climbing  pic.twitter.com/I4exDlWaTr\\r', 'Our Goal for 2020 is to be a bit like TripAdvisor for the Bitcoin Casino industry.\\nWe think locally, at the moment we list the best operators for players living in Australia, UK and Germany. Soon US and Scandinavia\\n\\nhttps://t.co/5Yoxcr9czN\\n\\n#BitcoinCasino https://t.co/WGwZpmpAD8\\r', 'Mobi Download Mastering Bitcoin: Programming the Open Blockchain =&gt; https://t.co/DOm2lqJs2J\\r', 'Sound money good\\nSupply doesn’t change\\nAustrian Economics fixes this\\n\\n@saifedean @TFTC21 \\nhttps://t.co/6hhEot4RU0\\r', 'Too bad I live under an authoritarian regime - MAGA?\\n\\nThe Services are not intended for use by individuals who are citizens or nationals of or resident in the United States of America, Belarus, Cuba, Eritrea, Iran, North Korea, Syria and Venezuela\\r', '13Perhaps another lesson in another 411 blocks #mod411Block #Bitcoin Block:593484\\r', 'Try out the new $DYT safe from Dynamite Token #DYT #ETH #BTC #Crypto https://t.co/AqSMSSdM2U\\r', 'Bitcoin Suisse publishes 2019 Corporate Factsheet and Key Financials\\n\\nRead and download our Corporate Factsheet 2019 here:\\n\\nhttps://t.co/mIzwo3mrQ1 https://t.co/MD44vWoQ1N\\r', '$LTCUSD War dumbbells have started...#btc #ltc #cryptotrading https://t.co/xYKk8DAkfM\\r', 'Get Free Bitcoin        https://t.co/zWvYKXSPiG\\r', 'RT stratorob \"\\'Blockchain\\' set to shape future of green bonds https://t.co/4I8Tfh0ABD\\n\\nSmartereum GontRussia Rakesh_swain62 Prashan79378470 80_pepe CryptoSmartly cryptoindexfund \\n#Blockchain #Crypto #Bitcoin #Wealth https://t.co/ZzJOFrtpGH\" Thanks for this.\\r', '₿ Actual #Bitcoin #BTC price is \\n1 BTC = 9.320,652 € #EUR\\n1 BTC = 10.264,369 $ #USD\\nChange last 24 hours -0.89% 📉\\nChange last hour -0.05% 📉\\r', '1/1000 Bitmain Antminer S17 Pro 53TH/s Bitcoin Mining for 6 months https://t.co/Z046pldwqZ\\r', 'Buy Bitcoin anywhere in the world - $50.00\\n#Items4Sale\\nList ur biz at http://blacktradelines.com\\xa0pic.twitter.com/X2sFzWJzER\\r', 'BTC Price: 7030.00$, \\nBTC Today High : 7040.59$, \\nBTC All Time High : 7040.59$\\nETH Price: 278.60$ #bitcoin #BTC $BTC #ETH $ETHpic.twitter.com/by5opncXFN\\r', 'The Worlds First Deterministic Solution To The Last Mile https://t.co/RGKCnhhKTI | #bitcoin #madison #losangels #tech #UAE #crowdfunding #gamecoin #entrepreneurship #portland #washingtonDc #canberra #icotracker #virginiabeach #albuquerque #iot #stlouis #ITOs #status #austin #cuba https://t.co/0VTRhW6NMq\\r', 'LIVE: Profit = $293.51 (13.74 %). BUY B6.28 @ $339.40 (#Bitfinex). SELL @ $350.00 (#VirCurex) #bitcoin #btc - http://www.projectcoin.org\\xa0\\r', '@AP Interested in Binary options/bitcoin investment?? Interested in earning over $9,000 weekly? Contact me\\r', 'GBPUSD moves up to 200 hour MA/50% retracement and backs off https://t.co/RYCxB8i82N #forex #investing #bitcoin #crypto #xrp #btc #eth #forexsignals https://t.co/Fj6SHVR8cz\\r', \"Conspiracy!!! Biggest Secrets of the Universe kept hidden since 1990's made public. https://t.co/NK2uYNwtsQ | #orlando #fund #ICOs #AVCJjapan #adelaide #stlouis #adelaide #phoenix #sanantonio #icoalert #tech #btc #utrust #btc #charlotte #tech #southaustralia #tokenlaunches #nem https://t.co/bik4ZfJ2dy\\r\", 'Instant Bitcoin Income Paid Every 60 Minutes https://t.co/QspzpfTuFQ\\r', 'Bitcoin - BTC\\nPrice: $11,520.50\\nChange in 1h: -2.19%\\nMarket cap: $192,596,838,875.00\\nRanking: 1\\n#Bitcoin #BTC\\r', \"All, \\n\\nLet's be patient. CEX is not the only having this issue. I have some BTC experiencing the same. Waiting days for confirmation and still counting.\\nLet's wish the blockchain community good luck and let's hope they will solve this issue as soon as possible. #patience\\r\", 'Table Talk Bitcoin today at Starbucks PVJ, start 11.00-17.00 confirm 1st. Be part of the history!\\r', '162 #Bitcoin mined since last tweet.\\n \\n It represents $659,502 (At $4,071 per $BTC #BTC) \\n New Supply: 16,589,712 \\n Progress: 79.00 %\\r', 'BTC/USDT Binance 30m - Short - #BTCUSDT charthttp://www.tradingview.com/chart/BTCUSDT/I9NJvicp-BTC-USDT-Binance-30m-Short/\\xa0…\\r', 'Indian Government Leans Toward Calling Bitcoin an Asset | Buzzeology http://buzzeology.com/indian-government-leans-toward-calling-bitcoin-an-asset-buzzeology/\\xa0…\\r', '🔄 Prices update in $USD (1 hour):\\n\\n$BTC - 7656.6 $  (+0.33 %)\\n$ETH - 238.88 $  (+1.11 %)\\n$XRP - 0.39 $    (+0.44 %)\\n$BCH - 374.6 $   (+0.97 %)\\n$LTC - 100.82 $  (+1.34 %)\\n\\n#BTC #ETH #XRP #BCH #LTC #Trading #Crypto #Bitcoin\\r', \"@krugermacro No it's happening Coz half the public are locked out from with drawing from the biggest exchange who are dumping usdt for btc. It's an artificial pump which will rek many\\r\", 'Ntaps\\r', \"Happy Mother's Day to all of the wonderful mothers‼️💐 Is mom interested in investing in Bitcoin❓Take her to your neighborhood Bitexpress BTM📍 and show her how easy it is to invest today🙌🏻 https://t.co/faRDVSMgMt\\r\", 'how you gonna have 10k in bitcoin while also showing off money on snapchat every day yet have a cracked screen on a shitty phone\\r', '11Day Made 1687%Profit\\nJoin : http://t.me/Monsterpumper\\xa0\\n$SLR $SNRG $BLITZ $SLS $BYC $SPHR $QTUM $UNO $SALT $TIX $XDN #BTC #BTG #CHANGEYOUR\\r', 'Bitcoin Price Tops $10K for First Time Since 2018 https://t.co/HqhRMSTeoO\\r', 'Amazing individual.  #payitforward nice job Mr. Pulte\\r', 'XRP is up 0.34%\\n\\nBTC maxis are rekt\"\\r', '#ONIZ #ITO #Betting #ETH #Crypto #iGaming https://t.co/uMh6prTtWN\\r', '#ALTCOINS are MOVING! Use https://t.co/tywhOroEMh to scan for OVERSOLD RSI, MACD CROSSOVERS and where BUYERS are going!\\n\\n#BTC #ETH #LINK #DGB #ABBC #MAID #ZIL #ARDR #HT #WAX #PPT #TRUE #XVG #STRAT #BSV #LRC #ENJ #ELA #XIN #MCO https://t.co/Z7PxwTcS8w\\r', 'Bitcoin (BTC) price: $10654.71, 24HR change: -84.54\\nEthereum (ETH) price: $196.74, 24HR change: -4.79\\r', 'MOSCOW (Sputnik) - The most popular cryptocurrency, Bitcoin, surpassed the $11,000 on Saturday for the first time since March 2018, according to trade data...Read more: https://t.co/Hi5iGlGJdv\\r', 'FLIPPENING: Ethereum twice as popular as Bitcoin, 11% more fees https://t.co/HE0BEzj99f $DYOR #flippening #ethereum #ether\\r', 'Order your secure and smart BTC/ETH/Altcoin hardware wallet - Only 94.80 EUR https://t.co/WC9nt6QCb7 #bitcoin #btc #eth #altcoin 22:20 https://t.co/mZxSikvDTM\\r', 'TURN $50 INTO $95,701.25 THIS YEAR WITH MY BRAND NEW CRYPTO TRADING METHOD #bitcoin #btc #cryptocurrency #google #chrome https://t.co/6HjYPbXKEW\\r', 'John McAfee Offers to Build Cuba’s First Cryptocurrency https://t.co/E2YlM5OKCE #bitcoin\\r', 'Bitcoin Historically Bullish After Unique Difficulty Adjustment Pattern\\n\\nhttps://t.co/6QpHMT17AN https://t.co/L6Y7Vwce4l\\r', 'Are you terrified of president Trump? Fight back with BITCOIN by Sun Microsystems.\\r', 'Bitcoin [BTC] is growing, but is not entirely free of ‘government interference’, claims Saifedean Ammous\\n\\nRead More: https://t.co/20ZU57iOfo\\n\\n#bitcoin #news #social #btc #news\\r', 'A government can finance itself in 3 ways:\\n\\n- Tax\\n- Debt\\n- Print\\n\\nUnder a #Bitcoin standard we can expect at minimum government being 1/3 smaller.\\r', 'Come on #bitcoin mama needs a new pair of boots and a vacation \\n#Dec2019 \\n~t\\r', \"Want to know what's coming with #BlockCard?   Check out update on our medium blog.  BlockCard is the best way to use your crypto!  #Crypto #CryptoNews #cryptocurrency #bitcoin #litecoin #ethereum #cryptocurrencies #bitcoincash #ternio #getblockcard.  https://t.co/DIgwbUCsQf\\r\", 'Buy/Sell Bitcoin changes with up to 100x Leverage at PrimeXBT! 🎉👑\\n\\nJoin right away and turn your $79 into $10000:\\n\\n✅ https://t.co/6JQ60prm84 ✅\\n\\nReceive money even if BTC is going down! 📉📉\\n\\n$ETP - $FAT - $WTC - $GXC - $QASH - $XIN - $ETH - $ONG - $ETHUSD - $NAS https://t.co/hfWR2Q5Gtd\\r', 'After last weeks grilling at Capital Hill &amp; consistently being compared to Bitcoin, here is a look at the key differences between\\xa0#Libra\\xa0&amp;\\xa0#Bitcoin\\xa0\\n\\n#Cryptocurrencies\\xa0#Blockchain\\xa0#fintech \\n\\xa0\\n\\xa0https://t.co/kvVhS44muS https://t.co/IF0G9XYYTx\\r', 'For those of you who want some hopium..\\n\\nCheck out $DCR / $BTC before the last bull run. Notice the round blue circles? Notice the \"Buy\" indicator? Well there\\'s one more indicator which is the \"Blue Arrow\" on the left side which we\\'re still waiting for https://t.co/aAVghZ7Fq2\\r', \"That was a good move for this project having a professional person's to introduce the project around the world.Good luck and more power to the team.#BlockSafe #BSAFE #STO #bitcoin #btc #cryptocurrency\\r\", 'As the Amazon burns, breathing problems spike \\n@joseluisintwite - Washingtonpost - Twitter - News - Noticias - Bitcoin - CryptoCurrency - Forex https://t.co/cfvoOinkmX\\r', 'Tether Mints 5 Billion USDT Tokens on TRON Network Due to Decimal Mistake\\n#bitcoin #trx #investing #hodl #FUD #coldwallet #dapps #bch\\nhttps://t.co/TgS9w8kuoQ\\r', 'Daily Discussion, January 24, 2019 via /r/Bitcoin http://bit.ly/2WfE1ax\\xa0\\r', \"@kenzboard It seems too easy but it's honestly what I expect to happen.\\n\\nI've already put a mental note to sell at that $450 resistance, buy the dip, then sell at $800 H1 next year.\\n\\n$BTC has laid out a roadmap for $ETH to follow over the next few years. \\n\\nThe disbelief will be grand. 🚀\\r\", \"@OptionsAction @CNBCFastMoney @Michael_Khouw Wow...4%? And they haven't retired yet? On the other hand, BTC...\\r\", '@BTCsessions THE  BIGGEST  MANIPULATION  IN  CRYPTO  HISTORY\\nhttps://t.co/D3ALrpR1b4\\r', '#GeoCoin #GEO $0.074357 (-3.00%) 0.00009487 BTC (-3.49%)\\r', 'How do Americans cash out? http://ift.tt/2ydTVs8\\xa0 #reddit #bitcoin\\r', 'Sunday Digest: Bitcoin Price And The Race To Rule The Blockchain Space: A photographer managed to get some snaps of a three-antlered deer in Michigan, USA this week. A wildlife expert described the find as one-in-a-million. This means that there are… https://t.co/cOofp698f7 https://t.co/InWfpY5vmd\\r', '$BTC \\n$ETH \\n\\nThere goes the breakouts mentioned earlier today 😊\\n\\n$Eth timing was accurate, however I was hoping $BTC would go sideways and move across the pennant for a little longer, I guess she waits for nobody! https://t.co/JmKxRFfHlv\\r', '#makemoneyfromfootball How much money can you make with bitcoin? http://bit.ly/2AUyU8D\\xa0pic.twitter.com/vVaHjMvhjR\\r', 'Crypto Market Trims $80 Billion: Bitcoin, BCH, EOS, TRX, ADA Analysis - newsBTC\\r', '@DiscordSpyware @Ian_Fisch @ZerpHound @Ripple @RemindMe_OfThis Lol again re read my tweets, utility i.e. real world use will move the price and when that happens it wont be dumping hard like every other crypto after a pump! When are u going to wake and realise that speculative crypto is all BS! Just like fake BTC getting pumped by tether lol\\r', 'Bitcoin Devours More Electricity Than Switzerland [Infographic] - https://t.co/MsatmqlcnB https://t.co/8oVo3195JR\\r', 'https://t.co/5a5MTYIGLN https://t.co/2AjWzxjgqO\\r', '@CCNMarkets Not a chance. Why would satoshi put this much effort in bragging n branding himself as the almighty creator of bitcoin $btc after spending 10 years succesfully being anonym. Makes absolutely no sense.\\n#dumbsv\\r', '$RichardSchnyderite\\r', \"https://t.co/NBF6P8O8KG &lt;&lt;&lt; Don't pass up easy ₿ like this,Refer friends &amp; receive 10% of their earnings too #Bitcoin #BTC #Crypto #CryptoCurrency #WorkFromHome https://t.co/iUF0qsMeAT\\r\", '#binaryoptionsignals #binaryoptions #binaryoptionstrading #binary #binaryoption #binaryoptionssignals #forextrader #binaryoptionsstrategy #iqoption #bitcoin #binaryoptionstradingsignals #trading #binaryoptionsignal #binaryoptionstrader #money #olymptrade #binarytrade https://t.co/J1C0Pkbp5h\\r', 'LIVE: Profit = $364.73 (4.46 %). BUY B19.81 @ $420.00 (#VirCurex). SELL @ $432.01 (#BTCe) #bitcoin #btc - http://www.projectcoin.org\\xa0\\r', '#Freehashfriday\\r', 'Bitcoin consumes more energy than Switzerland, according to new estimate - The Verge https://t.co/mxpXXPtOve\\r', 'BTC Price: 9285.00$, \\nBTC Today High : 9295.00$, \\nBTC All Time High : 19903.44$\\nETH Price: 682.50$ #bitcoin #BTC $BTC #ETH $ETH #cryptopic.twitter.com/fltGvWqZia\\r', 'Our decentralized platform solves several architecture problems in the #Bitcoin network, the best of this is that it is the same as Bitcoin, freely available to everyone, without #KYC or #AML, as I have mentioned several times in the statistics of the effectiveness of the #FATF https://t.co/Dlo8saBiZI\\r', '\"CandleVolume\": A Different Kind of Candlestick https://t.co/tLTAZTJUMy $GLD $QQQ $SLV $DJIA $DIA $SPY #stockmarket #commodities #investing #finance #stocks #gold #silver $FB $TWTR $AAPL $AMZN $TSLA $INTC $AMD $NFLX $BTC $TLRY $CRON $CGC $ACB $APHA $MU $NVDA $BA $PINS $OSTK $BIDU\\r', '@bitpatrickk @Rhythmtrader the USD is the biggest ponzi scheme in human history, because it can be printed indefinitely and there is no limit to supply. Bitcoin on the other hand cannot, there is a limited supply of Bitcoin, similar to gold.\\r', '@Conan40617577 Posted... \\nhttps://t.co/HAR8CW41dB\\r', 'Bitcoin fixes this\\r', \"@rahulsharmakbj @justinsuntron That's against BTC, it's just showing TRX can't keep up with BTC rise. It's value against the $ is very healthy atm.\\r\", '@huriup2 Posted... \\nhttps://t.co/DK2Z6DGw9c\\r', '@T_Erker @dbrought @Hawgrad80 @mscott54m1 @mscott54m\\r', '#bitcoinAnalyst Spots Trend Suggesting Incoming Monster Bitcoin Rally https://t.co/4n54QarDlj https://t.co/o2UUV1Rg2x\\r', 'As ‘Craig is Satoshi’ Drama Unfolds, Let’s Revisit Pablo Escobar Family’s Bitcoin Trademark History https://t.co/546GHKKivT #BitcoinInnovation\\r', '$JoshBerman1 Come on Y’all, quit playing now.\\r', 'Cryptocurrency Market Trades Sideways as Bitcoin Hovers Shy of $12,000 - https://t.co/8nTTDVj5TR - - https://t.co/Ba3pYUJUzp\\r', '07Oct2016 00:00 UTC #Bitcoin #Blockchain status - Last 24h: 158 blocks mined - 2,290,412 BTC output - 272,841 transactions\\r', '@RepAOC @CryptoChopko Lettin ya know girl. We are the future. 2020 Unelectable. When you are pondering while out a office it not because you a Woman or Boss? Or a B Queen? Just babblin what it was. But aint fixed nothin. Did you hear? They all escaped the ignorance.bought BTC\\r', 'Be Warned!!! Kuzekani bo,take us serious because experts are saying. https://t.co/MqdCbsj8Qt\\r', \"#XRPBTC is repeating the same pattern back in summer 2018. July and Aug are down before the big pump in Sept. I'm adding here and I will add more, this is a swing trade till EOY. TP would be around 8k sat. #xrpusd $0.5 to $1. #XRPcommunity #xrp $crypto #bitcoin #BTC https://t.co/WKFcjaMK0L\\r\", 'https://t.co/ExAo0P98i9 #cryptocurrency #bancor #comsa #utrust #funding #Ethereum #ITOs #investments #funding #saltlakecity #cryptocurrency #spain #saltlakecity #privateequity #startup #cannabis #netherlands #investments #tampa #houston #eth #albuquerque #investment #btc #abraaj\\r', 'https://t.co/Ieg4qNJvRF - \\nTry your luck and won in the 2 #btc contest! \\n103 #crypto accepted, Instant #EXCHANGE, totally fair\\n\\n#blockchain #bitcoin $btc #xrp #ripple $xrp #Komodo #kmd $kmd #EOS #EOSIO $eos #ontology #ont $ont #dogecoin #DOGE $doge https://t.co/nbRwEzcH4r\\r', 'New SLP Token Allows You to Transact in BTC But With BCH Fees #Crypto #CryptoNews #cryptocurrency #cryptotrading https://t.co/uYRDPCrUmt\\r', 'Which way will Bitcoin go? Your guess is as good as mine. https://t.co/XijKRSDE1S 🚀Nash (NEX) about to Mo0n? ⟶ https://t.co/ibHB6cxFSX √ https://t.co/YaEO3VtVBQ\\r', 'Tradecipher makes professional crypto investment easy for you. Get up to 1 Year of Goldlight Crypto Research ($119) and A Chance to Win 0.1 #Bitcoin (~$390) by joining the #TradecipherCrypto Waitlist \\n\\n https://t.co/ZMPphzmhyG\\r', 'Crypto Panic: Around The Block With Jeff And Dave – July 30, 2019 – Bitcoin 9500, IRS Wants Your Crypto, China Unbans Bitcoin, LG Korea AI/Blockchain, https://t.co/kH1VALgz3I Pradeep Goel Speaks! Join Us! https://t.co/urmzMsPoju 🙋Crypto Cashflow via → https://t.co/2p1Vt5oKxM https://t.co/mHqFjgcphO\\r', 'Consensys Inner Conflicts Spark Legal Action Against Founder https://t.co/yIu1IBzVxZ https://t.co/RTHaR0DOLB\\r', 'Currently on round #7449 with 54/100 participants (0.10452052 BTC each)\\r', 'In the last 10 mins, there were arb opps spanning 19 exchange pair(s), yielding profits ranging between $0.00 and $68.53 #bitcoin #btc\\r', 'Amazing #blockchain startups on this wave real blockchain #technical solutions for #corporates and #finance industry. This was an educative, insightful and fun panel to moderate. @TheKeybox @PerunNetwork and @AnyblockTools @accelerator_ffm https://t.co/lWooub96GQ\\r', \"@giacomozucco @Excellion I Left Bitcoin because Bitcoin isn't Wright...\\r\", 'I just downloaded bitcoin and it’s literally changing my life!!!\\r', 'BTC/USD | $BTCUSD | $BTC $USD\\n\\nBitcoin 3-Day Golden Cross *Confirmed*\\n\\nLong or short it on WCX: https://t.co/zCdifZ7dn5 https://t.co/b09acQFQKd\\r', 'Beauty Of Food Spanish) \\n@1jl4com - Food - Twitter - News - Noticias - Bitcoin - CryptoCurrency - Forex https://t.co/83xb1VMilX\\r', '@Wbackdown Done, here you go :)\\nhttps://t.co/Os3di18Ces\\r', '34 usd to aud https://t.co/o3ElDsd8yF stock market prices right now\\r', 'Sun Oct 27 00:39:19 2013 - Traded 0.16550949 BTC at 190.84254 USD/BTC\\r', 'A secretive Chicago trading firm has built a bitcoin platform that shows crypto is shaking off its scrappy roots https://www.businessinsider.de/a-secretive-chicago-trading-firm-has-built-a-bitcoin-platform-that-shows-crypto-is-shaking-off-its-scrappy-roots-2018-6\\xa0… via @\\r', '$BTC sometimes you just gotta zoom out and... omg good lord https://t.co/YGXTR1LvFV\\r', 'RT zcoinofficial \"RT greybtc: OVEXIO will give away R15000 worth of zcoinofficial at Bitcoin Nights. Get a free ticket: https://t.co/rXAqKwbfZV https://t.co/G01IY2NHpS\"\\r', '#Bitcoin’s Technicals Show Signs of a Bottom, Possible Short Term Rally: Analysts from Cointelegraph - #Cointelegraph #Markets #Predictions - Read more at https://www.criptalk.com/bitcoins-technicals-show-signs-of-a-bottom-possible-short-term-rally-analysts/\\xa0…pic.twitter.com/z0mNbVmlz0\\r', '@jesssra @RamseyS_Leutle Click on this link to earn free bitcoin    https://t.co/3IOnnt2KnH contact me for trading purposes. Thank you.\\r', 'Whose standard? #Bitcoin #BTC #BCH #BSV\\r', 'Crypto markets the most irrational places on earth. $aion releases useful tech today their virtual java machine price goes down. Some ieo’s with no github activity price goes up.🤔. $btc $eth $ela\\r', 'The primacy of Gold over Bitcoin. By @roysebag #crypto\\r', 'https://t.co/aEtmQuOYsU\\r', 'Top 5 #crypto losers \\n Alert Time: 2019-10-16 22:01:33\\n#ZeusCrowdfunding: $0.000\\n#CryptoAdsMarketplace: $0.002\\n#Linx: $0.000\\n#BitcoinX: $0.000\\n#SaveEnvironmentToken: $0.010\\n#instacrypto #instaico #instaethereum #ico $BTC\\n\\nhttps://t.co/rdEr8N5koT\\r', '[Coinplug CEO: Bitcoin Derivative Products May Inject Instability Into Bitcoin Market Before They Br...\\n\\nhttps://t.co/NqrUJhj3M3 https://t.co/EjZVs2cZed\\r', '⏰ LIQUIDATION on BTC-PERPETUAL ☠️️\\n\\n Bought $200 of #BTC @ $8023.00\\n 12 Jun 2019 02:48:21 UTC\\nTrade ID: 23973164\\r', 'Sick. The increase in Bitcoin prices is an absolute dickfest. Buy GBP!\\r', \"@Cryptologeek_fr Interrested in the https://t.co/5Zdm8XBDwy metal VISA card? Get yours following this link and get a bonus of $50 once you lock your $MCO for the card!\\nhttps://t.co/CxT2noPqST\\nDon't forget to enter the referral code 90q3xaguiu in the App to get your bonus\\n#crypto #btc #mco #future\\r\", \"Save the World? Blockchain's Big Dreams Come Back to Earth in DC via coindesk https://ift.tt/2LgMoMS\\xa0pic.twitter.com/bdV7blxjvZ\\r\", '@cz_binance As soon as BTC atm machines become more prevalent in gas stations.\\r', '1: Bitcoin average price is $10095.9298529 (0.02% 1h)\\n2: Ethereum average price is $189.479910018 (0.08% 1h)\\n3: XRP average price is $0.2712055977 (0.39% 1h)\\n4: Bitcoin Cash average price is $306.295875082 (-0.25% 1h)\\n5: Litecoin average price is $72.8285876755 (-0.2% 1h)\\r', '#Ethereum’s #testnet activation of the #Istanbul hard fork has been pushed back to early October, according to the #community #manager of the #Ethereum #Foundation, #Hudson #Jameson.\\n\\nhttps://t.co/g0mlJSthjM\\n\\n#Blockchain #Crypto #Bitcoin #Digital #Money #Coins #Dollar #Banks\\r', 'I shorted BTC at 8320. Was not feeling that weak ass pump last night. Now on the hourly we are under the EMA ribbon. Waiting to see if we can break through the ribbon back up. If not glad I shorted with 50X leverage.\\r', '3 HOURS LEFT.\\n\\nGOT 1.5 BTC?\\n\\nYOU CAN BECOME A FULL VIP CLIENT FOR MARGIN TRADING. MUST GET BITFINEX ACCOUNT.\\n\\nCLICK APPLY AND USE SAME TERMS AS 10 BTC CLIENTS\\n\\nLIVE LIKE THE WEALTHY. https://t.co/S42szlyvkZ\\r', 'One Bitcoin now worth $1279.19@bitstamp. High $1280.00. Low $1246.98. Market Cap $20.841 Billion #bitcoin pic.twitter.com/PD1ysAc4Zm\\r', 'How to protect your money via Sim Cards segregation? @OCBCBank @Westpac @CommBank @HSBC #hacking #bitcoin #cybersecurity #Blockchain https://t.co/Tu8Q3TPxN1\\r', 'Bitcoin Bank Galaxy Digital is Now Trading on the Toronto Stock Exchange https://ift.tt/2n21UlF\\xa0pic.twitter.com/BAxxe54L7V\\r', '#Hello, Iam Graphic Designer,and Expert in Adobe Photoshop, Image Edit, Retouch, Clipping Path, Hear Musching, Background Remove.\\nCheck May link\\nhttps://t.co/6F1vgGp3kb           \\nhttps://t.co/FU7dEcRlZJ           \\nhttps://t.co/vtTWMEqwhN\\r', 'Easy way to buy cryptos! 😇😉 https://t.co/OwR2ThA8eo\\n\\n#bitcoin #coinbase #cryptocurrency #blockchain #ethereum #ico November 08, 2019 at 07:15PM\\r', \"Former hedge fund manager Novogratz's crypto bank makes stock market debut despite bitcoin bear market https://ift.tt/2AvCYMY\\xa0\\r\", 'The Humans of Bitcoin on Blockchain Radio - Crypto for Clothing Donations - Hamza (5)\\r', 'buysellbitco.in #bitcoin price in INR, Buy : 17286.00 INR Sell : 16742.00 INR. Buy and sell bitcoin in #India using #buysellbitcoin\\r', 'Bitcoin Steady as US-China Trade Dispute Hints Resolve https://t.co/MJdaEj9J3K\\r', 'Time to gain chances and become what you want to be in your life forex bitcoin broker tradeforex... https://t.co/UOFhPzKrrD\\r', 'I wrote this article back in November 2018 - $BTC flashing buy signal at ~4200, showing strong technicals, and continues to be buyable on pullbacks. #Bitcoin #Trading \\n\\nhttps://t.co/xemK9q0UIG\\r', \"#xeraexchange #exchange  #crypto #cryptocurrency #btc #eth #blockchain #altcoins #technology\\nI believe in your professional team and I'm looking forward to seeing you at the top! It sounds like an awesome opportunity to be a part of it.\\nhttps://t.co/0jHgWJZZYU\\r\", '#CurateARMY \\n\\n🔥Please check great interview @Laurianna90 and #MikeSatoshi\\nShe also talked about @curateproject \\nIt starts at 13 minutes. \\n\\n👉https://t.co/BfztGeFMQq\\n\\n#IEO #CurateArmy #fashion #airdrop #Crypto #cryptocurrency #ethereum #ETH #coinbase #bitcoin #Litecoin #ico\\r', '@EsKrim29878 #IFB if you #Like or #Retweet my tweet! #FollowBack\\nhttps://t.co/JjzjyV36vt\\r', 'Missed out on getting Bitcoin in the early days?\\n\\nHere is your next chance:\\n\\nInitiative Q estimates the future value of Q coin to be $16,375!\\n\\nReserve your spot now and get 1,699 Q coins after registration!!\\n\\nClick here now: https://t.co/9cU0Xqy4JR \\n\\n#cryptocurrency\\r', \"@vivpahwa @DTAPCAP You're literally asking for spam lol, there are millions of articles on why BTC is better and all. Centre of all argument is, BTC is decentralized which makes it secure, non-manipulative, a symbol of free markets. BTC is a Philosophy. Shortcomings: Mining time &amp; volatility.\\r\", 'Profit: $12,110.28 (5.0%). BUY B2415.34 @ $127.00 (#BitStamp). SELL @ $128.42 (#MtGox) #bitcoin #btc\\r', 'tor25 has won a round in a playground (Faucet) and won 0.00005000 BTC, join @ChopCoin and earn BTC (11:20UTC)\\r', '$BTC $ETH $XRP $BCH $LTC $EOS $XLM $SIX $OMG $ABBC $SIX $OMG $ETH $BTC $DASH $BTG $NEO #Bitcoin $XRP #Litecoin $LTC $EOS #BinanceCoin $BNB #Tether $USDT #Stellar $XLM  $SIX #cryptomarket #MarketWatch #SIXNetwork #Cardano $ADA #Crypto #cryptocurrency #blockchain\\r', 'Grab your #Groestlcoin pillow for the next chillout weekend - \"keep calm and Gröstl\" Now on sale until Monday. \\n#GRS #pillow #chill #weekend \\nhttps://t.co/dMXTdcaHs5 https://t.co/m2X3LsJUB0\\r', \"@mdudas @srussolillo Sadly BTC hasn't outperformed BCH and BSV this year. Another great piece of evidence showing that the pump is artificial.\\r\", 'Testing the IOS version in London. @AirCoins_Crypto #London #BTC #cryptohuntpic.twitter.com/GHUxfo1UjT\\r', 'How to buy Bitcoin in Germany - Yahoo Finance https://t.co/8GruG6AkDe\\r', 'Especially for newbies and as refreshers for older hands maybe, we’re  putting together a little resource centre... A few authentic essentials along with #bitcoin personalities, videos &amp; such. Feel free to suggest any people or resources you think are essential or inspired you\\r', '@Nana1306K @LizySammee @zoDshingles @rusvrn92 @FollowBuilders @enunejco @Guchmanidzee @DiasamidzeBeka @FollowBuilders @Guchmanidzee @\\r', '#china, #whales, new #buyers or the #reward #halving? why #bitcoin is up #60% in two #weeks \\n#instacryptocurrency #instablockchain #ethereum #airdrop #trx #trading #altcoins #cryptocurrencymarket #pumpanddump #SecretContracts $ETH $BTCEUR\\nhttps://t.co/DDBMiruJ4Y\\r', '‘Not an Audit’: IRS Notice Could Spell Trouble for Crypto Traders https://t.co/k5Im6S71bO #crypto #cryptocurrency #blockchain #ethereum #btc #bitcoinmining #bitcoins #litecoin\\r', '#BTA Price: Bittrex 0.00001458 BTC YoBit 0.00001500 BTC Bleutrade 0.00001424 BTC #BTAprice 2016-07-15 01:00 pic.twitter.com/LeKBTNmSF2\\r', \"Too bad bitcoin isn't accepted in 99.99% of online stores.\\r\", \"video here demonstrates EXACTLY why $BTC will not make it as a currency. Ya'll can force it/hope on it- Bitcoin sucks as a currency! That is the reality, ya'll must come to grips w/if Bitcoin is going to go anywhere. I know a thing or two about how all this works, I wrote 1/2 https://t.co/TJtsUXs3Do\\r\", 'Google Trends Reveals that More People are Interested in Bitcoin than in Stocks https://t.co/YozMvzVUth\\n\\n#Cryptocurrency\\n#Blockchain\\n#CrypGeek\\r', '@cryptosnarf depends on what your definition of bitcoin is ;)\\r', '@PayneInsider @ToddFuhrman @ProFootballDoc Hey Todd, Bitcoin will let you retire from The betting world\\r', '#Bitcoin broke through $10,000 join premium now! dont miss out, we are getting ready for some massive gains! Join for free and make 20 - 100% profit https://t.co/TwvPtTaSHx\\n\\n$LUN $MANA $MCO $MDA $MFT $MOD $MTH $MTL $NANO $NAS $NAV $NCASH $NEBL $NEO $NPXS $NULS $NXS $OAX https://t.co/4sM3ps5xuI\\r', 'Read #cancer news https://t.co/7WSuycl0FX • November 23, 2019 at 05:15AM • #health #success #mesothelioma #attorney #money #fight #win #billionaire #forex #pennystocks #investor #ceo #stocks #trader #millionaire #bitcoin #daytrader #job #work #cryptocurrency #gold #pips #da…\\r', '\"Making fast every 30 minutes earn 0.5 Bitcoin - new Tips\" http://zpr.io/n7Z3f\\xa0\\r', 'Bitcoin Price Falls Below $6,800 in Struggle to Sustain Short-Term Momentum https://www.ccn.com/bitcoin-falls-below-6800-as-it-struggles-to-sustain-short-term-momentum/\\xa0…\\r', '@Telegraph Unique prayer rug with story\\nClick below &amp; get it for $786K\\n#stocks #WednesdayWisdom #uk\\n#wsj #investment #NEWS #Trump #China #bitcoin #BreakingNews\\n#BusinessNews #lifestyle #Health #life #Dubai #Brexit #auction #Ramadan #UELfinal\\n#USA #luxury #antique #F1\\nhttps://t.co/JnM2m32d3h\\r', 'The latest #TrumpCoin #ICO #News! https://t.co/ZOH7d7JUzi Thanks to @HeHasRisenForUs @attnymueller @BossClaw #bitcoin #cryptocurrency\\r', 'What makes bitcoin more accessible or open to the average user is access or visibility to the payment network at all levels. To compare; for both payer and payee credit can/does involve a heirarchy of issuing banks and a payment corporation like Visa at the top,\\n#TakeOver\\r', '@APompliano @realDonaldTrump Hey Mr. Trump, Bitcoin was made in America, while the dollar is a copy of dutch pennies. \\nUse Bitcoin to Make America Great Again!\\r', 'BTC trading fee 80% off on OceanEx\\n #tradeBTConOceanEx #bitcoin\\n OceanEx TG group link: https://t.co/5VUI8MCcCk https://t.co/unHOhu0xGN\\r', \"Tomorrow's MonaCoin(MONA) forecast is\\n        \\n△UP 39% \\n▼DOWN 61%\\n\\n#MonaCoin, #MONA\\n\\nBitcoin Forecast (iOS)\\nhttps://t.co/mGv869Ccp6 https://t.co/N3AQtRm6ks\\r\", 'Sparrow is the leading options trading platform, providing the simplest way to control risk and monetize your digital assets. \\nJoin https://t.co/CCXKJEvFx7  now \\n#SparrowOptions #OptionsTrading #HODLSmarter #REKTNoMore #cryptooptions #cryptotrading #BTC #ETH\\r', 'Sparkswap Desktop Lets Users Deposit Bitcoin Directly Into Their Lightning Wallets https://t.co/CtXAwjpwZk\\r', \"As long as #Bitcoin is above 8200$ i don't understand why are some people afraid of a possible correction...?\\n\\n$BTC too the MOON! And please #altcoins : FOLLOW THE PUMP! https://t.co/M4RK17OZkz\\r\", 'Average Bitcoin market price is: USD 8,245.89, EUR 7,044.00\\r', 'Learn more about Bitcoin on our site: https://t.co/zC6O2Xrv0Q https://t.co/AZov9p57Du\\r', 'Sign up now to https://t.co/nlKr7xDu80 and jump on this  BITMEX killer boat before too late !!!   most trustworthy  $BTC $ETH $LTC $NPXS $HOT $PKG $QNT $xrp $SNTR $ADA $EOS $XLM  $NEO $MET $BCc $BNN $ARK $AUG $BTG $xlm $XMR $ETC $OMG $PAY $VTC  $DAG\\r', '@50cent, @btrueblood wants to send you a Bitcoin tip for 1 Thumbs up (9,435 bits/$3.00)! Collect ➔ http://changetip.com/c/H8jB?m=1\\xa0\\r', 'Signal 6395, 2nd today, at 05-Jun 01:17 UTC\\n\\n#OST at #BINANCE\\n\\nBuy: 0.00001963 - 0.00002003\\nCurrent ask: 0.00001983\\nTarget 1: 0.00002100 (5.90%)\\nTarget 2: 0.00002300 (15.99%)\\nTarget 3: 0.00002600 (31.11%)\\nType: SHORT/MID TERM\\n\\n#Blockchain #Bitcoin #Cryptocurrencies #Trading\\r', 'Time to sell XLM for : 0.00040766 BTC in HitBTC Date: 2019-11-08 05:23:42\\r', '@Fraser_PIE @MoneyGram @AlexCobb_ @sentosumosaba @bgarlinghouse @ModernInvest Troll insight. BTC maxi spreading FUD\\r', '#futurist2019\\r', 'Do you think the price of Bitcoin BTC will rise or fall from today by the end of the year? Current Bitcoin BTC price is $7,080 dollars per coin, price via @Gemini USA based cryptocurrency exchange.\\r', '$SC is now worth $0.02739 (+0.52%) and 0.00000297 BTC (0.00%) #SC\\r', 'Bitcoin for coffer, treasury, stash.\\r', 'Reddit For Sale: How We Bought The Top Spot For $200 (reupload) - Relevance to /r/cc? Mentions bitcoin and half the threads here are bought. https://t.co/k1OY1pKLEz ⟶ via https://t.co/z0PZ8sZFNG https://t.co/JgAchbP1Gd\\r', 'buysellbitco.in #bitcoin price in INR, Buy : 61479.00 INR Sell : 59385.00 INR. Buy and sell bitcoin in #India using #buysellbitcoin\\r', 'Federal Reserve Nominees Support Lowering Interest Rates (Reddit Bitcoin) \\n\\n   submitted by    /u/EE_trojan  [link]   [comments] \\n\\nhttps://t.co/agxkRNTAM3\\n#LeverageTrading https://t.co/eHO19vLKlW\\r', 'Tue Oct 15 00:58:11 2013 - Traded 0.02 BTC at 151.17025 USD/BTC\\r']\n",
            "['dheeren29092403 pmoind narendramod interested invest binary optiom bitcoin mining invest trust account manag earn hug profit weekly invest 500 earn 5000 weekly invest 600 earn 11050 invest dm interested inf', 'bitfury releas merchant develop tool bitcoim lighting network httpswwwaltcoinflowcom20190123bitfuryreleasesmerchantdevelopertoolsforbitcoinslightingnetwork', 'npxsbtc oversell binanc ignition sequenc cryptocurrency bitcoin altcoim btc pictwittercom6ahzurxmox', 'crypt market turn green follow tough week btc pric 8000 httpstcoohuh39io httpstcolz8jc3vwkp', 'ton vay say tim get btc short btcbitcoin go low trading bitcoin 11000 break look downsid httpstcoxqrzxrlm0 via youtub', 'selfkey hitbtc hold money scamm giv back money ticket numb 422324 httpstcoymjtfs0lbk', 'bmoul know start earn 5005000 weekly bitcoin mining right comfort hom without stre ask email bitmustminergmailcom inf', 'buy crypt xrp rippl bitcoin ada httpstcosnmjlzkpby', 'bitcoin hold ground chin voic support blockchain reut via nyt httpstcob59hqjxth6 blockchain', 'easy captur packet wireshark world popu httpbitly2u4q3jw cybersecurity bitcoin pictwittercomejnqoq3kxz', 'rt crypto_bsl rt tronbirdapp yeah next 5000 satosh bitcoin giveaway bitcoin lightningnetwork 5x1000 satosh win lik amp retweettag 3 friend follow bitsaharafund follow tronbirdapp follow walletofsatosh let promot cryptoc', 'consultant weigh way forward bitcoin blockchain httpstcofm76uukqtt', 'crypt portfoli zec 109 bat 269 eur 1219 btc 4266 follow -PRON- gain 10 usd fre btc httpstco8a9nceyvw httpstco3ev0u1eqt6', 'hlow', 'big government centr bank want kill libr bitcoin forb httpstcoybrlczf8ox', 'poll much crypt accumulate be market nex runup beyond btc eth xrp altcoim xrpcommmunity xrpthestand digitalasset', 'jamiepastor bitcoin nev exit', 'new fre bitcoin cloud mining sit 2019 fre mining min fre bitcoin earn fre bitcoin 2019 ud sign httpstco3yndnkoul httpstcoecsgmyhnm', 'efethecount transf btc', 'bitcoin sidechaim send ethereum rippl crypt pric zer via forb httpstconpzytzqo2 sidechainssendethereumrippleandothercryptopricestozero5cedd98d126f ye bitcoin light coin mak transf n1 sec lighting network', 'hug step mankind serb connect glob crypt market bitcoin trade serbian din rsd accessibl everyon world 247 real tim fib optic trading liberland_org serbianpm avucic tradexcalibr belgrad safex httpstcowmwfheeuc', 'thank bybit', 'muellerberndt tuurdemeest tuurdemeest clown show bitcoin ethereum do not becom clown show peopl start clown ethereum ethereum clown show', '15 m volum alert na current volum 1113 btc averag 106 btc 95106 averag pric 00000677 31', 'cel network aim tak risk risky cryptolending biz bitcoin crypt cryptocurrency october1st hereweg httpstcoo7zqaeta3', '13 crypt wint end bitcoin reach new atm', 'view do not giv away much buy fully kyc als', 'avalon bitcoin min mak canaan post 13 million q3 profit new filing httpstcox9gm5ap9mt crypt cryptofollow share2ste blockchain bitcoin ethereum eth btc coindesk canaan world secondlargest bitcoin min mak record 13 million net pr', 'btccomltc5 t litecoin httpstcoubjrmngyyt', 'mystery behind sudden spik btc search tie hurrican dorian httpstcoxhnkihyta ethereum crypt blockchain bitcoin eth btc share2ste thachsanh cointelegraph aug 29 aug 31 btc search worldwid suddenly catapult valu 2', 'donat bitcoinwhat admin plan adopt crypt currency mainstreamb rest assure crypt comunty back', '-PRON- bucket peopl stor valu gold 8 t stock 75 t fiat 90 t real estat 220 t stor valu onlin bitcoin 150b postindustr internet age bitcoin grow thimbl bucket', 'kin cryptocurrency httpstco2a0npxgpgn btc cryptocurrenci airdrop altcoim bitcoin bitcoim', 'top 5 cryptocurrenci current pric btc 964300 bitcoin 033 eth 77590 ethereum 124 xrp 0872578 rippl 024 bch 147824 bitcoin cash 026 eo 1764 eo 143', 'xentagz bitcoin lovesong sound inve -PRON- buy first bitcoin httpstco7lw0oa3hmp', 'start trading btc bitmax sign 10 referr reward httpstcoeamax6ulr httpstcocr7rixv3uz', 'bitcoin cash 180 bounc look lik dead cat lionel laurent bloomberg decemb 21 500 th great websit track numb tim obituari write bitcoin column add httpwwwmoneyhealthfinancecombitcoincashs180bouncelookslikeadeadcat ai dat new', 'phiwi86 yeah volum term venezuelan boliv increase hyperinflation howev amount btc exchange littl', 'think bitcoim energy usag wrong way httpstco4z1yzahbzz carbon', 'check gig fiverr creat mlm bitcoin investment softw httpstcoas0pomixw', 'ethereum ech httpstcoi2s0tgbtu thank ethereum jiraiya54 nabblecasin consensy ethereum bitcoin', 'localcurrency mak money bitcoin httpbitly2aserhu pictwittercomkdkydelfu', 'btc payout irregulariti fix transactiom smooth httpstco3yu8zgvekc btc transaction bitcoin_cash bitcoinmine cryptotrading arkonixmining httpstco2s1oz7xiog', 'httpstco1hrcx3prw0', 'meet mr li wei fat btc man httpstcoe7hjkpaf8z', '15 m volum alert mda current volum 249 btc averag 071 btc 94969 averag pric 000006765 006', 'dutch bank toy around bitcoin wallet project httpsbitrsscomnews121131dutchbanktoysaroundwithbitcoinwalletproject', 'current crypt pric btc 1012355 usd eth 29511 usd ltc 13863 usd bch 43951 usd xlm 01231 usd dog 0003239 usd neo 1408 usd xrp 04449 usd cann 0001721 usd emc2 01083 usd xmr 10939 usd btg 2861 usd', 'btc averag 934903 bitfinex 933920 poloniex 935786 bitstamp 932873 coinbas 931804 binanc 933500 cexi 937330 kraken 934010 cryptop 934000 bittrex 935803 gatecoin 940000 bitcoin exchang pric', '-PRON- be sweating barely contain excitement inevitabl 32f discover fb employe husband 35 m agree tak shitti version bitcoin lieu pay divorc rrelationship post httpstco4tjwc0yfy5', 'btc basecas drop low 8487 weekly clo 92 short eth ethbtc long btc', '5 plausibl reasom bitcoin pric explode weekend httpstcotqpnuhsn5f httpstcoig5n1w1txv', 'melt_d miss prediction market dao insuranc def dao opinion se rath bitcoincentric', 'beverag turn bitcoin mining company long blockchain mov loyalty market httpswwwcryptocoincachecombeverageturnedbitcoinminingcompanylongblockchainmovesintoloyaltymarket', 'btc httpstcowd2fkdvmk2', 'loveitalyw hop help thank bitcoin 1896uwurka9j4mcbsdwfmc1pynarfwyxuf amazoncom wish list httpstcokd453lx', '-PRON- would totally bet bitcoin hit 100k strik dat get action', 'current pric bitcoin 732700 update via gusturedotcom bitcoin pric chart httpsifttt2xgbozm pictwittercomhsboiqiewk', 'actnow -PRON- eb5 eb5vis immigrant foreign inve vis progr law chang 500k investment accept bitcoin eth cryptocurrency contact -PRON- today gbibuildingcooutlookcom chin southkore taiwan singapor vietn cambod thailand hongkong rtpictwittercomam52jszsj8', 'btc cag working week come end yet relationship sell buy resolve pric rang 91009300 princread httpstcofszeuehroc', 'httpstcopcrzee0j2 g saltlakecity eth uae money crowdfunde indiegog austin canberr forthworth newzealand kansascity denv washington dub bitcoin entrepreneurship token token tamp banc ico technew sanjos perth sandeig kore fund', 'httpstcoezp8o6m8bj btc 11364 eth 349 httpstcorhonf8yqlf btc 11389 bchabc 551 eth 350 ltc 196 httpstcodsbafgqi2 btc 11280 ltc 194 httpstcobo1upjorl btc 11372 httpstcodtkts6u8 t btc 11324 bch 552 eth 350', 'one man cheat death com back defin futur human rac httpstcootynq0ptr0 banc sal ico avcjkore columbu btc indiegog godblessamer stlouil money baltimor technew funding icoalert startup saltlakecity indiegog argentin ito httpstcowwjtijuzw6', 'bitcoin cash pric mount min comeback yet be lie wait httpstribeticacombitcoincashpricemountsminorcomebackyetbearslayinwait httpredditcomrtribe newsoftheweek bitcoin blockchain cryptopictwittercom2i0trwbcek', 'httpstcos6mharmvq cybersecurity kualalumpur ico mexic malay bitcoinaustral london bitcoin southafr funding moscow miv initialcoinoffere canberr austin deal crowdfunde ventur newyork albuquerqu venturecapit nashvill nashvill ito', 'analysil localbitcoim dat show bitcoin exceptionally high rat usag countri low economic freedom support argument tharead httpstcotdecm5hjlz', 'one bitcoin worth 58200bitstamp high 58599 low 56602 market cap 9095 billion bitcoin', 'tradingroomapp sir think pop perlbtc quit negativ opinion te management chart show positiv sigm httpstcoxmcfrinxid', 'man ignorant let ignorant crypt ignoranc bitcoin altcoim badjournalismhttpstwittercombitcoin_txtstatus939203445931827200', 'happy participat project wish good project development ide well develop personally participat advis everyon coincompany crypt btc eth investment httpstcohbaneygckx', 'altcoim plung low crypt wint threat return bitcoinist altcoin new altcoin pric altcoim bitcoin new new tea altcoim crypt wint ethereum litecoin xrp httpstcouwpj0zsaok', 'one day lat altcoim catch bit compare bitcoin digitalasset cryptocurrenci altcoim bitcoin httpstco9agnmqrn8l', 'btc may sav bank btc', 'lov bitcoin much bc gold money king silv money gentleman bart money peasant debt money slav bitcoin money freedom sunday buy bitcoin jack let goo', 'bitcoin sp 500 ethereum russell 2000 litecoin yaho venturecanv httpwwwventurecanvascom20171209bitcoinisthesp500ethereumistherussell2000andlitecoinisyahooventurecanv', 'enjoy quowee1920 fail privacy fac recognition surveillanc tech bitcoin halacrypt greenenergy2blockchain money cryptomoney btc eth ethereum blockchain dash moner zcash ltc litecoin notyourkeysnotyourbitcoinhttpstcolhotjnsewl', 'receive bitbox02 bitcoin edition fast thank shiftcryptohq httpstcodeok9f8ct', 'httpstcobyjre29xcw share2ste', 'shitposterchiid -PRON- be trad do not believ crypt bitcoin rest die', 'liv profit 3504 257 buy b358 38000 vircurex sell 38616 hitbtc bitcoin btc httpwwwprojectcoinorg', 'turn 100 sit literally mad improvement btc retrace rekt city thankful anythinf 27 cent', 'sec run bitcoin ethereum xrp nod httpstco1ezljh5l43', 'min ravencoin ultimat mining guid window linux nvid amd httpstcoiwhtylho45 bitcoin cryptomining altcoinnew bitcoinnew altcoinmine crypt cryptocurrencynew', 'hurrican track bitcoin', 'consultant sirh workday successfac pwc neuillysursein cdi hf inf httpstco5gjg8eiw2u go job hiring care london united kingdom cryptocurrency blockchain btc httpstco0cr4aabowx', 'outsid sal representativ symmetry financ group phoenix az usa inf httpstcofzcclsua6r direct job hire care phoenix az cryptocurrency blockchain btc httpstcogrxskkgr9 m', 'longshort altcoin mov 100x leverag primexbt mak money even btc fall httpstco1wbss3pcyz soon -PRON- will off soc trading instrument tru kmd pivx ela aion pai gnt eo xbt httpstcobzzx7delp5', 'redxbt btc fir decent alt follow buy', 'current pric chang last hour btc 367009 075 xrp 0311685 086 eth 11915 104 ltc 4334 412 eo 272 091 bch 13037 193 usdt 100 011 trx 0026827 016 xlm 0081234 142 bnb 858 006', 'market go green bitcoin recover 10k psychologic support level altcoim post strong gaim httpstcoypejqbzpwg btc eth xrp bnb', 'soraix unprecedented opportunity sh revenu hability trad srx token use 11 peg equity tok issue platform soraix blockchain soraix ico tokensal srx btc eth visit httpstco29cyyuggaw', 'bitcoin btc break ascend channel may tak declin crypt httpstcoc65qiiq0px via crypt daily httpstcovel0escdrp', 'btc need miracl rever back textbook breakdown httpstcov9h2dvkcol', 'bittrex volum change pchain btcp pric 000000183 1806 volum 6246 mentiom daily chang 8000 httpstcoxg09doglhb', 'simply use promot use moner coinjoin be not enough', 'mark pascall explain blockchain dinn party httpstcohmay35r17v bitcoin crypt cryptocurrency october1st hereweg httpstcoqyupi2tbq6', 'see new lcg energy viral contest join reciev 1000 eur lcg 600 eur btc httpstconcf57xi86n lcg blockchain energy btc ico', '20180630_030043 forecast btc btc bitflyerpictwittercom0oic4bgv6y', 'stuxnet comput worm damage iranian nucle progr httpbitly2ulsiyr cybersecurity bitcoin pictwittercomhba0vvph8', 'httpstcogknxakscd louiesvill southaustral privateequity toky deal charleston blockchain bois indianapolil bitcoinruss cybersecurity entrepreneur minneapolil houston techcrunch fund philadelph bitcoin boston singapor kickstart vc uk', 'dcrbtc volum advanc decre dcr 24h volum advanc 30 day averag dcr btc decre altcoin invest', 'ord rogain 5 60 ml comp pric btc availabl fast worldwid delivery httpwwworbiticomorderrogaine560mlcomparepricesbtcisavailablefastworldwidedelivery pictwittercomppwpyycbnd', 'top shelf', 'btc bch crypt forex sc report triple uk 2018 watchdog read httpstcoh1okfhbsu1', 'good', 'top bank admit fiat worthles bitcoin futur money httpstcoklu7fznk78 dlt tech legaltech standards4blockchain httpstcooqmjxfzjjw', 'yahoofinanc buy bitcoin 33 cent', 'btc 10199262 068 eth 188063 053 xrp 0267 025 bch 305758 077 ltc 73413 05 bnb 27283 052 usdt 0996 003 eo 3597 05 bsv 133963 03 xmr 81551 053 xlm 0068 034', 'chines centr bank confirm launch cryptocurrency ind announc legislation regulat crypt crypt wallet phon provide applesamsunghuaw crypt payment retail experienc surg adoption employe pay crypt altseason nev end btc', 'blockchain cryptocurrency bitcoin ethereum ico p2p p2psf startup', 'ln much bigg failur bch do not know -PRON- gloating probably bitcoin lock wbtc ln end ye httpstcokrwnnoapnt', 'bcnex bcnx liv congratulatiom bcnex offic launch trading start tim 1700 19082019 gmt7 trading market btc eth usdt bcnx fre deposit fre trading chanc receiv 100 spec cash priz 500 httpstcolmmn5cmt3j httpstcouecubetxwn', 'simswappe victim land big payout civil suit liv bitcoin new httpstcowzaw4tb3dj', '-PRON- have realise 90 top ct chart influenc really do not clu chart triangl channel ew crypt far predictabl holdl prosp crypto_bitlord one sor come bitcoin crypt', 'elon musk support yang andrew yang really support bitcoin ico cryptocurrency token', 'matt coin laugh least ltc bitcoin nam', 'pick plea', '43066 1330 utc 24h rang 42201 43500 volum 5200 btc', 'bitcoin pric surg 7 overnight hit 70 dominanc vs altcoim httpstcod7fzxb2u4', 'btc earn multiply bitcoim fre do not believ watch vide httpstcob9jl6gyt30 httpstcoxxwysa34 mg', 'ico crowdsal bitcoin blockchain token eth ethereum tokensal skyfchainhttpstwittercomskyfchainstatus981232946639265793', 'motogp result today httpstco6emb7wj4fb motogp motogpnew motoliv sport sportsliv mot motogpresult bitcoin bitc trading trad crypt cryptocurrency httpstco3irflrk3dy', 'futurepaul pierre_rochard btc eliminat ability rentseeke that impossibl replicat', 'think bitcoin 4k httpstco1ast8jzu71', 'bed ko primary se bah kijiyes unk pas bht sar opportunity aapn de rkh h btc wal ko sirf primary hi h justice4btc prakashjavdek hrd narendramod', 'community therefor argue broad adoption even formalization symbol satosh nam give small indivisibl unit cryptocurrency one hundred millionth one bitcoin cointelegraph', 'hat fak sugardaddi -PRON- be real legit money want kik nicholeydl btc paypig fendom sugardaddy sugarbaby findon pussy boob as nud horny httpstcolnxf76qvut', 'bitcoin halve event maj rally come httpstcogdfk3dnkch bitcoin btc', 'liv profit 256413 6613 buy b148 310000 vircurex sell 440000 therock bitcoin btc httpwwwprojectcoinorg', 'nk start mine btc fall', 'crypt market hold key support bitcoin cash eo trx ada analysil httpstcosg7fvbuhc httpstcojeku0kxet5', 'sh stori project busines httpstcojy3tis4whv blockchainhey cryptodanielson zerohedg erik_jacob darkhorsexrp harmailsidhu2 hfcreat cryptotyrion hodlhodl altcoinn _ crypt btc blockchain altcoim eth cryptocurrency', 'last 10 mim arb opp span 11 exchang pair yield profit range 000 47895 bitcoin btc', 'quick bitcoin updat pric 1091000 btc btc pictwittercomshtvqh8nh6', 'realtimecrypt httpstcof1q96e5gg', 'bpdesign_fr cryptomichnl loomdart real question expect btc hit 100k', 'tomorrow ripplexrp forecast 79 21 rippl xrp bitcoin forecast io httpstcomgv869ccp6 httpstcozwh6uakyj', 'open air min mining fram rig iron cas crypt coin 6 gpu eth btc ethereum httpstcodmwguevn7c', 'eljaboom do not trad buy btc hodl 2025 enjoy', 'happine give receive help realiz dre giv donation bitcoin wallet 19fvl7nb1z4hjlzprg4ow7ohzjz65dsnn4 plea help thank', 'axecapcrypt francispouliot _ btc try money that pretty much solitary goal peac', 'join httpstcohezbnargp litecoin foundation relea physic cryptocurrency debit card httpstco7jhfsqoodx bitcoin', 'play paul spok month ago takingov btc bch', 'ye boom sav nev tak profit', 'bitcoin mining iran must regularized minist httpstconyrq9n2bcw', 'bitcoin recover 23 be market pric loss httpstcomopzgwwdm9 via coindesk', 'implementation blockchain bring except degre trust dat enterpris immutability provid integrity daytoday basil httpstcovflroxawiz rakamot fridaymotivation fridayfeele blockchain crypt bitcoin digit money coim', 'bitcoin btc pric currently 783377 usd 697575 eur numb 1 cryptocurrency earth market capitalization 13899873 milliom usd last chang 1h gt 012 24h gt 031 7d gt 100 bitcoin pric coinmarketcap fm4oet8', 'valu high market cap 10 cryptocurrenci 1 btc 856032 2 eth 19193 3 xrp 0273588 4 bch 23105 5 ltc 5771 6 usdt 1 7 eo 314 8 bnb 1735 9 bsv 8826 10 ada 004179129 act 0005 gmt3', 'canuckistan el nad vanr httpstcoq67ic8ldk2', 'ildell inthepixel bitcoin artific gold', 'averag pric bitcoin 794488 usd bitcoin btc pric httpstcobzpkikgind', 'analyst claim 8700 mark good long opportunity bitcoin despit overnight plung cryptocurrency httpstcovfcr6tokjj httpstconk0xmvm9kf', 'teth increas volum already release 4 billion usdt httpstcouzx7wgnuyv btc', '1d bitcoin market weakly trend current momentum suggest market neutr trad optiom forextrad visit httpstcoyusljvm9fq', 'methsmoking football coach blow 21 m bitcoin -PRON- be still believ httpstcodegvvdkwty david canellil', '-PRON- be hom watch bitcoin next hour httpstcoqmujl24d8', 'mak wish bitcoin httpstcotceqo9h6td', 'pinnacl mainstre adoption httpstcofkma0ntfff bitcoin crypt', 'btc dominanc 591', 'get salty folk litecoin go amaz world ltc litecoin bitcoin btc', 'vodix blockchain bitcoin cryptocurrency ieo bittrex httpstcopotzkkoy68', 'btc worth 998675 002 btc httpstcolnplbdqrkt', 'septemb 27 2019 1058pm 1 btc 81659199 usd httpstcokscoqybwfu invest fir ira 401k money stock retirement trad neverworkagain capitalgain saving personalfinanc crypt ethereum eth bitcoin btc', 'bitcoin qamp blacklist taint wallet fingerprint httpstcouslqoubt4j via youtub', 'digit custom phot fram 3d render bitcoin liv traffic via rbitcoin httpstcob1np3zznt bitcoin', 'last 10 mim arb opp span 37 exchang pair yield profit range 000 13203296 bitcoin btc', 'implicatiom bitcoin 85 percent supply mine httpstcovbbikhmzh7', 'bkhgog trying luck hit btc 12nsytancy9zhyz8gxzn2kaobravyzukxw bitcoin', 'betrayed bitcoin inturn karm take control', 'start mine bitcoin without hassl check sit min bitcoin phon laptop start right httpbit', 'congrat cofound bg14_15 win 2019 miam bitcoin hackathon buidl btcmiamipictwittercom749v6d6s9n', 'bitcoin hodl joy shortlive pric fall 8285 overall market tumble cryptocurrenci httpstcoh8mo69gr0j', 'apompli brucefenton long bitcoin short politic', 'current crypt pric btc 1265766 usd eth 33124 usd ltc 12872 usd bch 47524 usd xlm 01185 usd dog 0003164 usd neo 1917 usd xrp 04554 usd cann 0002152 usd emc2 01037 usd xmr 10073 usd btg 291 usd', 'surviv syst 39 increa conversiom convert col 1jl4com famil twitt new notic bitcoin cryptocurrency forex httpstcongt2zwgvlx', 'winklevos credit card work fin buy sell usd onlin amount busin conduct ecommerc use usd dwarf use btc know almost btc les efficient wond something volatility fee', 'bitcoin valu 809486', 'martybent tftc21 epsilontheory jamesob money alway change bead seashell coop silv gold market chos money fuck offic offic seal happen bitcoin market choos govt bank adopt issu currency top', 'pric updat usdt 1 hour btc 998212 055 eth 2154 035 xrp 029 045 bch 31212 054 ltc 7353 092 btc eth xrp bch ltc trading crypt bitcoin', 'crypt panic bitfly mak buying selling bitcoin easy eu custom httpstcontkglmgbku crypt cashflow via httpstco2p1vt5799c httpstcox0ovysymv5', 'sexforgrad uniport bam hugging lectur femal student httpstcoh35dymqrc radiouniport1 smiletach bitcoin callmynamemv mondaymotivation mondaymorning mondaythought trusteesweek motherc got7xjonasblu', 'part futur app stor httpstcojlkb0g8hw dapp_com join 100000 airdrop link httpstcop0rtea23rb catch last chanc fre dappt list httpstco2m7fgeirdq btc crypt blockchain airdrop lewat dapp_com', 'maj nam eth eth litecoin ltc xrp xrp eo eo als begin fall valu around tim btc lose 812 percent respectively httpstco4qe71bmb41 blockchain crypt bitcoin digit money coim doll bank', 'bitcoin briefly dip almost 20 rebound hov 15000 us busine httpswpmep8iywednl world_newspictwittercomvz2we8ko1r', 'pembridg resourc appoint gat aljebour ceo chairman bitcoin btc cryptocurrency financ forex market fx btc gold read httpstcolar09byra3', 'reasom bankexit deutschbank confiwcat venezuel gold bitcoin ethereum blockchain crypt crypt hodl financ money doll cash refinanc eur rupe investment poundsterling pound yen franc yuan pes gold httpstco2ihonyjkm', 'mstrvr invest bitcoin pric protection invest world 1st giftcard cryptocurrency exchang btc cntz ccedk _', 'coincompany crypt btc eth investment solid concept experience expert te execut project vision love shiny whitepap detailed busine technic information inve httpstcosv52uf616 m', 'joyceinnyc tronfoundation do not work bitcoin already', 'invest bitcoin change lif', 'blockchain want experienc secur transparent experienc explor httpstcooz1y7dvam2 tokoin msm blockchain crypt cryptotrading btc emergingmarket ecommerc retail', 'invest bitcoin change lif wallah cap wallah dar', 'find yard sal httpelixiumcryptocom27 regist start buy sell cryptocurrency crypt cryptocurrency bitcoin btc ethereum eth rippl xrp eo stell litecoin ltc card moner tron iot dash tezospictwittercomdp5p7og2wm', 'btc 24hr summary last 250489 high 262500 low 243005 chang 265 6811 volum 1383109 btc bitcoin coinbasepictwittercom5zktfdar9x', 'green favourit colour hat red bitcoin altcoim cryptopictwittercombxf1qfkrs3', 'bitcoin truth machin say gold bullion internat cofound httpstcoagwi7jirj httpstcot6rnzkzdzy httpstcogwkf1uqwgx', 'ill b first 48', 'facebook go let averag person get bitcoin kill crypt', 'wuabit wallet access via whatsapp chat interfac coinsubtl cryptocurrency blockchain bitcoin ai httpstcoclezqyqmmd', 'cz_binanc btc com thank httpstcoprcdwqv61l', 'bitcoin btc andre antonopoul explaim reason behind unknown block versiom mine httpstcoxemphvyr7p', 'liquidate long btcusd 000155609 80000 entry 98299 28475 lose execute', 'hereistitl httpstcoobixodalcl cryptocurrency bitcoin cryptonew btcnew', 'alright bitcoin', 'xlm omg btc xlm six neo bitcoin crypt cryptocurrency trading btc ethereum banking bkk tech fintech startup sixnetwork httpstcobz4pi7v3ik', 'good chanc participat good project support profess te profess te likely project great pngmemobil pngm pngcoin png payment blockchain crypt msm btc fintech mobilebanking banking', 'xrapid make wav worldwid httpstco1vfmdzw9c rippl ethereum bitcoin litecoin ada trx xrp eth btc btch neo tron xlm stell crypt rippl ada xrp eth btc btch xlm eo xrpthetstandard', 'qda usdq httpstcosjyiq0yue', 'mrbeastyt challow212 chriso2 _ pewdiepi btc bitcoin mad beast fan art use freehand microsoft powerpoint plea help buy crazy stuff 05 bitcoin 31nrz2bepmrbdbar6aqufufbn3zkpm6zkz httpstcozhyoy5vbzh', '', 'thank bybit', 'ltcfoundation email respon tim httpsgooglfvx5b ltc ltc btc pictwittercomurholaykck', 'crea bitcoin still unknown identity satosh nakamot comput programm invent digit currency pseudonym could represent man woman even group peopl', 'cryptobull look lik leave should may form 4h eth btc look healthy look lik minimum get anoth go 10k potentially head httpstconflqs4wufr', 'new trad exchang binanc storjbtc buy dat 20190422 201145 sell dat 20190423 004402 buy 000004944 sell 000004969 profit 051 storj bitcoin projectxonlin probot trading tradebot btc cryptocurrency blockchain crypt altcoin', 'rememb every btc sell someon buying httpstcowanffkwn2v httpstcoievc9iqaag', 'us man fac 5 ye prison sell 2 million worth bitcoin onlin httpstcox1ckhzrrlb httpstcowrszckgqxj', 'bitmain antmin l3580mhswith psu apw3 1600watt max httpstcowvzr5epugc bitcoin crypt antmin bitmain', 'httpstcorfonum5fop even high conversiom 2018 joseluisintwit job twitt new notic bitcoin cryptocurrency httpstcogeppvom2g2', 'usd 111430 eur 125050 gbp 145606 aud 78625 nzd 74168 cny 16538 chf 109535 btc 589671 eth 17795 -PRON- would may 01 1800 jst', 'httpsyoutubegqhgtbggp9 turn 1 btc 5 btc usitech', '1 dog pric 000000029 btc dog dogecoin 20190730 1315 httpstcofkoh7cojiv', 'complet list every blockchain cryptocurrency meetup budapest rating custom bitcoin market journ scor calculate numb memb httpstcoqn5ejd5wnr digit money coim bank mondaymotivation mondaymorning', 'mdud lack digit scarcity currently unlimited supply lt3 eth must chang ico need mak fierc comeback think btc approach 20k', 'bitcoincryptocurrency bitcoin usd 838464 bitcoin eur 754882 bitcoin yen 90152473 bitcoin rubl 53787602 cyberguerrillaautonomousnexu btc addre 1bhgvcsm3p59fsclg5g6dsstpv4srk5jty httpstcosgvpuwxfc7 provid financ httpstcouwoeizeaun', 'volum bot bnb 000234190 3416 btc minut 33 13 daily volum utc tim 103304 join -PRON- discord httpstcowel019k16x httpstcox9rxtg6frh', 'sincerely appreciat opportunity thank bybit', '5000 reach bitcoin fall back hit 5week high merely stumbl httpbitly2ybz0gx via coindesk', 'xmr worth 000749808 btc', '35620___buy_35420___sell_35620___vol_32262_btc___high_35888___low_35888___mtgoxusd____33900_bitpaybbb', 'bitcoin altcoim still stick correctiv phas httpstcosc1413qw03 httpstcokmpdg6qci', 'pric updat usdt 1 hour btc 837053 03 eth 17774 001 xrp 025 025 bch 22323 062 ltc 5593 027 btc eth xrp bch ltc trading crypt bitcoin', 'current bitcoin valu 1 btc 95000 usd -PRON- be love bit httpshort4bcco1y', 'join', 'economictim livemint confirm authenticity bitcoin ban pictwittercomgtes9ngiw', 'coincompany opportunity gain profit deposit al promise affiliat progr anyon participat nee start invite new partn referr linkcoincompany crypt btc eth investment', 'xrps0l0 davidgokhshtein yeah btc 21 million xrp bajillion trillion', 'assume crea hold bitcoin would shoot foot unle diabolic experiment crea do not car money com forward point somehow do not think that go happen', 'jesu', 'fraudst stol millionsand don yethelp stop themby share thishttpstcolx0p65d99 t view httpstcomr1nozdys realtimecrypt coindesk btctn todaycrypt cryptonewsflash kolescoinnew toshitim _ cryptoreport cyptogeneration httpstcolnj1a5w36', 'emrikan2 bigsiegedog dyslesyx didnyall donat btc wallet dreamin', 'ir follow bitcoin transactiom result takedown large child exploitation sit th via forb httpstco4mctgbjtq9', 'winklevos bro billiona bitcoim blowout party via ccnmarket httpstcouin2apqmcv', 'fed already inject 210 billion economy sinc septemb could bitcoin hedg questionabl economic policy httpstcoy11wg7hbzl', 'late bitcoin today httpstcooaqt0ytmj thank confirmgist bitcoin_org _ hdao_offic bitcoin cryptocurrency', 'large binanc bitcoin trading group provid bitcoin bot crypt sign amp bitmex trad copi bitcoin forum httpstcomcmnhtzyy9', 'newsflash bitcoin crash 10000 bleed stop bleed stop httpstcojfa5pdmjf4 httpstcodvgydceysm', 'alchemicjay defrost94 apompli go apompli anoth one bitcoin httpstcohskxxoj4gu', 'antiprosynth ryanmilb colingplatt islandhunte specifically hyp hyperbitcoinization btc good unit account day', 'xbt vaultmex pric alert tim 20190531 170058 xbt btc chang instabtc btcnew smartcontract jpy stockmarket vaultmex httpstcogepyoutbtk', 'portug als decriminalze drugsportug 2100', 'good start -PRON- introduc offic innovation sandbox fintech bitcoin magazin httpdlvritqdcyhv pictwittercomgjnztvk9z9', 'start bitcoin mining httpstcozfceynrr', 'buy activity market ost binanc duration 30 min mak buy 1105 volum 24h 4059 btc buy 449 btc ost cryptotrading bullish binanc', 'btcusd orderbook density ask 107087 within 92109500 rang bid 80182 within 90009230 rang btc btcusd bitcoin orderbook', 'definitely nev high httpstcosbxzd9tv3 m', 'post vide phot lipchain app get pay surf lipchain ico crowdsal bitcoin', 'do not see will not combination nev run full nod want benefit bitcoin many smart phon yet do not email still do not comput full nod saturation much possibl 4 robust network', 'fre bitcoin get rich bitcoin profit syst tom mcafe mad 550k thre ye michael gat richard branson top businessman describ current bitcoin market actually tim investgt httpstcolsoiapurmq bitcoin crypt httpstcopwwnlfunbp', 'top 5 crypt gain alert tim 20191013 160102 stronghand 0000 ubricoin 0001 stronghandsmasternod 0477 cybermusic 0000 bdttoken 0009 instaeth altcoim ai btc qrl httpstcorder8n5kot', 'lisamei62 think trump delay planbitcoin stop rorte trump enter look lik exit sc moment', 'signup get 10 welcom bonu httpstcorun0i7oiih', 'ent websit acce shopping cent click buy rememb purcha help -PRON- creat economic bas carry objectiv httpstcoikzcmqijb blockchain unicef onu agenda2030 bitcoin btc trading od neo fintech httpstcoilmcflsk6v', 'bitcoin pric struggl recov slump earli today httpstcosc55bnnz11', 'block numb 576704 tim 5192019 54023 utc min unknown transactiom 2338 block valu 8833564 btc siz 1221327 byt total supply 17708800 8432762 btc issue pric 800051', 'help beat liverpool napolil llor shin httpstcobrlhwmfakl httpstcobkaud92hr bitcoin bet httpstcogj7id4ep8u', 'apompli mean bitcoin', 'friend ask know anything btc caus -PRON- would lik invest viru spread', 'check brand new cryptotab brow use lik regul brow watch youtub brow websit soc med network etc earn incom btc tim httpstcowvyfo3ln0p bitcoin cryptocurrency blockchain crypt ethereum btc httpstcogt5qnapzxy', 'averag bitcoin market pric usd 876127 eur 795430', 'sip coffe admire new day feel confident crypt invest project lik apoll help ush new age sustainabl blockchain mass do not mis shin crypt bitcoin apollocurrency httpstcojvs8cjctqn', 'nic', 'de bitcoin could plea stop ruin vtcemb', 'httpstcorqltq9lueq doubl xrp rippl coim use secret high frequency trading syst automatic withdraw back addre inbox -PRON- visit -PRON- websit xrp rippl btc xrprippl ripplexrp xrpcommunity xrpthestandard httpstcoexqqqovyhg', 'new podcast episod nod bitcoin podcast nod 0380 justin moon httpsnodedorgpodcastnoded0380withjustinmoon', 'eterbas allow us mak receiv sep payment person iban account seamlessly connect world crypt banking eu eterbas bitcoin exchang inf project kindly visit offic websit httpstcoiiwk9nsodz', 'dohun754 maekawamaki825 j3punc5xs57et7 m thank', 'total market cap 130361976979 1 btc 386753 btc dominanc 5211 updat tim 28022019 140006 gmt3', 'bitcoin halve 286 day httpstcofptueehzaj', 'instant bitcoin incom pay every 60 minut httpstcomn8931ftzu', 'level safety current financ syst provid availabl use trust third party bitcoin force use third party payitforward', 'last 10 mim arb opp span 27 exchang pair yield profit range 000 10375 bitcoin btc', 'bitcoin sh invest p2p mining tech amp earn daily httpstconn6azj723b', 'tim drap excite bitcoin httpidvolatilitycom201712whytimdraperissoexcitedabouthtml', 'karisma1879', 'cut one slight los still think btc alt pair fly need bett entry', 'tim sell vra 0000001529 btc hitbtc dat 20191112 134030', 'rt murthaburk reasom bitcoin stop 20k tim httpstcopn9qopxg3 via cointelegraph crypt cryptocurrency ico blockchain airdrop altcoin btc eth bitcoin ethereum fintech ieo token altcoin trading list exchang murthaburk thecollec', '_ markhann btc need drop btc pump', 'rhyso84 xrps ecb lag joelkatz see venezuel exactly run europ venezuel sinc pap fiat valu mak handbag banknot tourist introduce bitcoin -PRON- payment', 'bitcoin analyst target test rang low 7800 nearterm httpstcocz7u49wjnk', 'httpstco6kkjfgy0g9 bitcoin raleigh orl losangel detroit charleston spain indiegog campaign privateequity kualalumpur fund blockchain cryptocurrency louiesvill stlouil crowdfunde avcjjapan platform wav italy cryptocurrency seattl top10 nem', 'bitcoinpas ye humble us promot witne beauty btc', 'ready unleash digitexfutur zerofe btc futur trading win 50000 dgtx tok cryptotrading digitex bitcoinfutur zerofeetrade futurestrading crypt bitcoin readytounleash unleashthebeast testnet launch 301119 httpstcoxf1dz6mka', 'rt bitcoinalertbot current pric btc 106566 usd crypt cryptocurrency trading btc xbt', 'john bolling warm crypt trad maj bitcoin pric mov httpstcoig2kubdfkm market technician bband cryptocurrency btc bottom volatility sideway trading', 'follow everyon lik', 'definitely bitcoinonly interest featur coim', '100 btc 781720 withdraw huob wallet multipl addr unknown addre 358n3rnxpq tx httpstcodvprlsnyhp', 'bitcoin power autism pictwittercomcqmhyveoed', 'great pl ahead cryptocom roadmap look great can not wait eu card go gam chang believ check mustachetommy great infographic mco cro btc httpstco3dfvgap9ec', 'featured cointig steemhunt httpstcotgyx5guf0v steemhunt cryptocurrency btc coin wallet cointigodev', 'coincass', 'wow market fre fall careful shorting thing could rebound hard moment bitcoin cryptocurrency crypt', 'check tutor mast believ account httpstcoealy78qgzw peculium pcl pcl aiev ai save cryptosaving btc btc eth eth invest new forex bnb bnb httpstcouk7ompvoxb', 'be bull market do not matt increas coim httpstcopjpqh42kbh longshort 100 leverag btc ada bch eo eth ltc tron xrp 100x 10 fee discount xbt ada bch eo eth xrp trx ltc bitmex httpstcou0jw28sjmc', 'ampleforth rais 5 m 11 second tokinex exchang offer httpstcor70p5cti btc blockchain crypt altcoin', 'buysell btc volatility 100x leverag primexbt sign right away trad 150 15000httpstcotvnfbsgjq5 mak money even pric decline knc gnt aion pay trx zec nxt nxt cro dgb', '0åºfâ crypt bitcoin jav competition influenc datascienc fintech scienc eu httpstcovym2yappq httpstcorwyhxdovo8', 'tracywe23831558 look lik btc bullish find premium group buysell fre 5 day look gt httpstcouoq4cixkc 664826932', 'officialsmcaf officialmcafe colbit86 hop oth abl get btc', 'bruc sterling classic work highlight 1990 assault hack httpbitly2gsmmt cybersecurity bitcoin pictwittercomvwyc5xipxu', 'bitcoin mining earn 30000 satosh per day fre do not wast tim regist fre payout 100 verify et sign httpstco3yndnkg5k httpstco134gxkumuu', 'giacomozucc bitcoin enhanc', 'nobody sell btc fak doll', 'market look weak still tonight today dead cat bounc open interest tomorrow guid way bitcoin still go strong spx spy iwm qqq btc httpstconnet4lec71', 'bitcoin payment proce bitpay experienc sof unexplained downtim newsbtc bitpay downtim httpstco76hhecxq1 m httpstcouuy6vuemhx', 'btcgt binanc gain 504 last 20 min 002019294usd 000000171ƀ gto gift bitcoin httpstco6c73c3gx7r', 'holveck thank stak cryptogamble', 'current pric one bitcoin iam_dav segalink renoomokr cbnnigeriaorg princeboss83 abati1990 donjazzy ogbenidip cbnnigeriaorg bitfxt georgeanonyu sp8thngrsenat dino_melay benmurraybruc let talk bitcoin httpstcoz7fhbldfah', 'kambuckz', 'asur def tge asuretoken ico crypt httpstcoa6r1ldvqzz', 'gooood', 'httpbountytrakxio62175627926 musfirayant cryptocurrency airdrop bounty bitcoin', 'late daily new httpstcoszk5lj0spv thank elizabethallen writersafrik wonderbeanuk bitcoin succe', 'thegoodgodabov put money bitcoin way wtf bitcoin', 'longshort bitcoin mov 100x leverag bitmex receiv 10 fee reduction httpswwwbitmexcomregister6vxb0 g btc ethbrd via gx mod sngl rdn tnt evx bnt wing fuel mda wab xzc adx -PRON- be vib cloack sy oax wpr cnd ast amb sunday 07pictwittercomcr17p32x3h', 'oh btw binanc margin borrowing amount reach 100 m usd equivalent day ago keep buidle httpstcow9srtcfnjc crypt cryptocurrency blockchain ethereum btc bitcoinmine bitcoim litecoin', 'gold 132537 silv 1638 platinum 93200 bitcoin 6922 bitcoin cash 690 shop onlin httprrb', 'httpstcog4xjfev0 coinlion anoth great exchang portfoli management tool tak look theyr campaign right give lion registratiom cryptocurrency', 'crypt new analyst bitcoin btc need break 11600 skirt consolidation httpstcojktt5cjzjz', 'johnnyzcash 1 buy bitcoin usd 2 alt usd pair', 'btc may take breath still look lik follow parabolic curv use main support late bounc long curv turn resistanc think may see upward momentum bitcoin httpstcotq8wzxrkvc', 'mean univer lif amp everything 42 httpstconk2uynwtsq seattl token eth bitcoin godblessamer atlant forthworth funding investment techcrunch memphil sandeig oakland malays reut privateequity orl saintpaul boston httpstconf9c3mkten', 'andreesen horowitz roll fre school crypt startup blockonom httpstcotvmzlaf4n0 bitcoin', 'hereistitl httpstco6wnt9tltp4 cryptocurrency bitcoin cryptonew btcnew', 'drdamonbryant appreciat do not feel disrespect sham howard alum find bitcoin company serv african natiom diasp dr pr brazil colomb be not even aw event take plac need soc gam', 'bitcoin pric hit 200k cycl bobby lee httpstco0jmp9w48xh', 'jack cashapp tell jack exited pric btc -PRON- typing lik michael j fox', 'azbill_brandon cnbcfastmoney azbilwouldnt offload real estat investment force market valu amp stak bitcoin ship leav harboury x2 stak -PRON- modest amp buy doubl property sell minnesot buy lie wait buy force sal valu crypt', 'cnbc host goe full bitcoin maximalist 55k forecast halve httpstcoyppn3lwohk bitcoin crypt blockchain btc new cryptocurrency httpstcojxsnxx2vb eth ltc xrp', 'pric usd btc 839978730074 bch 4418438159 btg 26032248 dgb 002001 dsh 1705814732 eth 2640123223 rbtc 822521744185 realt 025025 smart 001001 tusd 105095 xem 009008 xrp 040036 zcr 011010 zec 79406857 stratum', 'btc pric decrease buy 456331 sell 456436 btc eth etc neo dgb dash strat eo omg pay xrp xmr ga', '-PRON- be run win custom engrave ellip cold storag wallet check bitcoindiamond _ ent chanc win httpstcoom9ahrgz5 g', 'hardw bitcoin wallet get trez 89 eur httpstcorypubezrm btc bitcoin 07 httpstcoxq4vfsbb3', 'binanc bitcoin black bcb binanc sign petition httpstco430mf7oc via chang', 'bitcoin pric range 93k extremely fin say analyst httpstcorwvv0jel0b', 'diagoni airdrop liv click link participat amazing airdrop httpstcoieeduq2b0n reward 15 5 airdrop blockchain cryptocurrency ico bitcoin crypt eth', 'donald trump bitcoin money valu base thin air facilitat unlawful behavi httpstconrumpg93fy', 'join fast bitcoin min onlin httpstcog0d8qmnc5 g bitcoin bitcoinmine httpstco9kbnhaz1hd', 'two man steal 4000 bitcoin atm smalltown grocery stor leave 50000 behind overlook canist httpstcobg86al0ovt', 'frfrankpavon realdonaldtrump ppf trad bitcoin ethereum litecoin use _ peculium httpstcozjcvwuphwc platform power ai trad automatically 247 996 accuracy rat start 200 worth btceth let grow reinveste weekly gaim httpstcow3tieo29ly', 'krugerclassic gam plan bitcoin still massively bullish target ath 20k httpstcopmgbcvkhzr', '1hr report 000212 utc top 10 mentiom btc xrp eth ltc xlm bch eo neo ocn omgpictwittercommtu0yq1igx', 'juuso _ vast majority look sav btc purcha good serv directly look sell back fiat use fiat purcha good serv peopl hodling btc would accept btc payment', 'subnetzer coinbas gemin cashapp sal proceed availabl instantly use cashappcard lov late ui updat realtim btc tick sick -PRON- be nev wait wir coinbas', 'beat market trading syst bitcoin investment inve cryptocurrency forex trading trad entrepreneur investcrypforex httpstco0tidtivwzv', 'imagin look shit call unsubstantiated', 'kursanalys 4 jun bitcoin ethereum rippl bitcoin cash eo litecoin card stell iot httpsdecointelegraphcomnewsbitcoinethereumripplebitcoincasheoslitecoincardanostellariotapriceanalysisjune04 via cointelegraph', 'current crypt pric btc 795761 usd eth 17198 usd ltc 5345 usd bch 21297 usd xlm 006308 usd dog 0002785 usd neo 7159 usd xrp 0291 usd cann 0001353 usd emc2 004568 usd xmr 5702 usd btg 7941 usd', 'fiat curenci lik btc fundamentally build faith peopl treat currency valuabl expect oth consid valuabl decentralize currency lik btc faith depend belief rul currency stabl tim', 'hansthered strivingyog get 7x 1k week btc', 'httpstco80qtp4jead 5847r start trade packag usd10 trad psigen within everu wallet app earn bitcoin passiv incom', 'antmin atx pow supply jump switch w lead light psu bitcoin min httpstcodreyy288mj bitcoin crypt antmin bitmain', 'httpstcoaj0e27fcll rippl xrpbitcoin crypto_rand rippl xrpthestandard xrpcommmunity xrparmy bitcoin xrpforgood', 'exactly one verify littl dat stick littl 1s 0s btc especially grid know be not', 'kag4all realdonaldtrump keep see understand sentiment simply will not work could send 20k bitcoin cent fee anywh world middl man personally -PRON- would use moner bett privacy amp cheap amp fast btc xmr moner bitcoin', 'nwoodfin tuurdemeest bitcoin incentiviz updat httpstcopsijunjl9v', 'buysell altcoin volatility 100x leverag primexbt sign straight away trad 100 15000 httpstco7x93ooqydw mak money even btc decline thet iot ver link ste man btt celr bsv httpstcodaocyikc', 'late lar crypt daily httpstcojjofnaew2b thank pitchlinkme theomnichanel ccoinmarket crypt bitcoin', 'ultr wealthy want demand seizureresistanc asset come ye everyon bitcoin crypt blockchain fintech tradecraft', 'httpcubeminerscom sha 000 kh scrypt 638 mh x11 1897 mh digicub bitcoin altcoinpictwittercomarasvlqdvl', 'wsop use bitcoin entry fee', 'stack sit iost teth last btc drop', 'bitcoin btc back momentum 12k way httpstcojegcfxupsd httpstcodmnbhft9lz', 'tomorrow ripplexrp forecast 75 25 rippl xrp bitcoin forecast io httpstcomgv869ccp6 httpstco0bidmwvrk7', 'acr_pok week tell 3 different tim bs need bitcoin send bsbkn add account see send 2 transactiom 1 715 pm 30 2 1015 pm 40 httpstcodk6marzcby httpstconns7gga5xd', 'lcc hiv btc crypt lccgiveaway litecoincash', 'andrejcibik mrhodl httpstcohgmlrdcepx httpstco5vpwu9hcqu httpstcodus7fpx2i httpstcoilfdx3gqet bcc btc ltc mining hodlgang craefulgang bitconnect bitconnectcoin bitcoin litecoin blockchain mining crypt cryptocurrency po community proofofstak decentralize httpstcoha4wftd1j4', 'get bitcoin fast return investment 12000 24 hoursbitcoin doubl multiply httpowlyty2j3092zq0', 'bitmain antmin s9 bitcoinmin apw3 pow supply httpstcorpnz8mt7h3 bitcoin crypt antmin bitmain', 'amandaknox bitboy_crypt bitcoin fix', 'bitstamp cryptoland stat cryptofriendly oth find homeland list bitcoin friendly countri check https99bitcoinscombitcoinfriendlycountri pictwittercoms9tdlj3d5ahttpstwittercombitstampstatus1025385158185308160', 'httpstcomjbxpylqw6 via bitcoinech', 'btclbc bittrex gain 2210 last 20 min 001767563usd 000000166ƀ lbc lbrycredit cryptocurrency httpstcoszjchsuhnt', 'thecryptodog want way moni provenanc digit art lead nonfungibl blockchain tech rest history art bitcoin', 'michaelgraub hodlonaut beauty scarcity bitcoin one utx lock one script eith alic public key bob can not one utx can not doubl spend halvene beautiful irrelevant scarcity', 'rhythmtrad think still bit far mainstre ye ye peopl get crypt amp bitcoin adoption eventually com', 'btc eth want secret trading crypt 1 dailyweeklysupply amp demand 2 patienc go fre alph go rich', 'earn metahash cryptocurrency fre try httpstcocnioetkfaw btc httpstcozijcxgljqy', 'pull back long term consolidation sinc start bull market say mar rupsy digit currency inves httpstcodma7gfo2k5', 'averag bitcoin market pric usd 103900 eur 96616', 'eb348', 'ght explain httpsyoutubercjyfhommpq telegr group community httpstmegroovytoken rap goat playlist httpsopenspotifycomuser124058521playlist5yxehuuhed2y6dlnlzstjdsi_kohm1weqi214gq_poo07 cannavel crypt sundaymotivation btc ethereum ico etherfly sami bow blamemp3', 'tom lee trump tak bitcoin past 40k httpstco5d4yfleg1x httpstcobcpd3jx4qu', 'buy bitcoin payp als cc paysafecard skrill okpay httpswwwvirwoxcomr4db29virwoxcomr4db29 btc bitcoin 10 pictwittercomdskdxpjhdh', '575436 tx 3226 siz 122 mb strip 086 mb tim 1557513512 reward 125 btc fee 108732376 btc min unknown mempool 58505 tx', '11 kristen suzann easy raw recip ebook vegan 1jl4com food twitt new notic bitcoin cryptocurrency httpstcoghfxwhsib1', 'report bakkt launch q3 pende ny financ department approv crypt bakkt btc bitcoin blockchain httpstcox0bwozeyzk', 'binanc xrp bitcoin 20', 'know cas grift do not lik crypt httpstcot5gdthtwuh', 'get 07 daily ur invest though ai bot telegr gt bitcoin arbitrag 5 btc singup httpstcohfvbewscvh arvtration arviration arvitation arvitrtion', 'opinion libr could nev outd -PRON- doll httpstcog60xawzwd fiat btc blockchain', 'bitcoin surg prov stock market turmoil circl ceo httpstcodabk3du0v5', 'rt thepumpadvi amb pric rise btc market binanc current pric ƀ 000000188 sharing pushing', 'bitpay company want pay dividend btc need wallet addre would need btc wallet addre incoming money automatically convert send busines bank account eur something bitpay support', 'buysellbitcoin bitcoin pric inr buy 3847000 inr sell 3723300 inr buy sell bitcoin ind use buysellbitcoin', 'bitcoin search googl trend still climb pictwittercomi4exdlwatr', 'goal 2020 bit lik tripadvi bitcoin casin industry think locally moment list good opera play live austral uk germany soon -PRON- scandinav httpstco5yoxcr9czn bitcoincasin httpstcowgwzpmpad8', 'mob download master bitcoin programming open blockchain gt httpstcodom2lqjs2j', 'sound money good supply do not chang austrian economic fix saifedean tftc21 httpstco6hheot4ru0', 'bad liv authoritarian regim mag serv intend use individ citiz nation resident unite stat amer belaru cub eritre iran north kore syr venezuel', '13perhap anoth lesson anoth 411 block mod411block bitcoin block593484', 'try new dyt saf dynamit token dyt eth btc crypt httpstcoaqsmssdm2u', 'bitcoin suiss publish 2019 corporat factsheet key financ read download corporat factsheet 2019 httpstcomizwo3mrq1 httpstcomd44vwoq1n', 'ltcusd war dumbbell startedbtc ltc cryptotrading httpstcoxykk8dakfm', 'get fre bitcoin httpstcozwvykxspig', 'rt stratorob blockchain set shap futur green bond httpstco4i8tfh0abd smartereum gontruss rakesh_swain62 prashan79378470 80_pep cryptosmartly cryptoindexfund blockchain crypt bitcoin wealth httpstcozzjofrtpgh thank', 'act bitcoin btc pric 1 btc 9320652 eur 1 btc 10264369 usd chang last 24 hour 089 chang last hour 005', '11000 bitmain antmin s17 pro 53th bitcoin mine 6 month httpstcoz046pldwqz', 'buy bitcoin anywh world 5000 items4sal list ur biz httpblacktradelinescom pictwittercomx2sfzwjz', 'btc pric 703000 btc today high 704059 btc tim high 704059 eth pric 27860 bitcoin btc btc eth ethpictwittercomby5opncxfn', 'world first deterministic solution last mil httpstcorgkcnhhkt bitcoin madison losangel tech uae crowdfunde gamecoin entrepreneurship portland washingtondc canberr icotrack virginiabeach albuquerqu iot stlouil ito statu austin cub httpstco0vtrhw6nmq', 'liv profit 29351 1374 buy b628 33940 bitfinex sell 35000 vircurex bitcoin btc httpwwwprojectcoinorg', 'ap interested binary optionsbitcoin investment interested earn 9000 weekly contact', 'gbpusd mov 200 hour ma50 retracement back httpstcorycxb8i82n forex investing bitcoin crypt xrp btc eth forexsign httpstcofj6shvr8cz', 'conspiracy big secret univer keep hide sinc 1990 mad public httpstconk2uynwtsq orl fund ico avcjjapan adelaid stlouil adelaid phoenix sanantoni icoalert tech btc utrust btc charlott tech southaustral tokenlaunch nem httpstcobik4zfj2dy', 'instant bitcoin incom pay every 60 minut httpstcoqspzpftufq', 'bitcoin btc pric 1152050 chang 1h 219 market cap 19259683887500 rank 1 bitcoin btc', 'let patient cex issu btc experience wait day confirmation still count let wish blockchain community good luck let hop solv issu soon possibl patienc', 'tabl talk bitcoin today starbuck pvj start 11001700 confirm 1st part history', '162 bitcoin mine sinc last tweet represent 659502 4071 per btc btc new supply 16589712 progre 7900', 'btcusdt binanc 30 m short btcusdt charthttpwwwtradingviewcomchartbtcusdti9njvicpbtcusdtbinance30mshort', 'indian government le toward call bitcoin asset buzzeology httpbuzzeologycomindiangovernmentleanstowardcallingbitcoinanassetbuzzeology', 'pric updat usd 1 hour btc 76566 033 eth 23888 111 xrp 039 044 bch 3746 097 ltc 10082 134 btc eth xrp bch ltc trading crypt bitcoin', 'krugermacr happen coz half public lock draw big exchang dumping usdt btc artific pump rek many', 'ntap', 'happy moth day wonderful moth mom interested invest bitcointak neighborhood bitexpre btm show easy invest today httpstcofardvsmgmt', 'gonn 10k bitcoin al show money snapchat every day yet crack screen shitty phon', '11day mad 1687profit join httptmemonsterpump slr snrg blitz sl byc sphr qtum uno salt tix xdn btc btg changeyour', 'bitcoin pric top 10k first tim sinc 2018 httpstcohqhrmsteo', 'amazing individ payitforward nic job mr pult', 'xrp 034 btc maxil rekt', 'oniz ito betting eth crypt igaming httpstcoumh6prttwn', 'altcoim move use httpstcotywhoroemh scan oversold rsi macd crossov buy go btc eth link dgb abbc maid zil ardr ht wax ppt tru xvg strat bsv lrc enj ela xin mco httpstcoz7pxwtcs8w', 'bitcoin btc pric 1065471 24hr chang 8454 ethereum eth pric 19674 24hr chang 479', 'moscow sputnik popul cryptocurrency bitcoin surpass 11000 saturday first tim sinc march 2018 accord trad dataread httpstcohi5iglgjdv', 'flippene ethereum twic popul bitcoin 11 fee httpstcohe0bezj99f dy flippene ethereum eth', 'ord secur smart btcethaltcoin hardw wallet 9480 eur httpstcowc9nt6qcb7 bitcoin btc eth altcoin 2220 httpstcomzxsikvdtm', 'turn 50 9570125 ye brand new crypt trading method bitcoin btc cryptocurrency googl chrom httpstco6hjypbxkew', 'john mcafe off build cub first cryptocurrency httpstcoe2ylm5okc bitcoin', 'bitcoin historically bullish uniqu difficulty adjustment pattern httpstco6qphmt17an httpstcol6y7vwce4l', 'terrified president trump fight back bitcoin sun microsyst', 'bitcoin btc grow entirely fre government interferenc claim saifedean amm read httpstco20zu57iof bitcoin new soc btc new', 'government financ 3 way tax debt print bitcoin standard expect minimum government 13 small', 'com bitcoin mam need new pair boot vacation dec2019', 'want know what come blockcard check updat medium blog blockcard good way use crypt crypt cryptonew cryptocurrency bitcoin litecoin ethereum cryptocurrenci bitcoincash terni getblockcard httpstcodigwbucsqf', 'buysell bitcoin chang 100x leverag primexbt join right away turn 79 10000 httpstco6jq60prm84 receiv money even btc go etp fat wtc gxc qash xin eth ong ethusd na httpstcohfwr2q5gtd', 'last week grill capit hill amp consistently compare bitcoin look key differenc libr amp bitcoin cryptocurrenci blockchain fintech httpstcokvvhs44mu httpstcoif0g9xyytx', 'want hopium check dcr btc last bull run notic round blu circl notic buy indica well th one indica blu arrow leave sid still wait httpstcoaavghz7fq2', 'good mov project profess persom introduc project around worldgood luck pow teamblocksaf bsaf sto bitcoin btc cryptocurrency', 'amazon burm breathing probl spik joseluisintwit washingtonpost twitt new notic bitcoin cryptocurrency forex httpstcocfvooinkmx', 'teth mint 5 billion usdt tok tron network due decim mistak bitcoin trx invest hodl fud coldwallet dapp bch httpstcotgs9w8kuoq', 'daily discussion january 24 2019 via rbitcoin httpbitly2wfe1ax', 'kenzboard se easy honestly expect happen -PRON- have already put ment not sell 450 resistanc buy dip sell 800 h1 next ye btc lay roadmap eth follow next ye disbelief grand', 'optionsaction cnbcfastmoney michael_khouw wow4 have not retire yet hand btc', 'btcsessiom big manipulation crypt history httpstcod3alrpr1b4', 'geocoin geo 0074357 300 000009487 btc 349', 'americ cash httpifttt2ydtvs8 reddit bitcoin', 'sunday digest bitcoin pric rac rul blockchain spac photograph manage get snap threeantlere de michigan usa week wildlif expert describe find oneinamillion -PRON- httpstcocoofp698f7 httpstcoinwfpy5vmd', 'btc eth goe breakout mention earli today eth time accurat howev hoping btc would go sideway mov acro pennant littl long gue wait nobody httpstcojmkxrffhlv', 'makemoneyfromfootball much money mak bitcoin httpbitly2auyu8d pictwittercomvvahjmvhjr', 'crypt market trim 80 billion bitcoin bch eo trx ada analysil newsbtc', 'discordspyw ian_fisch zerphound rippl remindme_ofthil lol read tweet utility ie real world use mov pric happ will not dump hard lik every crypt pump u go wak realis speculativ crypt bs lik fak btc get pumped teth lol', 'bitcoin devour electricity switzerland infographic httpstcomsatmqlcnb httpstco8ovo3195jr', 'httpstco5a5mtyigln httpstco2ajwzxjgq', 'ccnmarket chanc would satosh put much effort brag n brand almighty crea bitcoin btc spend 10 ye succesfully anonym mak absolutely sen dumbsv', 'richardschnyderit', 'httpstconbf6p8o8 kg ltltlt do not pas easy lik thisref friend amp receiv 10 earn bitcoin btc crypt cryptocurrency workfromhom httpstcoiuf0qsmeat', 'binaryoptionsign binaryoptiom binaryoptionstrade binary binaryoption binaryoptionssign forextrad binaryoptionsstrategy iqoption bitcoin binaryoptionstradingsign trading binaryoptionsign binaryoptionstrad money olymptrad binarytrad httpstcoj1c0pkbp5h', 'liv profit 36473 446 buy b1981 42000 vircurex sell 43201 btc bitcoin btc httpwwwprojectcoinorg', 'freehashfriday', 'bitcoin consum energy switzerland accord new estimat verg httpstcomxpxxptov', 'btc pric 928500 btc today high 929500 btc tim high 1990344 eth pric 68250 bitcoin btc btc eth eth cryptopictwittercomfltgvwqz', 'decentralized platform solv sever architectur probl bitcoin network good bitcoin freely availabl everyon without kyc aml mention sever tim statistic effectivenes fatf httpstcodlo8sabiz', 'candlevolum different kind candlestick httpstcotltaztjumy gld qqq slv dji dia spy stockmarket commoditi invest financ stock gold silv fb twtr aapl amzn tsl intc amd nflx btc tlry cron cgc acb aph mu nvd ba pim ostk bidu', 'bitpatrickk rhythmtrad usd big ponz schem human history print indefinitely limit supply bitcoin hand can not limit supply bitcoin simil gold', 'conan40617577 post httpstcohar8cw41db', 'bitcoin fix', 'rahulsharmakbj justinsuntron that btc show trx can not keep btc ris valu healthy atm', 'huriup2 post httpstcodk2z6dgw9c', 't_erk dbrought hawgrad80 mscott54m1 mscott54 m', 'bitcoinanalyst spot trend suggest incoming monst bitcoin rally httpstco4n54qardlj httpstcoo2uuv1rg2x', 'craig satosh dram unfold let revisit pabl escob family bitcoin trademark history httpstco546ghkkivt bitcoininnovation', 'joshberman1 com -PRON- all quit play', 'cryptocurrency market trad sideway bitcoin hov shy 12000 httpstco8nttdvj5tr httpstcoba3pyujuzp', '07oct2016 0000 utc bitcoin blockchain statu last 24h 158 block mine 2290412 btc output 272841 transactiom', 'repaoc cryptochopk lettin ya know girl futur 2020 unelectabl ponder offic woman bos b queen babblin be not fix nothing -PRON- escape ignorancebought btc', 'warn kuzekan botak -PRON- seri expert say httpstcomqdcbsj8qt', 'xrpbtc repeat pattern back summ 2018 july aug big pump sept -PRON- be add add swing trad till eoy tp would around 8k sat xrpusd 05 1 xrpcommunity xrp crypt bitcoin btc httpstcowkfcjamk0l', 'httpstcoexao0p98i9 cryptocurrency banc com utrust funding ethereum ito investment funding saltlakecity cryptocurrency spain saltlakecity privateequity startup cannavel netherland investment tamp houston eth albuquerqu investment btc abraaj', 'httpstcoieg4qnjvrf try luck 2 btc contest 103 crypt accept instant exchang totally fair blockchain bitcoin btc xrp rippl xrp komod kmd kmd eo eosi eo ontology ont ont dogecoin dog dog httpstconbrwezch4r', 'new slp token allow transact btc bch fee crypt cryptonew cryptocurrency cryptotrading httpstcouyrdpcrumt', 'way bitcoin go gue good min httpstcoxijkrsde1 nash nex mo0n httpstcoibhb6cxfsx httpstcoyaeo3vtvbq', 'tradeciph mak profess crypt investment easy get 1 ye goldlight crypt research 119 chanc win 01 bitcoin 390 join tradeciphercrypt waitlist httpstcozmpphzmhyg', 'crypt panic around block jeff dav july 30 2019 bitcoin 9500 ir want crypt chin unb bitcoin lg kore aiblockchain httpstcokh1valgz3 pradeep goel speak join -PRON- httpstcourmzmspoju crypt cashflow via httpstco2p1vt5okxm httpstcomhqfjgcph', 'consensy inn conflict spark legal action find httpstcoyiu1ibzvxz httpstcorthar0dolb', 'currently round 7449 54100 participant 010452052 btc', 'last 10 mim arb opp span 19 exchang pair yield profit range 000 6853 bitcoin btc', 'amazing blockchain startup wav real blockchain technic solutiom corporat financ industry educativ insightful fun panel moderat thekeybox perunnetwork anyblocktool accelerator_ffm httpstcolwooub96gq', 'giacomozucc excellion leave bitcoin bitcoin be not wright', 'download bitcoin literally change lif', 'btcusd btcusd btc usd bitcoin 3day golden cro confirm long short wcx httpstcozcdifz7dn5 httpstcob09acqfqkd', 'beauty food spanish 1jl4com food twitt new notic bitcoin cryptocurrency forex httpstco83xb1vmilx', 'wbackdown don go httpstcoos3di18c', '34 usd aud httpstcoo3eldsd8yf stock market pric right', 'sun oct 27 003919 2013 trade 016550949 btc 19084254 usdbtc', 'secretiv chicag trading firm build bitcoin platform show crypt shake scrappy root httpswwwbusinessinsiderdeasecretivechicagotradingfirmhasbuiltabitcoinplatformthatshowscryptoisshakingoffitsscrappyroots20186 via', 'btc sometim gott zoom omg good lord httpstcoygxtr1lvfv', 'rt zcoinoffic rt greybtc ovexi giv away r15000 worth zcoinoffic bitcoin night get fre ticket httpstcorxaqkwbfzv httpstcog01iy2nhp', 'bitcoim technic show sigm bottom possibl short term rally analyst cointelegraph cointelegraph market predictiom read httpswwwcriptalkcombitcoinstechnicalsshowsignsofabottompossibleshorttermrallyanalyst pictwittercomz0mnbvmlz0', 'jesssr ramseys_leutl click link earn fre bitcoin httpstco3ionnt2knh contact trading purpos thank', 'who s standard bitcoin btc bch bsv', 'crypt market irrat plac earth aion relea useful tech today virtual jav machin pric goe ieo github activity pric goe btc eth ela', 'primacy gold bitcoin roysebag crypt', 'httpstcoaetmquoysu', 'top 5 crypt los alert tim 20191016 220133 zeuscrowdfunding 0000 cryptoadsmarketplac 0002 linx 0000 bitcoinx 0000 saveenvironmenttoken 0010 instacrypt insta instaethereum ico btc httpstcorder8n5kot', 'coinplug ceo bitcoin derivativ product may inject instability bitcoin market br httpstconqrujhj3m3 httpstcoejzvs2czed', 'liquidation btcperpet buy 200 btc 802300 12 jun 2019 024821 utc trad -PRON- would 23973164', 'sick increa bitcoin pric absolut dickf buy gbp', 'cryptologeek_fr interrested httpstco5zdm8xbdwy metal vis card get follow link get bonu 50 lock mco card httpstcocxt2nopqst do not forget ent referr cod 90q3xagu app get bonu crypt btc mco futur', 'sav world blockchaim big dre com back earth dc via coindesk httpsifttt2lgmom pictwittercombdv7blxjvz', 'cz_binanc soon btc atm machin becom prevalent ga statiom', '1 bitcoin averag pric 100959298529 002 1h 2 ethereum averag pric 189479910018 008 1h 3 xrp averag pric 02712055977 039 1h 4 bitcoin cash averag pric 306295875082 025 1h 5 litecoin averag pric 728285876755 02 1h', 'ethereum testnet activation istanbul hard fork push back early octob accord community manag ethereum foundation hudson jameson httpstcog0mljsthjm blockchain crypt bitcoin digit money coim doll bank', 'shorted btc 8320 feel weak as pump last night hourly ema ribbon waiting see break ribbon back glad shorted 50x leverag', '3 hour leave get 15 btc becom full vip client margin trading must get bitfinex account click apply use term 10 btc client liv lik wealthy httpstcos42szlyvkz', 'one bitcoin worth 127919bitstamp high 128000 low 124698 market cap 20841 billion bitcoin pictwittercompd1ysac4zm', 'protect money via sim card segregation ocbcbank westpac commbank hsbc hack bitcoin cybersecurity blockchain httpstcotu8q3tpxn1', 'bitcoin bank galaxy digit trading toront stock exchang httpsifttt2n21ulf pictwittercombaxxe54l7v', 'hell iam graphic designerand expert adob photoshop imag edit retouch clip path -PRON- musche background remov check may link httpstco6f1vggp3 kb httpstcofu7decrlzj httpstcovttwmeqwhn', 'easy way buy crypt httpstcoowr2tha8e bitcoin coinbas cryptocurrency blockchain ethereum ico novemb 08 2019 0715pm', 'form hedg fund manag novogratz crypt bank mak stock market debut despit bitcoin be market httpsifttt2avcymy', 'hum bitcoin blockchain radi crypt clothing donatiom hamz 5', 'buysellbitcoin bitcoin pric inr buy 1728600 inr sell 1674200 inr buy sell bitcoin ind use buysellbitcoin', 'bitcoin steady uschin trad disput hint resolv httpstcomjdaej9j3k', 'tim gain chanc becom want lif forex bitcoin brok tradeforex httpstcouofhpzkrrd', 'wrot articl back novemb 2018 btc flash buy sign 4200 show strong technic continu buyabl pullback bitcoin trading httpstcoxemk9q0uig', 'xeraexchang exchang crypt cryptocurrency btc eth blockchain altcoim technology believ profess te -PRON- be look forward see top sound lik awesom opportunity part httpstco0jhgwjzzyu', 'curatearmy plea check great interview laurianna90 mikesatosh al talk curateproject start 13 minut httpstcobfztgefmqq ieo curatearmy fashion airdrop crypt cryptocurrency ethereum eth coinbas bitcoin litecoin ico', 'eskrim29878 ifb lik retweet tweet followback httpstcojjzjyv36vt', 'miss get bitcoin early day next chanc initiativ q estimat futur valu q coin 16375 reserv spot get 1699 q coim registration click httpstco9cu0xqy4jr cryptocurrency', 'vivpahw dtapcap -PRON- literally ask sp lol milliom articl btc bett centr argument btc decentralize mak secur nonmanipulativ symbol fre market btc philosophy shortcome mining tim amp volatility', 'profit 1211028 50 buy b241534 12700 bitstamp sell 12842 mtgox bitcoin btc', 'tor25 round playground faucet 000005000 btc join chopcoin earn btc 1120utc', 'btc eth xrp bch ltc eo xlm six omg abbc six omg eth btc dash btg neo bitcoin xrp litecoin ltc eo binancecoin bnb teth usdt stell xlm six cryptomarket marketwatch sixnetwork card ada crypt cryptocurrency blockchain', 'grab groestlcoin pillow next chillout weekend keep calm gröstl sal monday gr pillow chill weekend httpstcodmxtdcahs5 httpstcom2x3lsjub0', 'mdud srussolill sadly btc have not outperform bch bsv ye anoth great piec evidenc show pump artific', 'testing io version london aircoins_crypt london btc cryptohuntpictwittercomghuxfo1ujt', 'buy bitcoin germany yaho financ httpstco8grug6akd', 'especially newbi refresh old hand mayb put togeth littl resourc centr authentic essent along bitcoin personaliti vide amp feel fre suggest peopl resourc think essent inspire', 'nana1306k lizysamme zodshingl rusvrn92 followbuild enunejc guchmanidze diasamidzebek followbuild guchmanidze', 'chin whal new buy reward halving bitcoin 60 two week instacryptocurrency instablockchain ethereum airdrop trx trading altcoim cryptocurrencymarket pumpanddump secretcontract eth btceur httpstcoddbmiruj4y', 'audit ir notic could spell troubl crypt trad httpstcok5im6s71b crypt cryptocurrency blockchain ethereum btc bitcoinmine bitcoim litecoin', 'bta pric bittrex 000001458 btc yobit 000001500 btc bleutrad 000001424 btc btapr 20160715 0100 pictwittercomlekbtnmsf2', 'bad bitcoin be not accept 9999 onlin st', 'vide demonstrat exactly btc mak currency -PRON- all forc ithop bitcoin suck currency reality -PRON- all must com grip wif bitcoin go go anywh know thing two work wrot 12 httpstcotjtsuxs3d', 'googl trend reve peopl interested bitcoin stock httpstcoyozmvzvuth cryptocurrency blockchain crypgeek', 'cryptosnarf depend definition bitcoin', 'payneinsid toddfuhrman profootballdoc hey todd bitcoin let ret bet world', 'bitcoin brok 10000 join premium do not mis get ready massiv gaim join fre mak 20 100 profit httpstcotwvpttashx lun man mco mda mft mod mth mtl nan na nav ncash nebl neo npx nul nx oax httpstco4sm3ps5xu', 'read canc new httpstco7wsuycl0fx novemb 23 2019 0515 health succe mesotheliom attorney money fight win billiona forex pennystock inves ceo stock trad milliona bitcoin daytrad job work cryptocurrency gold pip da', 'make fast every 30 minut earn 05 bitcoin new tip httpzprion7z3f', 'bitcoin pric fall 6800 struggl sustain shortterm momentum httpswwwccncombitcoinfallsbelow6800asitstrugglestosustainshorttermmomentum', 'telegraph uniqu pray rug story click amp get 786k stock wednesdaywisdom uk wsj investment new trump chin bitcoin breakingnew businessnew lifestyl health lif dub brexit auction ramadan uelf usa luxury antiqu f1 httpstcojnm2m32d3h', 'late trumpcoin ico new httpstcozoh7d7juz thank hehasrisenforu attnymuell bossclaw bitcoin cryptocurrency', 'mak bitcoin accessibl open averag us acce visibility payment network level comp pay paye credit cando involv heirarchy issuing bank payment corporation lik vis top takeov', 'apompli realdonaldtrump hey mr trump bitcoin mad amer doll copy dutch penni use bitcoin mak amer great', 'btc trading fee 80 oceanex tradebtconoceanex bitcoin oceanex tg group link httpstco5vui8mccck httpstcounhohu0xgn', 'tomorrow monacoinm forecast 39 61 monacoin mon bitcoin forecast io httpstcomgv869ccp6 httpstcon3aqtrm6k', 'sparrow lead optiom trading platform provide simple way control risk monetiz digit asset join httpstcoccxkjevfx7 sparrowoptiom optionstrade hodlsmart rektnomor cryptooptiom cryptotrading btc eth', 'sparkswap desktop let -PRON- deposit bitcoin directly lightne wallet httpstcoctxawjpwzk', 'long bitcoin 8200 do not understand peopl afraid possibl correction btc moon plea altcoim follow pump httpstcom4rk17ozkz', 'averag bitcoin market pric usd 824589 eur 704400', 'learn bitcoin sit httpstcozc6o2xrv0q httpstcoazov9p57du', 'sign httpstconlkr7xdu80 jump bitmex kill boat lat trustworthy btc eth ltc npx hot pkg qnt xrp sntr ada eo xlm neo meet bcc bnn ark aug btg xlm xmr etc omg pay vtc dag', '50cent btrueblood want send bitcoin tip 1 thumb 9435 bits300 collect httpchangetipcomch8jbm1', 'sign 6395 2nd today 05jun 0117 utc ost binanc buy 000001963 000002003 current ask 000001983 target 1 000002100 590 target 2 000002300 1599 target 3 000002600 3111 typ shortmid term blockchain bitcoin cryptocurrenci trading', 'tim sell xlm 000040766 btc hitbtc dat 20191108 052342', 'fraser_pi moneygr alexcobb _ sentosumosab bgarlinghous moderninv troll insight btc max spread fud', 'futurist2019', 'think pric bitcoin btc ris fall today end ye current bitcoin btc pric 7080 doll per coin pric via gemin usa base cryptocurrency exchang', 'sc worth 002739 052 000000297 btc 000 sc', 'bitcoin coff treasury stash', 'reddit sal buy top spot 200 reupload relevanc rcc mentiom bitcoin half thread buy httpstcok1oy1pkl via httpstcoz0pz8szfng httpstcojgachbp1gd', 'buysellbitcoin bitcoin pric inr buy 6147900 inr sell 5938500 inr buy sell bitcoin ind use buysellbitcoin', 'feder reserv nomine support lower interest rat reddit bitcoin submit uee_trojan link comment httpstcoagxkrntam3 leveragetrading httpstcoeho19vlklw', 'tue oct 15 005811 2013 trade 002 btc 15117025 usdbtc']\n"
          ]
        }
      ]
    },
    {
      "cell_type": "markdown",
      "metadata": {
        "id": "MC2oBNtWokPF"
      },
      "source": [
        "#### Export to CSV"
      ]
    },
    {
      "cell_type": "code",
      "metadata": {
        "id": "Ri_p38sUAS66"
      },
      "source": [
        "dtf.to_csv('/content/drive/MyDrive/Colab Notebooks/Dataset/stopwords_stemming_lemmatisation_tweets_preprocessing_dataset.csv')"
      ],
      "execution_count": 49,
      "outputs": []
    },
    {
      "cell_type": "code",
      "metadata": {
        "colab": {
          "base_uri": "https://localhost:8080/",
          "height": 609
        },
        "id": "uusivlcfTav0",
        "outputId": "642605c4-9c9e-48a6-8c73-590ff2d56f84"
      },
      "source": [
        "dtf"
      ],
      "execution_count": 71,
      "outputs": [
        {
          "output_type": "execute_result",
          "data": {
            "text/html": [
              "<div>\n",
              "<style scoped>\n",
              "    .dataframe tbody tr th:only-of-type {\n",
              "        vertical-align: middle;\n",
              "    }\n",
              "\n",
              "    .dataframe tbody tr th {\n",
              "        vertical-align: top;\n",
              "    }\n",
              "\n",
              "    .dataframe thead th {\n",
              "        text-align: right;\n",
              "    }\n",
              "</style>\n",
              "<table border=\"1\" class=\"dataframe\">\n",
              "  <thead>\n",
              "    <tr style=\"text-align: right;\">\n",
              "      <th></th>\n",
              "      <th>id</th>\n",
              "      <th>user</th>\n",
              "      <th>fullname</th>\n",
              "      <th>url</th>\n",
              "      <th>timestamp</th>\n",
              "      <th>replies</th>\n",
              "      <th>likes</th>\n",
              "      <th>retweets</th>\n",
              "      <th>text\\r</th>\n",
              "      <th>language</th>\n",
              "      <th>text_clean</th>\n",
              "    </tr>\n",
              "  </thead>\n",
              "  <tbody>\n",
              "    <tr>\n",
              "      <th>1</th>\n",
              "      <td>1.127046e+18</td>\n",
              "      <td>mironyan</td>\n",
              "      <td>Yavruyan E</td>\n",
              "      <td>NaN</td>\n",
              "      <td>2019-05-11 01:00:33+00</td>\n",
              "      <td>0</td>\n",
              "      <td>0</td>\n",
              "      <td>0</td>\n",
              "      <td>!!!\\r</td>\n",
              "      <td>en</td>\n",
              "      <td></td>\n",
              "    </tr>\n",
              "    <tr>\n",
              "      <th>2</th>\n",
              "      <td>1.126824e+18</td>\n",
              "      <td>cryptobhoy</td>\n",
              "      <td>Kevin Gladstone</td>\n",
              "      <td>NaN</td>\n",
              "      <td>2019-05-10 10:19:35+00</td>\n",
              "      <td>0</td>\n",
              "      <td>0</td>\n",
              "      <td>0</td>\n",
              "      <td>@Beautyon_ Where's bitcoin sign guy when you n...</td>\n",
              "      <td>en</td>\n",
              "      <td>beautyon_ wh bitcoin sign guy need</td>\n",
              "    </tr>\n",
              "    <tr>\n",
              "      <th>3</th>\n",
              "      <td>1.132979e+18</td>\n",
              "      <td>MobileStarts</td>\n",
              "      <td>Mo.bi</td>\n",
              "      <td>NaN</td>\n",
              "      <td>2019-05-27 11:56:05+00</td>\n",
              "      <td>0</td>\n",
              "      <td>0</td>\n",
              "      <td>0</td>\n",
              "      <td>New post: Top 3 Price Prediction Bitcoin, Ripp...</td>\n",
              "      <td>en</td>\n",
              "      <td>new post top 3 pric prediction bitcoin rippl e...</td>\n",
              "    </tr>\n",
              "    <tr>\n",
              "      <th>5</th>\n",
              "      <td>1.132980e+18</td>\n",
              "      <td>RhinoAK</td>\n",
              "      <td>RhinoAK</td>\n",
              "      <td>NaN</td>\n",
              "      <td>2019-05-27 12:00:36+00</td>\n",
              "      <td>0</td>\n",
              "      <td>0</td>\n",
              "      <td>0</td>\n",
              "      <td>Join me and start earning bitcoin by answering...</td>\n",
              "      <td>en</td>\n",
              "      <td>join start earning bitcoin answering paid emai...</td>\n",
              "    </tr>\n",
              "    <tr>\n",
              "      <th>7</th>\n",
              "      <td>1.132980e+18</td>\n",
              "      <td>DeribitRekt</td>\n",
              "      <td>DeribitRekt</td>\n",
              "      <td>NaN</td>\n",
              "      <td>2019-05-27 12:02:00+00</td>\n",
              "      <td>0</td>\n",
              "      <td>0</td>\n",
              "      <td>0</td>\n",
              "      <td>⏰ LIQUIDATION on BTC-PERPETUAL ☠️️\\n\\n Bought ...</td>\n",
              "      <td>en</td>\n",
              "      <td>liquidation btcperpet bought 10 btc 877800 27 ...</td>\n",
              "    </tr>\n",
              "    <tr>\n",
              "      <th>...</th>\n",
              "      <td>...</td>\n",
              "      <td>...</td>\n",
              "      <td>...</td>\n",
              "      <td>...</td>\n",
              "      <td>...</td>\n",
              "      <td>...</td>\n",
              "      <td>...</td>\n",
              "      <td>...</td>\n",
              "      <td>...</td>\n",
              "      <td>...</td>\n",
              "      <td>...</td>\n",
              "    </tr>\n",
              "    <tr>\n",
              "      <th>169223</th>\n",
              "      <td>1.198263e+18</td>\n",
              "      <td>btc_update</td>\n",
              "      <td>Bitcoin update</td>\n",
              "      <td>NaN</td>\n",
              "      <td>2019-11-23 15:32:37+00</td>\n",
              "      <td>0</td>\n",
              "      <td>0</td>\n",
              "      <td>0</td>\n",
              "      <td>Finland Prepares For Bitcoin Ransomware Attack...</td>\n",
              "      <td>en</td>\n",
              "      <td>finland prep bitcoin ransomw attack cyb fir dr...</td>\n",
              "    </tr>\n",
              "    <tr>\n",
              "      <th>169224</th>\n",
              "      <td>1.198264e+18</td>\n",
              "      <td>Cryptoevolucion</td>\n",
              "      <td>Cryptovolution</td>\n",
              "      <td>NaN</td>\n",
              "      <td>2019-11-23 15:36:23+00</td>\n",
              "      <td>0</td>\n",
              "      <td>0</td>\n",
              "      <td>0</td>\n",
              "      <td>#IoTex 🚨#UPDATE🚨 . Iotex is Very Stable and lo...</td>\n",
              "      <td>en</td>\n",
              "      <td>iotex updat iotex stabl look lik going uptrend...</td>\n",
              "    </tr>\n",
              "    <tr>\n",
              "      <th>169225</th>\n",
              "      <td>1.198265e+18</td>\n",
              "      <td>phuongdi2891</td>\n",
              "      <td>phuongdi2891</td>\n",
              "      <td>NaN</td>\n",
              "      <td>2019-11-23 15:39:21+00</td>\n",
              "      <td>0</td>\n",
              "      <td>0</td>\n",
              "      <td>0</td>\n",
              "      <td>Lydian Lion with the platform empowers human i...</td>\n",
              "      <td>en</td>\n",
              "      <td>lydian lion platform empow human interactiom r...</td>\n",
              "    </tr>\n",
              "    <tr>\n",
              "      <th>169226</th>\n",
              "      <td>1.198265e+18</td>\n",
              "      <td>emergeen</td>\n",
              "      <td>Emergeen DN</td>\n",
              "      <td>NaN</td>\n",
              "      <td>2019-11-23 15:40:50+00</td>\n",
              "      <td>0</td>\n",
              "      <td>0</td>\n",
              "      <td>0</td>\n",
              "      <td>Bitcoin wallet\\n\\n1KSrHvFavm1WB682ZjJNK355nJQe...</td>\n",
              "      <td>en</td>\n",
              "      <td>bitcoin wallet 1ksrhvfavm1wb682zjjnk355njqe6zdbq5</td>\n",
              "    </tr>\n",
              "    <tr>\n",
              "      <th>169228</th>\n",
              "      <td>1.198266e+18</td>\n",
              "      <td>ErvinLemark</td>\n",
              "      <td>Ervin Lemark</td>\n",
              "      <td>NaN</td>\n",
              "      <td>2019-11-23 15:45:01+00</td>\n",
              "      <td>0</td>\n",
              "      <td>0</td>\n",
              "      <td>0</td>\n",
              "      <td>The latest TopBitcoiner Daily! https://t.co/TI...</td>\n",
              "      <td>en</td>\n",
              "      <td>latest topbitcoin daily httpstcotiyn2wsdqw cry...</td>\n",
              "    </tr>\n",
              "  </tbody>\n",
              "</table>\n",
              "<p>117622 rows × 11 columns</p>\n",
              "</div>"
            ],
            "text/plain": [
              "                  id  ...                                         text_clean\n",
              "1       1.127046e+18  ...                                                   \n",
              "2       1.126824e+18  ...                 beautyon_ wh bitcoin sign guy need\n",
              "3       1.132979e+18  ...  new post top 3 pric prediction bitcoin rippl e...\n",
              "5       1.132980e+18  ...  join start earning bitcoin answering paid emai...\n",
              "7       1.132980e+18  ...  liquidation btcperpet bought 10 btc 877800 27 ...\n",
              "...              ...  ...                                                ...\n",
              "169223  1.198263e+18  ...  finland prep bitcoin ransomw attack cyb fir dr...\n",
              "169224  1.198264e+18  ...  iotex updat iotex stabl look lik going uptrend...\n",
              "169225  1.198265e+18  ...  lydian lion platform empow human interactiom r...\n",
              "169226  1.198265e+18  ...  bitcoin wallet 1ksrhvfavm1wb682zjjnk355njqe6zdbq5\n",
              "169228  1.198266e+18  ...  latest topbitcoin daily httpstcotiyn2wsdqw cry...\n",
              "\n",
              "[117622 rows x 11 columns]"
            ]
          },
          "metadata": {},
          "execution_count": 71
        }
      ]
    }
  ]
}