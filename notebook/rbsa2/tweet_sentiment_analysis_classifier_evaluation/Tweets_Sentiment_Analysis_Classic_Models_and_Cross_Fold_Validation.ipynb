{
  "nbformat": 4,
  "nbformat_minor": 0,
  "metadata": {
    "colab": {
      "name": "Tweets Sentiment Analysis Classic Models and Cross-Fold Validation.ipynb",
      "provenance": [],
      "collapsed_sections": [],
      "toc_visible": true
    },
    "kernelspec": {
      "name": "python3",
      "display_name": "Python 3"
    },
    "accelerator": "GPU"
  },
  "cells": [
    {
      "cell_type": "markdown",
      "metadata": {
        "id": "lMXe22AomUzP"
      },
      "source": [
        "# Importando Libs"
      ]
    },
    {
      "cell_type": "code",
      "metadata": {
        "id": "E-HMZ4JAaoqR"
      },
      "source": [
        "import warnings\n",
        "warnings.filterwarnings('ignore')"
      ],
      "execution_count": 16,
      "outputs": []
    },
    {
      "cell_type": "code",
      "metadata": {
        "id": "XeOVilr9NIUG"
      },
      "source": [
        "from scipy import stats\n",
        "import pandas as pd\n",
        "import numpy as np\n",
        "import matplotlib.pyplot as plt\n",
        "\n",
        "import string\n",
        "from collections import Counter\n",
        "import spacy\n",
        "\n",
        "import sklearn\n",
        "from sklearn.feature_extraction.text import TfidfVectorizer\n",
        "from sklearn.linear_model import LogisticRegression\n",
        "from sklearn.ensemble import AdaBoostClassifier\n",
        "from sklearn.neighbors import KNeighborsClassifier\n",
        "from sklearn.svm import SVC\n",
        "from sklearn.ensemble import RandomForestClassifier\n",
        "from sklearn.naive_bayes import MultinomialNB\n",
        "from sklearn import model_selection\n",
        "from sklearn.metrics import classification_report\n",
        "from sklearn import preprocessing\n",
        "from sklearn.model_selection import train_test_split\n",
        "from sklearn.multiclass import OneVsRestClassifier\n",
        "from sklearn.metrics import cohen_kappa_score, make_scorer\n",
        "from xgboost import XGBClassifier\n",
        "\n",
        "from sklearn.linear_model import LogisticRegression\n",
        "\n",
        "from sklearn.tree import DecisionTreeClassifier\n",
        "\n",
        "from sklearn.neighbors import KNeighborsClassifier\n",
        "\n",
        "from sklearn.discriminant_analysis import LinearDiscriminantAnalysis\n",
        "\n",
        "from sklearn.naive_bayes import GaussianNB\n",
        "\n",
        "from sklearn.svm import SVC\n",
        "\n",
        "from sklearn.ensemble import AdaBoostClassifier\n",
        "\n",
        "from sklearn.ensemble import GradientBoostingClassifier\n",
        "\n",
        "from sklearn.ensemble import RandomForestClassifier\n",
        "\n",
        "from sklearn.ensemble import ExtraTreesClassifier\n",
        "\n",
        "from sklearn.neighbors import KNeighborsClassifier\n",
        "\n",
        "from sklearn.neural_network import MLPClassifier\n",
        "\n",
        "from sklearn.feature_extraction.text import TfidfVectorizer\n",
        "\n",
        "from sklearn.model_selection import train_test_split\n",
        "from sklearn.neighbors import KNeighborsClassifier as knn\n",
        "import tensorflow as tf\n",
        "from sklearn.neighbors import KNeighborsRegressor\n",
        "from sklearn.metrics import mean_squared_error"
      ],
      "execution_count": 17,
      "outputs": []
    },
    {
      "cell_type": "markdown",
      "metadata": {
        "id": "i7oCUnNmlxBI"
      },
      "source": [
        "# Funções"
      ]
    },
    {
      "cell_type": "markdown",
      "metadata": {
        "id": "2s-Gv22mme9o"
      },
      "source": [
        "## mean_absolute_percentage_error"
      ]
    },
    {
      "cell_type": "code",
      "metadata": {
        "id": "7PHwX5KUv0P-"
      },
      "source": [
        "def mean_absolute_percentage_error(y_true, y_pred,*args): \n",
        "  y_true, y_pred = np.array(y_true), np.array(y_pred)\n",
        "  return np.mean(np.abs((y_true - y_pred) / np.maximum(np.ones(len(y_true)), np.abs(y_true))))*100"
      ],
      "execution_count": 19,
      "outputs": []
    },
    {
      "cell_type": "markdown",
      "metadata": {
        "id": "_-55JbdaPB7V"
      },
      "source": [
        "# Treino e Teste run_exps_train_test"
      ]
    },
    {
      "cell_type": "markdown",
      "metadata": {
        "id": "HeOTYH8XxAWL"
      },
      "source": [
        "## init_parameter_model"
      ]
    },
    {
      "cell_type": "code",
      "metadata": {
        "id": "4n5ME4QDxUbb"
      },
      "source": [
        "def init_parameter_model():\n",
        "  #models = []\n",
        "  models =  [           \n",
        "          ('LR', LogisticRegression()),\n",
        "          ('LDA', LinearDiscriminantAnalysis()),\n",
        "          ('DT', DecisionTreeClassifier()),\n",
        "          #('RF', RandomForestClassifier()),\n",
        "          #('KNN', KNeighborsClassifier()),\n",
        "          #('SVM', SVC()),\n",
        "          ('MNB', MultinomialNB()),\n",
        "          ('ABO', AdaBoostClassifier()),\n",
        "          ('GNB', GaussianNB()),\n",
        "          #('GBO', GradientBoostingClassifier()),\n",
        "          ('EXT', ExtraTreesClassifier()),\n",
        "          #('XGB', XGBClassifier()),\n",
        "          ('MLP', MLPClassifier())      \n",
        "        ]\n",
        "\n",
        "  \"\"\"knn_grid = {'n_neighbors': [3,5, 7], 'weights': [\"uniform\", \"distance\"], 'p' : [1,2,3]}\n",
        "     \n",
        "  for n_neighbors_value in knn_grid['n_neighbors']:\n",
        "    for weights_value in knn_grid['weights']:\n",
        "      for p_value in knn_grid['p']:\n",
        "        knn_params = ['KNN',n_neighbors_value,weights_value, p_value]\n",
        "        model = (f\"KNN_{n_neighbors_value}_{weights_value}_{p_value}\" , KNeighborsRegressor(n_neighbors=n_neighbors_value,weights = weights_value, p=p_value  ), knn_params)\n",
        "        models.append(model)\"\"\"\n",
        " \n",
        "  \"\"\"mlp_grid = {'alpha' : [0.01, 0.0003,0.0005], 'learning_rate_init': [0.001, 0.003,0.005], 'power_t' : [0.5,0.7,0.9]}\n",
        "  mlp_parms = []\n",
        "  for alpha_value in mlp_grid['alpha']:\n",
        "      for learning_rate_init_value in mlp_grid['learning_rate_init']:\n",
        "        for power_t_value in mlp_grid['power_t']:\n",
        "          mlp_params = ['MLP', alpha_value,learning_rate_init_value, power_t_value]\n",
        "          model = (f\"MLP_{alpha_value}_{learning_rate_init_value}_{power_t_value}\" , MLPRegressor(alpha=alpha_value,learning_rate_init = learning_rate_init_value, power_t=power_t_value), mlp_params)\n",
        "          models.append(model)\"\"\"\n",
        "\n",
        "  return models      "
      ],
      "execution_count": 45,
      "outputs": []
    },
    {
      "cell_type": "markdown",
      "metadata": {
        "id": "6TCBDq93vO6G"
      },
      "source": [
        "## run_exps_train_test"
      ]
    },
    {
      "cell_type": "code",
      "metadata": {
        "id": "bHy4D2kMaULb"
      },
      "source": [
        "from sklearn.metrics import precision_recall_fscore_support\n",
        "\n",
        "\n",
        "def run_exps_train_test(x_train: pd.DataFrame ,\n",
        "             y_train: pd.DataFrame,\n",
        "             x_test: pd.DataFrame,\n",
        "             y_test: pd.DataFrame, models_params=None) -> pd.DataFrame:\n",
        "\n",
        "    models = [\n",
        "          #('KNN', KNeighborsRegressor(n_neighbors=params[1],weights =params[2], p=params[3]  )),\n",
        "          #('MLP', MLPRegression),\n",
        "        ]\n",
        "    \n",
        "    models = init_parameter_model()\n",
        "    dfs = []\n",
        "    #Modelos que serão avaliados (podem incluir quantos modelos quiserem)\n",
        "    \"\"\"for params in models_params:\n",
        "      if 'KNN' == params['p0']:\n",
        "        models.append(('KNN', KNeighborsRegressor(n_neighbors=int(params['p1']),weights =params['p2'], p=int(params['p3'])  ))),\n",
        "      elif 'MLP' == params['p0']:\n",
        "        models.append(('MLP', MLPRegressor(alpha=params['p1'],learning_rate_init=params['p2'], power_t=params['p3']  ))),\"\"\"\n",
        "\n",
        "    dfs = []\n",
        "    results = []\n",
        "    names = []\n",
        "    #Métricas que serão avaliadas (podem incluir quantos métricas quiserem)\n",
        "    mse  =  make_scorer(mean_squared_error)\n",
        "    mape =  make_scorer(mean_absolute_percentage_error)\n",
        "    kappa_scorer = make_scorer(cohen_kappa_score)\n",
        "    scoring = { \n",
        "                'accuracy': 'accuracy',\n",
        "                'precision_weighted': 'precision_weighted',\n",
        "                'recall_weighted': 'recall_weighted',\n",
        "                'f1_weighted': 'f1_weighted',\n",
        "                'kappa' : kappa_scorer,\n",
        "                'mse': mse,\n",
        "                'mape': mape\n",
        "                }\n",
        "                \n",
        "    for name, model in models:\n",
        "\n",
        "        clf = model.fit(x_train, y_train)\n",
        "        y_pred = clf.predict(x_test)\n",
        "       \n",
        "        #print(classification_report(y_test, y_pred))\n",
        "\n",
        "        this_df = pd.DataFrame(classification_report(y_test, y_pred,output_dict=True)).transpose()\n",
        "        \n",
        "        \"\"\"this_df = pd.DataFrame(list(precision_recall_fscore_support(y_test, y_pred,average='weighted')),\n",
        "            index=['Precision', 'Recall', 'F1-score', 'Support']).T\"\"\"\n",
        "        \n",
        "        \n",
        "        #this_df = this_df.groupby(['model']).mean()\n",
        "        this_df['model'] = name\n",
        "        dfs.append(this_df)       \n",
        "    final = pd.concat(dfs, ignore_index=True)\n",
        "    return final\n",
        "\n",
        "        "
      ],
      "execution_count": 126,
      "outputs": []
    },
    {
      "cell_type": "markdown",
      "metadata": {
        "id": "6NUpbPfm9il0"
      },
      "source": [
        "## run_exps_crossvalidation"
      ]
    },
    {
      "cell_type": "code",
      "metadata": {
        "id": "2O5J-JrkWyUw"
      },
      "source": [
        "\n",
        "def run_exps_crossvalidation(x: pd.DataFrame ,\n",
        "             y: pd.DataFrame) -> pd.DataFrame:\n",
        "    \"\"\"\n",
        "    Lightweight script to test many models and find winners\n",
        "    :param x: values vector\n",
        "    :param y: target vector\n",
        "    :return: DataFrame of predictions\n",
        "    \"\"\"\n",
        "\n",
        "    dfs = []\n",
        "    print(\"CARREGANDO MODELO\")\n",
        "    # Init hte models\n",
        "    models = init_parameter_model()\n",
        "    results = []\n",
        "    names = []\n",
        "    kappa_scorer = make_scorer(cohen_kappa_score)\n",
        "    mse  =  make_scorer(mean_squared_error)\n",
        "    mape =  make_scorer(mean_absolute_percentage_error)\n",
        "    scoring = { \n",
        "                'accuracy': 'accuracy',\n",
        "                'precision_weighted': 'precision_weighted',\n",
        "                'recall_weighted': 'recall_weighted',\n",
        "                'f1_weighted': 'f1_weighted',\n",
        "                'kappa' : kappa_scorer,\n",
        "                'mse': mse,\n",
        "                'mape': mape\n",
        "                }\n",
        "    print(\"RODANDO\")\n",
        "    #for name, model, params in models:\n",
        "    for name, model in models:\n",
        "        print(name)\n",
        "\n",
        "        kfold = model_selection.KFold(n_splits=10, shuffle=False)\n",
        "\n",
        "        cv_results = model_selection.cross_validate(model, x, y, cv=kfold, scoring=scoring,)\n",
        "        \n",
        "        #print(cv_results)\n",
        "\n",
        "        results.append(cv_results)\n",
        "\n",
        "        names.append(name)\n",
        "        this_df = pd.DataFrame(cv_results)\n",
        "        \n",
        "        this_df['model'] = name\n",
        "        \"\"\"this_df['p0'] = params[0]\n",
        "        this_df['p1'] = params[1]\n",
        "        this_df['p2'] = params[2]\n",
        "        this_df['p3'] = params[3]\"\"\"\n",
        "        dfs.append(this_df)\n",
        "\n",
        "    final = pd.concat(dfs, ignore_index=True)\n",
        "    return final\n"
      ],
      "execution_count": 22,
      "outputs": []
    },
    {
      "cell_type": "markdown",
      "metadata": {
        "id": "AHGmo_lh4xTV"
      },
      "source": [
        "# Carregar o Conjunto de Dados"
      ]
    },
    {
      "cell_type": "code",
      "metadata": {
        "id": "Hk3-FwM742xn"
      },
      "source": [
        "df  = pd.read_csv('/content/drive/MyDrive/Colab Notebooks/Dataset/cryptcoin/vader_compound_score_en_cleantext_tweet.csv')\n",
        "#norm_gas_prices_brazil_df = norm_gas_prices_brazil_df.drop(['Unnamed: 0'], axis=1)\n",
        "df = df.dropna(subset=['cleantext'])\n"
      ],
      "execution_count": 67,
      "outputs": []
    },
    {
      "cell_type": "code",
      "metadata": {
        "colab": {
          "base_uri": "https://localhost:8080/",
          "height": 86
        },
        "id": "ngxR-6f0cMr8",
        "outputId": "0e22a742-d567-422e-8ebf-f64e5cea7782"
      },
      "source": [
        "df = df.dropna(subset=['target'])\n",
        "\n",
        "df[ (df['target'] != 'positive') & (df['target'] != 'negative')  & (df['target'] != 'neutral')].head()"
      ],
      "execution_count": 73,
      "outputs": [
        {
          "output_type": "execute_result",
          "data": {
            "text/html": [
              "<div>\n",
              "<style scoped>\n",
              "    .dataframe tbody tr th:only-of-type {\n",
              "        vertical-align: middle;\n",
              "    }\n",
              "\n",
              "    .dataframe tbody tr th {\n",
              "        vertical-align: top;\n",
              "    }\n",
              "\n",
              "    .dataframe thead th {\n",
              "        text-align: right;\n",
              "    }\n",
              "</style>\n",
              "<table border=\"1\" class=\"dataframe\">\n",
              "  <thead>\n",
              "    <tr style=\"text-align: right;\">\n",
              "      <th></th>\n",
              "      <th>Unnamed: 0</th>\n",
              "      <th>user_name</th>\n",
              "      <th>user_location</th>\n",
              "      <th>user_description</th>\n",
              "      <th>user_created</th>\n",
              "      <th>user_followers</th>\n",
              "      <th>user_friends</th>\n",
              "      <th>user_favourites</th>\n",
              "      <th>user_verified</th>\n",
              "      <th>date</th>\n",
              "      <th>text</th>\n",
              "      <th>hashtags</th>\n",
              "      <th>source</th>\n",
              "      <th>is_retweet</th>\n",
              "      <th>language</th>\n",
              "      <th>compound_vader_score</th>\n",
              "      <th>target</th>\n",
              "      <th>cleantext</th>\n",
              "    </tr>\n",
              "  </thead>\n",
              "  <tbody>\n",
              "  </tbody>\n",
              "</table>\n",
              "</div>"
            ],
            "text/plain": [
              "Empty DataFrame\n",
              "Columns: [Unnamed: 0, user_name, user_location, user_description, user_created, user_followers, user_friends, user_favourites, user_verified, date, text, hashtags, source, is_retweet, language, compound_vader_score, target, cleantext]\n",
              "Index: []"
            ]
          },
          "metadata": {},
          "execution_count": 73
        }
      ]
    },
    {
      "cell_type": "code",
      "metadata": {
        "id": "LUev3O271fZP",
        "colab": {
          "base_uri": "https://localhost:8080/"
        },
        "outputId": "d1dba4a1-73a6-4413-b293-ab68936005af"
      },
      "source": [
        "Y = df['target'].astype('category').cat.codes\n",
        "#X = df[['cleantext', 'compound_vader_score']]\n",
        "Y.value_counts()"
      ],
      "execution_count": 103,
      "outputs": [
        {
          "output_type": "execute_result",
          "data": {
            "text/plain": [
              "2    925177\n",
              "0    235272\n",
              "1     15761\n",
              "dtype: int64"
            ]
          },
          "metadata": {},
          "execution_count": 103
        }
      ]
    },
    {
      "cell_type": "code",
      "metadata": {
        "id": "6GBXW78HAKMa"
      },
      "source": [
        "df  = pd.read_csv('/content/drive/MyDrive/Colab Notebooks/Dataset/cryptcoin/tweet_select_features.csv')\n",
        "X = df"
      ],
      "execution_count": 25,
      "outputs": []
    },
    {
      "cell_type": "code",
      "metadata": {
        "colab": {
          "base_uri": "https://localhost:8080/"
        },
        "id": "khKWlmz7B1ri",
        "outputId": "fb1b7724-1e55-4b51-daa2-e32e85c218ec"
      },
      "source": [
        "Y.shape\n"
      ],
      "execution_count": 26,
      "outputs": [
        {
          "output_type": "execute_result",
          "data": {
            "text/plain": [
              "(1177791,)"
            ]
          },
          "metadata": {},
          "execution_count": 26
        }
      ]
    },
    {
      "cell_type": "code",
      "metadata": {
        "colab": {
          "base_uri": "https://localhost:8080/"
        },
        "id": "5Flkc3OaB3xE",
        "outputId": "534aa67a-b57c-47e1-b972-fb0bc1f992a3"
      },
      "source": [
        "X.shape"
      ],
      "execution_count": 27,
      "outputs": [
        {
          "output_type": "execute_result",
          "data": {
            "text/plain": [
              "(1177791, 50)"
            ]
          },
          "metadata": {},
          "execution_count": 27
        }
      ]
    },
    {
      "cell_type": "markdown",
      "metadata": {
        "id": "HhRdNtaCOFXQ"
      },
      "source": [
        "# Divisao Treino e Teste"
      ]
    },
    {
      "cell_type": "code",
      "metadata": {
        "id": "jSGENAVy73VP"
      },
      "source": [
        "#X_train, X_test, y_train, y_test = train_test_split(new_X_tf_train, Y_tfidf, test_size=0.15)"
      ],
      "execution_count": 28,
      "outputs": []
    },
    {
      "cell_type": "code",
      "metadata": {
        "id": "awqjvtt7AjSn"
      },
      "source": [
        "X_train, X_test, y_train, y_test = train_test_split(X, Y, test_size=0.15)"
      ],
      "execution_count": 29,
      "outputs": []
    },
    {
      "cell_type": "code",
      "metadata": {
        "id": "BzUElKM0hUb1"
      },
      "source": [
        ""
      ],
      "execution_count": 29,
      "outputs": []
    },
    {
      "cell_type": "code",
      "metadata": {
        "colab": {
          "base_uri": "https://localhost:8080/"
        },
        "id": "MFsZf-B7gj3m",
        "outputId": "ee6d2b3f-2a3c-4984-f0f5-ef091a18f35d"
      },
      "source": [
        "X_train.shape"
      ],
      "execution_count": 30,
      "outputs": [
        {
          "output_type": "execute_result",
          "data": {
            "text/plain": [
              "(1001122, 50)"
            ]
          },
          "metadata": {},
          "execution_count": 30
        }
      ]
    },
    {
      "cell_type": "code",
      "metadata": {
        "colab": {
          "base_uri": "https://localhost:8080/"
        },
        "id": "qeMlijS30Jv4",
        "outputId": "4a4c7cbd-6102-436f-eea0-8962c6d3d0be"
      },
      "source": [
        "X_test.shape"
      ],
      "execution_count": 31,
      "outputs": [
        {
          "output_type": "execute_result",
          "data": {
            "text/plain": [
              "(176669, 50)"
            ]
          },
          "metadata": {},
          "execution_count": 31
        }
      ]
    },
    {
      "cell_type": "code",
      "metadata": {
        "id": "i64dkWBog-UT"
      },
      "source": [
        "X_val, X_test, y_val, y_test = train_test_split(X_test, y_test, test_size=0.5)"
      ],
      "execution_count": 32,
      "outputs": []
    },
    {
      "cell_type": "code",
      "metadata": {
        "colab": {
          "base_uri": "https://localhost:8080/"
        },
        "id": "59Mr4xrDg5XX",
        "outputId": "d33777c8-9b8e-4b5e-8de6-d8fa0549e83a"
      },
      "source": [
        "X_val.shape"
      ],
      "execution_count": 33,
      "outputs": [
        {
          "output_type": "execute_result",
          "data": {
            "text/plain": [
              "(88334, 50)"
            ]
          },
          "metadata": {},
          "execution_count": 33
        }
      ]
    },
    {
      "cell_type": "code",
      "metadata": {
        "colab": {
          "base_uri": "https://localhost:8080/"
        },
        "id": "PGYud3NBzIAA",
        "outputId": "7e64f53a-0bbc-417d-ba48-72f5d815ae10"
      },
      "source": [
        "X_test.shape"
      ],
      "execution_count": 21,
      "outputs": [
        {
          "output_type": "execute_result",
          "data": {
            "text/plain": [
              "(88335, 50)"
            ]
          },
          "metadata": {},
          "execution_count": 21
        }
      ]
    },
    {
      "cell_type": "markdown",
      "metadata": {
        "id": "kDBK2zaP5eE4"
      },
      "source": [
        "# Validação Cruzada"
      ]
    },
    {
      "cell_type": "code",
      "metadata": {
        "colab": {
          "base_uri": "https://localhost:8080/"
        },
        "id": "4MqRstuoAjSr",
        "outputId": "c9ab8224-e291-4eb6-c3f1-2d40a84a9538"
      },
      "source": [
        "%%time\n",
        "val_final = run_exps_crossvalidation(X_train, y_train)"
      ],
      "execution_count": 22,
      "outputs": [
        {
          "output_type": "stream",
          "name": "stdout",
          "text": [
            "CARREGANDO MODELO\n",
            "RODANDO\n",
            "LR\n",
            "LDA\n",
            "DT\n",
            "MNB\n",
            "ABO\n",
            "GNB\n",
            "EXT\n",
            "MLP\n",
            "CPU times: user 1h 19s, sys: 24min 18s, total: 1h 24min 38s\n",
            "Wall time: 55min 31s\n"
          ]
        }
      ]
    },
    {
      "cell_type": "code",
      "metadata": {
        "id": "bUlyMYu10ZU3",
        "colab": {
          "base_uri": "https://localhost:8080/",
          "height": 203
        },
        "outputId": "bd8f82c1-8322-46d3-af26-575a279e8ea9"
      },
      "source": [
        "val_final[['model','test_accuracy',\t'test_precision_weighted',\t'test_recall_weighted',\t'test_f1_weighted',\t'test_kappa']].tail()"
      ],
      "execution_count": 23,
      "outputs": [
        {
          "output_type": "execute_result",
          "data": {
            "text/html": [
              "<div>\n",
              "<style scoped>\n",
              "    .dataframe tbody tr th:only-of-type {\n",
              "        vertical-align: middle;\n",
              "    }\n",
              "\n",
              "    .dataframe tbody tr th {\n",
              "        vertical-align: top;\n",
              "    }\n",
              "\n",
              "    .dataframe thead th {\n",
              "        text-align: right;\n",
              "    }\n",
              "</style>\n",
              "<table border=\"1\" class=\"dataframe\">\n",
              "  <thead>\n",
              "    <tr style=\"text-align: right;\">\n",
              "      <th></th>\n",
              "      <th>model</th>\n",
              "      <th>test_accuracy</th>\n",
              "      <th>test_precision_weighted</th>\n",
              "      <th>test_recall_weighted</th>\n",
              "      <th>test_f1_weighted</th>\n",
              "      <th>test_kappa</th>\n",
              "    </tr>\n",
              "  </thead>\n",
              "  <tbody>\n",
              "    <tr>\n",
              "      <th>75</th>\n",
              "      <td>MLP</td>\n",
              "      <td>0.783602</td>\n",
              "      <td>0.614033</td>\n",
              "      <td>0.783602</td>\n",
              "      <td>0.688531</td>\n",
              "      <td>0.0</td>\n",
              "    </tr>\n",
              "    <tr>\n",
              "      <th>76</th>\n",
              "      <td>MLP</td>\n",
              "      <td>0.785101</td>\n",
              "      <td>0.616383</td>\n",
              "      <td>0.785101</td>\n",
              "      <td>0.690586</td>\n",
              "      <td>0.0</td>\n",
              "    </tr>\n",
              "    <tr>\n",
              "      <th>77</th>\n",
              "      <td>MLP</td>\n",
              "      <td>0.787848</td>\n",
              "      <td>0.620704</td>\n",
              "      <td>0.787848</td>\n",
              "      <td>0.694359</td>\n",
              "      <td>0.0</td>\n",
              "    </tr>\n",
              "    <tr>\n",
              "      <th>78</th>\n",
              "      <td>MLP</td>\n",
              "      <td>0.787128</td>\n",
              "      <td>0.619571</td>\n",
              "      <td>0.787128</td>\n",
              "      <td>0.693371</td>\n",
              "      <td>0.0</td>\n",
              "    </tr>\n",
              "    <tr>\n",
              "      <th>79</th>\n",
              "      <td>MLP</td>\n",
              "      <td>0.784232</td>\n",
              "      <td>0.615019</td>\n",
              "      <td>0.784232</td>\n",
              "      <td>0.689394</td>\n",
              "      <td>0.0</td>\n",
              "    </tr>\n",
              "  </tbody>\n",
              "</table>\n",
              "</div>"
            ],
            "text/plain": [
              "   model  test_accuracy  ...  test_f1_weighted  test_kappa\n",
              "75   MLP       0.783602  ...          0.688531         0.0\n",
              "76   MLP       0.785101  ...          0.690586         0.0\n",
              "77   MLP       0.787848  ...          0.694359         0.0\n",
              "78   MLP       0.787128  ...          0.693371         0.0\n",
              "79   MLP       0.784232  ...          0.689394         0.0\n",
              "\n",
              "[5 rows x 6 columns]"
            ]
          },
          "metadata": {},
          "execution_count": 23
        }
      ]
    },
    {
      "cell_type": "markdown",
      "metadata": {
        "id": "O896wk9emoM7"
      },
      "source": [
        "### Exportar os Resultados Cross-Validation"
      ]
    },
    {
      "cell_type": "code",
      "metadata": {
        "id": "hxnhrZn_8S_f"
      },
      "source": [
        "val_final.to_csv(\"/content/drive/MyDrive/Colab Notebooks/Dataset/gas_price_brazil/result/vader_score_compound_crossvalidation_classification.csv\", index=False) "
      ],
      "execution_count": 24,
      "outputs": []
    },
    {
      "cell_type": "markdown",
      "metadata": {
        "id": "HnlovcVKKi_6"
      },
      "source": [
        "## Checando Resultados Validacao"
      ]
    },
    {
      "cell_type": "code",
      "metadata": {
        "id": "eJdrq0zoKjoM"
      },
      "source": [
        "df  = pd.read_csv('/content/drive/MyDrive/Colab Notebooks/Dataset/gas_price_brazil/result/vader_score_compound_crossvalidation_classification.csv')\n",
        "#norm_gas_prices_brazil_df = norm_gas_prices_brazil_df.drop(['Unnamed: 0'], axis=1)\n"
      ],
      "execution_count": 5,
      "outputs": []
    },
    {
      "cell_type": "code",
      "metadata": {
        "colab": {
          "base_uri": "https://localhost:8080/",
          "height": 203
        },
        "id": "5qnzvTUiLQ2F",
        "outputId": "e77778e2-26aa-4218-ac58-5012eae23de8"
      },
      "source": [
        "df[df['model'] == 'MLP'][['model','test_accuracy',\t'test_precision_weighted',\t'test_recall_weighted',\t'test_f1_weighted',\t'test_kappa']].head()"
      ],
      "execution_count": 15,
      "outputs": [
        {
          "output_type": "execute_result",
          "data": {
            "text/html": [
              "<div>\n",
              "<style scoped>\n",
              "    .dataframe tbody tr th:only-of-type {\n",
              "        vertical-align: middle;\n",
              "    }\n",
              "\n",
              "    .dataframe tbody tr th {\n",
              "        vertical-align: top;\n",
              "    }\n",
              "\n",
              "    .dataframe thead th {\n",
              "        text-align: right;\n",
              "    }\n",
              "</style>\n",
              "<table border=\"1\" class=\"dataframe\">\n",
              "  <thead>\n",
              "    <tr style=\"text-align: right;\">\n",
              "      <th></th>\n",
              "      <th>model</th>\n",
              "      <th>test_accuracy</th>\n",
              "      <th>test_precision_weighted</th>\n",
              "      <th>test_recall_weighted</th>\n",
              "      <th>test_f1_weighted</th>\n",
              "      <th>test_kappa</th>\n",
              "    </tr>\n",
              "  </thead>\n",
              "  <tbody>\n",
              "    <tr>\n",
              "      <th>70</th>\n",
              "      <td>MLP</td>\n",
              "      <td>0.786401</td>\n",
              "      <td>0.618427</td>\n",
              "      <td>0.786401</td>\n",
              "      <td>0.692372</td>\n",
              "      <td>0.0</td>\n",
              "    </tr>\n",
              "    <tr>\n",
              "      <th>71</th>\n",
              "      <td>MLP</td>\n",
              "      <td>0.786501</td>\n",
              "      <td>0.618584</td>\n",
              "      <td>0.786501</td>\n",
              "      <td>0.692509</td>\n",
              "      <td>0.0</td>\n",
              "    </tr>\n",
              "    <tr>\n",
              "      <th>72</th>\n",
              "      <td>MLP</td>\n",
              "      <td>0.785650</td>\n",
              "      <td>0.617246</td>\n",
              "      <td>0.785650</td>\n",
              "      <td>0.691340</td>\n",
              "      <td>0.0</td>\n",
              "    </tr>\n",
              "    <tr>\n",
              "      <th>73</th>\n",
              "      <td>MLP</td>\n",
              "      <td>0.786249</td>\n",
              "      <td>0.618188</td>\n",
              "      <td>0.786249</td>\n",
              "      <td>0.692163</td>\n",
              "      <td>0.0</td>\n",
              "    </tr>\n",
              "    <tr>\n",
              "      <th>74</th>\n",
              "      <td>MLP</td>\n",
              "      <td>0.784921</td>\n",
              "      <td>0.616101</td>\n",
              "      <td>0.784921</td>\n",
              "      <td>0.690340</td>\n",
              "      <td>0.0</td>\n",
              "    </tr>\n",
              "  </tbody>\n",
              "</table>\n",
              "</div>"
            ],
            "text/plain": [
              "   model  test_accuracy  ...  test_f1_weighted  test_kappa\n",
              "70   MLP       0.786401  ...          0.692372         0.0\n",
              "71   MLP       0.786501  ...          0.692509         0.0\n",
              "72   MLP       0.785650  ...          0.691340         0.0\n",
              "73   MLP       0.786249  ...          0.692163         0.0\n",
              "74   MLP       0.784921  ...          0.690340         0.0\n",
              "\n",
              "[5 rows x 6 columns]"
            ]
          },
          "metadata": {},
          "execution_count": 15
        }
      ]
    },
    {
      "cell_type": "markdown",
      "metadata": {
        "id": "jgEAA8jayCS2"
      },
      "source": [
        "# Test"
      ]
    },
    {
      "cell_type": "code",
      "metadata": {
        "id": "gITezr1tyGvw",
        "colab": {
          "base_uri": "https://localhost:8080/"
        },
        "outputId": "92a7ab31-1bf2-4761-c853-08b25428a27e"
      },
      "source": [
        "%%time\n",
        "test_result = run_exps_train_test(X_train, y_train, X_test, y_test)"
      ],
      "execution_count": 127,
      "outputs": [
        {
          "output_type": "stream",
          "name": "stdout",
          "text": [
            "CPU times: user 7min 10s, sys: 2min 57s, total: 10min 8s\n",
            "Wall time: 6min 46s\n"
          ]
        }
      ]
    },
    {
      "cell_type": "code",
      "metadata": {
        "colab": {
          "base_uri": "https://localhost:8080/",
          "height": 1000
        },
        "id": "f04w-U1-RqUw",
        "outputId": "8a221713-b7e2-4f77-a430-9937262f70ba"
      },
      "source": [
        "test_result"
      ],
      "execution_count": 128,
      "outputs": [
        {
          "output_type": "execute_result",
          "data": {
            "text/html": [
              "<div>\n",
              "<style scoped>\n",
              "    .dataframe tbody tr th:only-of-type {\n",
              "        vertical-align: middle;\n",
              "    }\n",
              "\n",
              "    .dataframe tbody tr th {\n",
              "        vertical-align: top;\n",
              "    }\n",
              "\n",
              "    .dataframe thead th {\n",
              "        text-align: right;\n",
              "    }\n",
              "</style>\n",
              "<table border=\"1\" class=\"dataframe\">\n",
              "  <thead>\n",
              "    <tr style=\"text-align: right;\">\n",
              "      <th></th>\n",
              "      <th>precision</th>\n",
              "      <th>recall</th>\n",
              "      <th>f1-score</th>\n",
              "      <th>support</th>\n",
              "      <th>model</th>\n",
              "    </tr>\n",
              "  </thead>\n",
              "  <tbody>\n",
              "    <tr>\n",
              "      <th>0</th>\n",
              "      <td>0.000000</td>\n",
              "      <td>0.000000</td>\n",
              "      <td>0.000000</td>\n",
              "      <td>124.000000</td>\n",
              "      <td>LR</td>\n",
              "    </tr>\n",
              "    <tr>\n",
              "      <th>1</th>\n",
              "      <td>0.000000</td>\n",
              "      <td>0.000000</td>\n",
              "      <td>0.000000</td>\n",
              "      <td>17828.000000</td>\n",
              "      <td>LR</td>\n",
              "    </tr>\n",
              "    <tr>\n",
              "      <th>2</th>\n",
              "      <td>0.000000</td>\n",
              "      <td>0.000000</td>\n",
              "      <td>0.000000</td>\n",
              "      <td>1177.000000</td>\n",
              "      <td>LR</td>\n",
              "    </tr>\n",
              "    <tr>\n",
              "      <th>3</th>\n",
              "      <td>0.783449</td>\n",
              "      <td>1.000000</td>\n",
              "      <td>0.878578</td>\n",
              "      <td>69206.000000</td>\n",
              "      <td>LR</td>\n",
              "    </tr>\n",
              "    <tr>\n",
              "      <th>4</th>\n",
              "      <td>0.783449</td>\n",
              "      <td>0.783449</td>\n",
              "      <td>0.783449</td>\n",
              "      <td>0.783449</td>\n",
              "      <td>LR</td>\n",
              "    </tr>\n",
              "    <tr>\n",
              "      <th>5</th>\n",
              "      <td>0.195862</td>\n",
              "      <td>0.250000</td>\n",
              "      <td>0.219644</td>\n",
              "      <td>88335.000000</td>\n",
              "      <td>LR</td>\n",
              "    </tr>\n",
              "    <tr>\n",
              "      <th>6</th>\n",
              "      <td>0.613793</td>\n",
              "      <td>0.783449</td>\n",
              "      <td>0.688321</td>\n",
              "      <td>88335.000000</td>\n",
              "      <td>LR</td>\n",
              "    </tr>\n",
              "    <tr>\n",
              "      <th>7</th>\n",
              "      <td>0.000000</td>\n",
              "      <td>0.000000</td>\n",
              "      <td>0.000000</td>\n",
              "      <td>124.000000</td>\n",
              "      <td>LDA</td>\n",
              "    </tr>\n",
              "    <tr>\n",
              "      <th>8</th>\n",
              "      <td>0.000000</td>\n",
              "      <td>0.000000</td>\n",
              "      <td>0.000000</td>\n",
              "      <td>17828.000000</td>\n",
              "      <td>LDA</td>\n",
              "    </tr>\n",
              "    <tr>\n",
              "      <th>9</th>\n",
              "      <td>0.000000</td>\n",
              "      <td>0.000000</td>\n",
              "      <td>0.000000</td>\n",
              "      <td>1177.000000</td>\n",
              "      <td>LDA</td>\n",
              "    </tr>\n",
              "    <tr>\n",
              "      <th>10</th>\n",
              "      <td>0.783449</td>\n",
              "      <td>1.000000</td>\n",
              "      <td>0.878578</td>\n",
              "      <td>69206.000000</td>\n",
              "      <td>LDA</td>\n",
              "    </tr>\n",
              "    <tr>\n",
              "      <th>11</th>\n",
              "      <td>0.783449</td>\n",
              "      <td>0.783449</td>\n",
              "      <td>0.783449</td>\n",
              "      <td>0.783449</td>\n",
              "      <td>LDA</td>\n",
              "    </tr>\n",
              "    <tr>\n",
              "      <th>12</th>\n",
              "      <td>0.195862</td>\n",
              "      <td>0.250000</td>\n",
              "      <td>0.219644</td>\n",
              "      <td>88335.000000</td>\n",
              "      <td>LDA</td>\n",
              "    </tr>\n",
              "    <tr>\n",
              "      <th>13</th>\n",
              "      <td>0.613793</td>\n",
              "      <td>0.783449</td>\n",
              "      <td>0.688321</td>\n",
              "      <td>88335.000000</td>\n",
              "      <td>LDA</td>\n",
              "    </tr>\n",
              "    <tr>\n",
              "      <th>14</th>\n",
              "      <td>0.000000</td>\n",
              "      <td>0.000000</td>\n",
              "      <td>0.000000</td>\n",
              "      <td>124.000000</td>\n",
              "      <td>DT</td>\n",
              "    </tr>\n",
              "    <tr>\n",
              "      <th>15</th>\n",
              "      <td>0.000000</td>\n",
              "      <td>0.000000</td>\n",
              "      <td>0.000000</td>\n",
              "      <td>17828.000000</td>\n",
              "      <td>DT</td>\n",
              "    </tr>\n",
              "    <tr>\n",
              "      <th>16</th>\n",
              "      <td>0.000000</td>\n",
              "      <td>0.000000</td>\n",
              "      <td>0.000000</td>\n",
              "      <td>1177.000000</td>\n",
              "      <td>DT</td>\n",
              "    </tr>\n",
              "    <tr>\n",
              "      <th>17</th>\n",
              "      <td>0.783449</td>\n",
              "      <td>1.000000</td>\n",
              "      <td>0.878578</td>\n",
              "      <td>69206.000000</td>\n",
              "      <td>DT</td>\n",
              "    </tr>\n",
              "    <tr>\n",
              "      <th>18</th>\n",
              "      <td>0.783449</td>\n",
              "      <td>0.783449</td>\n",
              "      <td>0.783449</td>\n",
              "      <td>0.783449</td>\n",
              "      <td>DT</td>\n",
              "    </tr>\n",
              "    <tr>\n",
              "      <th>19</th>\n",
              "      <td>0.195862</td>\n",
              "      <td>0.250000</td>\n",
              "      <td>0.219644</td>\n",
              "      <td>88335.000000</td>\n",
              "      <td>DT</td>\n",
              "    </tr>\n",
              "    <tr>\n",
              "      <th>20</th>\n",
              "      <td>0.613793</td>\n",
              "      <td>0.783449</td>\n",
              "      <td>0.688321</td>\n",
              "      <td>88335.000000</td>\n",
              "      <td>DT</td>\n",
              "    </tr>\n",
              "    <tr>\n",
              "      <th>21</th>\n",
              "      <td>0.000000</td>\n",
              "      <td>0.000000</td>\n",
              "      <td>0.000000</td>\n",
              "      <td>124.000000</td>\n",
              "      <td>MNB</td>\n",
              "    </tr>\n",
              "    <tr>\n",
              "      <th>22</th>\n",
              "      <td>0.000000</td>\n",
              "      <td>0.000000</td>\n",
              "      <td>0.000000</td>\n",
              "      <td>17828.000000</td>\n",
              "      <td>MNB</td>\n",
              "    </tr>\n",
              "    <tr>\n",
              "      <th>23</th>\n",
              "      <td>0.000000</td>\n",
              "      <td>0.000000</td>\n",
              "      <td>0.000000</td>\n",
              "      <td>1177.000000</td>\n",
              "      <td>MNB</td>\n",
              "    </tr>\n",
              "    <tr>\n",
              "      <th>24</th>\n",
              "      <td>0.783449</td>\n",
              "      <td>1.000000</td>\n",
              "      <td>0.878578</td>\n",
              "      <td>69206.000000</td>\n",
              "      <td>MNB</td>\n",
              "    </tr>\n",
              "    <tr>\n",
              "      <th>25</th>\n",
              "      <td>0.783449</td>\n",
              "      <td>0.783449</td>\n",
              "      <td>0.783449</td>\n",
              "      <td>0.783449</td>\n",
              "      <td>MNB</td>\n",
              "    </tr>\n",
              "    <tr>\n",
              "      <th>26</th>\n",
              "      <td>0.195862</td>\n",
              "      <td>0.250000</td>\n",
              "      <td>0.219644</td>\n",
              "      <td>88335.000000</td>\n",
              "      <td>MNB</td>\n",
              "    </tr>\n",
              "    <tr>\n",
              "      <th>27</th>\n",
              "      <td>0.613793</td>\n",
              "      <td>0.783449</td>\n",
              "      <td>0.688321</td>\n",
              "      <td>88335.000000</td>\n",
              "      <td>MNB</td>\n",
              "    </tr>\n",
              "    <tr>\n",
              "      <th>28</th>\n",
              "      <td>0.000000</td>\n",
              "      <td>0.000000</td>\n",
              "      <td>0.000000</td>\n",
              "      <td>124.000000</td>\n",
              "      <td>ABO</td>\n",
              "    </tr>\n",
              "    <tr>\n",
              "      <th>29</th>\n",
              "      <td>0.000000</td>\n",
              "      <td>0.000000</td>\n",
              "      <td>0.000000</td>\n",
              "      <td>17828.000000</td>\n",
              "      <td>ABO</td>\n",
              "    </tr>\n",
              "    <tr>\n",
              "      <th>30</th>\n",
              "      <td>0.000000</td>\n",
              "      <td>0.000000</td>\n",
              "      <td>0.000000</td>\n",
              "      <td>1177.000000</td>\n",
              "      <td>ABO</td>\n",
              "    </tr>\n",
              "    <tr>\n",
              "      <th>31</th>\n",
              "      <td>0.783449</td>\n",
              "      <td>1.000000</td>\n",
              "      <td>0.878578</td>\n",
              "      <td>69206.000000</td>\n",
              "      <td>ABO</td>\n",
              "    </tr>\n",
              "    <tr>\n",
              "      <th>32</th>\n",
              "      <td>0.783449</td>\n",
              "      <td>0.783449</td>\n",
              "      <td>0.783449</td>\n",
              "      <td>0.783449</td>\n",
              "      <td>ABO</td>\n",
              "    </tr>\n",
              "    <tr>\n",
              "      <th>33</th>\n",
              "      <td>0.195862</td>\n",
              "      <td>0.250000</td>\n",
              "      <td>0.219644</td>\n",
              "      <td>88335.000000</td>\n",
              "      <td>ABO</td>\n",
              "    </tr>\n",
              "    <tr>\n",
              "      <th>34</th>\n",
              "      <td>0.613793</td>\n",
              "      <td>0.783449</td>\n",
              "      <td>0.688321</td>\n",
              "      <td>88335.000000</td>\n",
              "      <td>ABO</td>\n",
              "    </tr>\n",
              "    <tr>\n",
              "      <th>35</th>\n",
              "      <td>0.000000</td>\n",
              "      <td>0.000000</td>\n",
              "      <td>0.000000</td>\n",
              "      <td>124.000000</td>\n",
              "      <td>GNB</td>\n",
              "    </tr>\n",
              "    <tr>\n",
              "      <th>36</th>\n",
              "      <td>1.000000</td>\n",
              "      <td>0.000056</td>\n",
              "      <td>0.000112</td>\n",
              "      <td>17828.000000</td>\n",
              "      <td>GNB</td>\n",
              "    </tr>\n",
              "    <tr>\n",
              "      <th>37</th>\n",
              "      <td>0.013325</td>\n",
              "      <td>1.000000</td>\n",
              "      <td>0.026301</td>\n",
              "      <td>1177.000000</td>\n",
              "      <td>GNB</td>\n",
              "    </tr>\n",
              "    <tr>\n",
              "      <th>38</th>\n",
              "      <td>1.000000</td>\n",
              "      <td>0.000101</td>\n",
              "      <td>0.000202</td>\n",
              "      <td>69206.000000</td>\n",
              "      <td>GNB</td>\n",
              "    </tr>\n",
              "    <tr>\n",
              "      <th>39</th>\n",
              "      <td>0.013415</td>\n",
              "      <td>0.013415</td>\n",
              "      <td>0.013415</td>\n",
              "      <td>0.013415</td>\n",
              "      <td>GNB</td>\n",
              "    </tr>\n",
              "    <tr>\n",
              "      <th>40</th>\n",
              "      <td>0.503331</td>\n",
              "      <td>0.250039</td>\n",
              "      <td>0.006654</td>\n",
              "      <td>88335.000000</td>\n",
              "      <td>GNB</td>\n",
              "    </tr>\n",
              "    <tr>\n",
              "      <th>41</th>\n",
              "      <td>0.985450</td>\n",
              "      <td>0.013415</td>\n",
              "      <td>0.000532</td>\n",
              "      <td>88335.000000</td>\n",
              "      <td>GNB</td>\n",
              "    </tr>\n",
              "    <tr>\n",
              "      <th>42</th>\n",
              "      <td>0.000000</td>\n",
              "      <td>0.000000</td>\n",
              "      <td>0.000000</td>\n",
              "      <td>124.000000</td>\n",
              "      <td>EXT</td>\n",
              "    </tr>\n",
              "    <tr>\n",
              "      <th>43</th>\n",
              "      <td>0.000000</td>\n",
              "      <td>0.000000</td>\n",
              "      <td>0.000000</td>\n",
              "      <td>17828.000000</td>\n",
              "      <td>EXT</td>\n",
              "    </tr>\n",
              "    <tr>\n",
              "      <th>44</th>\n",
              "      <td>0.000000</td>\n",
              "      <td>0.000000</td>\n",
              "      <td>0.000000</td>\n",
              "      <td>1177.000000</td>\n",
              "      <td>EXT</td>\n",
              "    </tr>\n",
              "    <tr>\n",
              "      <th>45</th>\n",
              "      <td>0.783449</td>\n",
              "      <td>1.000000</td>\n",
              "      <td>0.878578</td>\n",
              "      <td>69206.000000</td>\n",
              "      <td>EXT</td>\n",
              "    </tr>\n",
              "    <tr>\n",
              "      <th>46</th>\n",
              "      <td>0.783449</td>\n",
              "      <td>0.783449</td>\n",
              "      <td>0.783449</td>\n",
              "      <td>0.783449</td>\n",
              "      <td>EXT</td>\n",
              "    </tr>\n",
              "    <tr>\n",
              "      <th>47</th>\n",
              "      <td>0.195862</td>\n",
              "      <td>0.250000</td>\n",
              "      <td>0.219644</td>\n",
              "      <td>88335.000000</td>\n",
              "      <td>EXT</td>\n",
              "    </tr>\n",
              "    <tr>\n",
              "      <th>48</th>\n",
              "      <td>0.613793</td>\n",
              "      <td>0.783449</td>\n",
              "      <td>0.688321</td>\n",
              "      <td>88335.000000</td>\n",
              "      <td>EXT</td>\n",
              "    </tr>\n",
              "    <tr>\n",
              "      <th>49</th>\n",
              "      <td>0.000000</td>\n",
              "      <td>0.000000</td>\n",
              "      <td>0.000000</td>\n",
              "      <td>124.000000</td>\n",
              "      <td>MLP</td>\n",
              "    </tr>\n",
              "    <tr>\n",
              "      <th>50</th>\n",
              "      <td>0.000000</td>\n",
              "      <td>0.000000</td>\n",
              "      <td>0.000000</td>\n",
              "      <td>17828.000000</td>\n",
              "      <td>MLP</td>\n",
              "    </tr>\n",
              "    <tr>\n",
              "      <th>51</th>\n",
              "      <td>0.000000</td>\n",
              "      <td>0.000000</td>\n",
              "      <td>0.000000</td>\n",
              "      <td>1177.000000</td>\n",
              "      <td>MLP</td>\n",
              "    </tr>\n",
              "    <tr>\n",
              "      <th>52</th>\n",
              "      <td>0.783449</td>\n",
              "      <td>1.000000</td>\n",
              "      <td>0.878578</td>\n",
              "      <td>69206.000000</td>\n",
              "      <td>MLP</td>\n",
              "    </tr>\n",
              "    <tr>\n",
              "      <th>53</th>\n",
              "      <td>0.783449</td>\n",
              "      <td>0.783449</td>\n",
              "      <td>0.783449</td>\n",
              "      <td>0.783449</td>\n",
              "      <td>MLP</td>\n",
              "    </tr>\n",
              "    <tr>\n",
              "      <th>54</th>\n",
              "      <td>0.195862</td>\n",
              "      <td>0.250000</td>\n",
              "      <td>0.219644</td>\n",
              "      <td>88335.000000</td>\n",
              "      <td>MLP</td>\n",
              "    </tr>\n",
              "    <tr>\n",
              "      <th>55</th>\n",
              "      <td>0.613793</td>\n",
              "      <td>0.783449</td>\n",
              "      <td>0.688321</td>\n",
              "      <td>88335.000000</td>\n",
              "      <td>MLP</td>\n",
              "    </tr>\n",
              "  </tbody>\n",
              "</table>\n",
              "</div>"
            ],
            "text/plain": [
              "    precision    recall  f1-score       support model\n",
              "0    0.000000  0.000000  0.000000    124.000000    LR\n",
              "1    0.000000  0.000000  0.000000  17828.000000    LR\n",
              "2    0.000000  0.000000  0.000000   1177.000000    LR\n",
              "3    0.783449  1.000000  0.878578  69206.000000    LR\n",
              "4    0.783449  0.783449  0.783449      0.783449    LR\n",
              "5    0.195862  0.250000  0.219644  88335.000000    LR\n",
              "6    0.613793  0.783449  0.688321  88335.000000    LR\n",
              "7    0.000000  0.000000  0.000000    124.000000   LDA\n",
              "8    0.000000  0.000000  0.000000  17828.000000   LDA\n",
              "9    0.000000  0.000000  0.000000   1177.000000   LDA\n",
              "10   0.783449  1.000000  0.878578  69206.000000   LDA\n",
              "11   0.783449  0.783449  0.783449      0.783449   LDA\n",
              "12   0.195862  0.250000  0.219644  88335.000000   LDA\n",
              "13   0.613793  0.783449  0.688321  88335.000000   LDA\n",
              "14   0.000000  0.000000  0.000000    124.000000    DT\n",
              "15   0.000000  0.000000  0.000000  17828.000000    DT\n",
              "16   0.000000  0.000000  0.000000   1177.000000    DT\n",
              "17   0.783449  1.000000  0.878578  69206.000000    DT\n",
              "18   0.783449  0.783449  0.783449      0.783449    DT\n",
              "19   0.195862  0.250000  0.219644  88335.000000    DT\n",
              "20   0.613793  0.783449  0.688321  88335.000000    DT\n",
              "21   0.000000  0.000000  0.000000    124.000000   MNB\n",
              "22   0.000000  0.000000  0.000000  17828.000000   MNB\n",
              "23   0.000000  0.000000  0.000000   1177.000000   MNB\n",
              "24   0.783449  1.000000  0.878578  69206.000000   MNB\n",
              "25   0.783449  0.783449  0.783449      0.783449   MNB\n",
              "26   0.195862  0.250000  0.219644  88335.000000   MNB\n",
              "27   0.613793  0.783449  0.688321  88335.000000   MNB\n",
              "28   0.000000  0.000000  0.000000    124.000000   ABO\n",
              "29   0.000000  0.000000  0.000000  17828.000000   ABO\n",
              "30   0.000000  0.000000  0.000000   1177.000000   ABO\n",
              "31   0.783449  1.000000  0.878578  69206.000000   ABO\n",
              "32   0.783449  0.783449  0.783449      0.783449   ABO\n",
              "33   0.195862  0.250000  0.219644  88335.000000   ABO\n",
              "34   0.613793  0.783449  0.688321  88335.000000   ABO\n",
              "35   0.000000  0.000000  0.000000    124.000000   GNB\n",
              "36   1.000000  0.000056  0.000112  17828.000000   GNB\n",
              "37   0.013325  1.000000  0.026301   1177.000000   GNB\n",
              "38   1.000000  0.000101  0.000202  69206.000000   GNB\n",
              "39   0.013415  0.013415  0.013415      0.013415   GNB\n",
              "40   0.503331  0.250039  0.006654  88335.000000   GNB\n",
              "41   0.985450  0.013415  0.000532  88335.000000   GNB\n",
              "42   0.000000  0.000000  0.000000    124.000000   EXT\n",
              "43   0.000000  0.000000  0.000000  17828.000000   EXT\n",
              "44   0.000000  0.000000  0.000000   1177.000000   EXT\n",
              "45   0.783449  1.000000  0.878578  69206.000000   EXT\n",
              "46   0.783449  0.783449  0.783449      0.783449   EXT\n",
              "47   0.195862  0.250000  0.219644  88335.000000   EXT\n",
              "48   0.613793  0.783449  0.688321  88335.000000   EXT\n",
              "49   0.000000  0.000000  0.000000    124.000000   MLP\n",
              "50   0.000000  0.000000  0.000000  17828.000000   MLP\n",
              "51   0.000000  0.000000  0.000000   1177.000000   MLP\n",
              "52   0.783449  1.000000  0.878578  69206.000000   MLP\n",
              "53   0.783449  0.783449  0.783449      0.783449   MLP\n",
              "54   0.195862  0.250000  0.219644  88335.000000   MLP\n",
              "55   0.613793  0.783449  0.688321  88335.000000   MLP"
            ]
          },
          "metadata": {},
          "execution_count": 128
        }
      ]
    },
    {
      "cell_type": "code",
      "metadata": {
        "id": "uQ9RSERcd5hM"
      },
      "source": [
        "#test_result['model'] = ['LR', 'LDA', 'DT','MNB','ABO','GNB', 'EXT', 'MLP']"
      ],
      "execution_count": 99,
      "outputs": []
    },
    {
      "cell_type": "code",
      "metadata": {
        "id": "SAEqUB_iMSiA"
      },
      "source": [
        "test_result.to_csv(\"/content/drive/MyDrive/Colab Notebooks/Dataset/gas_price_brazil/result/test_tweet_vader_sentiment_analysis_result_classification.csv\") "
      ],
      "execution_count": 132,
      "outputs": []
    },
    {
      "cell_type": "markdown",
      "metadata": {
        "id": "Yo9Msh44w0-3"
      },
      "source": [
        "# Plotar Comparação Algortimos sobre Métricas"
      ]
    },
    {
      "cell_type": "code",
      "metadata": {
        "id": "Y6N07-2Rjlr7"
      },
      "source": [
        "results_long = pd.melt(test_result[['precision','recall','f1-score','model']],id_vars=['model'],var_name='metrics', value_name='values')"
      ],
      "execution_count": null,
      "outputs": []
    },
    {
      "cell_type": "code",
      "metadata": {
        "colab": {
          "base_uri": "https://localhost:8080/",
          "height": 417
        },
        "id": "0kBzj8cVjpSd",
        "outputId": "fcdf34e1-02b2-4792-825c-ccef90ba688d"
      },
      "source": [
        "results_long"
      ],
      "execution_count": null,
      "outputs": [
        {
          "output_type": "execute_result",
          "data": {
            "text/html": [
              "<div>\n",
              "<style scoped>\n",
              "    .dataframe tbody tr th:only-of-type {\n",
              "        vertical-align: middle;\n",
              "    }\n",
              "\n",
              "    .dataframe tbody tr th {\n",
              "        vertical-align: top;\n",
              "    }\n",
              "\n",
              "    .dataframe thead th {\n",
              "        text-align: right;\n",
              "    }\n",
              "</style>\n",
              "<table border=\"1\" class=\"dataframe\">\n",
              "  <thead>\n",
              "    <tr style=\"text-align: right;\">\n",
              "      <th></th>\n",
              "      <th>model</th>\n",
              "      <th>metrics</th>\n",
              "      <th>values</th>\n",
              "    </tr>\n",
              "  </thead>\n",
              "  <tbody>\n",
              "    <tr>\n",
              "      <th>0</th>\n",
              "      <td>LR</td>\n",
              "      <td>precision</td>\n",
              "      <td>0.000000</td>\n",
              "    </tr>\n",
              "    <tr>\n",
              "      <th>1</th>\n",
              "      <td>LR</td>\n",
              "      <td>precision</td>\n",
              "      <td>0.000000</td>\n",
              "    </tr>\n",
              "    <tr>\n",
              "      <th>2</th>\n",
              "      <td>LR</td>\n",
              "      <td>precision</td>\n",
              "      <td>0.000000</td>\n",
              "    </tr>\n",
              "    <tr>\n",
              "      <th>3</th>\n",
              "      <td>LR</td>\n",
              "      <td>precision</td>\n",
              "      <td>0.783449</td>\n",
              "    </tr>\n",
              "    <tr>\n",
              "      <th>4</th>\n",
              "      <td>LR</td>\n",
              "      <td>precision</td>\n",
              "      <td>0.783449</td>\n",
              "    </tr>\n",
              "    <tr>\n",
              "      <th>...</th>\n",
              "      <td>...</td>\n",
              "      <td>...</td>\n",
              "      <td>...</td>\n",
              "    </tr>\n",
              "    <tr>\n",
              "      <th>163</th>\n",
              "      <td>MLP</td>\n",
              "      <td>f1-score</td>\n",
              "      <td>0.000000</td>\n",
              "    </tr>\n",
              "    <tr>\n",
              "      <th>164</th>\n",
              "      <td>MLP</td>\n",
              "      <td>f1-score</td>\n",
              "      <td>0.878578</td>\n",
              "    </tr>\n",
              "    <tr>\n",
              "      <th>165</th>\n",
              "      <td>MLP</td>\n",
              "      <td>f1-score</td>\n",
              "      <td>0.783449</td>\n",
              "    </tr>\n",
              "    <tr>\n",
              "      <th>166</th>\n",
              "      <td>MLP</td>\n",
              "      <td>f1-score</td>\n",
              "      <td>0.219644</td>\n",
              "    </tr>\n",
              "    <tr>\n",
              "      <th>167</th>\n",
              "      <td>MLP</td>\n",
              "      <td>f1-score</td>\n",
              "      <td>0.688321</td>\n",
              "    </tr>\n",
              "  </tbody>\n",
              "</table>\n",
              "<p>168 rows × 3 columns</p>\n",
              "</div>"
            ],
            "text/plain": [
              "    model    metrics    values\n",
              "0      LR  precision  0.000000\n",
              "1      LR  precision  0.000000\n",
              "2      LR  precision  0.000000\n",
              "3      LR  precision  0.783449\n",
              "4      LR  precision  0.783449\n",
              "..    ...        ...       ...\n",
              "163   MLP   f1-score  0.000000\n",
              "164   MLP   f1-score  0.878578\n",
              "165   MLP   f1-score  0.783449\n",
              "166   MLP   f1-score  0.219644\n",
              "167   MLP   f1-score  0.688321\n",
              "\n",
              "[168 rows x 3 columns]"
            ]
          },
          "metadata": {},
          "execution_count": 130
        }
      ]
    },
    {
      "cell_type": "code",
      "metadata": {
        "colab": {
          "base_uri": "https://localhost:8080/",
          "height": 587
        },
        "id": "pJxdRWXWiVWH",
        "outputId": "1fa288d5-08c0-4d15-8d33-9825ba103a89"
      },
      "source": [
        "import matplotlib.pyplot as plt\n",
        "import seaborn as sns\n",
        "plt.figure(figsize=(20, 12))\n",
        "sns.set(font_scale=2.5)\n",
        "g = sns.boxplot(x=\"model\", y=\"values\", hue=\"metrics\", data=results_long, palette=\"Set3\")\n",
        "plt.legend(bbox_to_anchor=(1.05, 1), loc=2, borderaxespad=0.)\n",
        "plt.title('Comparison of Model by Classification Metric')\n",
        "plt.savefig('./benchmark_models_performance.png',dpi=300)"
      ],
      "execution_count": null,
      "outputs": [
        {
          "output_type": "display_data",
          "data": {
            "image/png": "[encoded data removed]",
            "text/plain": [
              "<Figure size 1440x864 with 1 Axes>"
            ]
          },
          "metadata": {}
        }
      ]
    },
    {
      "cell_type": "markdown",
      "metadata": {
        "id": "V3RGNaJMgIzH"
      },
      "source": [
        "## Precision"
      ]
    },
    {
      "cell_type": "code",
      "metadata": {
        "id": "wqUWqZjpsbTp",
        "colab": {
          "base_uri": "https://localhost:8080/",
          "height": 540
        },
        "outputId": "d891e0e3-5379-449e-cc9e-ce1d4d74b232"
      },
      "source": [
        "fig = plt.figure(figsize=(12,8))\n",
        "fig.suptitle('Comparacao de algoritmos de classificacao')\n",
        "ax = fig.add_subplot(111)\n",
        "plt.boxplot(test_result[['precision']], patch_artist=True)\n",
        "\n",
        "ax.set_xticklabels(test_result['model'])\n",
        "plt.show()\n"
      ],
      "execution_count": 107,
      "outputs": [
        {
          "output_type": "display_data",
          "data": {
            "image/png": "[encoded data removed]",
            "text/plain": [
              "<Figure size 864x576 with 1 Axes>"
            ]
          },
          "metadata": {
            "needs_background": "light"
          }
        }
      ]
    },
    {
      "cell_type": "code",
      "metadata": {
        "id": "RMqYfIBggGZ5"
      },
      "source": [
        ""
      ],
      "execution_count": null,
      "outputs": []
    },
    {
      "cell_type": "markdown",
      "metadata": {
        "id": "gauYaOA7gRDz"
      },
      "source": [
        "## F1-score"
      ]
    },
    {
      "cell_type": "code",
      "metadata": {
        "colab": {
          "base_uri": "https://localhost:8080/",
          "height": 540
        },
        "id": "ZXmr7U0DgRDz",
        "outputId": "c36be3fe-64c6-417d-ec32-620919a761e6"
      },
      "source": [
        "fig = plt.figure(figsize=(12,8))\n",
        "fig.suptitle('Comparação dos algoritmos de Classificação (f1-score)')\n",
        "ax = fig.add_subplot(111)\n",
        "plt.boxplot(test_result[['f1-score']], patch_artist=True)\n",
        "\n",
        "ax.set_xticklabels(test_result['model'])\n",
        "plt.show()\n"
      ],
      "execution_count": 110,
      "outputs": [
        {
          "output_type": "display_data",
          "data": {
            "image/png": "[encoded data removed]",
            "text/plain": [
              "<Figure size 864x576 with 1 Axes>"
            ]
          },
          "metadata": {
            "needs_background": "light"
          }
        }
      ]
    },
    {
      "cell_type": "code",
      "metadata": {
        "id": "TrQ20UO8gRD0"
      },
      "source": [
        ""
      ],
      "execution_count": null,
      "outputs": []
    },
    {
      "cell_type": "markdown",
      "metadata": {
        "id": "ojyzlm7bgnU3"
      },
      "source": [
        "## Recall"
      ]
    },
    {
      "cell_type": "code",
      "metadata": {
        "colab": {
          "base_uri": "https://localhost:8080/",
          "height": 540
        },
        "id": "fvKMrbSRgnU3",
        "outputId": "e4b91711-5813-413a-c47a-753e3c714827"
      },
      "source": [
        "fig = plt.figure(figsize=(12,8))\n",
        "fig.suptitle('Comparação dos algoritmos de Classificação (recall)')\n",
        "ax = fig.add_subplot(111)\n",
        "plt.boxplot(test_result[['recall']], patch_artist=True)\n",
        "\n",
        "ax.set_xticklabels(test_result['model'])\n",
        "plt.show()\n"
      ],
      "execution_count": 111,
      "outputs": [
        {
          "output_type": "display_data",
          "data": {
            "image/png": "[encoded data removed]",
            "text/plain": [
              "<Figure size 864x576 with 1 Axes>"
            ]
          },
          "metadata": {
            "needs_background": "light"
          }
        }
      ]
    },
    {
      "cell_type": "code",
      "metadata": {
        "id": "m0wCyMbhgnU3"
      },
      "source": [
        ""
      ],
      "execution_count": null,
      "outputs": []
    },
    {
      "cell_type": "markdown",
      "metadata": {
        "id": "uSQjfB4Mgw8n"
      },
      "source": [
        "## Support"
      ]
    },
    {
      "cell_type": "code",
      "metadata": {
        "colab": {
          "base_uri": "https://localhost:8080/",
          "height": 540
        },
        "id": "UdFNl6l-gw8n",
        "outputId": "5bca39ca-0ce0-449c-9eb3-3e05e19d7660"
      },
      "source": [
        "fig = plt.figure(figsize=(12,8))\n",
        "fig.suptitle('Comparação dos algoritmos de Classificação (support)')\n",
        "ax = fig.add_subplot(111)\n",
        "plt.boxplot(test_result[['support']], patch_artist=True)\n",
        "\n",
        "ax.set_xticklabels(test_result['model'])\n",
        "plt.show()\n"
      ],
      "execution_count": 112,
      "outputs": [
        {
          "output_type": "display_data",
          "data": {
            "image/png": "[encoded data removed]",
            "text/plain": [
              "<Figure size 864x576 with 1 Axes>"
            ]
          },
          "metadata": {
            "needs_background": "light"
          }
        }
      ]
    },
    {
      "cell_type": "markdown",
      "metadata": {
        "id": "-KyC4a4SbJE-"
      },
      "source": [
        "# Verifica Resultado  Validação Cruzada por Meio do GridSearch"
      ]
    },
    {
      "cell_type": "markdown",
      "metadata": {
        "id": "DIcfFTi4U3Ty"
      },
      "source": [
        "## KNN"
      ]
    },
    {
      "cell_type": "markdown",
      "metadata": {
        "id": "3fzIfZ6sUC0F"
      },
      "source": [
        "### Orderne por MSE"
      ]
    },
    {
      "cell_type": "code",
      "metadata": {
        "id": "RSPkuF7FS2KI"
      },
      "source": [
        "final[['p0','p1','p2','p3', 'test_mse','test_mape']][final['p0'] =='KNN'].sort_values(['test_mape','test_mse'], ascending=[True,True]).head()"
      ],
      "execution_count": null,
      "outputs": []
    },
    {
      "cell_type": "markdown",
      "metadata": {
        "id": "VI5kT9ipULi7"
      },
      "source": [
        "### Melhor configuracao MSE"
      ]
    },
    {
      "cell_type": "code",
      "metadata": {
        "id": "GACmV76CTx4h"
      },
      "source": [
        "knn_mse_best = final[['p0','p1','p2','p3', 'test_mse','test_mape']][final['p0'] =='KNN'].sort_values(['test_mse'], ascending=[True]).head(1)\n"
      ],
      "execution_count": null,
      "outputs": []
    },
    {
      "cell_type": "markdown",
      "metadata": {
        "id": "uUX5fJm6UZ2U"
      },
      "source": [
        "### Orderne por MAPE"
      ]
    },
    {
      "cell_type": "code",
      "metadata": {
        "id": "p-f-YSNaUZ2V"
      },
      "source": [
        "final[['p0','p1','p2','p3', 'test_mse','test_mape']][final['p0'] =='KNN'].sort_values('test_mape', ascending=True).head()"
      ],
      "execution_count": null,
      "outputs": []
    },
    {
      "cell_type": "markdown",
      "metadata": {
        "id": "P0Lc8EG3UZ2W"
      },
      "source": [
        "### Melhor configuracao MAPE"
      ]
    },
    {
      "cell_type": "code",
      "metadata": {
        "id": "r0ja5KIdUZ2W"
      },
      "source": [
        "knn_mape_best = final[['p0','p1','p2','p3', 'test_mse','test_mape']][final['p0'] =='KNN'].sort_values('test_mape', ascending=True).head(1)"
      ],
      "execution_count": null,
      "outputs": []
    },
    {
      "cell_type": "markdown",
      "metadata": {
        "id": "KUvOPqsoZ9aw"
      },
      "source": [
        "### Boxplot"
      ]
    },
    {
      "cell_type": "code",
      "metadata": {
        "id": "7oAYzgdNUZ2X"
      },
      "source": [
        "final[['test_mse','test_mape']][final['p0']=='KNN'].boxplot()"
      ],
      "execution_count": null,
      "outputs": []
    },
    {
      "cell_type": "markdown",
      "metadata": {
        "id": "Ou2anADSWQs9"
      },
      "source": [
        "### Histograma"
      ]
    },
    {
      "cell_type": "code",
      "metadata": {
        "id": "o0KONhYEV8HM"
      },
      "source": [
        "final['test_mse'][final['p0'] == 'KNN'].hist()"
      ],
      "execution_count": null,
      "outputs": []
    },
    {
      "cell_type": "code",
      "metadata": {
        "id": "VJJ86s7UWAah"
      },
      "source": [
        "final['test_mape'][final['p0'] == 'KNN'].hist()"
      ],
      "execution_count": null,
      "outputs": []
    },
    {
      "cell_type": "markdown",
      "metadata": {
        "id": "pbjqDpBLWjpW"
      },
      "source": [
        "## MLP"
      ]
    },
    {
      "cell_type": "markdown",
      "metadata": {
        "id": "KENZ7-ZhWjpX"
      },
      "source": [
        "### Orderne por MSE"
      ]
    },
    {
      "cell_type": "code",
      "metadata": {
        "id": "bOkhbYPMWjpX"
      },
      "source": [
        "final[['p0','p1','p2','p3', 'test_mse','test_mape']][final['p0'] =='MLP'].sort_values(['test_mse','test_mape'], ascending=[True,True]).head()"
      ],
      "execution_count": null,
      "outputs": []
    },
    {
      "cell_type": "markdown",
      "metadata": {
        "id": "if9p2CgjWjpY"
      },
      "source": [
        "### Melhor configuracao MSE"
      ]
    },
    {
      "cell_type": "code",
      "metadata": {
        "id": "BVysUagnWjpZ"
      },
      "source": [
        "mlp_mse_best = final[['p0','p1','p2','p3', 'test_mse','test_mape']][final['p0'] =='MLP'].sort_values(['test_mse','test_mape'], ascending=[True,True]).head(1)"
      ],
      "execution_count": null,
      "outputs": []
    },
    {
      "cell_type": "code",
      "metadata": {
        "id": "4YXw69IPWjpZ"
      },
      "source": [
        "final[['test_mse','test_mape']].groupby(final['p0']).boxplot()"
      ],
      "execution_count": null,
      "outputs": []
    },
    {
      "cell_type": "markdown",
      "metadata": {
        "id": "mwMhAGGoWjpb"
      },
      "source": [
        "### Orderne por MAPE"
      ]
    },
    {
      "cell_type": "code",
      "metadata": {
        "id": "SOsxul6EWjpb"
      },
      "source": [
        "final[['p0','p1','p2','p3', 'test_mse','test_mape']][final['p0'] =='MLP'].sort_values(['test_mape','test_mse'], ascending=[True,True])"
      ],
      "execution_count": null,
      "outputs": []
    },
    {
      "cell_type": "markdown",
      "metadata": {
        "id": "6RZjNBmTWjpc"
      },
      "source": [
        "### Melhor configuracao MSE"
      ]
    },
    {
      "cell_type": "code",
      "metadata": {
        "id": "864dPWsGWjpc"
      },
      "source": [
        "mlp_mape_best = final[['p0','p1','p2','p3', 'test_mse','test_mape']][final['p0'] =='MLP'].sort_values(['test_mape','test_mse'], ascending=[True,True]).head(1)"
      ],
      "execution_count": null,
      "outputs": []
    },
    {
      "cell_type": "markdown",
      "metadata": {
        "id": "6hihkBc5Z6H6"
      },
      "source": [
        "### Boxplot"
      ]
    },
    {
      "cell_type": "code",
      "metadata": {
        "id": "xGP5j0WpWjpd"
      },
      "source": [
        "final[['test_mse','test_mape']][final['p0']=='MLP'].boxplot()"
      ],
      "execution_count": null,
      "outputs": []
    },
    {
      "cell_type": "markdown",
      "metadata": {
        "id": "b4ehduNqWjpd"
      },
      "source": [
        "### Histograma"
      ]
    },
    {
      "cell_type": "code",
      "metadata": {
        "id": "4O5IwPXdaice"
      },
      "source": [
        ""
      ],
      "execution_count": null,
      "outputs": []
    },
    {
      "cell_type": "code",
      "metadata": {
        "id": "fbAVv5K9al_z"
      },
      "source": [
        "final['test_mse'][final['p0'] == 'MLP'].hist()"
      ],
      "execution_count": null,
      "outputs": []
    },
    {
      "cell_type": "code",
      "metadata": {
        "id": "Dhkk95-4al_z"
      },
      "source": [
        "final['test_mape'][final['p0'] == 'MLP'].hist()"
      ],
      "execution_count": null,
      "outputs": []
    },
    {
      "cell_type": "markdown",
      "metadata": {
        "id": "0EdTyttZWYym"
      },
      "source": [
        "# Comparativo Agrupado"
      ]
    },
    {
      "cell_type": "code",
      "metadata": {
        "id": "4eJ4w-37UZ2X"
      },
      "source": [
        "grouped = final[['test_mse','test_mape']].groupby(final['p0'])\n",
        "grouped.mean()"
      ],
      "execution_count": null,
      "outputs": []
    },
    {
      "cell_type": "code",
      "metadata": {
        "id": "0d7eh2qoUZ2Y"
      },
      "source": [
        "grouped.std()"
      ],
      "execution_count": null,
      "outputs": []
    },
    {
      "cell_type": "markdown",
      "metadata": {
        "id": "5Z-Ik1S_kdzA"
      },
      "source": [
        "# Test"
      ]
    },
    {
      "cell_type": "markdown",
      "metadata": {
        "id": "YYAoGae-p9wt"
      },
      "source": [
        "## KNN"
      ]
    },
    {
      "cell_type": "code",
      "metadata": {
        "id": "jIl6nXi-kCwy"
      },
      "source": [
        "knn_params = knn_mse_best.to_dict('records')\n",
        "knn_params"
      ],
      "execution_count": null,
      "outputs": []
    },
    {
      "cell_type": "code",
      "metadata": {
        "id": "JTwWPXpqOH8T"
      },
      "source": [
        "knn_test_result = run_exps_train_test(X_train, y_train, X_test, y_test, knn_params)\n",
        "knn_test_result"
      ],
      "execution_count": null,
      "outputs": []
    },
    {
      "cell_type": "code",
      "metadata": {
        "id": "EBcgeAOWoqXy"
      },
      "source": [
        "knn_test_params = [{'p0': 'KNN-GridSearch',\n",
        "  'p1': 3.0,\n",
        "  'p2': 'distance',\n",
        "  'p3': 1.0, 'test_mse': 7.829000609366226e-06}  ] \n",
        "\n",
        "pd.DataFrame.from_dict(knn_test_params, orient='columns').head()"
      ],
      "execution_count": null,
      "outputs": []
    },
    {
      "cell_type": "code",
      "metadata": {
        "id": "xtX3MPLJk2pQ"
      },
      "source": [
        "knn_test_result = [{'p0': 'KNN-GridSearch', 'p1': knn_params[0]['p1'] , 'p2': knn_params[0]['p2'], 'p3': knn_params[0]['p3'], 'test_mse': knn_test_result['mse'], 'test_mape': knn_test_result['mape'] }] \n"
      ],
      "execution_count": null,
      "outputs": []
    },
    {
      "cell_type": "code",
      "metadata": {
        "id": "5uG_pgtwjKt0"
      },
      "source": [
        "knn_grid_search = pd.DataFrame.from_dict(knn_test_result, orient='columns').head()\n",
        "knn_grid_search"
      ],
      "execution_count": null,
      "outputs": []
    },
    {
      "cell_type": "code",
      "metadata": {
        "id": "pFrmV4zXk0g7"
      },
      "source": [
        ""
      ],
      "execution_count": null,
      "outputs": []
    },
    {
      "cell_type": "markdown",
      "metadata": {
        "id": "w-lvgwY1qAaR"
      },
      "source": [
        "## MLP"
      ]
    },
    {
      "cell_type": "code",
      "metadata": {
        "id": "RdwLaub8qAaS"
      },
      "source": [
        "mlp_best_parameter = mlp_mse_best.to_dict('records')"
      ],
      "execution_count": null,
      "outputs": []
    },
    {
      "cell_type": "code",
      "metadata": {
        "id": "vCB260ydbkrk"
      },
      "source": [
        "mlp_mse_best"
      ],
      "execution_count": null,
      "outputs": []
    },
    {
      "cell_type": "code",
      "metadata": {
        "id": "kwSzLvDoqAaS"
      },
      "source": [
        "mlp_params = [{'p0': 'MLP',\n",
        "  'p1': 0.0003,\n",
        "  'p2': 0.003,\n",
        "  'p3': 0.9,\n",
        "  'test_mape': 0.07546074457540805,\n",
        "  'test_mse': 3.0343037767688823e-06}]\n",
        "\n"
      ],
      "execution_count": null,
      "outputs": []
    },
    {
      "cell_type": "code",
      "metadata": {
        "id": "YjZKMXv6bfjU"
      },
      "source": [
        "pd.DataFrame.from_dict(mlp_mse_best, orient='columns').head()"
      ],
      "execution_count": null,
      "outputs": []
    },
    {
      "cell_type": "code",
      "metadata": {
        "id": "ACf1rFeRqAaT"
      },
      "source": [
        "mlp_test_result = run_exps_train_test(X_train, y_train, X_test, y_test, mlp_params)"
      ],
      "execution_count": null,
      "outputs": []
    },
    {
      "cell_type": "code",
      "metadata": {
        "id": "_DnFw55qog-9"
      },
      "source": [
        "mlp_test_result = [{'p0': 'MLP-GridSearch', 'p1': mlp_best_parameter[0]['p1'] , 'p2': mlp_best_parameter[0]['p2'], 'p3': mlp_best_parameter[0]['p3'], 'test_mse': mlp_test_result['mse'], 'test_mape': mlp_test_result['mape'] }] \n",
        "mlp_test_result"
      ],
      "execution_count": null,
      "outputs": []
    },
    {
      "cell_type": "code",
      "metadata": {
        "id": "NBQrviVpclZx"
      },
      "source": [
        "mlp_grid_search = pd.DataFrame.from_dict(mlp_test_result, orient='columns').head()"
      ],
      "execution_count": null,
      "outputs": []
    },
    {
      "cell_type": "code",
      "metadata": {
        "id": "SNETknRhml2e"
      },
      "source": [
        "knn_pso = pd.DataFrame.from_dict([{'p0': 'KNN-PSO', 'p1': 3 , 'p2': 1, 'p3': 2, 'test_mse': 7.8710461932141e-06, }]) \n",
        "\n",
        "mlp_pso = pd.DataFrame.from_dict([{'p0': 'MLP-PSO', 'p1':0.000637  , 'p2': 0.008086 , 'p3': 0.7794493, 'test_mse':8.520737867942636e-06,  }])\n"
      ],
      "execution_count": null,
      "outputs": []
    },
    {
      "cell_type": "code",
      "metadata": {
        "id": "z6Iz_-YvnwPs"
      },
      "source": [
        "mlp_grid_search"
      ],
      "execution_count": null,
      "outputs": []
    },
    {
      "cell_type": "code",
      "metadata": {
        "id": "TYfA4PqFimIc"
      },
      "source": [
        "mlp_grid_search"
      ],
      "execution_count": null,
      "outputs": []
    },
    {
      "cell_type": "code",
      "metadata": {
        "id": "rgsyivH_infH"
      },
      "source": [
        "knn_grid_search"
      ],
      "execution_count": null,
      "outputs": []
    },
    {
      "cell_type": "code",
      "metadata": {
        "id": "_e8LL81ugfXe"
      },
      "source": [
        "result = pd.concat([knn_grid_search,knn_pso, mlp_grid_search, mlp_pso ])"
      ],
      "execution_count": null,
      "outputs": []
    },
    {
      "cell_type": "code",
      "metadata": {
        "id": "QlgW9Br1j4f_"
      },
      "source": [
        "result[3:4]"
      ],
      "execution_count": null,
      "outputs": []
    },
    {
      "cell_type": "markdown",
      "metadata": {
        "id": "PgQ-FBUhcaZX"
      },
      "source": [
        ""
      ]
    },
    {
      "cell_type": "code",
      "metadata": {
        "id": "OwDf3MZhfXPM"
      },
      "source": [
        "#https://towardsdatascience.com/quickly-test-multiple-models-a98477476f0\n",
        "import matplotlib.pyplot as plt\n",
        "import seaborn as sns\n",
        "plt.figure(figsize=(20, 12))\n",
        "sns.set(font_scale=2.5)\n",
        "g = sns.boxplot(x=\"p0\", y=\"test_mse\", hue=\"test_mse\", data=result, palette=\"Set3\")\n",
        "plt.legend(bbox_to_anchor=(1.05, 1), loc=2, borderaxespad=0.)\n",
        "plt.title('Comparison of Model by Classification Metric')"
      ],
      "execution_count": null,
      "outputs": []
    },
    {
      "cell_type": "code",
      "metadata": {
        "id": "lpwbPAXlscdT"
      },
      "source": [
        ""
      ],
      "execution_count": null,
      "outputs": []
    }
  ]
}