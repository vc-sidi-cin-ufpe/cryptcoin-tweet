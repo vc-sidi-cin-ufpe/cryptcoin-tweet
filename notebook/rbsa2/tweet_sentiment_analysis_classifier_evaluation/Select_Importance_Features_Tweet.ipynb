{
  "nbformat": 4,
  "nbformat_minor": 0,
  "metadata": {
    "colab": {
      "name": "Select Importance Features Tweet.ipynb",
      "provenance": [],
      "collapsed_sections": []
    },
    "kernelspec": {
      "name": "python3",
      "display_name": "Python 3"
    },
    "language_info": {
      "name": "python"
    }
  },
  "cells": [
    {
      "cell_type": "markdown",
      "metadata": {
        "id": "V5kFTzCVkINh"
      },
      "source": [
        "# Import Libs"
      ]
    },
    {
      "cell_type": "code",
      "metadata": {
        "id": "REd6642Yjxvk"
      },
      "source": [
        "import pandas as pd\n",
        "import numpy as np\n",
        "import matplotlib.pyplot as plt\n",
        "import seaborn as sns\n",
        "%matplotlib inline \n",
        "from sklearn.ensemble import RandomForestClassifier\n",
        "from sklearn.feature_selection import SelectFromModel\n",
        "\n",
        "from sklearn.feature_extraction.text import TfidfVectorizer\n",
        "from sklearn.model_selection import train_test_split\n"
      ],
      "execution_count": null,
      "outputs": []
    },
    {
      "cell_type": "markdown",
      "metadata": {
        "id": "tKRmktERkMN7"
      },
      "source": [
        "# Method"
      ]
    },
    {
      "cell_type": "markdown",
      "metadata": {
        "id": "PRNq23eTkXEW"
      },
      "source": [
        "# read_dataset"
      ]
    },
    {
      "cell_type": "markdown",
      "metadata": {
        "id": "qfTqYdD_kT4u"
      },
      "source": [
        "# Read Dataset\n"
      ]
    },
    {
      "cell_type": "code",
      "metadata": {
        "colab": {
          "base_uri": "https://localhost:8080/"
        },
        "id": "1dpDaIwZm8yv",
        "outputId": "61bf4b3c-f73f-47b2-a6fe-1d6d41c5c2a1"
      },
      "source": [
        "from google.colab import drive\n",
        "drive.mount('/content/drive')"
      ],
      "execution_count": null,
      "outputs": [
        {
          "output_type": "stream",
          "name": "stdout",
          "text": [
            "Mounted at /content/drive\n"
          ]
        }
      ]
    },
    {
      "cell_type": "code",
      "metadata": {
        "id": "ESP-bd5ikaKi",
        "colab": {
          "base_uri": "https://localhost:8080/"
        },
        "outputId": "696ed48c-9a2b-4643-a496-c667d868d507"
      },
      "source": [
        "df  = pd.read_csv('/content/drive/MyDrive/Colab Notebooks/Dataset/cryptcoin/vader_compound_score_en_cleantext_tweet.csv')\n",
        "#norm_gas_prices_brazil_df = norm_gas_prices_brazil_df.drop(['Unnamed: 0'], axis=1)\n",
        "df = df.dropna(subset=['cleantext'])\n"
      ],
      "execution_count": null,
      "outputs": [
        {
          "output_type": "stream",
          "name": "stderr",
          "text": [
            "/usr/local/lib/python3.7/dist-packages/IPython/core/interactiveshell.py:2718: DtypeWarning: Columns (2,3,4,5,6,7,8,9,10,11,12,13,14,16,17) have mixed types.Specify dtype option on import or set low_memory=False.\n",
            "  interactivity=interactivity, compiler=compiler, result=result)\n"
          ]
        }
      ]
    },
    {
      "cell_type": "code",
      "metadata": {
        "id": "eRCK8N9_mK6x"
      },
      "source": [
        "Y = df['target']\n",
        "X = df[['cleantext', 'compound_vader_score']]"
      ],
      "execution_count": null,
      "outputs": []
    },
    {
      "cell_type": "code",
      "metadata": {
        "id": "JQo3vESo7m8v",
        "colab": {
          "base_uri": "https://localhost:8080/"
        },
        "outputId": "f3be17d7-f447-4a6f-9f3d-a83ecd752340"
      },
      "source": [
        "\n",
        "%%time\n",
        "X = df['cleantext']\n",
        "#Extração das features\n",
        "vectorizer = TfidfVectorizer(use_idf=True, ngram_range=(2,3))\n",
        "tfidf_model = vectorizer.fit(X)\n",
        "\n"
      ],
      "execution_count": null,
      "outputs": [
        {
          "output_type": "stream",
          "name": "stdout",
          "text": [
            "CPU times: user 1min 27s, sys: 2.27 s, total: 1min 29s\n",
            "Wall time: 1min 29s\n"
          ]
        }
      ]
    },
    {
      "cell_type": "code",
      "metadata": {
        "id": "4DY9CKn33jmo"
      },
      "source": [
        "Y_tfidf = df.target.astype('category').cat.codes"
      ],
      "execution_count": null,
      "outputs": []
    },
    {
      "cell_type": "code",
      "metadata": {
        "colab": {
          "base_uri": "https://localhost:8080/"
        },
        "id": "zy-Bv4dr79pA",
        "outputId": "7a1db224-ae7c-4ea1-91e9-4f14ad49f892"
      },
      "source": [
        "%%time\n",
        "X_tfidf = tfidf_model.transform(X)\n",
        "\n"
      ],
      "execution_count": null,
      "outputs": [
        {
          "output_type": "stream",
          "name": "stdout",
          "text": [
            "CPU times: user 49.7 s, sys: 131 ms, total: 49.8 s\n",
            "Wall time: 49.9 s\n"
          ]
        }
      ]
    },
    {
      "cell_type": "markdown",
      "metadata": {
        "id": "XC9MgdTHlR9R"
      },
      "source": [
        "# Create RandomClassifier Instance"
      ]
    },
    {
      "cell_type": "code",
      "metadata": {
        "id": "K2etvNiMlUxZ",
        "colab": {
          "base_uri": "https://localhost:8080/"
        },
        "outputId": "499a94ab-7476-4ed8-9bc6-bbf9c92d8ae2"
      },
      "source": [
        "clf_random_forest = RandomForestClassifier(max_depth=5, n_estimators=10, max_features=1)\n",
        "clf_random_forest"
      ],
      "execution_count": null,
      "outputs": [
        {
          "output_type": "execute_result",
          "data": {
            "text/plain": [
              "RandomForestClassifier(bootstrap=True, ccp_alpha=0.0, class_weight=None,\n",
              "                       criterion='gini', max_depth=5, max_features=1,\n",
              "                       max_leaf_nodes=None, max_samples=None,\n",
              "                       min_impurity_decrease=0.0, min_impurity_split=None,\n",
              "                       min_samples_leaf=1, min_samples_split=2,\n",
              "                       min_weight_fraction_leaf=0.0, n_estimators=10,\n",
              "                       n_jobs=None, oob_score=False, random_state=None,\n",
              "                       verbose=0, warm_start=False)"
            ]
          },
          "metadata": {},
          "execution_count": 4
        }
      ]
    },
    {
      "cell_type": "markdown",
      "metadata": {
        "id": "FQ9VMfjGknrC"
      },
      "source": [
        "# Train Classifier"
      ]
    },
    {
      "cell_type": "code",
      "metadata": {
        "id": "Izl54G0ektEm",
        "colab": {
          "base_uri": "https://localhost:8080/",
          "height": 197
        },
        "outputId": "85644962-5e80-4ba4-ead7-344a54034738"
      },
      "source": [
        "#treinando nossa arvore\n",
        "\n",
        "clf_random_forest = clf_random_forest.fit(X_tfidf, Y_tfidf)"
      ],
      "execution_count": null,
      "outputs": [
        {
          "output_type": "error",
          "ename": "NameError",
          "evalue": "ignored",
          "traceback": [
            "\u001b[0;31m---------------------------------------------------------------------------\u001b[0m",
            "\u001b[0;31mNameError\u001b[0m                                 Traceback (most recent call last)",
            "\u001b[0;32m<ipython-input-6-e0208186ec6e>\u001b[0m in \u001b[0;36m<module>\u001b[0;34m()\u001b[0m\n\u001b[1;32m      1\u001b[0m \u001b[0;31m#treinando nossa arvore\u001b[0m\u001b[0;34m\u001b[0m\u001b[0;34m\u001b[0m\u001b[0;34m\u001b[0m\u001b[0m\n\u001b[1;32m      2\u001b[0m \u001b[0;34m\u001b[0m\u001b[0m\n\u001b[0;32m----> 3\u001b[0;31m \u001b[0mclf_random_forest\u001b[0m \u001b[0;34m=\u001b[0m \u001b[0mclf_random_forest\u001b[0m\u001b[0;34m.\u001b[0m\u001b[0mfit\u001b[0m\u001b[0;34m(\u001b[0m\u001b[0mX_tfidf\u001b[0m\u001b[0;34m,\u001b[0m \u001b[0mY_tfidf\u001b[0m\u001b[0;34m)\u001b[0m\u001b[0;34m\u001b[0m\u001b[0;34m\u001b[0m\u001b[0m\n\u001b[0m",
            "\u001b[0;31mNameError\u001b[0m: name 'X_tfidf' is not defined"
          ]
        }
      ]
    },
    {
      "cell_type": "code",
      "metadata": {
        "id": "wbCHD-pcj0En"
      },
      "source": [
        "\n",
        "importance = clf_random_forest.feature_importances_\n",
        "\n"
      ],
      "execution_count": null,
      "outputs": []
    },
    {
      "cell_type": "code",
      "metadata": {
        "id": "efNfUo3GzrR6"
      },
      "source": [
        ""
      ],
      "execution_count": null,
      "outputs": []
    },
    {
      "cell_type": "code",
      "metadata": {
        "id": "ZZcO4NmzoiiG"
      },
      "source": [
        "len(importance)"
      ],
      "execution_count": null,
      "outputs": []
    },
    {
      "cell_type": "markdown",
      "metadata": {
        "id": "VRS0PsH-lKRs"
      },
      "source": [
        "#Selecionando os astributos mais importantes com base no conhecimento do modelo\n",
        "#prefit ja foi treiando\n",
        "\n"
      ]
    },
    {
      "cell_type": "code",
      "metadata": {
        "id": "IRU6Mw0GlJq2",
        "colab": {
          "base_uri": "https://localhost:8080/",
          "height": 163
        },
        "outputId": "590be66a-a3da-4b77-c3a0-0a1afddb0bdc"
      },
      "source": [
        "model = SelectFromModel(clf_random_forest, prefit=True)"
      ],
      "execution_count": null,
      "outputs": [
        {
          "output_type": "error",
          "ename": "NameError",
          "evalue": "ignored",
          "traceback": [
            "\u001b[0;31m---------------------------------------------------------------------------\u001b[0m",
            "\u001b[0;31mNameError\u001b[0m                                 Traceback (most recent call last)",
            "\u001b[0;32m<ipython-input-3-1b7b40fa120c>\u001b[0m in \u001b[0;36m<module>\u001b[0;34m()\u001b[0m\n\u001b[0;32m----> 1\u001b[0;31m \u001b[0mmodel\u001b[0m \u001b[0;34m=\u001b[0m \u001b[0mSelectFromModel\u001b[0m\u001b[0;34m(\u001b[0m\u001b[0mclf_random_forest\u001b[0m\u001b[0;34m,\u001b[0m \u001b[0mprefit\u001b[0m\u001b[0;34m=\u001b[0m\u001b[0;32mTrue\u001b[0m\u001b[0;34m)\u001b[0m\u001b[0;34m\u001b[0m\u001b[0;34m\u001b[0m\u001b[0m\n\u001b[0m",
            "\u001b[0;31mNameError\u001b[0m: name 'clf_random_forest' is not defined"
          ]
        }
      ]
    },
    {
      "cell_type": "markdown",
      "metadata": {
        "id": "nfg38u-Ik0Oc"
      },
      "source": [
        "#filtra os atributos mais importante, novo dataset com novos atributos diferentes\n"
      ]
    },
    {
      "cell_type": "code",
      "metadata": {
        "id": "x0ZDBMuDlCgD"
      },
      "source": [
        "dados_novo_random_forest = model.transform(X_tfidf)\n"
      ],
      "execution_count": null,
      "outputs": []
    },
    {
      "cell_type": "markdown",
      "metadata": {
        "id": "2Tk-CWLak2av"
      },
      "source": [
        "\n",
        "#recupera o numero de atributos\n"
      ]
    },
    {
      "cell_type": "code",
      "metadata": {
        "id": "FAnQPNqHk_fg"
      },
      "source": [
        "n_attrs = dados_novo_random_forest.shape[1]\n"
      ],
      "execution_count": null,
      "outputs": []
    },
    {
      "cell_type": "markdown",
      "metadata": {
        "id": "d5bB88Lbk5Bg"
      },
      "source": [
        "#retorna os indices atributo de maior valor\n"
      ]
    },
    {
      "cell_type": "code",
      "metadata": {
        "id": "rGuJcjdjk4q-",
        "colab": {
          "base_uri": "https://localhost:8080/"
        },
        "outputId": "ae0d50dd-a4e3-45ec-ff62-f70e1f851fdc"
      },
      "source": [
        "idx_most_important = importance.argsort()[-n_attrs:]\n",
        "print(idx_most_important)\n"
      ],
      "execution_count": null,
      "outputs": [
        {
          "output_type": "stream",
          "name": "stdout",
          "text": [
            "[3620487 7201540 4377783 3582639 1005077 1394731 3035167 1370976 2749310\n",
            " 3560026 6841956 5677652 3411085 6727065  468200 2871528 1534021 3923248\n",
            " 4434516 1987144 1976255 6712177 1847926  250986 1138056 5452833 5794308\n",
            " 5552877  820612 4961674 5686925 7071384 2874686  467155 5693737 7190378\n",
            " 4417988 1916978 6364221   75104 5612697 3219725 3943153 6265871 2279001\n",
            " 3646032 7123813  877848 1159786 4436221]\n"
          ]
        }
      ]
    },
    {
      "cell_type": "code",
      "metadata": {
        "id": "vO2Rra6DwlTs"
      },
      "source": [
        "len(name_important_attrs)"
      ],
      "execution_count": null,
      "outputs": []
    },
    {
      "cell_type": "code",
      "metadata": {
        "id": "A2uZ5sBN5ZuZ"
      },
      "source": [
        "interess_columns = [3620487,7201540,4377783,3582639,1005077,1394731,3035167,1370976,2749310,3560026,6841956,5677652,3411085,6727065,468200,2871528,1534021,3923248,4434516,1987144,1976255,6712177,1847926,250986,1138056,5452833,5794308,5552877,820612,4961674,5686925,7071384,2874686,467155,5693737,7190378,4417988,1916978,6364221,75104,5612697,3219725,3943153,6265871,2279001,3646032,7123813,877848,1159786,4436221]\n"
      ],
      "execution_count": null,
      "outputs": []
    },
    {
      "cell_type": "code",
      "metadata": {
        "colab": {
          "base_uri": "https://localhost:8080/"
        },
        "id": "wZ_PhXDx1Tzq",
        "outputId": "cb8271ea-d970-4fc5-cb58-99ddb42445bd"
      },
      "source": [
        "#https://pandas.pydata.org/pandas-docs/stable/reference/api/pandas.DataFrame.sparse.from_spmatrix.html\n",
        "%%time\n",
        "test = pd.DataFrame.sparse.from_spmatrix(X_tfidf)[interess_columns].to_csv('/content/drive/MyDrive/Colab Notebooks/Dataset/cryptcoin/tweet_select_features.csv', index=False)"
      ],
      "execution_count": null,
      "outputs": [
        {
          "output_type": "stream",
          "name": "stdout",
          "text": [
            "CPU times: user 2min 32s, sys: 4.75 s, total: 2min 37s\n",
            "Wall time: 2min 37s\n"
          ]
        }
      ]
    },
    {
      "cell_type": "code",
      "metadata": {
        "id": "bkXv4T5Q_Otr"
      },
      "source": [
        "%%time\n",
        "pd.DataFrame.sparse.from_spmatrix(X_tfidf)[interess_columns].to_csv('/content/drive/MyDrive/Colab Notebooks/Dataset/cryptcoin/tweet_select_features.csv', index=False)"
      ],
      "execution_count": null,
      "outputs": []
    },
    {
      "cell_type": "code",
      "metadata": {
        "id": "t3x-DkXq4te4"
      },
      "source": [
        "test[interess_columns].to_csv('/content/drive/MyDrive/Colab Notebooks/Dataset/cryptcoin/tweet_select_features.csv', index=False)"
      ],
      "execution_count": null,
      "outputs": []
    },
    {
      "cell_type": "markdown",
      "metadata": {
        "id": "LDWhpwLfk74d"
      },
      "source": [
        "#retorna os indices os nomes dos atributos de maior valor\n"
      ]
    },
    {
      "cell_type": "code",
      "metadata": {
        "colab": {
          "base_uri": "https://localhost:8080/"
        },
        "id": "J-9Nf31uo85D",
        "outputId": "23b2ed33-dad9-49cf-f0c2-b71071f05bdd"
      },
      "source": [
        "name_important_attrs = np.array(tfidf_model.get_feature_names())[idx_most_important]\n",
        "print(name_important_attrs)\n"
      ],
      "execution_count": null,
      "outputs": [
        {
          "output_type": "stream",
          "name": "stdout",
          "text": [
            "['less days ada' 'week huge manipulation' 'need wake fxxk'\n",
            " 'lead prospourous' 'capitilazation next week' 'cool holding'\n",
            " 'hi people turkey' 'continued growth amp' 'goals planned accomplish'\n",
            " 'latest check' 'tx bfbdbccdaacbcdbcbaffdcca addr'\n",
            " 'scammers using someone' 'japan strong' 'trading trustlessly'\n",
            " 'august chain bep' 'greatest enemy faster' 'cryptocademy newsletter hit'\n",
            " 'main street los' 'newcomers fk' 'either take highs' 'effective signals'\n",
            " 'trader would' 'dolphincoins airdrop best' 'amazon best'\n",
            " 'children future right' 'resistance order' 'separate one another'\n",
            " 'road initiative adopt' 'break coming days' 'possible due control'\n",
            " 'schedules earning cuck' 'volatility every' 'greedy anyway started'\n",
            " 'aug firejoin' 'scraping bottom' 'web app' 'new etf per'\n",
            " 'dump target met' 'tag coach' 'add scam' 'said exchanges'\n",
            " 'impact environment mainstream' 'make sense turning' 'success today'\n",
            " 'fake narratives price' 'levels amp quite' 'want forgot heavily'\n",
            " 'buddy also forget' 'ciao bonjour' 'news also hacks']\n"
          ]
        },
        {
          "output_type": "execute_result",
          "data": {
            "text/plain": [
              "<1177791x50 sparse matrix of type '<class 'numpy.float64'>'\n",
              "\twith 104 stored elements in Compressed Sparse Row format>"
            ]
          },
          "metadata": {},
          "execution_count": 58
        }
      ]
    },
    {
      "cell_type": "code",
      "metadata": {
        "colab": {
          "base_uri": "https://localhost:8080/"
        },
        "id": "2H79eKopv9Jt",
        "outputId": "fc4534bf-e11c-48c1-bb05-67b38fdaa881"
      },
      "source": [
        "len(name_important_attrs)"
      ],
      "execution_count": null,
      "outputs": [
        {
          "output_type": "execute_result",
          "data": {
            "text/plain": [
              "50"
            ]
          },
          "metadata": {},
          "execution_count": 60
        }
      ]
    },
    {
      "cell_type": "code",
      "metadata": {
        "id": "1h8wz_UR7Q_K"
      },
      "source": [
        ""
      ],
      "execution_count": null,
      "outputs": []
    }
  ]
}