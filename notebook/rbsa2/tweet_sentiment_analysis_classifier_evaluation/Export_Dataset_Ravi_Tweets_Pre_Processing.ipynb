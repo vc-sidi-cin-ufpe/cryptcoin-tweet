{
 "cells": [
  {
   "cell_type": "code",
   "execution_count": 1,
   "id": "xlATenEe4E9A",
   "metadata": {
    "colab": {
     "base_uri": "https://localhost:8080/"
    },
    "id": "xlATenEe4E9A",
    "outputId": "530f171e-e65d-4de6-a1bd-7ebfc8dd9d06"
   },
   "outputs": [
    {
     "name": "stderr",
     "output_type": "stream",
     "text": [
      "[nltk_data] Downloading package stopwords to\n",
      "[nltk_data]     C:\\Users\\rbsa2\\AppData\\Roaming\\nltk_data...\n",
      "[nltk_data]   Package stopwords is already up-to-date!\n"
     ]
    },
    {
     "data": {
      "text/plain": [
       "True"
      ]
     },
     "execution_count": 1,
     "metadata": {},
     "output_type": "execute_result"
    }
   ],
   "source": [
    "import nltk\n",
    "nltk.download('stopwords')"
   ]
  },
  {
   "cell_type": "code",
   "execution_count": 2,
   "id": "43dd257e-efd2-4290-af3c-b182d4073944",
   "metadata": {
    "id": "43dd257e-efd2-4290-af3c-b182d4073944"
   },
   "outputs": [],
   "source": [
    "import warnings\n",
    "warnings.filterwarnings(\"ignore\")\n",
    "import datetime\n",
    "import pandas as pd\n",
    "import numpy as np\n",
    "import seaborn as sns\n",
    "import math\n",
    "import matplotlib.pyplot as plt\n",
    "import contractions\n",
    "import re\n",
    "import random\n",
    "from nltk.corpus import stopwords\n",
    "from nltk.stem.porter import *\n",
    "additional  = ['rt','rts','retweet'] # lista adicional de stopwords\n",
    "swords = set().union(stopwords.words('english'),additional) # adicionando palavras para o stopwords\n",
    "\n",
    "pd.options.display.float_format = '{:,.2f}'.format"
   ]
  },
  {
   "cell_type": "code",
   "execution_count": 17,
   "id": "c4a6ebd3-2571-48c2-a619-6c6f5e44f93c",
   "metadata": {
    "id": "c4a6ebd3-2571-48c2-a619-6c6f5e44f93c"
   },
   "outputs": [
    {
     "name": "stdout",
     "output_type": "stream",
     "text": [
      "Wall time: 21.6 s\n"
     ]
    }
   ],
   "source": [
    "%%time\n",
    "twText  = pd.read_csv('D:\\\\SiDi\\\\Project\\\\dataset\\\\vader_compound_score_en_tweet.csv')"
   ]
  },
  {
   "cell_type": "code",
   "execution_count": 18,
   "id": "b35d2006-7a79-426b-9102-593ef5bc5f1b",
   "metadata": {},
   "outputs": [
    {
     "name": "stdout",
     "output_type": "stream",
     "text": [
      "Wall time: 3.8 s\n"
     ]
    }
   ],
   "source": [
    "%%time\n",
    "twText['text'] = twText['text'].apply(lambda x: re.split('https:\\/\\/.*', str(x))[0]) # remove urls"
   ]
  },
  {
   "cell_type": "code",
   "execution_count": 19,
   "id": "35813479-0254-40ab-a6c5-63f42b012dc0",
   "metadata": {},
   "outputs": [
    {
     "name": "stdout",
     "output_type": "stream",
     "text": [
      "Wall time: 13.4 s\n"
     ]
    }
   ],
   "source": [
    "%%time\n",
    "twText['text'] = twText['text'].str.replace('\\d+', '') # remove valores numericos\n"
   ]
  },
  {
   "cell_type": "code",
   "execution_count": 20,
   "id": "a9ef8c5f-bc49-4b03-9c0e-5d92549c7974",
   "metadata": {},
   "outputs": [
    {
     "name": "stdout",
     "output_type": "stream",
     "text": [
      "Wall time: 3.06 s\n"
     ]
    }
   ],
   "source": [
    "%%time\n",
    "twText['text'] = twText['text'].str.replace('bitcoin', '')\n"
   ]
  },
  {
   "cell_type": "code",
   "execution_count": 7,
   "id": "15bf4b88-4cbd-42fa-9e4c-f9ed546dc72b",
   "metadata": {
    "colab": {
     "base_uri": "https://localhost:8080/",
     "height": 35
    },
    "id": "15bf4b88-4cbd-42fa-9e4c-f9ed546dc72b",
    "outputId": "1adb3313-ab1e-46a6-f7ad-697ee986c8ff"
   },
   "outputs": [
    {
     "data": {
      "text/plain": [
       "'Blue Ridge Bank shares halted by NYSE after #bitcoin ATM announcement '"
      ]
     },
     "execution_count": 7,
     "metadata": {},
     "output_type": "execute_result"
    }
   ],
   "source": [
    "%%time\n",
    "twText['text'] = twText['text'].str.replace('Bitcoin', '')\n"
   ]
  },
  {
   "cell_type": "code",
   "execution_count": 21,
   "id": "0010b7ee-27a1-444c-9939-ea3b76e6a7df",
   "metadata": {},
   "outputs": [
    {
     "name": "stdout",
     "output_type": "stream",
     "text": [
      "Wall time: 2.86 s\n"
     ]
    }
   ],
   "source": [
    "%%time\n",
    "twText['text'] = twText['text'].str.replace('ETH', '')\n"
   ]
  },
  {
   "cell_type": "code",
   "execution_count": 22,
   "id": "8d35a202-6003-487f-ae43-12252e9585e9",
   "metadata": {},
   "outputs": [
    {
     "name": "stdout",
     "output_type": "stream",
     "text": [
      "Wall time: 2.82 s\n"
     ]
    }
   ],
   "source": [
    "%%time\n",
    "twText['text'] = twText['text'].str.replace('btc', '')\n"
   ]
  },
  {
   "cell_type": "code",
   "execution_count": 23,
   "id": "6aa46214-d7c0-4267-9f8b-0d4289e93974",
   "metadata": {},
   "outputs": [
    {
     "name": "stdout",
     "output_type": "stream",
     "text": [
      "Wall time: 3.07 s\n"
     ]
    }
   ],
   "source": [
    "%%time\n",
    "twText['text'] = twText['text'].str.replace('BTC', '')\n"
   ]
  },
  {
   "cell_type": "code",
   "execution_count": 28,
   "id": "480b0a59-6464-4cab-807a-2c8e814e1f23",
   "metadata": {},
   "outputs": [
    {
     "name": "stdout",
     "output_type": "stream",
     "text": [
      "Wall time: 49.3 s\n"
     ]
    }
   ],
   "source": [
    "%%time\n",
    "twText.astype(str).apply(lambda x: x.str.encode('ascii', 'ignore').str.decode('ascii'))\n",
    "pass"
   ]
  },
  {
   "cell_type": "code",
   "execution_count": 8,
   "id": "4c11436a-c701-4032-9d0d-cd5d9bf5fbba",
   "metadata": {
    "id": "4c11436a-c701-4032-9d0d-cd5d9bf5fbba"
   },
   "outputs": [],
   "source": [
    "def tweet_to_words(tweet):\n",
    "    ''' Convert tweet text into a sequence of words '''\n",
    "    \n",
    "    # convert to lowercase\n",
    "    text = tweet.lower()\n",
    "    # remove non letters\n",
    "    text = re.sub(\"@[A-Za-z0-9_]+\",\"\", text) #remove menções\n",
    "    text = re.sub(r'#[a-zA-z0-9]+','',text) # remove hashtag\n",
    "    text = re.sub(r\"[^a-zA-Z0-9]\", \" \", text)        \n",
    "    text = re.sub('[()!?]', ' ', text)\n",
    "    text = re.sub('\\[.*?\\]',' ', text)\n",
    "    text = re.sub(\"[^a-z0-9]\",\" \", text)\n",
    "    text = contractions.fix(text)\n",
    "    # text = ''.join(c for c in tweet if c not in emoji.UNICODE_EMOJI)\n",
    "    emoji_pattern = re.compile(\"[\"\n",
    "        u\"\\U0001F600-\\U0001F64F\"  # emoticons\n",
    "        u\"\\U0001F300-\\U0001F5FF\"  # symbols & pictographs\n",
    "        u\"\\U0001F680-\\U0001F6FF\"  # transport & map symbols\n",
    "        u\"\\U0001F1E0-\\U0001F1FF\"  # flags (iOS)\n",
    "                           \"]+\", flags=re.UNICODE)\n",
    "    # tokenize\n",
    "    words = text.split()\n",
    "    # remove stopwords\n",
    "    words = ' '.join([w for w in words if w not in stopwords.words(\"english\")])\n",
    "    # apply stemming\n",
    "    # words = [PorterStemmer().stem(w) for w in words]\n",
    "    # return list\n",
    "    return words"
   ]
  },
  {
   "cell_type": "code",
   "execution_count": null,
   "id": "c4cc3b76-c8bb-404c-b4ff-6ee1cf679b84",
   "metadata": {},
   "outputs": [],
   "source": [
    "#twText[0:10]['text'].apply(lambda x: tweet_to_words(x))"
   ]
  },
  {
   "cell_type": "code",
   "execution_count": 29,
   "id": "8d516e0e-5ce4-4ecb-8aba-9f357309a2fa",
   "metadata": {},
   "outputs": [],
   "source": [
    "twText['cleantext'] = twText['text'].apply(lambda x: tweet_to_words(x))"
   ]
  },
  {
   "cell_type": "code",
   "execution_count": null,
   "id": "6e48018e-7d59-42ab-97a5-6c45d9b86950",
   "metadata": {},
   "outputs": [],
   "source": [
    "twText.to_csv('D:\\\\SiDi\\\\Project\\\\dataset\\\\vader_compound_score_en_cleantext_tweet.csv')"
   ]
  }
 ],
 "metadata": {
  "colab": {
   "name": "Export -Dataset_Ravi_Tweets-Pre-Processing.ipynb",
   "provenance": []
  },
  "kernelspec": {
   "display_name": "tweet-cryptcoin",
   "language": "python",
   "name": "tweet-cryptcoin"
  },
  "language_info": {
   "codemirror_mode": {
    "name": "ipython",
    "version": 3
   },
   "file_extension": ".py",
   "mimetype": "text/x-python",
   "name": "python",
   "nbconvert_exporter": "python",
   "pygments_lexer": "ipython3",
   "version": "3.10.0"
  }
 },
 "nbformat": 4,
 "nbformat_minor": 5
}
