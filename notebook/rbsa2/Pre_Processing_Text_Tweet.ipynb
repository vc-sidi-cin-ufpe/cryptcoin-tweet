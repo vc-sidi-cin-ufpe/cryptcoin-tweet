{
  "nbformat": 4,
  "nbformat_minor": 0,
  "metadata": {
    "colab": {
      "name": "Pre-Processing Text Tweet.ipynb",
      "provenance": [],
      "toc_visible": true
    },
    "kernelspec": {
      "name": "python3",
      "display_name": "Python 3"
    },
    "language_info": {
      "name": "python"
    },
    "accelerator": "GPU",
    "widgets": {
      "application/vnd.jupyter.widget-state+json": {
        "98e836fdfdb84197857470e4690aaf73": {
          "model_module": "@jupyter-widgets/controls",
          "model_name": "HBoxModel",
          "model_module_version": "1.5.0",
          "state": {
            "_view_name": "HBoxView",
            "_dom_classes": [],
            "_model_name": "HBoxModel",
            "_view_module": "@jupyter-widgets/controls",
            "_model_module_version": "1.5.0",
            "_view_count": null,
            "_view_module_version": "1.5.0",
            "box_style": "",
            "layout": "IPY_MODEL_bc55b135d2064a549d5710cccb097056",
            "_model_module": "@jupyter-widgets/controls",
            "children": [
              "IPY_MODEL_b31886c0e47a44e8ab5cb99c8a02b404",
              "IPY_MODEL_6dea914901e8437b8cc06178182fd319",
              "IPY_MODEL_70b812757b2346a3a4626cc09c6cb64d"
            ]
          }
        },
        "bc55b135d2064a549d5710cccb097056": {
          "model_module": "@jupyter-widgets/base",
          "model_name": "LayoutModel",
          "model_module_version": "1.2.0",
          "state": {
            "_view_name": "LayoutView",
            "grid_template_rows": null,
            "right": null,
            "justify_content": null,
            "_view_module": "@jupyter-widgets/base",
            "overflow": null,
            "_model_module_version": "1.2.0",
            "_view_count": null,
            "flex_flow": null,
            "width": null,
            "min_width": null,
            "border": null,
            "align_items": null,
            "bottom": null,
            "_model_module": "@jupyter-widgets/base",
            "top": null,
            "grid_column": null,
            "overflow_y": null,
            "overflow_x": null,
            "grid_auto_flow": null,
            "grid_area": null,
            "grid_template_columns": null,
            "flex": null,
            "_model_name": "LayoutModel",
            "justify_items": null,
            "grid_row": null,
            "max_height": null,
            "align_content": null,
            "visibility": null,
            "align_self": null,
            "height": null,
            "min_height": null,
            "padding": null,
            "grid_auto_rows": null,
            "grid_gap": null,
            "max_width": null,
            "order": null,
            "_view_module_version": "1.2.0",
            "grid_template_areas": null,
            "object_position": null,
            "object_fit": null,
            "grid_auto_columns": null,
            "margin": null,
            "display": null,
            "left": null
          }
        },
        "b31886c0e47a44e8ab5cb99c8a02b404": {
          "model_module": "@jupyter-widgets/controls",
          "model_name": "HTMLModel",
          "model_module_version": "1.5.0",
          "state": {
            "_view_name": "HTMLView",
            "style": "IPY_MODEL_9593844366534095a89bd67a7960c0b1",
            "_dom_classes": [],
            "description": "",
            "_model_name": "HTMLModel",
            "placeholder": "​",
            "_view_module": "@jupyter-widgets/controls",
            "_model_module_version": "1.5.0",
            "value": "Downloading https://raw.githubusercontent.com/stanfordnlp/stanza-resources/main/resources_1.3.0.json: ",
            "_view_count": null,
            "_view_module_version": "1.5.0",
            "description_tooltip": null,
            "_model_module": "@jupyter-widgets/controls",
            "layout": "IPY_MODEL_de7630d1fdda4b71a4751aa8daeb8c67"
          }
        },
        "6dea914901e8437b8cc06178182fd319": {
          "model_module": "@jupyter-widgets/controls",
          "model_name": "FloatProgressModel",
          "model_module_version": "1.5.0",
          "state": {
            "_view_name": "ProgressView",
            "style": "IPY_MODEL_b8e71e7e2a68414d821a2aab341e86c7",
            "_dom_classes": [],
            "description": "",
            "_model_name": "FloatProgressModel",
            "bar_style": "success",
            "max": 24459,
            "_view_module": "@jupyter-widgets/controls",
            "_model_module_version": "1.5.0",
            "value": 24459,
            "_view_count": null,
            "_view_module_version": "1.5.0",
            "orientation": "horizontal",
            "min": 0,
            "description_tooltip": null,
            "_model_module": "@jupyter-widgets/controls",
            "layout": "IPY_MODEL_a5bd0f4287cc4a348b4840ec2bc1e66e"
          }
        },
        "70b812757b2346a3a4626cc09c6cb64d": {
          "model_module": "@jupyter-widgets/controls",
          "model_name": "HTMLModel",
          "model_module_version": "1.5.0",
          "state": {
            "_view_name": "HTMLView",
            "style": "IPY_MODEL_751393789dd946728e2e169fe98db1c3",
            "_dom_classes": [],
            "description": "",
            "_model_name": "HTMLModel",
            "placeholder": "​",
            "_view_module": "@jupyter-widgets/controls",
            "_model_module_version": "1.5.0",
            "value": " 142k/? [00:00&lt;00:00, 2.99MB/s]",
            "_view_count": null,
            "_view_module_version": "1.5.0",
            "description_tooltip": null,
            "_model_module": "@jupyter-widgets/controls",
            "layout": "IPY_MODEL_c9c069c250dd4d4fbbcf9c8813612abf"
          }
        },
        "9593844366534095a89bd67a7960c0b1": {
          "model_module": "@jupyter-widgets/controls",
          "model_name": "DescriptionStyleModel",
          "model_module_version": "1.5.0",
          "state": {
            "_view_name": "StyleView",
            "_model_name": "DescriptionStyleModel",
            "description_width": "",
            "_view_module": "@jupyter-widgets/base",
            "_model_module_version": "1.5.0",
            "_view_count": null,
            "_view_module_version": "1.2.0",
            "_model_module": "@jupyter-widgets/controls"
          }
        },
        "de7630d1fdda4b71a4751aa8daeb8c67": {
          "model_module": "@jupyter-widgets/base",
          "model_name": "LayoutModel",
          "model_module_version": "1.2.0",
          "state": {
            "_view_name": "LayoutView",
            "grid_template_rows": null,
            "right": null,
            "justify_content": null,
            "_view_module": "@jupyter-widgets/base",
            "overflow": null,
            "_model_module_version": "1.2.0",
            "_view_count": null,
            "flex_flow": null,
            "width": null,
            "min_width": null,
            "border": null,
            "align_items": null,
            "bottom": null,
            "_model_module": "@jupyter-widgets/base",
            "top": null,
            "grid_column": null,
            "overflow_y": null,
            "overflow_x": null,
            "grid_auto_flow": null,
            "grid_area": null,
            "grid_template_columns": null,
            "flex": null,
            "_model_name": "LayoutModel",
            "justify_items": null,
            "grid_row": null,
            "max_height": null,
            "align_content": null,
            "visibility": null,
            "align_self": null,
            "height": null,
            "min_height": null,
            "padding": null,
            "grid_auto_rows": null,
            "grid_gap": null,
            "max_width": null,
            "order": null,
            "_view_module_version": "1.2.0",
            "grid_template_areas": null,
            "object_position": null,
            "object_fit": null,
            "grid_auto_columns": null,
            "margin": null,
            "display": null,
            "left": null
          }
        },
        "b8e71e7e2a68414d821a2aab341e86c7": {
          "model_module": "@jupyter-widgets/controls",
          "model_name": "ProgressStyleModel",
          "model_module_version": "1.5.0",
          "state": {
            "_view_name": "StyleView",
            "_model_name": "ProgressStyleModel",
            "description_width": "",
            "_view_module": "@jupyter-widgets/base",
            "_model_module_version": "1.5.0",
            "_view_count": null,
            "_view_module_version": "1.2.0",
            "bar_color": null,
            "_model_module": "@jupyter-widgets/controls"
          }
        },
        "a5bd0f4287cc4a348b4840ec2bc1e66e": {
          "model_module": "@jupyter-widgets/base",
          "model_name": "LayoutModel",
          "model_module_version": "1.2.0",
          "state": {
            "_view_name": "LayoutView",
            "grid_template_rows": null,
            "right": null,
            "justify_content": null,
            "_view_module": "@jupyter-widgets/base",
            "overflow": null,
            "_model_module_version": "1.2.0",
            "_view_count": null,
            "flex_flow": null,
            "width": null,
            "min_width": null,
            "border": null,
            "align_items": null,
            "bottom": null,
            "_model_module": "@jupyter-widgets/base",
            "top": null,
            "grid_column": null,
            "overflow_y": null,
            "overflow_x": null,
            "grid_auto_flow": null,
            "grid_area": null,
            "grid_template_columns": null,
            "flex": null,
            "_model_name": "LayoutModel",
            "justify_items": null,
            "grid_row": null,
            "max_height": null,
            "align_content": null,
            "visibility": null,
            "align_self": null,
            "height": null,
            "min_height": null,
            "padding": null,
            "grid_auto_rows": null,
            "grid_gap": null,
            "max_width": null,
            "order": null,
            "_view_module_version": "1.2.0",
            "grid_template_areas": null,
            "object_position": null,
            "object_fit": null,
            "grid_auto_columns": null,
            "margin": null,
            "display": null,
            "left": null
          }
        },
        "751393789dd946728e2e169fe98db1c3": {
          "model_module": "@jupyter-widgets/controls",
          "model_name": "DescriptionStyleModel",
          "model_module_version": "1.5.0",
          "state": {
            "_view_name": "StyleView",
            "_model_name": "DescriptionStyleModel",
            "description_width": "",
            "_view_module": "@jupyter-widgets/base",
            "_model_module_version": "1.5.0",
            "_view_count": null,
            "_view_module_version": "1.2.0",
            "_model_module": "@jupyter-widgets/controls"
          }
        },
        "c9c069c250dd4d4fbbcf9c8813612abf": {
          "model_module": "@jupyter-widgets/base",
          "model_name": "LayoutModel",
          "model_module_version": "1.2.0",
          "state": {
            "_view_name": "LayoutView",
            "grid_template_rows": null,
            "right": null,
            "justify_content": null,
            "_view_module": "@jupyter-widgets/base",
            "overflow": null,
            "_model_module_version": "1.2.0",
            "_view_count": null,
            "flex_flow": null,
            "width": null,
            "min_width": null,
            "border": null,
            "align_items": null,
            "bottom": null,
            "_model_module": "@jupyter-widgets/base",
            "top": null,
            "grid_column": null,
            "overflow_y": null,
            "overflow_x": null,
            "grid_auto_flow": null,
            "grid_area": null,
            "grid_template_columns": null,
            "flex": null,
            "_model_name": "LayoutModel",
            "justify_items": null,
            "grid_row": null,
            "max_height": null,
            "align_content": null,
            "visibility": null,
            "align_self": null,
            "height": null,
            "min_height": null,
            "padding": null,
            "grid_auto_rows": null,
            "grid_gap": null,
            "max_width": null,
            "order": null,
            "_view_module_version": "1.2.0",
            "grid_template_areas": null,
            "object_position": null,
            "object_fit": null,
            "grid_auto_columns": null,
            "margin": null,
            "display": null,
            "left": null
          }
        },
        "8fd5e96268cd4e0ea6142a57ff377675": {
          "model_module": "@jupyter-widgets/controls",
          "model_name": "HBoxModel",
          "model_module_version": "1.5.0",
          "state": {
            "_view_name": "HBoxView",
            "_dom_classes": [],
            "_model_name": "HBoxModel",
            "_view_module": "@jupyter-widgets/controls",
            "_model_module_version": "1.5.0",
            "_view_count": null,
            "_view_module_version": "1.5.0",
            "box_style": "",
            "layout": "IPY_MODEL_d7f30dbb85a247d5a0c69c00a9c5ca7d",
            "_model_module": "@jupyter-widgets/controls",
            "children": [
              "IPY_MODEL_56e88bbe8c984495aad8a3c77e06ba31",
              "IPY_MODEL_5cb17c2d071e4668bbf7f0f90b3fba9b",
              "IPY_MODEL_6f824df89ca24bf1a6c700f1aac561f0"
            ]
          }
        },
        "d7f30dbb85a247d5a0c69c00a9c5ca7d": {
          "model_module": "@jupyter-widgets/base",
          "model_name": "LayoutModel",
          "model_module_version": "1.2.0",
          "state": {
            "_view_name": "LayoutView",
            "grid_template_rows": null,
            "right": null,
            "justify_content": null,
            "_view_module": "@jupyter-widgets/base",
            "overflow": null,
            "_model_module_version": "1.2.0",
            "_view_count": null,
            "flex_flow": null,
            "width": null,
            "min_width": null,
            "border": null,
            "align_items": null,
            "bottom": null,
            "_model_module": "@jupyter-widgets/base",
            "top": null,
            "grid_column": null,
            "overflow_y": null,
            "overflow_x": null,
            "grid_auto_flow": null,
            "grid_area": null,
            "grid_template_columns": null,
            "flex": null,
            "_model_name": "LayoutModel",
            "justify_items": null,
            "grid_row": null,
            "max_height": null,
            "align_content": null,
            "visibility": null,
            "align_self": null,
            "height": null,
            "min_height": null,
            "padding": null,
            "grid_auto_rows": null,
            "grid_gap": null,
            "max_width": null,
            "order": null,
            "_view_module_version": "1.2.0",
            "grid_template_areas": null,
            "object_position": null,
            "object_fit": null,
            "grid_auto_columns": null,
            "margin": null,
            "display": null,
            "left": null
          }
        },
        "56e88bbe8c984495aad8a3c77e06ba31": {
          "model_module": "@jupyter-widgets/controls",
          "model_name": "HTMLModel",
          "model_module_version": "1.5.0",
          "state": {
            "_view_name": "HTMLView",
            "style": "IPY_MODEL_baf6e5df429a4ca4905afed798812aa2",
            "_dom_classes": [],
            "description": "",
            "_model_name": "HTMLModel",
            "placeholder": "​",
            "_view_module": "@jupyter-widgets/controls",
            "_model_module_version": "1.5.0",
            "value": "Downloading https://huggingface.co/stanfordnlp/stanza-en/resolve/v1.3.0/models/default.zip: 100%",
            "_view_count": null,
            "_view_module_version": "1.5.0",
            "description_tooltip": null,
            "_model_module": "@jupyter-widgets/controls",
            "layout": "IPY_MODEL_578160020ae24b19b38972d44f683442"
          }
        },
        "5cb17c2d071e4668bbf7f0f90b3fba9b": {
          "model_module": "@jupyter-widgets/controls",
          "model_name": "FloatProgressModel",
          "model_module_version": "1.5.0",
          "state": {
            "_view_name": "ProgressView",
            "style": "IPY_MODEL_cdda8beb3b9c4c2eab95ee15ee921bec",
            "_dom_classes": [],
            "description": "",
            "_model_name": "FloatProgressModel",
            "bar_style": "success",
            "max": 479531529,
            "_view_module": "@jupyter-widgets/controls",
            "_model_module_version": "1.5.0",
            "value": 479531529,
            "_view_count": null,
            "_view_module_version": "1.5.0",
            "orientation": "horizontal",
            "min": 0,
            "description_tooltip": null,
            "_model_module": "@jupyter-widgets/controls",
            "layout": "IPY_MODEL_207a226d183545da9382a7a10bcccd05"
          }
        },
        "6f824df89ca24bf1a6c700f1aac561f0": {
          "model_module": "@jupyter-widgets/controls",
          "model_name": "HTMLModel",
          "model_module_version": "1.5.0",
          "state": {
            "_view_name": "HTMLView",
            "style": "IPY_MODEL_fee986642c79478fa6ab7813e69d8cbb",
            "_dom_classes": [],
            "description": "",
            "_model_name": "HTMLModel",
            "placeholder": "​",
            "_view_module": "@jupyter-widgets/controls",
            "_model_module_version": "1.5.0",
            "value": " 480M/480M [00:02&lt;00:00, 170MB/s]",
            "_view_count": null,
            "_view_module_version": "1.5.0",
            "description_tooltip": null,
            "_model_module": "@jupyter-widgets/controls",
            "layout": "IPY_MODEL_615835318e0149938492af17dd614dd9"
          }
        },
        "baf6e5df429a4ca4905afed798812aa2": {
          "model_module": "@jupyter-widgets/controls",
          "model_name": "DescriptionStyleModel",
          "model_module_version": "1.5.0",
          "state": {
            "_view_name": "StyleView",
            "_model_name": "DescriptionStyleModel",
            "description_width": "",
            "_view_module": "@jupyter-widgets/base",
            "_model_module_version": "1.5.0",
            "_view_count": null,
            "_view_module_version": "1.2.0",
            "_model_module": "@jupyter-widgets/controls"
          }
        },
        "578160020ae24b19b38972d44f683442": {
          "model_module": "@jupyter-widgets/base",
          "model_name": "LayoutModel",
          "model_module_version": "1.2.0",
          "state": {
            "_view_name": "LayoutView",
            "grid_template_rows": null,
            "right": null,
            "justify_content": null,
            "_view_module": "@jupyter-widgets/base",
            "overflow": null,
            "_model_module_version": "1.2.0",
            "_view_count": null,
            "flex_flow": null,
            "width": null,
            "min_width": null,
            "border": null,
            "align_items": null,
            "bottom": null,
            "_model_module": "@jupyter-widgets/base",
            "top": null,
            "grid_column": null,
            "overflow_y": null,
            "overflow_x": null,
            "grid_auto_flow": null,
            "grid_area": null,
            "grid_template_columns": null,
            "flex": null,
            "_model_name": "LayoutModel",
            "justify_items": null,
            "grid_row": null,
            "max_height": null,
            "align_content": null,
            "visibility": null,
            "align_self": null,
            "height": null,
            "min_height": null,
            "padding": null,
            "grid_auto_rows": null,
            "grid_gap": null,
            "max_width": null,
            "order": null,
            "_view_module_version": "1.2.0",
            "grid_template_areas": null,
            "object_position": null,
            "object_fit": null,
            "grid_auto_columns": null,
            "margin": null,
            "display": null,
            "left": null
          }
        },
        "cdda8beb3b9c4c2eab95ee15ee921bec": {
          "model_module": "@jupyter-widgets/controls",
          "model_name": "ProgressStyleModel",
          "model_module_version": "1.5.0",
          "state": {
            "_view_name": "StyleView",
            "_model_name": "ProgressStyleModel",
            "description_width": "",
            "_view_module": "@jupyter-widgets/base",
            "_model_module_version": "1.5.0",
            "_view_count": null,
            "_view_module_version": "1.2.0",
            "bar_color": null,
            "_model_module": "@jupyter-widgets/controls"
          }
        },
        "207a226d183545da9382a7a10bcccd05": {
          "model_module": "@jupyter-widgets/base",
          "model_name": "LayoutModel",
          "model_module_version": "1.2.0",
          "state": {
            "_view_name": "LayoutView",
            "grid_template_rows": null,
            "right": null,
            "justify_content": null,
            "_view_module": "@jupyter-widgets/base",
            "overflow": null,
            "_model_module_version": "1.2.0",
            "_view_count": null,
            "flex_flow": null,
            "width": null,
            "min_width": null,
            "border": null,
            "align_items": null,
            "bottom": null,
            "_model_module": "@jupyter-widgets/base",
            "top": null,
            "grid_column": null,
            "overflow_y": null,
            "overflow_x": null,
            "grid_auto_flow": null,
            "grid_area": null,
            "grid_template_columns": null,
            "flex": null,
            "_model_name": "LayoutModel",
            "justify_items": null,
            "grid_row": null,
            "max_height": null,
            "align_content": null,
            "visibility": null,
            "align_self": null,
            "height": null,
            "min_height": null,
            "padding": null,
            "grid_auto_rows": null,
            "grid_gap": null,
            "max_width": null,
            "order": null,
            "_view_module_version": "1.2.0",
            "grid_template_areas": null,
            "object_position": null,
            "object_fit": null,
            "grid_auto_columns": null,
            "margin": null,
            "display": null,
            "left": null
          }
        },
        "fee986642c79478fa6ab7813e69d8cbb": {
          "model_module": "@jupyter-widgets/controls",
          "model_name": "DescriptionStyleModel",
          "model_module_version": "1.5.0",
          "state": {
            "_view_name": "StyleView",
            "_model_name": "DescriptionStyleModel",
            "description_width": "",
            "_view_module": "@jupyter-widgets/base",
            "_model_module_version": "1.5.0",
            "_view_count": null,
            "_view_module_version": "1.2.0",
            "_model_module": "@jupyter-widgets/controls"
          }
        },
        "615835318e0149938492af17dd614dd9": {
          "model_module": "@jupyter-widgets/base",
          "model_name": "LayoutModel",
          "model_module_version": "1.2.0",
          "state": {
            "_view_name": "LayoutView",
            "grid_template_rows": null,
            "right": null,
            "justify_content": null,
            "_view_module": "@jupyter-widgets/base",
            "overflow": null,
            "_model_module_version": "1.2.0",
            "_view_count": null,
            "flex_flow": null,
            "width": null,
            "min_width": null,
            "border": null,
            "align_items": null,
            "bottom": null,
            "_model_module": "@jupyter-widgets/base",
            "top": null,
            "grid_column": null,
            "overflow_y": null,
            "overflow_x": null,
            "grid_auto_flow": null,
            "grid_area": null,
            "grid_template_columns": null,
            "flex": null,
            "_model_name": "LayoutModel",
            "justify_items": null,
            "grid_row": null,
            "max_height": null,
            "align_content": null,
            "visibility": null,
            "align_self": null,
            "height": null,
            "min_height": null,
            "padding": null,
            "grid_auto_rows": null,
            "grid_gap": null,
            "max_width": null,
            "order": null,
            "_view_module_version": "1.2.0",
            "grid_template_areas": null,
            "object_position": null,
            "object_fit": null,
            "grid_auto_columns": null,
            "margin": null,
            "display": null,
            "left": null
          }
        }
      }
    }
  },
  "cells": [
    {
      "cell_type": "markdown",
      "metadata": {
        "id": "HYIoIT7lco1y"
      },
      "source": [
        "# Install Dependecies"
      ]
    },
    {
      "cell_type": "markdown",
      "metadata": {
        "id": "7vfMWRFYljJk"
      },
      "source": [
        "#### Lime"
      ]
    },
    {
      "cell_type": "code",
      "metadata": {
        "colab": {
          "base_uri": "https://localhost:8080/"
        },
        "id": "r3RDzUMwcl5S",
        "outputId": "151708dd-0347-432f-ab28-ccc3408d58bc"
      },
      "source": [
        "!pip install lime"
      ],
      "execution_count": null,
      "outputs": [
        {
          "output_type": "stream",
          "name": "stdout",
          "text": [
            "Collecting lime\n",
            "  Downloading lime-0.2.0.1.tar.gz (275 kB)\n",
            "\u001b[?25l\r\u001b[K     |█▏                              | 10 kB 25.2 MB/s eta 0:00:01\r\u001b[K     |██▍                             | 20 kB 29.9 MB/s eta 0:00:01\r\u001b[K     |███▋                            | 30 kB 27.2 MB/s eta 0:00:01\r\u001b[K     |████▊                           | 40 kB 20.3 MB/s eta 0:00:01\r\u001b[K     |██████                          | 51 kB 15.2 MB/s eta 0:00:01\r\u001b[K     |███████▏                        | 61 kB 12.7 MB/s eta 0:00:01\r\u001b[K     |████████▎                       | 71 kB 12.7 MB/s eta 0:00:01\r\u001b[K     |█████████▌                      | 81 kB 14.0 MB/s eta 0:00:01\r\u001b[K     |██████████▊                     | 92 kB 13.9 MB/s eta 0:00:01\r\u001b[K     |███████████▉                    | 102 kB 9.9 MB/s eta 0:00:01\r\u001b[K     |█████████████                   | 112 kB 9.9 MB/s eta 0:00:01\r\u001b[K     |██████████████▎                 | 122 kB 9.9 MB/s eta 0:00:01\r\u001b[K     |███████████████▌                | 133 kB 9.9 MB/s eta 0:00:01\r\u001b[K     |████████████████▋               | 143 kB 9.9 MB/s eta 0:00:01\r\u001b[K     |█████████████████▉              | 153 kB 9.9 MB/s eta 0:00:01\r\u001b[K     |███████████████████             | 163 kB 9.9 MB/s eta 0:00:01\r\u001b[K     |████████████████████▏           | 174 kB 9.9 MB/s eta 0:00:01\r\u001b[K     |█████████████████████▍          | 184 kB 9.9 MB/s eta 0:00:01\r\u001b[K     |██████████████████████▋         | 194 kB 9.9 MB/s eta 0:00:01\r\u001b[K     |███████████████████████▊        | 204 kB 9.9 MB/s eta 0:00:01\r\u001b[K     |█████████████████████████       | 215 kB 9.9 MB/s eta 0:00:01\r\u001b[K     |██████████████████████████▏     | 225 kB 9.9 MB/s eta 0:00:01\r\u001b[K     |███████████████████████████▍    | 235 kB 9.9 MB/s eta 0:00:01\r\u001b[K     |████████████████████████████▌   | 245 kB 9.9 MB/s eta 0:00:01\r\u001b[K     |█████████████████████████████▊  | 256 kB 9.9 MB/s eta 0:00:01\r\u001b[K     |███████████████████████████████ | 266 kB 9.9 MB/s eta 0:00:01\r\u001b[K     |████████████████████████████████| 275 kB 9.9 MB/s \n",
            "\u001b[?25hRequirement already satisfied: matplotlib in /usr/local/lib/python3.7/dist-packages (from lime) (3.2.2)\n",
            "Requirement already satisfied: numpy in /usr/local/lib/python3.7/dist-packages (from lime) (1.19.5)\n",
            "Requirement already satisfied: scipy in /usr/local/lib/python3.7/dist-packages (from lime) (1.4.1)\n",
            "Requirement already satisfied: tqdm in /usr/local/lib/python3.7/dist-packages (from lime) (4.62.3)\n",
            "Requirement already satisfied: scikit-learn>=0.18 in /usr/local/lib/python3.7/dist-packages (from lime) (0.22.2.post1)\n",
            "Requirement already satisfied: scikit-image>=0.12 in /usr/local/lib/python3.7/dist-packages (from lime) (0.16.2)\n",
            "Requirement already satisfied: networkx>=2.0 in /usr/local/lib/python3.7/dist-packages (from scikit-image>=0.12->lime) (2.6.3)\n",
            "Requirement already satisfied: PyWavelets>=0.4.0 in /usr/local/lib/python3.7/dist-packages (from scikit-image>=0.12->lime) (1.1.1)\n",
            "Requirement already satisfied: imageio>=2.3.0 in /usr/local/lib/python3.7/dist-packages (from scikit-image>=0.12->lime) (2.4.1)\n",
            "Requirement already satisfied: pillow>=4.3.0 in /usr/local/lib/python3.7/dist-packages (from scikit-image>=0.12->lime) (7.1.2)\n",
            "Requirement already satisfied: cycler>=0.10 in /usr/local/lib/python3.7/dist-packages (from matplotlib->lime) (0.10.0)\n",
            "Requirement already satisfied: pyparsing!=2.0.4,!=2.1.2,!=2.1.6,>=2.0.1 in /usr/local/lib/python3.7/dist-packages (from matplotlib->lime) (2.4.7)\n",
            "Requirement already satisfied: kiwisolver>=1.0.1 in /usr/local/lib/python3.7/dist-packages (from matplotlib->lime) (1.3.2)\n",
            "Requirement already satisfied: python-dateutil>=2.1 in /usr/local/lib/python3.7/dist-packages (from matplotlib->lime) (2.8.2)\n",
            "Requirement already satisfied: six in /usr/local/lib/python3.7/dist-packages (from cycler>=0.10->matplotlib->lime) (1.15.0)\n",
            "Requirement already satisfied: joblib>=0.11 in /usr/local/lib/python3.7/dist-packages (from scikit-learn>=0.18->lime) (1.0.1)\n",
            "Building wheels for collected packages: lime\n",
            "  Building wheel for lime (setup.py) ... \u001b[?25l\u001b[?25hdone\n",
            "  Created wheel for lime: filename=lime-0.2.0.1-py3-none-any.whl size=283857 sha256=e5bebf74cab5575338426ae484b9193afd6d87d3774a39405b225296206aeba2\n",
            "  Stored in directory: /root/.cache/pip/wheels/ca/cb/e5/ac701e12d365a08917bf4c6171c0961bc880a8181359c66aa7\n",
            "Successfully built lime\n",
            "Installing collected packages: lime\n",
            "Successfully installed lime-0.2.0.1\n"
          ]
        }
      ]
    },
    {
      "cell_type": "code",
      "metadata": {
        "colab": {
          "base_uri": "https://localhost:8080/"
        },
        "id": "lHuhEn3dc2VZ",
        "outputId": "9dc3148d-bc5e-46ff-ded2-f1eba9820e09"
      },
      "source": [
        "!pip install transformers"
      ],
      "execution_count": null,
      "outputs": [
        {
          "output_type": "stream",
          "name": "stdout",
          "text": [
            "Collecting transformers\n",
            "  Downloading transformers-4.11.3-py3-none-any.whl (2.9 MB)\n",
            "\u001b[K     |████████████████████████████████| 2.9 MB 13.5 MB/s \n",
            "\u001b[?25hCollecting pyyaml>=5.1\n",
            "  Downloading PyYAML-6.0-cp37-cp37m-manylinux_2_5_x86_64.manylinux1_x86_64.manylinux_2_12_x86_64.manylinux2010_x86_64.whl (596 kB)\n",
            "\u001b[K     |████████████████████████████████| 596 kB 40.6 MB/s \n",
            "\u001b[?25hCollecting huggingface-hub>=0.0.17\n",
            "  Downloading huggingface_hub-0.0.19-py3-none-any.whl (56 kB)\n",
            "\u001b[K     |████████████████████████████████| 56 kB 5.2 MB/s \n",
            "\u001b[?25hRequirement already satisfied: requests in /usr/local/lib/python3.7/dist-packages (from transformers) (2.23.0)\n",
            "Collecting sacremoses\n",
            "  Downloading sacremoses-0.0.46-py3-none-any.whl (895 kB)\n",
            "\u001b[K     |████████████████████████████████| 895 kB 43.2 MB/s \n",
            "\u001b[?25hRequirement already satisfied: importlib-metadata in /usr/local/lib/python3.7/dist-packages (from transformers) (4.8.1)\n",
            "Collecting tokenizers<0.11,>=0.10.1\n",
            "  Downloading tokenizers-0.10.3-cp37-cp37m-manylinux_2_5_x86_64.manylinux1_x86_64.manylinux_2_12_x86_64.manylinux2010_x86_64.whl (3.3 MB)\n",
            "\u001b[K     |████████████████████████████████| 3.3 MB 50.7 MB/s \n",
            "\u001b[?25hRequirement already satisfied: regex!=2019.12.17 in /usr/local/lib/python3.7/dist-packages (from transformers) (2019.12.20)\n",
            "Requirement already satisfied: filelock in /usr/local/lib/python3.7/dist-packages (from transformers) (3.3.0)\n",
            "Requirement already satisfied: numpy>=1.17 in /usr/local/lib/python3.7/dist-packages (from transformers) (1.19.5)\n",
            "Requirement already satisfied: packaging>=20.0 in /usr/local/lib/python3.7/dist-packages (from transformers) (21.0)\n",
            "Requirement already satisfied: tqdm>=4.27 in /usr/local/lib/python3.7/dist-packages (from transformers) (4.62.3)\n",
            "Requirement already satisfied: typing-extensions in /usr/local/lib/python3.7/dist-packages (from huggingface-hub>=0.0.17->transformers) (3.7.4.3)\n",
            "Requirement already satisfied: pyparsing>=2.0.2 in /usr/local/lib/python3.7/dist-packages (from packaging>=20.0->transformers) (2.4.7)\n",
            "Requirement already satisfied: zipp>=0.5 in /usr/local/lib/python3.7/dist-packages (from importlib-metadata->transformers) (3.6.0)\n",
            "Requirement already satisfied: urllib3!=1.25.0,!=1.25.1,<1.26,>=1.21.1 in /usr/local/lib/python3.7/dist-packages (from requests->transformers) (1.24.3)\n",
            "Requirement already satisfied: chardet<4,>=3.0.2 in /usr/local/lib/python3.7/dist-packages (from requests->transformers) (3.0.4)\n",
            "Requirement already satisfied: idna<3,>=2.5 in /usr/local/lib/python3.7/dist-packages (from requests->transformers) (2.10)\n",
            "Requirement already satisfied: certifi>=2017.4.17 in /usr/local/lib/python3.7/dist-packages (from requests->transformers) (2021.5.30)\n",
            "Requirement already satisfied: click in /usr/local/lib/python3.7/dist-packages (from sacremoses->transformers) (7.1.2)\n",
            "Requirement already satisfied: six in /usr/local/lib/python3.7/dist-packages (from sacremoses->transformers) (1.15.0)\n",
            "Requirement already satisfied: joblib in /usr/local/lib/python3.7/dist-packages (from sacremoses->transformers) (1.0.1)\n",
            "Installing collected packages: pyyaml, tokenizers, sacremoses, huggingface-hub, transformers\n",
            "  Attempting uninstall: pyyaml\n",
            "    Found existing installation: PyYAML 3.13\n",
            "    Uninstalling PyYAML-3.13:\n",
            "      Successfully uninstalled PyYAML-3.13\n",
            "Successfully installed huggingface-hub-0.0.19 pyyaml-6.0 sacremoses-0.0.46 tokenizers-0.10.3 transformers-4.11.3\n"
          ]
        }
      ]
    },
    {
      "cell_type": "code",
      "metadata": {
        "colab": {
          "base_uri": "https://localhost:8080/"
        },
        "id": "WL92ldfNkoiL",
        "outputId": "f081617e-95de-47df-b9c0-e698c84475dd"
      },
      "source": [
        "!pip install stanza"
      ],
      "execution_count": null,
      "outputs": [
        {
          "output_type": "stream",
          "name": "stdout",
          "text": [
            "Collecting stanza\n",
            "  Downloading stanza-1.3.0-py3-none-any.whl (432 kB)\n",
            "\u001b[?25l\r\u001b[K     |▊                               | 10 kB 24.1 MB/s eta 0:00:01\r\u001b[K     |█▌                              | 20 kB 27.8 MB/s eta 0:00:01\r\u001b[K     |██▎                             | 30 kB 22.6 MB/s eta 0:00:01\r\u001b[K     |███                             | 40 kB 17.7 MB/s eta 0:00:01\r\u001b[K     |███▉                            | 51 kB 14.1 MB/s eta 0:00:01\r\u001b[K     |████▌                           | 61 kB 10.5 MB/s eta 0:00:01\r\u001b[K     |█████▎                          | 71 kB 11.6 MB/s eta 0:00:01\r\u001b[K     |██████                          | 81 kB 12.7 MB/s eta 0:00:01\r\u001b[K     |██████▉                         | 92 kB 13.6 MB/s eta 0:00:01\r\u001b[K     |███████▋                        | 102 kB 12.9 MB/s eta 0:00:01\r\u001b[K     |████████▍                       | 112 kB 12.9 MB/s eta 0:00:01\r\u001b[K     |█████████                       | 122 kB 12.9 MB/s eta 0:00:01\r\u001b[K     |█████████▉                      | 133 kB 12.9 MB/s eta 0:00:01\r\u001b[K     |██████████▋                     | 143 kB 12.9 MB/s eta 0:00:01\r\u001b[K     |███████████▍                    | 153 kB 12.9 MB/s eta 0:00:01\r\u001b[K     |████████████▏                   | 163 kB 12.9 MB/s eta 0:00:01\r\u001b[K     |█████████████                   | 174 kB 12.9 MB/s eta 0:00:01\r\u001b[K     |█████████████▋                  | 184 kB 12.9 MB/s eta 0:00:01\r\u001b[K     |██████████████▍                 | 194 kB 12.9 MB/s eta 0:00:01\r\u001b[K     |███████████████▏                | 204 kB 12.9 MB/s eta 0:00:01\r\u001b[K     |████████████████                | 215 kB 12.9 MB/s eta 0:00:01\r\u001b[K     |████████████████▊               | 225 kB 12.9 MB/s eta 0:00:01\r\u001b[K     |█████████████████▍              | 235 kB 12.9 MB/s eta 0:00:01\r\u001b[K     |██████████████████▏             | 245 kB 12.9 MB/s eta 0:00:01\r\u001b[K     |███████████████████             | 256 kB 12.9 MB/s eta 0:00:01\r\u001b[K     |███████████████████▊            | 266 kB 12.9 MB/s eta 0:00:01\r\u001b[K     |████████████████████▌           | 276 kB 12.9 MB/s eta 0:00:01\r\u001b[K     |█████████████████████▎          | 286 kB 12.9 MB/s eta 0:00:01\r\u001b[K     |██████████████████████          | 296 kB 12.9 MB/s eta 0:00:01\r\u001b[K     |██████████████████████▊         | 307 kB 12.9 MB/s eta 0:00:01\r\u001b[K     |███████████████████████▌        | 317 kB 12.9 MB/s eta 0:00:01\r\u001b[K     |████████████████████████▎       | 327 kB 12.9 MB/s eta 0:00:01\r\u001b[K     |█████████████████████████       | 337 kB 12.9 MB/s eta 0:00:01\r\u001b[K     |█████████████████████████▉      | 348 kB 12.9 MB/s eta 0:00:01\r\u001b[K     |██████████████████████████▌     | 358 kB 12.9 MB/s eta 0:00:01\r\u001b[K     |███████████████████████████▎    | 368 kB 12.9 MB/s eta 0:00:01\r\u001b[K     |████████████████████████████    | 378 kB 12.9 MB/s eta 0:00:01\r\u001b[K     |████████████████████████████▉   | 389 kB 12.9 MB/s eta 0:00:01\r\u001b[K     |█████████████████████████████▋  | 399 kB 12.9 MB/s eta 0:00:01\r\u001b[K     |██████████████████████████████▍ | 409 kB 12.9 MB/s eta 0:00:01\r\u001b[K     |███████████████████████████████ | 419 kB 12.9 MB/s eta 0:00:01\r\u001b[K     |███████████████████████████████▉| 430 kB 12.9 MB/s eta 0:00:01\r\u001b[K     |████████████████████████████████| 432 kB 12.9 MB/s \n",
            "\u001b[?25hRequirement already satisfied: six in /usr/local/lib/python3.7/dist-packages (from stanza) (1.15.0)\n",
            "Requirement already satisfied: tqdm in /usr/local/lib/python3.7/dist-packages (from stanza) (4.62.3)\n",
            "Requirement already satisfied: protobuf in /usr/local/lib/python3.7/dist-packages (from stanza) (3.17.3)\n",
            "Collecting emoji\n",
            "  Downloading emoji-1.6.1.tar.gz (170 kB)\n",
            "\u001b[K     |████████████████████████████████| 170 kB 50.2 MB/s \n",
            "\u001b[?25hRequirement already satisfied: numpy in /usr/local/lib/python3.7/dist-packages (from stanza) (1.19.5)\n",
            "Requirement already satisfied: requests in /usr/local/lib/python3.7/dist-packages (from stanza) (2.23.0)\n",
            "Requirement already satisfied: torch>=1.3.0 in /usr/local/lib/python3.7/dist-packages (from stanza) (1.9.0+cu111)\n",
            "Requirement already satisfied: typing-extensions in /usr/local/lib/python3.7/dist-packages (from torch>=1.3.0->stanza) (3.7.4.3)\n",
            "Requirement already satisfied: urllib3!=1.25.0,!=1.25.1,<1.26,>=1.21.1 in /usr/local/lib/python3.7/dist-packages (from requests->stanza) (1.24.3)\n",
            "Requirement already satisfied: certifi>=2017.4.17 in /usr/local/lib/python3.7/dist-packages (from requests->stanza) (2021.5.30)\n",
            "Requirement already satisfied: idna<3,>=2.5 in /usr/local/lib/python3.7/dist-packages (from requests->stanza) (2.10)\n",
            "Requirement already satisfied: chardet<4,>=3.0.2 in /usr/local/lib/python3.7/dist-packages (from requests->stanza) (3.0.4)\n",
            "Building wheels for collected packages: emoji\n",
            "  Building wheel for emoji (setup.py) ... \u001b[?25l\u001b[?25hdone\n",
            "  Created wheel for emoji: filename=emoji-1.6.1-py3-none-any.whl size=169314 sha256=4fba50b1fcd3cbbe714a6848f5a5fa95a8545fa6f7e725c90de0a1bc82cd1d4a\n",
            "  Stored in directory: /root/.cache/pip/wheels/ea/5f/d3/03d313ddb3c2a1a427bb4690f1621eea60fe6f2a30cc95940f\n",
            "Successfully built emoji\n",
            "Installing collected packages: emoji, stanza\n",
            "Successfully installed emoji-1.6.1 stanza-1.3.0\n"
          ]
        }
      ]
    },
    {
      "cell_type": "code",
      "metadata": {
        "colab": {
          "base_uri": "https://localhost:8080/"
        },
        "id": "rDpdvjpFzZrC",
        "outputId": "e5aaa380-b949-4c86-8c34-f036953edf27"
      },
      "source": [
        "!pip install spacy\n",
        "!spacy download en"
      ],
      "execution_count": null,
      "outputs": [
        {
          "output_type": "stream",
          "name": "stdout",
          "text": [
            "Requirement already satisfied: spacy in /usr/local/lib/python3.7/dist-packages (2.2.4)\n",
            "Requirement already satisfied: catalogue<1.1.0,>=0.0.7 in /usr/local/lib/python3.7/dist-packages (from spacy) (1.0.0)\n",
            "Requirement already satisfied: numpy>=1.15.0 in /usr/local/lib/python3.7/dist-packages (from spacy) (1.19.5)\n",
            "Requirement already satisfied: murmurhash<1.1.0,>=0.28.0 in /usr/local/lib/python3.7/dist-packages (from spacy) (1.0.5)\n",
            "Requirement already satisfied: plac<1.2.0,>=0.9.6 in /usr/local/lib/python3.7/dist-packages (from spacy) (1.1.3)\n",
            "Requirement already satisfied: requests<3.0.0,>=2.13.0 in /usr/local/lib/python3.7/dist-packages (from spacy) (2.23.0)\n",
            "Requirement already satisfied: wasabi<1.1.0,>=0.4.0 in /usr/local/lib/python3.7/dist-packages (from spacy) (0.8.2)\n",
            "Requirement already satisfied: tqdm<5.0.0,>=4.38.0 in /usr/local/lib/python3.7/dist-packages (from spacy) (4.62.3)\n",
            "Requirement already satisfied: thinc==7.4.0 in /usr/local/lib/python3.7/dist-packages (from spacy) (7.4.0)\n",
            "Requirement already satisfied: srsly<1.1.0,>=1.0.2 in /usr/local/lib/python3.7/dist-packages (from spacy) (1.0.5)\n",
            "Requirement already satisfied: cymem<2.1.0,>=2.0.2 in /usr/local/lib/python3.7/dist-packages (from spacy) (2.0.5)\n",
            "Requirement already satisfied: setuptools in /usr/local/lib/python3.7/dist-packages (from spacy) (57.4.0)\n",
            "Requirement already satisfied: preshed<3.1.0,>=3.0.2 in /usr/local/lib/python3.7/dist-packages (from spacy) (3.0.5)\n",
            "Requirement already satisfied: blis<0.5.0,>=0.4.0 in /usr/local/lib/python3.7/dist-packages (from spacy) (0.4.1)\n",
            "Requirement already satisfied: importlib-metadata>=0.20 in /usr/local/lib/python3.7/dist-packages (from catalogue<1.1.0,>=0.0.7->spacy) (4.8.1)\n",
            "Requirement already satisfied: typing-extensions>=3.6.4 in /usr/local/lib/python3.7/dist-packages (from importlib-metadata>=0.20->catalogue<1.1.0,>=0.0.7->spacy) (3.7.4.3)\n",
            "Requirement already satisfied: zipp>=0.5 in /usr/local/lib/python3.7/dist-packages (from importlib-metadata>=0.20->catalogue<1.1.0,>=0.0.7->spacy) (3.6.0)\n",
            "Requirement already satisfied: idna<3,>=2.5 in /usr/local/lib/python3.7/dist-packages (from requests<3.0.0,>=2.13.0->spacy) (2.10)\n",
            "Requirement already satisfied: certifi>=2017.4.17 in /usr/local/lib/python3.7/dist-packages (from requests<3.0.0,>=2.13.0->spacy) (2021.5.30)\n",
            "Requirement already satisfied: urllib3!=1.25.0,!=1.25.1,<1.26,>=1.21.1 in /usr/local/lib/python3.7/dist-packages (from requests<3.0.0,>=2.13.0->spacy) (1.24.3)\n",
            "Requirement already satisfied: chardet<4,>=3.0.2 in /usr/local/lib/python3.7/dist-packages (from requests<3.0.0,>=2.13.0->spacy) (3.0.4)\n",
            "Collecting en_core_web_sm==2.2.5\n",
            "  Downloading https://github.com/explosion/spacy-models/releases/download/en_core_web_sm-2.2.5/en_core_web_sm-2.2.5.tar.gz (12.0 MB)\n",
            "\u001b[K     |████████████████████████████████| 12.0 MB 11.8 MB/s \n",
            "\u001b[?25hRequirement already satisfied: spacy>=2.2.2 in /usr/local/lib/python3.7/dist-packages (from en_core_web_sm==2.2.5) (2.2.4)\n",
            "Requirement already satisfied: cymem<2.1.0,>=2.0.2 in /usr/local/lib/python3.7/dist-packages (from spacy>=2.2.2->en_core_web_sm==2.2.5) (2.0.5)\n",
            "Requirement already satisfied: srsly<1.1.0,>=1.0.2 in /usr/local/lib/python3.7/dist-packages (from spacy>=2.2.2->en_core_web_sm==2.2.5) (1.0.5)\n",
            "Requirement already satisfied: preshed<3.1.0,>=3.0.2 in /usr/local/lib/python3.7/dist-packages (from spacy>=2.2.2->en_core_web_sm==2.2.5) (3.0.5)\n",
            "Requirement already satisfied: requests<3.0.0,>=2.13.0 in /usr/local/lib/python3.7/dist-packages (from spacy>=2.2.2->en_core_web_sm==2.2.5) (2.23.0)\n",
            "Requirement already satisfied: wasabi<1.1.0,>=0.4.0 in /usr/local/lib/python3.7/dist-packages (from spacy>=2.2.2->en_core_web_sm==2.2.5) (0.8.2)\n",
            "Requirement already satisfied: catalogue<1.1.0,>=0.0.7 in /usr/local/lib/python3.7/dist-packages (from spacy>=2.2.2->en_core_web_sm==2.2.5) (1.0.0)\n",
            "Requirement already satisfied: blis<0.5.0,>=0.4.0 in /usr/local/lib/python3.7/dist-packages (from spacy>=2.2.2->en_core_web_sm==2.2.5) (0.4.1)\n",
            "Requirement already satisfied: setuptools in /usr/local/lib/python3.7/dist-packages (from spacy>=2.2.2->en_core_web_sm==2.2.5) (57.4.0)\n",
            "Requirement already satisfied: murmurhash<1.1.0,>=0.28.0 in /usr/local/lib/python3.7/dist-packages (from spacy>=2.2.2->en_core_web_sm==2.2.5) (1.0.5)\n",
            "Requirement already satisfied: tqdm<5.0.0,>=4.38.0 in /usr/local/lib/python3.7/dist-packages (from spacy>=2.2.2->en_core_web_sm==2.2.5) (4.62.3)\n",
            "Requirement already satisfied: thinc==7.4.0 in /usr/local/lib/python3.7/dist-packages (from spacy>=2.2.2->en_core_web_sm==2.2.5) (7.4.0)\n",
            "Requirement already satisfied: numpy>=1.15.0 in /usr/local/lib/python3.7/dist-packages (from spacy>=2.2.2->en_core_web_sm==2.2.5) (1.19.5)\n",
            "Requirement already satisfied: plac<1.2.0,>=0.9.6 in /usr/local/lib/python3.7/dist-packages (from spacy>=2.2.2->en_core_web_sm==2.2.5) (1.1.3)\n",
            "Requirement already satisfied: importlib-metadata>=0.20 in /usr/local/lib/python3.7/dist-packages (from catalogue<1.1.0,>=0.0.7->spacy>=2.2.2->en_core_web_sm==2.2.5) (4.8.1)\n",
            "Requirement already satisfied: typing-extensions>=3.6.4 in /usr/local/lib/python3.7/dist-packages (from importlib-metadata>=0.20->catalogue<1.1.0,>=0.0.7->spacy>=2.2.2->en_core_web_sm==2.2.5) (3.7.4.3)\n",
            "Requirement already satisfied: zipp>=0.5 in /usr/local/lib/python3.7/dist-packages (from importlib-metadata>=0.20->catalogue<1.1.0,>=0.0.7->spacy>=2.2.2->en_core_web_sm==2.2.5) (3.6.0)\n",
            "Requirement already satisfied: idna<3,>=2.5 in /usr/local/lib/python3.7/dist-packages (from requests<3.0.0,>=2.13.0->spacy>=2.2.2->en_core_web_sm==2.2.5) (2.10)\n",
            "Requirement already satisfied: certifi>=2017.4.17 in /usr/local/lib/python3.7/dist-packages (from requests<3.0.0,>=2.13.0->spacy>=2.2.2->en_core_web_sm==2.2.5) (2021.5.30)\n",
            "Requirement already satisfied: chardet<4,>=3.0.2 in /usr/local/lib/python3.7/dist-packages (from requests<3.0.0,>=2.13.0->spacy>=2.2.2->en_core_web_sm==2.2.5) (3.0.4)\n",
            "Requirement already satisfied: urllib3!=1.25.0,!=1.25.1,<1.26,>=1.21.1 in /usr/local/lib/python3.7/dist-packages (from requests<3.0.0,>=2.13.0->spacy>=2.2.2->en_core_web_sm==2.2.5) (1.24.3)\n",
            "\u001b[38;5;2m✔ Download and installation successful\u001b[0m\n",
            "You can now load the model via spacy.load('en_core_web_sm')\n",
            "\u001b[38;5;2m✔ Linking successful\u001b[0m\n",
            "/usr/local/lib/python3.7/dist-packages/en_core_web_sm -->\n",
            "/usr/local/lib/python3.7/dist-packages/spacy/data/en\n",
            "You can now load the model via spacy.load('en')\n"
          ]
        }
      ]
    },
    {
      "cell_type": "markdown",
      "metadata": {
        "id": "ku0MtBbclmg1"
      },
      "source": [
        "#### Langid"
      ]
    },
    {
      "cell_type": "code",
      "metadata": {
        "colab": {
          "base_uri": "https://localhost:8080/"
        },
        "id": "iQU97VnPhIjg",
        "outputId": "528f8dff-f424-4149-9a0d-5b8f1fe67f3a"
      },
      "source": [
        "!pip install langid"
      ],
      "execution_count": null,
      "outputs": [
        {
          "output_type": "stream",
          "name": "stdout",
          "text": [
            "Collecting langid\n",
            "  Downloading langid-1.1.6.tar.gz (1.9 MB)\n",
            "\u001b[?25l\r\u001b[K     |▏                               | 10 kB 23.3 MB/s eta 0:00:01\r\u001b[K     |▍                               | 20 kB 20.2 MB/s eta 0:00:01\r\u001b[K     |▌                               | 30 kB 15.0 MB/s eta 0:00:01\r\u001b[K     |▊                               | 40 kB 14.0 MB/s eta 0:00:01\r\u001b[K     |▉                               | 51 kB 10.6 MB/s eta 0:00:01\r\u001b[K     |█                               | 61 kB 12.1 MB/s eta 0:00:01\r\u001b[K     |█▏                              | 71 kB 12.8 MB/s eta 0:00:01\r\u001b[K     |█▍                              | 81 kB 13.9 MB/s eta 0:00:01\r\u001b[K     |█▌                              | 92 kB 12.4 MB/s eta 0:00:01\r\u001b[K     |█▊                              | 102 kB 11.2 MB/s eta 0:00:01\r\u001b[K     |█▉                              | 112 kB 11.2 MB/s eta 0:00:01\r\u001b[K     |██                              | 122 kB 11.2 MB/s eta 0:00:01\r\u001b[K     |██▏                             | 133 kB 11.2 MB/s eta 0:00:01\r\u001b[K     |██▍                             | 143 kB 11.2 MB/s eta 0:00:01\r\u001b[K     |██▌                             | 153 kB 11.2 MB/s eta 0:00:01\r\u001b[K     |██▊                             | 163 kB 11.2 MB/s eta 0:00:01\r\u001b[K     |███                             | 174 kB 11.2 MB/s eta 0:00:01\r\u001b[K     |███                             | 184 kB 11.2 MB/s eta 0:00:01\r\u001b[K     |███▎                            | 194 kB 11.2 MB/s eta 0:00:01\r\u001b[K     |███▍                            | 204 kB 11.2 MB/s eta 0:00:01\r\u001b[K     |███▋                            | 215 kB 11.2 MB/s eta 0:00:01\r\u001b[K     |███▊                            | 225 kB 11.2 MB/s eta 0:00:01\r\u001b[K     |████                            | 235 kB 11.2 MB/s eta 0:00:01\r\u001b[K     |████                            | 245 kB 11.2 MB/s eta 0:00:01\r\u001b[K     |████▎                           | 256 kB 11.2 MB/s eta 0:00:01\r\u001b[K     |████▍                           | 266 kB 11.2 MB/s eta 0:00:01\r\u001b[K     |████▋                           | 276 kB 11.2 MB/s eta 0:00:01\r\u001b[K     |████▊                           | 286 kB 11.2 MB/s eta 0:00:01\r\u001b[K     |█████                           | 296 kB 11.2 MB/s eta 0:00:01\r\u001b[K     |█████                           | 307 kB 11.2 MB/s eta 0:00:01\r\u001b[K     |█████▎                          | 317 kB 11.2 MB/s eta 0:00:01\r\u001b[K     |█████▍                          | 327 kB 11.2 MB/s eta 0:00:01\r\u001b[K     |█████▋                          | 337 kB 11.2 MB/s eta 0:00:01\r\u001b[K     |█████▉                          | 348 kB 11.2 MB/s eta 0:00:01\r\u001b[K     |██████                          | 358 kB 11.2 MB/s eta 0:00:01\r\u001b[K     |██████▏                         | 368 kB 11.2 MB/s eta 0:00:01\r\u001b[K     |██████▎                         | 378 kB 11.2 MB/s eta 0:00:01\r\u001b[K     |██████▌                         | 389 kB 11.2 MB/s eta 0:00:01\r\u001b[K     |██████▋                         | 399 kB 11.2 MB/s eta 0:00:01\r\u001b[K     |██████▉                         | 409 kB 11.2 MB/s eta 0:00:01\r\u001b[K     |███████                         | 419 kB 11.2 MB/s eta 0:00:01\r\u001b[K     |███████▏                        | 430 kB 11.2 MB/s eta 0:00:01\r\u001b[K     |███████▎                        | 440 kB 11.2 MB/s eta 0:00:01\r\u001b[K     |███████▌                        | 450 kB 11.2 MB/s eta 0:00:01\r\u001b[K     |███████▋                        | 460 kB 11.2 MB/s eta 0:00:01\r\u001b[K     |███████▉                        | 471 kB 11.2 MB/s eta 0:00:01\r\u001b[K     |████████                        | 481 kB 11.2 MB/s eta 0:00:01\r\u001b[K     |████████▏                       | 491 kB 11.2 MB/s eta 0:00:01\r\u001b[K     |████████▍                       | 501 kB 11.2 MB/s eta 0:00:01\r\u001b[K     |████████▌                       | 512 kB 11.2 MB/s eta 0:00:01\r\u001b[K     |████████▊                       | 522 kB 11.2 MB/s eta 0:00:01\r\u001b[K     |████████▉                       | 532 kB 11.2 MB/s eta 0:00:01\r\u001b[K     |█████████                       | 542 kB 11.2 MB/s eta 0:00:01\r\u001b[K     |█████████▏                      | 552 kB 11.2 MB/s eta 0:00:01\r\u001b[K     |█████████▍                      | 563 kB 11.2 MB/s eta 0:00:01\r\u001b[K     |█████████▌                      | 573 kB 11.2 MB/s eta 0:00:01\r\u001b[K     |█████████▊                      | 583 kB 11.2 MB/s eta 0:00:01\r\u001b[K     |█████████▉                      | 593 kB 11.2 MB/s eta 0:00:01\r\u001b[K     |██████████                      | 604 kB 11.2 MB/s eta 0:00:01\r\u001b[K     |██████████▏                     | 614 kB 11.2 MB/s eta 0:00:01\r\u001b[K     |██████████▍                     | 624 kB 11.2 MB/s eta 0:00:01\r\u001b[K     |██████████▌                     | 634 kB 11.2 MB/s eta 0:00:01\r\u001b[K     |██████████▊                     | 645 kB 11.2 MB/s eta 0:00:01\r\u001b[K     |██████████▉                     | 655 kB 11.2 MB/s eta 0:00:01\r\u001b[K     |███████████                     | 665 kB 11.2 MB/s eta 0:00:01\r\u001b[K     |███████████▎                    | 675 kB 11.2 MB/s eta 0:00:01\r\u001b[K     |███████████▍                    | 686 kB 11.2 MB/s eta 0:00:01\r\u001b[K     |███████████▋                    | 696 kB 11.2 MB/s eta 0:00:01\r\u001b[K     |███████████▊                    | 706 kB 11.2 MB/s eta 0:00:01\r\u001b[K     |████████████                    | 716 kB 11.2 MB/s eta 0:00:01\r\u001b[K     |████████████                    | 727 kB 11.2 MB/s eta 0:00:01\r\u001b[K     |████████████▎                   | 737 kB 11.2 MB/s eta 0:00:01\r\u001b[K     |████████████▍                   | 747 kB 11.2 MB/s eta 0:00:01\r\u001b[K     |████████████▋                   | 757 kB 11.2 MB/s eta 0:00:01\r\u001b[K     |████████████▊                   | 768 kB 11.2 MB/s eta 0:00:01\r\u001b[K     |█████████████                   | 778 kB 11.2 MB/s eta 0:00:01\r\u001b[K     |█████████████                   | 788 kB 11.2 MB/s eta 0:00:01\r\u001b[K     |█████████████▎                  | 798 kB 11.2 MB/s eta 0:00:01\r\u001b[K     |█████████████▍                  | 808 kB 11.2 MB/s eta 0:00:01\r\u001b[K     |█████████████▋                  | 819 kB 11.2 MB/s eta 0:00:01\r\u001b[K     |█████████████▉                  | 829 kB 11.2 MB/s eta 0:00:01\r\u001b[K     |██████████████                  | 839 kB 11.2 MB/s eta 0:00:01\r\u001b[K     |██████████████▏                 | 849 kB 11.2 MB/s eta 0:00:01\r\u001b[K     |██████████████▎                 | 860 kB 11.2 MB/s eta 0:00:01\r\u001b[K     |██████████████▌                 | 870 kB 11.2 MB/s eta 0:00:01\r\u001b[K     |██████████████▋                 | 880 kB 11.2 MB/s eta 0:00:01\r\u001b[K     |██████████████▉                 | 890 kB 11.2 MB/s eta 0:00:01\r\u001b[K     |███████████████                 | 901 kB 11.2 MB/s eta 0:00:01\r\u001b[K     |███████████████▏                | 911 kB 11.2 MB/s eta 0:00:01\r\u001b[K     |███████████████▎                | 921 kB 11.2 MB/s eta 0:00:01\r\u001b[K     |███████████████▌                | 931 kB 11.2 MB/s eta 0:00:01\r\u001b[K     |███████████████▋                | 942 kB 11.2 MB/s eta 0:00:01\r\u001b[K     |███████████████▉                | 952 kB 11.2 MB/s eta 0:00:01\r\u001b[K     |████████████████                | 962 kB 11.2 MB/s eta 0:00:01\r\u001b[K     |████████████████▏               | 972 kB 11.2 MB/s eta 0:00:01\r\u001b[K     |████████████████▎               | 983 kB 11.2 MB/s eta 0:00:01\r\u001b[K     |████████████████▌               | 993 kB 11.2 MB/s eta 0:00:01\r\u001b[K     |████████████████▊               | 1.0 MB 11.2 MB/s eta 0:00:01\r\u001b[K     |████████████████▉               | 1.0 MB 11.2 MB/s eta 0:00:01\r\u001b[K     |█████████████████               | 1.0 MB 11.2 MB/s eta 0:00:01\r\u001b[K     |█████████████████▏              | 1.0 MB 11.2 MB/s eta 0:00:01\r\u001b[K     |█████████████████▍              | 1.0 MB 11.2 MB/s eta 0:00:01\r\u001b[K     |█████████████████▌              | 1.1 MB 11.2 MB/s eta 0:00:01\r\u001b[K     |█████████████████▊              | 1.1 MB 11.2 MB/s eta 0:00:01\r\u001b[K     |█████████████████▉              | 1.1 MB 11.2 MB/s eta 0:00:01\r\u001b[K     |██████████████████              | 1.1 MB 11.2 MB/s eta 0:00:01\r\u001b[K     |██████████████████▏             | 1.1 MB 11.2 MB/s eta 0:00:01\r\u001b[K     |██████████████████▍             | 1.1 MB 11.2 MB/s eta 0:00:01\r\u001b[K     |██████████████████▌             | 1.1 MB 11.2 MB/s eta 0:00:01\r\u001b[K     |██████████████████▊             | 1.1 MB 11.2 MB/s eta 0:00:01\r\u001b[K     |██████████████████▉             | 1.1 MB 11.2 MB/s eta 0:00:01\r\u001b[K     |███████████████████             | 1.1 MB 11.2 MB/s eta 0:00:01\r\u001b[K     |███████████████████▎            | 1.2 MB 11.2 MB/s eta 0:00:01\r\u001b[K     |███████████████████▍            | 1.2 MB 11.2 MB/s eta 0:00:01\r\u001b[K     |███████████████████▋            | 1.2 MB 11.2 MB/s eta 0:00:01\r\u001b[K     |███████████████████▊            | 1.2 MB 11.2 MB/s eta 0:00:01\r\u001b[K     |████████████████████            | 1.2 MB 11.2 MB/s eta 0:00:01\r\u001b[K     |████████████████████            | 1.2 MB 11.2 MB/s eta 0:00:01\r\u001b[K     |████████████████████▎           | 1.2 MB 11.2 MB/s eta 0:00:01\r\u001b[K     |████████████████████▍           | 1.2 MB 11.2 MB/s eta 0:00:01\r\u001b[K     |████████████████████▋           | 1.2 MB 11.2 MB/s eta 0:00:01\r\u001b[K     |████████████████████▊           | 1.2 MB 11.2 MB/s eta 0:00:01\r\u001b[K     |█████████████████████           | 1.3 MB 11.2 MB/s eta 0:00:01\r\u001b[K     |█████████████████████           | 1.3 MB 11.2 MB/s eta 0:00:01\r\u001b[K     |█████████████████████▎          | 1.3 MB 11.2 MB/s eta 0:00:01\r\u001b[K     |█████████████████████▍          | 1.3 MB 11.2 MB/s eta 0:00:01\r\u001b[K     |█████████████████████▋          | 1.3 MB 11.2 MB/s eta 0:00:01\r\u001b[K     |█████████████████████▊          | 1.3 MB 11.2 MB/s eta 0:00:01\r\u001b[K     |██████████████████████          | 1.3 MB 11.2 MB/s eta 0:00:01\r\u001b[K     |██████████████████████▏         | 1.3 MB 11.2 MB/s eta 0:00:01\r\u001b[K     |██████████████████████▎         | 1.3 MB 11.2 MB/s eta 0:00:01\r\u001b[K     |██████████████████████▌         | 1.4 MB 11.2 MB/s eta 0:00:01\r\u001b[K     |██████████████████████▋         | 1.4 MB 11.2 MB/s eta 0:00:01\r\u001b[K     |██████████████████████▉         | 1.4 MB 11.2 MB/s eta 0:00:01\r\u001b[K     |███████████████████████         | 1.4 MB 11.2 MB/s eta 0:00:01\r\u001b[K     |███████████████████████▏        | 1.4 MB 11.2 MB/s eta 0:00:01\r\u001b[K     |███████████████████████▎        | 1.4 MB 11.2 MB/s eta 0:00:01\r\u001b[K     |███████████████████████▌        | 1.4 MB 11.2 MB/s eta 0:00:01\r\u001b[K     |███████████████████████▋        | 1.4 MB 11.2 MB/s eta 0:00:01\r\u001b[K     |███████████████████████▉        | 1.4 MB 11.2 MB/s eta 0:00:01\r\u001b[K     |████████████████████████        | 1.4 MB 11.2 MB/s eta 0:00:01\r\u001b[K     |████████████████████████▏       | 1.5 MB 11.2 MB/s eta 0:00:01\r\u001b[K     |████████████████████████▎       | 1.5 MB 11.2 MB/s eta 0:00:01\r\u001b[K     |████████████████████████▌       | 1.5 MB 11.2 MB/s eta 0:00:01\r\u001b[K     |████████████████████████▊       | 1.5 MB 11.2 MB/s eta 0:00:01\r\u001b[K     |████████████████████████▉       | 1.5 MB 11.2 MB/s eta 0:00:01\r\u001b[K     |█████████████████████████       | 1.5 MB 11.2 MB/s eta 0:00:01\r\u001b[K     |█████████████████████████▏      | 1.5 MB 11.2 MB/s eta 0:00:01\r\u001b[K     |█████████████████████████▍      | 1.5 MB 11.2 MB/s eta 0:00:01\r\u001b[K     |█████████████████████████▌      | 1.5 MB 11.2 MB/s eta 0:00:01\r\u001b[K     |█████████████████████████▊      | 1.5 MB 11.2 MB/s eta 0:00:01\r\u001b[K     |█████████████████████████▉      | 1.6 MB 11.2 MB/s eta 0:00:01\r\u001b[K     |██████████████████████████      | 1.6 MB 11.2 MB/s eta 0:00:01\r\u001b[K     |██████████████████████████▏     | 1.6 MB 11.2 MB/s eta 0:00:01\r\u001b[K     |██████████████████████████▍     | 1.6 MB 11.2 MB/s eta 0:00:01\r\u001b[K     |██████████████████████████▌     | 1.6 MB 11.2 MB/s eta 0:00:01\r\u001b[K     |██████████████████████████▊     | 1.6 MB 11.2 MB/s eta 0:00:01\r\u001b[K     |██████████████████████████▉     | 1.6 MB 11.2 MB/s eta 0:00:01\r\u001b[K     |███████████████████████████     | 1.6 MB 11.2 MB/s eta 0:00:01\r\u001b[K     |███████████████████████████▏    | 1.6 MB 11.2 MB/s eta 0:00:01\r\u001b[K     |███████████████████████████▍    | 1.6 MB 11.2 MB/s eta 0:00:01\r\u001b[K     |███████████████████████████▋    | 1.7 MB 11.2 MB/s eta 0:00:01\r\u001b[K     |███████████████████████████▊    | 1.7 MB 11.2 MB/s eta 0:00:01\r\u001b[K     |████████████████████████████    | 1.7 MB 11.2 MB/s eta 0:00:01\r\u001b[K     |████████████████████████████    | 1.7 MB 11.2 MB/s eta 0:00:01\r\u001b[K     |████████████████████████████▎   | 1.7 MB 11.2 MB/s eta 0:00:01\r\u001b[K     |████████████████████████████▍   | 1.7 MB 11.2 MB/s eta 0:00:01\r\u001b[K     |████████████████████████████▋   | 1.7 MB 11.2 MB/s eta 0:00:01\r\u001b[K     |████████████████████████████▊   | 1.7 MB 11.2 MB/s eta 0:00:01\r\u001b[K     |█████████████████████████████   | 1.7 MB 11.2 MB/s eta 0:00:01\r\u001b[K     |█████████████████████████████   | 1.8 MB 11.2 MB/s eta 0:00:01\r\u001b[K     |█████████████████████████████▎  | 1.8 MB 11.2 MB/s eta 0:00:01\r\u001b[K     |█████████████████████████████▍  | 1.8 MB 11.2 MB/s eta 0:00:01\r\u001b[K     |█████████████████████████████▋  | 1.8 MB 11.2 MB/s eta 0:00:01\r\u001b[K     |█████████████████████████████▊  | 1.8 MB 11.2 MB/s eta 0:00:01\r\u001b[K     |██████████████████████████████  | 1.8 MB 11.2 MB/s eta 0:00:01\r\u001b[K     |██████████████████████████████▏ | 1.8 MB 11.2 MB/s eta 0:00:01\r\u001b[K     |██████████████████████████████▎ | 1.8 MB 11.2 MB/s eta 0:00:01\r\u001b[K     |██████████████████████████████▌ | 1.8 MB 11.2 MB/s eta 0:00:01\r\u001b[K     |██████████████████████████████▋ | 1.8 MB 11.2 MB/s eta 0:00:01\r\u001b[K     |██████████████████████████████▉ | 1.9 MB 11.2 MB/s eta 0:00:01\r\u001b[K     |███████████████████████████████ | 1.9 MB 11.2 MB/s eta 0:00:01\r\u001b[K     |███████████████████████████████▏| 1.9 MB 11.2 MB/s eta 0:00:01\r\u001b[K     |███████████████████████████████▎| 1.9 MB 11.2 MB/s eta 0:00:01\r\u001b[K     |███████████████████████████████▌| 1.9 MB 11.2 MB/s eta 0:00:01\r\u001b[K     |███████████████████████████████▋| 1.9 MB 11.2 MB/s eta 0:00:01\r\u001b[K     |███████████████████████████████▉| 1.9 MB 11.2 MB/s eta 0:00:01\r\u001b[K     |████████████████████████████████| 1.9 MB 11.2 MB/s eta 0:00:01\r\u001b[K     |████████████████████████████████| 1.9 MB 11.2 MB/s \n",
            "\u001b[?25hRequirement already satisfied: numpy in /usr/local/lib/python3.7/dist-packages (from langid) (1.19.5)\n",
            "Building wheels for collected packages: langid\n",
            "  Building wheel for langid (setup.py) ... \u001b[?25l\u001b[?25hdone\n",
            "  Created wheel for langid: filename=langid-1.1.6-py3-none-any.whl size=1941187 sha256=e32f2d9e03772ac55aa3520fb89ecc6d220a97f42229c9ba89b5f4051aa9e361\n",
            "  Stored in directory: /root/.cache/pip/wheels/2b/bb/7f/11e4db39477278161e882eadc46fb558949a28b13470fc74b8\n",
            "Successfully built langid\n",
            "Installing collected packages: langid\n",
            "Successfully installed langid-1.1.6\n"
          ]
        }
      ]
    },
    {
      "cell_type": "markdown",
      "metadata": {
        "id": "U6TUf6qacML8"
      },
      "source": [
        "# Import Libraries"
      ]
    },
    {
      "cell_type": "code",
      "metadata": {
        "id": "sqsOCgxvcDes"
      },
      "source": [
        "import spacy\n",
        "## for data\n",
        "import json\n",
        "import pandas as pd\n",
        "import numpy as np\n",
        "## for plotting\n",
        "import matplotlib.pyplot as plt\n",
        "import seaborn as sns\n",
        "## for processing\n",
        "import re\n",
        "import nltk\n",
        "## for bag-of-words\n",
        "from sklearn import feature_extraction, model_selection, naive_bayes, pipeline, manifold, preprocessing\n",
        "## for explainer\n",
        "from lime import lime_text\n",
        "## for word embedding\n",
        "import gensim\n",
        "import gensim.downloader as gensim_api\n",
        "## for deep learning\n",
        "from tensorflow.keras import models, layers, preprocessing as kprocessing\n",
        "from tensorflow.keras import backend as K\n",
        "## for bert language model\n",
        "import transformers\n",
        "\n",
        "import stanza\n",
        "import nltk\n",
        "from sklearn import feature_selection\n",
        "from sklearn import metrics\n"
      ],
      "execution_count": null,
      "outputs": []
    },
    {
      "cell_type": "markdown",
      "metadata": {
        "id": "9srJm90JlYVE"
      },
      "source": [
        "# Download Data"
      ]
    },
    {
      "cell_type": "code",
      "metadata": {
        "colab": {
          "base_uri": "https://localhost:8080/",
          "height": 647,
          "referenced_widgets": [
            "98e836fdfdb84197857470e4690aaf73",
            "bc55b135d2064a549d5710cccb097056",
            "b31886c0e47a44e8ab5cb99c8a02b404",
            "6dea914901e8437b8cc06178182fd319",
            "70b812757b2346a3a4626cc09c6cb64d",
            "9593844366534095a89bd67a7960c0b1",
            "de7630d1fdda4b71a4751aa8daeb8c67",
            "b8e71e7e2a68414d821a2aab341e86c7",
            "a5bd0f4287cc4a348b4840ec2bc1e66e",
            "751393789dd946728e2e169fe98db1c3",
            "c9c069c250dd4d4fbbcf9c8813612abf",
            "8fd5e96268cd4e0ea6142a57ff377675",
            "d7f30dbb85a247d5a0c69c00a9c5ca7d",
            "56e88bbe8c984495aad8a3c77e06ba31",
            "5cb17c2d071e4668bbf7f0f90b3fba9b",
            "6f824df89ca24bf1a6c700f1aac561f0",
            "baf6e5df429a4ca4905afed798812aa2",
            "578160020ae24b19b38972d44f683442",
            "cdda8beb3b9c4c2eab95ee15ee921bec",
            "207a226d183545da9382a7a10bcccd05",
            "fee986642c79478fa6ab7813e69d8cbb",
            "615835318e0149938492af17dd614dd9"
          ]
        },
        "id": "Sfl6yCeslali",
        "outputId": "90522393-a1f8-46b2-ff68-e1f84f223a6a"
      },
      "source": [
        "nltk.download('stopwords')\n",
        "nltk.download('wordnet')\n",
        "nltk.download('rslp')\n",
        "\n",
        "\n",
        "stanza.download('en')\n",
        "nlp = stanza.Pipeline('en')"
      ],
      "execution_count": null,
      "outputs": [
        {
          "output_type": "stream",
          "name": "stdout",
          "text": [
            "[nltk_data] Downloading package stopwords to /root/nltk_data...\n",
            "[nltk_data]   Unzipping corpora/stopwords.zip.\n",
            "[nltk_data] Downloading package wordnet to /root/nltk_data...\n",
            "[nltk_data]   Unzipping corpora/wordnet.zip.\n",
            "[nltk_data] Downloading package rslp to /root/nltk_data...\n",
            "[nltk_data]   Unzipping stemmers/rslp.zip.\n"
          ]
        },
        {
          "output_type": "display_data",
          "data": {
            "application/vnd.jupyter.widget-view+json": {
              "model_id": "98e836fdfdb84197857470e4690aaf73",
              "version_minor": 0,
              "version_major": 2
            },
            "text/plain": [
              "Downloading https://raw.githubusercontent.com/stanfordnlp/stanza-resources/main/resources_1.3.0.json:   0%|   …"
            ]
          },
          "metadata": {}
        },
        {
          "output_type": "stream",
          "name": "stderr",
          "text": [
            "2021-10-26 02:44:21 INFO: Downloading default packages for language: en (English)...\n"
          ]
        },
        {
          "output_type": "display_data",
          "data": {
            "application/vnd.jupyter.widget-view+json": {
              "model_id": "8fd5e96268cd4e0ea6142a57ff377675",
              "version_minor": 0,
              "version_major": 2
            },
            "text/plain": [
              "Downloading https://huggingface.co/stanfordnlp/stanza-en/resolve/v1.3.0/models/default.zip:   0%|          | 0…"
            ]
          },
          "metadata": {}
        },
        {
          "output_type": "stream",
          "name": "stderr",
          "text": [
            "2021-10-26 02:44:31 INFO: Finished downloading models and saved to /root/stanza_resources.\n",
            "2021-10-26 02:44:31 INFO: Loading these models for language: en (English):\n",
            "============================\n",
            "| Processor    | Package   |\n",
            "----------------------------\n",
            "| tokenize     | combined  |\n",
            "| pos          | combined  |\n",
            "| lemma        | combined  |\n",
            "| depparse     | combined  |\n",
            "| sentiment    | sstplus   |\n",
            "| constituency | wsj       |\n",
            "| ner          | ontonotes |\n",
            "============================\n",
            "\n",
            "2021-10-26 02:44:32 INFO: Use device: gpu\n",
            "2021-10-26 02:44:32 INFO: Loading: tokenize\n",
            "2021-10-26 02:44:46 INFO: Loading: pos\n",
            "2021-10-26 02:44:47 INFO: Loading: lemma\n",
            "2021-10-26 02:44:47 INFO: Loading: depparse\n",
            "2021-10-26 02:44:47 INFO: Loading: sentiment\n",
            "2021-10-26 02:44:48 INFO: Loading: constituency\n",
            "2021-10-26 02:44:48 INFO: Loading: ner\n",
            "2021-10-26 02:44:49 INFO: Done loading processors!\n"
          ]
        }
      ]
    },
    {
      "cell_type": "code",
      "metadata": {
        "id": "bud3gzfMfCGW"
      },
      "source": [
        "import random\n",
        "\n",
        "p = 0.01"
      ],
      "execution_count": null,
      "outputs": []
    },
    {
      "cell_type": "code",
      "metadata": {
        "colab": {
          "base_uri": "https://localhost:8080/"
        },
        "id": "EtY0py6-fYdK",
        "outputId": "88621bb8-3326-4bc0-8898-edd36a179e11"
      },
      "source": [
        "from google.colab import drive\n",
        "drive.mount('/content/drive')"
      ],
      "execution_count": null,
      "outputs": [
        {
          "output_type": "stream",
          "name": "stdout",
          "text": [
            "Mounted at /content/drive\n"
          ]
        }
      ]
    },
    {
      "cell_type": "code",
      "metadata": {
        "id": "IsxI6H4dy2qQ",
        "colab": {
          "base_uri": "https://localhost:8080/"
        },
        "outputId": "d3dbc668-ff9d-4381-b262-8a2a8bf130e2"
      },
      "source": [
        "%%time\n",
        "dtf = pd.read_csv(\"/content/drive/MyDrive/Colab Notebooks/Dataset/tweets.csv\", skiprows=lambda i: i>0 and random.random() > p, error_bad_lines=False, nrows=250000, sep=';', lineterminator='\\n')\n",
        "\n"
      ],
      "execution_count": null,
      "outputs": [
        {
          "output_type": "stream",
          "name": "stdout",
          "text": [
            "CPU times: user 17.7 s, sys: 2.23 s, total: 19.9 s\n",
            "Wall time: 1min 18s\n"
          ]
        },
        {
          "output_type": "stream",
          "name": "stderr",
          "text": [
            "<string>:2: DtypeWarning: Columns (3) have mixed types.Specify dtype option on import or set low_memory=False.\n"
          ]
        }
      ]
    },
    {
      "cell_type": "markdown",
      "metadata": {
        "id": "Vy6s3xd1gSVk"
      },
      "source": [
        "# Preprocess Text"
      ]
    },
    {
      "cell_type": "code",
      "metadata": {
        "id": "jXH5gAAz2Y3P",
        "colab": {
          "base_uri": "https://localhost:8080/"
        },
        "outputId": "fee6d0a7-a3f7-47b7-aa3f-cf5f14e5a548"
      },
      "source": [
        "%%time\n",
        "spacy_nlp = spacy.load('en')"
      ],
      "execution_count": null,
      "outputs": [
        {
          "output_type": "stream",
          "name": "stdout",
          "text": [
            "CPU times: user 634 ms, sys: 81.7 ms, total: 716 ms\n",
            "Wall time: 1.01 s\n"
          ]
        }
      ]
    },
    {
      "cell_type": "code",
      "metadata": {
        "id": "VBSuCuAf0M7P"
      },
      "source": [
        "%matplotlib inline\n",
        "\n",
        "def lemmatize_spacy(text):\n",
        "  doc = spacy_nlp(text)\n",
        "  lemmatize_words = []\n",
        "  lemmatize_words += [token.lemma_ for token in doc]\n",
        "  return lemmatize_words"
      ],
      "execution_count": null,
      "outputs": []
    },
    {
      "cell_type": "code",
      "metadata": {
        "id": "Rhe-qGrGgSk3"
      },
      "source": [
        "'''\n",
        "Preprocess a string.\n",
        ":parameter\n",
        "    :param text: string - name of column containing text\n",
        "    :param lst_stopwords: list - list of stopwords to remove\n",
        "    :param flg_stemm: bool - whether stemming is to be applied\n",
        "    :param flg_lemm: bool - whether lemmitisation is to be applied\n",
        ":return\n",
        "    cleaned text\n",
        "'''\n",
        "def lemmatize_spacy(text):\n",
        "  doc = spacy_nlp(text)\n",
        "  lemmatize_words = []\n",
        "  lemmatize_words += [token.lemma_ for token in doc]\n",
        "  return lemmatize_words\n",
        "\n",
        "def remove_stopwords(lst_text):\n",
        "  if lst_stopwords is not None:\n",
        "        lst_text = [word for word in lst_text if word not in \n",
        "                    lst_stopwords]\n",
        "  return lst_text\n",
        "\n",
        "def utils_preprocess_text(text, flg_stemm=False, flg_lemm=True, lst_stopwords=None):\n",
        "    ## clean (convert to lowercase and remove punctuations and   characters and then strip)\n",
        "    text = re.sub(r'[^\\w\\s]', '', str(text).lower().strip())\n",
        "            \n",
        "    ## Tokenize (convert from string to list)\n",
        "    lst_text = text.split()\n",
        "    ## remove Stopwords\n",
        "    if lst_stopwords is not None:\n",
        "        lst_text = [word for word in lst_text if word not in \n",
        "                    lst_stopwords]\n",
        "                \n",
        "    ## Stemming (remove -ing, -ly, ...)\n",
        "    if flg_stemm == True:\n",
        "        ps = nltk.stem.RSLPStemmer()\n",
        "        lst_text = [ps.stem(word) for word in lst_text]\n",
        "                \n",
        "    ## Lemmatisation (convert the word into root word)\n",
        "    if flg_lemm == True:\n",
        "      #print(lst_text)\n",
        "      lst_text =  lemmatize_spacy(\" \".join(lst_text))\n",
        "      \"\"\"lemma_words = []\n",
        "      for sent in nlp(\" \".join(lst_text)).sentences:\n",
        "        for word in sent.words:\n",
        "          lemma_words.append(word.lemma)\n",
        "        #lst_text =  [ word.lemma  for word in sent.words ]\n",
        "      lst_text = lemma_words\"\"\"\n",
        "      \"\"\"lem = nltk.stem.wordnet.WordNetLemmatizer()\n",
        "      lst_text = [lem.lemmatize(word) for word in lst_text]\"\"\"\n",
        "          \n",
        "    ## back to string from list\n",
        "    text = \" \".join(lst_text)\n",
        "    return text"
      ],
      "execution_count": null,
      "outputs": []
    },
    {
      "cell_type": "markdown",
      "metadata": {
        "id": "xHKT6CM1l8XW"
      },
      "source": [
        "### Checking Tweets Language"
      ]
    },
    {
      "cell_type": "code",
      "metadata": {
        "colab": {
          "base_uri": "https://localhost:8080/"
        },
        "id": "wVPcQPblm4dd",
        "outputId": "6300d994-9899-47c9-d408-87bd18275d04"
      },
      "source": [
        "dtf.columns"
      ],
      "execution_count": null,
      "outputs": [
        {
          "output_type": "execute_result",
          "data": {
            "text/plain": [
              "Index(['id', 'user', 'fullname', 'url', 'timestamp', 'replies', 'likes',\n",
              "       'retweets', 'text\\r'],\n",
              "      dtype='object')"
            ]
          },
          "metadata": {},
          "execution_count": 29
        }
      ]
    },
    {
      "cell_type": "code",
      "metadata": {
        "colab": {
          "base_uri": "https://localhost:8080/"
        },
        "id": "QarIjsHBg83U",
        "outputId": "6d2fee21-39f0-4a44-a9f3-9ecc967fe074"
      },
      "source": [
        "%%time\n",
        "#vê um melhor\n",
        "import langid\n",
        "#langid.classify(\"Soy muy\")\n",
        "dtf['language'] = dtf['text\\r'].apply(lambda x: langid.classify(x)[0])\n"
      ],
      "execution_count": null,
      "outputs": [
        {
          "output_type": "stream",
          "name": "stdout",
          "text": [
            "CPU times: user 4min 48s, sys: 3min 7s, total: 7min 55s\n",
            "Wall time: 4min 2s\n"
          ]
        }
      ]
    },
    {
      "cell_type": "markdown",
      "metadata": {
        "id": "rVEDva81nNI_"
      },
      "source": [
        "## Filter English Language"
      ]
    },
    {
      "cell_type": "code",
      "metadata": {
        "colab": {
          "base_uri": "https://localhost:8080/",
          "height": 759
        },
        "id": "biuUh50YhZZ5",
        "outputId": "2862c7c3-d5f0-46f3-cc1e-3230dcfbe040"
      },
      "source": [
        "#limpar para EN\n",
        "dtf = dtf[dtf['language']=='en']\n",
        "dtf"
      ],
      "execution_count": null,
      "outputs": [
        {
          "output_type": "execute_result",
          "data": {
            "text/html": [
              "<div>\n",
              "<style scoped>\n",
              "    .dataframe tbody tr th:only-of-type {\n",
              "        vertical-align: middle;\n",
              "    }\n",
              "\n",
              "    .dataframe tbody tr th {\n",
              "        vertical-align: top;\n",
              "    }\n",
              "\n",
              "    .dataframe thead th {\n",
              "        text-align: right;\n",
              "    }\n",
              "</style>\n",
              "<table border=\"1\" class=\"dataframe\">\n",
              "  <thead>\n",
              "    <tr style=\"text-align: right;\">\n",
              "      <th></th>\n",
              "      <th>id</th>\n",
              "      <th>user</th>\n",
              "      <th>fullname</th>\n",
              "      <th>url</th>\n",
              "      <th>timestamp</th>\n",
              "      <th>replies</th>\n",
              "      <th>likes</th>\n",
              "      <th>retweets</th>\n",
              "      <th>text\\r</th>\n",
              "      <th>language</th>\n",
              "    </tr>\n",
              "  </thead>\n",
              "  <tbody>\n",
              "    <tr>\n",
              "      <th>1</th>\n",
              "      <td>1.132971e+18</td>\n",
              "      <td>TronVegasOnline</td>\n",
              "      <td>TronVegas</td>\n",
              "      <td>NaN</td>\n",
              "      <td>2019-05-27 11:25:16+00</td>\n",
              "      <td>1</td>\n",
              "      <td>12</td>\n",
              "      <td>6</td>\n",
              "      <td>♦️Huobi Wallet Event♦️\\n\\n⚠️Only 5 Hours left ...</td>\n",
              "      <td>en</td>\n",
              "    </tr>\n",
              "    <tr>\n",
              "      <th>4</th>\n",
              "      <td>1.104520e+18</td>\n",
              "      <td>coinairdropall</td>\n",
              "      <td>Crypto Airdrops</td>\n",
              "      <td>NaN</td>\n",
              "      <td>2019-03-09 23:10:56+00</td>\n",
              "      <td>0</td>\n",
              "      <td>0</td>\n",
              "      <td>1</td>\n",
              "      <td>#Bitcoin #Satoshi #crypto #blockchain #Airdrop...</td>\n",
              "      <td>en</td>\n",
              "    </tr>\n",
              "    <tr>\n",
              "      <th>5</th>\n",
              "      <td>1.132978e+18</td>\n",
              "      <td>hibeekay_lee</td>\n",
              "      <td>Sugar_</td>\n",
              "      <td>NaN</td>\n",
              "      <td>2019-05-27 11:54:10+00</td>\n",
              "      <td>0</td>\n",
              "      <td>1</td>\n",
              "      <td>1</td>\n",
              "      <td>Happy children's day to Me ❤❤❤\\n#PeakBreakfast...</td>\n",
              "      <td>en</td>\n",
              "    </tr>\n",
              "    <tr>\n",
              "      <th>6</th>\n",
              "      <td>1.132978e+18</td>\n",
              "      <td>smith_jasona</td>\n",
              "      <td>Jasona Smith</td>\n",
              "      <td>NaN</td>\n",
              "      <td>2019-05-27 11:54:29+00</td>\n",
              "      <td>0</td>\n",
              "      <td>0</td>\n",
              "      <td>0</td>\n",
              "      <td>@Bitcoinconvert @candaceshaw @redditships If i...</td>\n",
              "      <td>en</td>\n",
              "    </tr>\n",
              "    <tr>\n",
              "      <th>8</th>\n",
              "      <td>1.132979e+18</td>\n",
              "      <td>coinspectator</td>\n",
              "      <td>Coin Spectator - Real-time cryptocurrency news</td>\n",
              "      <td>NaN</td>\n",
              "      <td>2019-05-27 11:55:55+00</td>\n",
              "      <td>0</td>\n",
              "      <td>0</td>\n",
              "      <td>0</td>\n",
              "      <td>Beacon Chain Update: Buterin Proposes Changes ...</td>\n",
              "      <td>en</td>\n",
              "    </tr>\n",
              "    <tr>\n",
              "      <th>...</th>\n",
              "      <td>...</td>\n",
              "      <td>...</td>\n",
              "      <td>...</td>\n",
              "      <td>...</td>\n",
              "      <td>...</td>\n",
              "      <td>...</td>\n",
              "      <td>...</td>\n",
              "      <td>...</td>\n",
              "      <td>...</td>\n",
              "      <td>...</td>\n",
              "    </tr>\n",
              "    <tr>\n",
              "      <th>168558</th>\n",
              "      <td>1.198263e+18</td>\n",
              "      <td>zulmacho_</td>\n",
              "      <td>Izzul Haziq</td>\n",
              "      <td>NaN</td>\n",
              "      <td>2019-11-23 15:33:42+00</td>\n",
              "      <td>0</td>\n",
              "      <td>0</td>\n",
              "      <td>0</td>\n",
              "      <td>TZC #CREX24\\r</td>\n",
              "      <td>en</td>\n",
              "    </tr>\n",
              "    <tr>\n",
              "      <th>168560</th>\n",
              "      <td>1.198264e+18</td>\n",
              "      <td>TylerDu88516401</td>\n",
              "      <td>TylerDuran</td>\n",
              "      <td>NaN</td>\n",
              "      <td>2019-11-23 15:36:42+00</td>\n",
              "      <td>0</td>\n",
              "      <td>0</td>\n",
              "      <td>0</td>\n",
              "      <td>Long/Short altcoin changes with up to 100x Lev...</td>\n",
              "      <td>en</td>\n",
              "    </tr>\n",
              "    <tr>\n",
              "      <th>168562</th>\n",
              "      <td>1.198264e+18</td>\n",
              "      <td>CryptoTelegram_</td>\n",
              "      <td>Crypto Telegram</td>\n",
              "      <td>NaN</td>\n",
              "      <td>2019-11-23 15:38:05+00</td>\n",
              "      <td>0</td>\n",
              "      <td>0</td>\n",
              "      <td>0</td>\n",
              "      <td>Why Bitcoin (BTC) Could Fall Further Before A ...</td>\n",
              "      <td>en</td>\n",
              "    </tr>\n",
              "    <tr>\n",
              "      <th>168563</th>\n",
              "      <td>1.198266e+18</td>\n",
              "      <td>crypto__mak</td>\n",
              "      <td>Crypto Mak 🌐</td>\n",
              "      <td>NaN</td>\n",
              "      <td>2019-11-23 15:42:32+00</td>\n",
              "      <td>0</td>\n",
              "      <td>0</td>\n",
              "      <td>0</td>\n",
              "      <td>A Brief Chat with Roger Ver on the Future of t...</td>\n",
              "      <td>en</td>\n",
              "    </tr>\n",
              "    <tr>\n",
              "      <th>168564</th>\n",
              "      <td>1.198266e+18</td>\n",
              "      <td>bitcoinschannel</td>\n",
              "      <td>BitcoinsChannel</td>\n",
              "      <td>NaN</td>\n",
              "      <td>2019-11-23 15:44:13+00</td>\n",
              "      <td>0</td>\n",
              "      <td>0</td>\n",
              "      <td>0</td>\n",
              "      <td>Approaching 2020: Why The World Needs Bitcoin ...</td>\n",
              "      <td>en</td>\n",
              "    </tr>\n",
              "  </tbody>\n",
              "</table>\n",
              "<p>117355 rows × 10 columns</p>\n",
              "</div>"
            ],
            "text/plain": [
              "                  id  ... language\n",
              "1       1.132971e+18  ...       en\n",
              "4       1.104520e+18  ...       en\n",
              "5       1.132978e+18  ...       en\n",
              "6       1.132978e+18  ...       en\n",
              "8       1.132979e+18  ...       en\n",
              "...              ...  ...      ...\n",
              "168558  1.198263e+18  ...       en\n",
              "168560  1.198264e+18  ...       en\n",
              "168562  1.198264e+18  ...       en\n",
              "168563  1.198266e+18  ...       en\n",
              "168564  1.198266e+18  ...       en\n",
              "\n",
              "[117355 rows x 10 columns]"
            ]
          },
          "metadata": {},
          "execution_count": 31
        }
      ]
    },
    {
      "cell_type": "code",
      "metadata": {
        "id": "y1TC_azJgmE5",
        "colab": {
          "base_uri": "https://localhost:8080/"
        },
        "outputId": "2b2cb453-c728-450c-fc8f-162a367863c0"
      },
      "source": [
        "%%time\n",
        "lst_stopwords = nltk.corpus.stopwords.words(\"english\")\n",
        "\n",
        "dtf[\"text_clean\"] = dtf[\"language\"].apply(lambda x: utils_preprocess_text(x, flg_stemm=False, flg_lemm=True, lst_stopwords=lst_stopwords))\n",
        "samples = dtf.sample(1)\n"
      ],
      "execution_count": null,
      "outputs": [
        {
          "output_type": "stream",
          "name": "stderr",
          "text": [
            "/usr/local/lib/python3.7/dist-packages/ipykernel_launcher.py:3: SettingWithCopyWarning: \n",
            "A value is trying to be set on a copy of a slice from a DataFrame.\n",
            "Try using .loc[row_indexer,col_indexer] = value instead\n",
            "\n",
            "See the caveats in the documentation: https://pandas.pydata.org/pandas-docs/stable/user_guide/indexing.html#returning-a-view-versus-a-copy\n",
            "  This is separate from the ipykernel package so we can avoid doing imports until\n"
          ]
        }
      ]
    },
    {
      "cell_type": "markdown",
      "metadata": {
        "id": "VPZTPmOooS3M"
      },
      "source": [
        "#### Export to csv"
      ]
    },
    {
      "cell_type": "code",
      "metadata": {
        "id": "rnt_s2sE_X42"
      },
      "source": [
        "dtf.to_csv('stopwords_stemming_tweets_preprocessing_dataset.csv')"
      ],
      "execution_count": null,
      "outputs": []
    },
    {
      "cell_type": "markdown",
      "metadata": {
        "id": "zYULmLrhoWap"
      },
      "source": [
        "#### Check Samples"
      ]
    },
    {
      "cell_type": "code",
      "metadata": {
        "colab": {
          "base_uri": "https://localhost:8080/"
        },
        "id": "2vU_7RtV-8uQ",
        "outputId": "55e0f339-6e9d-4cb6-c9d0-44fdb80028ab"
      },
      "source": [
        "\n",
        "print(remove_stopwords(samples[\"language\"]))\n",
        "print(list(samples[\"text_clean\"]))"
      ],
      "execution_count": null,
      "outputs": [
        {
          "output_type": "stream",
          "name": "stdout",
          "text": [
            "['en']\n",
            "['en']\n"
          ]
        }
      ]
    },
    {
      "cell_type": "markdown",
      "metadata": {
        "id": "laXMMreVoZmn"
      },
      "source": [
        "#### Pre Processing Stemming Lemm and Stopwords"
      ]
    },
    {
      "cell_type": "code",
      "metadata": {
        "id": "Lg4VHW73AOrr",
        "colab": {
          "base_uri": "https://localhost:8080/"
        },
        "outputId": "6a7d095c-846c-4f33-ad20-cfc0e70008f6"
      },
      "source": [
        "%%time\n",
        "dtf[\"text_clean\"] = dtf[\"language\"].apply(lambda x: utils_preprocess_text(x, flg_stemm=True, flg_lemm=True, lst_stopwords=lst_stopwords))\n",
        "samples = dtf.sample(1)"
      ],
      "execution_count": null,
      "outputs": [
        {
          "output_type": "stream",
          "name": "stdout",
          "text": [
            "CPU times: user 15min 58s, sys: 5.47 s, total: 16min 3s\n",
            "Wall time: 15min 59s\n"
          ]
        },
        {
          "output_type": "stream",
          "name": "stderr",
          "text": [
            "/usr/local/lib/python3.7/dist-packages/ipykernel_launcher.py:1: SettingWithCopyWarning: \n",
            "A value is trying to be set on a copy of a slice from a DataFrame.\n",
            "Try using .loc[row_indexer,col_indexer] = value instead\n",
            "\n",
            "See the caveats in the documentation: https://pandas.pydata.org/pandas-docs/stable/user_guide/indexing.html#returning-a-view-versus-a-copy\n",
            "  \"\"\"Entry point for launching an IPython kernel.\n"
          ]
        }
      ]
    },
    {
      "cell_type": "markdown",
      "metadata": {
        "id": "dZFtbxIHohYP"
      },
      "source": [
        "#### Check Samples"
      ]
    },
    {
      "cell_type": "code",
      "metadata": {
        "colab": {
          "base_uri": "https://localhost:8080/"
        },
        "id": "y1LrGbvOAP1X",
        "outputId": "a83df872-2c2c-45a6-deb4-3bd46c308147"
      },
      "source": [
        "print(remove_stopwords(samples[\"language\"]))\n",
        "print(list(samples[\"text_clean\"]))"
      ],
      "execution_count": null,
      "outputs": [
        {
          "output_type": "stream",
          "name": "stdout",
          "text": [
            "['en']\n",
            "['en']\n"
          ]
        }
      ]
    },
    {
      "cell_type": "markdown",
      "metadata": {
        "id": "MC2oBNtWokPF"
      },
      "source": [
        "#### Export to CSV"
      ]
    },
    {
      "cell_type": "code",
      "metadata": {
        "id": "Ri_p38sUAS66"
      },
      "source": [
        "dtf.to_csv('stopwords_stemming_lemmatisation_tweets_preprocessing_dataset.csv')"
      ],
      "execution_count": null,
      "outputs": []
    }
  ]
}